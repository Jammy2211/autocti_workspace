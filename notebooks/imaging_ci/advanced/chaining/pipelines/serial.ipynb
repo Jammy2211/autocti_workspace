{
  "cells": [
    {
      "cell_type": "markdown",
      "metadata": {},
      "source": [
        "Pipelines: Serial CTI\n",
        "=====================\n",
        "\n",
        "By chaining together three searches this script fits A CTI model using `ImagingCI`, where in the final model:\n",
        "\n",
        " - The CTI model consists of an input number of serial trap species.\n",
        " - The `CCD` volume filling is an input."
      ]
    },
    {
      "cell_type": "code",
      "metadata": {},
      "source": [
        "%matplotlib inline\n",
        "from pyprojroot import here\n",
        "workspace_path = str(here())\n",
        "%cd $workspace_path\n",
        "print(f\"Working Directory has been set to `{workspace_path}`\")\n",
        "\n",
        "from os import path\n",
        "import autofit as af\n",
        "import autocti as ac\n",
        "import autocti.plot as aplt"
      ],
      "outputs": [],
      "execution_count": null
    },
    {
      "cell_type": "markdown",
      "metadata": {},
      "source": [
        "__Dataset__ \n",
        "\n",
        "The paths pointing to the dataset we will use for CTI modeling."
      ]
    },
    {
      "cell_type": "code",
      "metadata": {},
      "source": [
        "dataset_name = \"serial_cti\"\n",
        "dataset_path = path.join(\"dataset\", \"imaging_ci\", dataset_name)"
      ],
      "outputs": [],
      "execution_count": null
    },
    {
      "cell_type": "markdown",
      "metadata": {},
      "source": [
        "__Layout__\n",
        "\n",
        "Set up the 2D layout of the charge injection data and load it using this layout."
      ]
    },
    {
      "cell_type": "code",
      "metadata": {},
      "source": [
        "shape_native = (2000, 100)\n",
        "\n",
        "parallel_overscan = ac.Region2D((1980, 2000, 5, 95))\n",
        "serial_prescan = ac.Region2D((0, 2000, 0, 5))\n",
        "serial_overscan = ac.Region2D((0, 1980, 95, 100))\n",
        "\n",
        "region_list = [\n",
        "    (0, 200, serial_prescan[3], serial_overscan[2]),\n",
        "    (400, 600, serial_prescan[3], serial_overscan[2]),\n",
        "    (800, 1000, serial_prescan[3], serial_overscan[2]),\n",
        "    (1200, 1400, serial_prescan[3], serial_overscan[2]),\n",
        "    (1600, 1800, serial_prescan[3], serial_overscan[2]),\n",
        "]\n",
        "\n",
        "norm_list = [100, 5000, 25000, 200000]\n",
        "\n",
        "total_datasets = len(norm_list)\n",
        "\n",
        "layout_list = [\n",
        "    ac.Layout2DCI(\n",
        "        shape_2d=shape_native,\n",
        "        region_list=region_list,\n",
        "        parallel_overscan=parallel_overscan,\n",
        "        serial_prescan=serial_prescan,\n",
        "        serial_overscan=serial_overscan,\n",
        "    )\n",
        "    for i in range(total_datasets)\n",
        "]\n",
        "\n",
        "dataset_list = [\n",
        "    ac.ImagingCI.from_fits(\n",
        "        data_path=path.join(dataset_path, f\"norm_{int(norm)}\", \"data.fits\"),\n",
        "        noise_map_path=path.join(dataset_path, f\"norm_{int(norm)}\", \"noise_map.fits\"),\n",
        "        pre_cti_data_path=path.join(\n",
        "            dataset_path, f\"norm_{int(norm)}\", \"pre_cti_data.fits\"\n",
        "        ),\n",
        "        layout=layout,\n",
        "        pixel_scales=0.1,\n",
        "    )\n",
        "    for layout, norm in zip(layout_list, norm_list)\n",
        "]\n",
        "\n",
        "dataset_plotter = aplt.ImagingCIPlotter(dataset=dataset_list[0])\n",
        "dataset_plotter.subplot_dataset()"
      ],
      "outputs": [],
      "execution_count": null
    },
    {
      "cell_type": "markdown",
      "metadata": {},
      "source": [
        "__Mask__"
      ]
    },
    {
      "cell_type": "code",
      "metadata": {},
      "source": [
        "mask = ac.Mask2D.all_false(\n",
        "    shape_native=shape_native, pixel_scales=dataset_list[0].pixel_scales\n",
        ")\n",
        "\n",
        "dataset_masked_list = [dataset.apply_mask(mask=mask) for dataset in dataset_list]\n"
      ],
      "outputs": [],
      "execution_count": null
    },
    {
      "cell_type": "markdown",
      "metadata": {},
      "source": [
        "__Paths__\n",
        "\n",
        "The path the results of all chained searches are output:"
      ]
    },
    {
      "cell_type": "code",
      "metadata": {},
      "source": [
        "path_prefix = path.join(\"imaging_ci\", \"chaining\", \"serial\")"
      ],
      "outputs": [],
      "execution_count": null
    },
    {
      "cell_type": "markdown",
      "metadata": {},
      "source": [
        "__Clocking__\n",
        "\n",
        "The `Clocker` models the CCD read-out, including CTI. "
      ]
    },
    {
      "cell_type": "code",
      "metadata": {},
      "source": [
        "clocker = ac.Clocker2D(serial_express=5)"
      ],
      "outputs": [],
      "execution_count": null
    },
    {
      "cell_type": "markdown",
      "metadata": {},
      "source": [
        "__Model + Search + Analysis + Model-Fit (Search 1)__\n",
        "\n",
        "In Search 1 we fit a CTI model with:\n",
        "\n",
        " - One serial `TrapInstantCapture`'s species [2 parameters].\n",
        "\n",
        " - A simple `CCD` volume filling parametrization with fixed notch depth and capacity [1 parameter].\n",
        "\n",
        "The number of free parameters and therefore the dimensionality of non-linear parameter space is N=3."
      ]
    },
    {
      "cell_type": "code",
      "metadata": {},
      "source": [
        "serial_ccd = af.Model(ac.CCDPhase)\n",
        "serial_ccd.well_notch_depth = 0.0\n",
        "serial_ccd.full_well_depth = 200000.0\n",
        "\n",
        "model = af.Collection(\n",
        "    cti=af.Model(\n",
        "        ac.CTI2D,\n",
        "        serial_trap_list=[af.Model(ac.TrapInstantCapture)],\n",
        "        serial_ccd=serial_ccd,\n",
        "    )\n",
        ")"
      ],
      "outputs": [],
      "execution_count": null
    },
    {
      "cell_type": "markdown",
      "metadata": {},
      "source": [
        "__Search + Dataset + Analysis + Model-Fit (Search 1)__\n",
        "\n",
        "To reduce run-times, we trim the `ImagingCI` data from the high resolution data (e.g. 2000 columns) to just 10 rows of \n",
        "every charge injection region to speed up the model-fit at the expense of inferring larger errors on the CTI model."
      ]
    },
    {
      "cell_type": "code",
      "metadata": {},
      "source": [
        "search = af.Nautilus(path_prefix=path_prefix, name=\"search[1]_serial[x1]\", n_live=100)\n",
        "\n",
        "imaging_ci_trim_list = [\n",
        "    dataset.apply_settings(settings=ac.SettingsImagingCI(serial_pixels=(0, 10)))\n",
        "    for dataset in dataset_list\n",
        "]\n",
        "\n",
        "analysis_list = [\n",
        "    ac.AnalysisImagingCI(dataset=dataset, clocker=clocker) for dataset in dataset_list\n",
        "]\n",
        "\n",
        "analysis = sum(analysis_list)\n",
        "analysis.n_cores = 1\n",
        "\n",
        "result_1_list = search.fit(model=model, analysis=analysis)"
      ],
      "outputs": [],
      "execution_count": null
    },
    {
      "cell_type": "markdown",
      "metadata": {},
      "source": [
        "__Model (Search 2)__\n",
        "\n",
        "We use the results of search 1 to create the CTI model fitted in search 2, with:\n",
        "\n",
        " - Two or more serial `TrapInstantCapture`'s species [4+ parameters: prior on density initialized from search 1].\n",
        "\n",
        " - A simple `CCD` volume filling parametrization with fixed notch depth and capacity [1 parameter: priors initialized \n",
        " from search 1].\n",
        "\n",
        "The number of free parameters and therefore the dimensionality of non-linear parameter space is N=5 or more."
      ]
    },
    {
      "cell_type": "code",
      "metadata": {},
      "source": [
        "serial_trap_0 = af.Model(ac.TrapInstantCapture)\n",
        "serial_trap_1 = af.Model(ac.TrapInstantCapture)\n",
        "\n",
        "serial_trap_0.density = af.UniformPrior(\n",
        "    lower_limit=0.0,\n",
        "    upper_limit=result_1_list[0].instance.cti.serial_trap_list[0].density,\n",
        ")\n",
        "serial_trap_1.density = af.UniformPrior(\n",
        "    lower_limit=0.0,\n",
        "    upper_limit=result_1_list[0].instance.cti.serial_trap_list[0].density,\n",
        ")\n",
        "\n",
        "serial_ccd = result_1_list[0].model.cti.serial_ccd\n",
        "\n",
        "model = af.Collection(\n",
        "    cti=af.Model(\n",
        "        ac.CTI2D, serial_trap_list=[serial_trap_0, serial_trap_1], serial_ccd=serial_ccd\n",
        "    )\n",
        ")"
      ],
      "outputs": [],
      "execution_count": null
    },
    {
      "cell_type": "markdown",
      "metadata": {},
      "source": [
        "__Search + Dataset + Analysis + Model-Fit (Search 2)__\n",
        "\n",
        "We use a non-linear search with slower more thorough settings, so it can robustly sample the complex parameter space. \n",
        "This is necessary given that  many parameters in the model are not yet initialized and assume broad uniform priors. \n",
        "\n",
        "We again use the trimmed `ImagingCI` data to speed up run-times."
      ]
    },
    {
      "cell_type": "code",
      "metadata": {},
      "source": [
        "search = af.Nautilus(\n",
        "    path_prefix=path_prefix, name=\"search[2]_serial[multi]\", n_live=100\n",
        ")\n",
        "\n",
        "analysis_list = [\n",
        "    ac.AnalysisImagingCI(dataset=dataset, clocker=clocker) for dataset in dataset_list\n",
        "]\n",
        "\n",
        "analysis = sum(analysis_list)\n",
        "analysis.n_cores = 1\n",
        "\n",
        "result_2_list = search.fit(model=model, analysis=analysis)"
      ],
      "outputs": [],
      "execution_count": null
    },
    {
      "cell_type": "markdown",
      "metadata": {},
      "source": [
        "__Model + Search + Analysis + Model-Fit (Search 3)__\n",
        "\n",
        "In Search 3 we fit a CTI model with:\n",
        "\n",
        " - The same number of trap species as search 2 [4+ parameters: priors initialized from search 2].\n",
        "\n",
        " - The same `CCD` volume filling parametrization as search 2 [1 parameter: priors initialized from search 2].\n",
        "\n",
        "The number of free parameters and therefore the dimensionality of non-linear parameter space is N=5 or more.\n",
        "\n",
        "The key difference from search 2 is that the value of every parameter is initialized (ensuring a more accurate and\n",
        "efficient non-linear search) and that we do not trim the data to only 10 rows of serial trails such that are errors are \n",
        "representative of fitting all available data."
      ]
    },
    {
      "cell_type": "code",
      "metadata": {},
      "source": [
        "serial_ccd = af.Model(ac.CCDPhase)\n",
        "serial_ccd.well_notch_depth = 0.0\n",
        "serial_ccd.full_well_depth = 200000.0\n",
        "\n",
        "model = af.Collection(\n",
        "    cti=af.Model(\n",
        "        ac.CTI2D,\n",
        "        serial_trap_list=result_2_list[0].model.cti.serial_trap_list,\n",
        "        serial_ccd=result_2_list[0].model.cti.serial_ccd,\n",
        "    )\n",
        ")\n",
        "\n",
        "search = af.Nautilus(\n",
        "    path_prefix=path_prefix, name=\"search[3]_serial[multi]\", n_live=100\n",
        ")\n",
        "\n",
        "analysis_list = [\n",
        "    ac.AnalysisImagingCI(dataset=dataset, clocker=clocker)\n",
        "    for dataset in dataset_masked_list\n",
        "]\n",
        "\n",
        "analysis = sum(analysis_list)\n",
        "analysis.n_cores = 1\n",
        "\n",
        "result_3_list = search.fit(model=model, analysis=analysis)"
      ],
      "outputs": [],
      "execution_count": null
    },
    {
      "cell_type": "markdown",
      "metadata": {},
      "source": [
        "Finish."
      ]
    },
    {
      "cell_type": "code",
      "metadata": {},
      "source": [],
      "outputs": [],
      "execution_count": null
    }
  ],
  "metadata": {
    "anaconda-cloud": {},
    "kernelspec": {
      "display_name": "Python 3",
      "language": "python",
      "name": "python3"
    },
    "language_info": {
      "codemirror_mode": {
        "name": "ipython",
        "version": 3
      },
      "file_extension": ".py",
      "mimetype": "text/x-python",
      "name": "python",
      "nbconvert_exporter": "python",
      "pygments_lexer": "ipython3",
      "version": "3.6.1"
    }
  },
  "nbformat": 4,
  "nbformat_minor": 4
}