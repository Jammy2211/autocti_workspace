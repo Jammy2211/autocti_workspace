{
  "cells": [
    {
      "cell_type": "markdown",
      "metadata": {},
      "source": [
        "Pipelines: Parallel CTI\n",
        "========================\n",
        "\n",
        "By chaining together three searches this script fits A CTI model using `ImagingCI`, where in the final model:\n",
        "\n",
        " - The CTI model consists of an input number of parallel trap species and an input number of serial trap species.\n",
        " - The `CCD` volume filling is an input."
      ]
    },
    {
      "cell_type": "code",
      "metadata": {},
      "source": [
        "%matplotlib inline\n",
        "from pyprojroot import here\n",
        "workspace_path = str(here())\n",
        "%cd $workspace_path\n",
        "print(f\"Working Directory has been set to `{workspace_path}`\")\n",
        "\n",
        "from os import path\n",
        "import autofit as af\n",
        "import autocti as ac\n",
        "import autocti.plot as aplt"
      ],
      "outputs": [],
      "execution_count": null
    },
    {
      "cell_type": "markdown",
      "metadata": {},
      "source": [
        "__Dataset__ \n",
        "\n",
        "The paths pointing to the dataset we will use for CTI modeling."
      ]
    },
    {
      "cell_type": "code",
      "metadata": {},
      "source": [
        "dataset_name = \"parallel_x2__serial_x2\"\n",
        "dataset_path = path.join(\"dataset\", \"imaging_ci\", dataset_name)"
      ],
      "outputs": [],
      "execution_count": null
    },
    {
      "cell_type": "markdown",
      "metadata": {},
      "source": [
        "__Layout__\n",
        "\n",
        "Set up the 2D layout of the charge injection data and load it using this layout."
      ]
    },
    {
      "cell_type": "code",
      "metadata": {},
      "source": [
        "shape_native = (2000, 100)\n",
        "\n",
        "parallel_overscan = ac.Region2D((1980, 2000, 5, 95))\n",
        "serial_prescan = ac.Region2D((0, 2000, 0, 5))\n",
        "serial_overscan = ac.Region2D((0, 1980, 95, 100))\n",
        "\n",
        "region_list = [\n",
        "    (0, 200, serial_prescan[3], serial_overscan[2]),\n",
        "    (400, 600, serial_prescan[3], serial_overscan[2]),\n",
        "    (800, 1000, serial_prescan[3], serial_overscan[2]),\n",
        "    (1200, 1400, serial_prescan[3], serial_overscan[2]),\n",
        "    (1600, 1800, serial_prescan[3], serial_overscan[2]),\n",
        "]\n",
        "\n",
        "norm_list = [100, 5000, 25000, 200000]\n",
        "\n",
        "total_datasets = len(norm_list)\n",
        "\n",
        "layout_list = [\n",
        "    ac.Layout2DCI(\n",
        "        shape_2d=shape_native,\n",
        "        region_list=region_list,\n",
        "        parallel_overscan=parallel_overscan,\n",
        "        serial_prescan=serial_prescan,\n",
        "        serial_overscan=serial_overscan,\n",
        "    )\n",
        "    for i in range(total_datasets)\n",
        "]\n",
        "\n",
        "dataset_list = [\n",
        "    ac.ImagingCI.from_fits(\n",
        "        data_path=path.join(dataset_path, f\"norm_{int(norm)}\", \"data.fits\"),\n",
        "        noise_map_path=path.join(dataset_path, f\"norm_{int(norm)}\", \"noise_map.fits\"),\n",
        "        pre_cti_data_path=path.join(\n",
        "            dataset_path, f\"norm_{int(norm)}\", \"pre_cti_data.fits\"\n",
        "        ),\n",
        "        layout=layout,\n",
        "        pixel_scales=0.1,\n",
        "    )\n",
        "    for layout, norm in zip(layout_list, norm_list)\n",
        "]\n",
        "\n",
        "dataset_plotter = aplt.ImagingCIPlotter(dataset=dataset_list[0])\n",
        "dataset_plotter.subplot_dataset()"
      ],
      "outputs": [],
      "execution_count": null
    },
    {
      "cell_type": "markdown",
      "metadata": {},
      "source": [
        "__Mask__"
      ]
    },
    {
      "cell_type": "code",
      "metadata": {},
      "source": [
        "mask = ac.Mask2D.all_false(\n",
        "    shape_native=shape_native, pixel_scales=dataset_list[0].pixel_scales\n",
        ")\n",
        "\n",
        "dataset_masked_list = [dataset.apply_mask(mask=mask) for dataset in dataset_list]"
      ],
      "outputs": [],
      "execution_count": null
    },
    {
      "cell_type": "markdown",
      "metadata": {},
      "source": [
        "__Paths__\n",
        "\n",
        "The path the results of all chained searches are output:"
      ]
    },
    {
      "cell_type": "code",
      "metadata": {},
      "source": [
        "path_prefix = path.join(\"imaging_ci\", \"chaining\", \"parallel_x2_serial_x2\")"
      ],
      "outputs": [],
      "execution_count": null
    },
    {
      "cell_type": "markdown",
      "metadata": {},
      "source": [
        "__Model (Search 1)__\n",
        "\n",
        "We use the results of search 1 to create the CTI model fitted in search 1, with:\n",
        "\n",
        " - Two or more parallel `TrapInstantCapture`'s species [4+ parameters].\n",
        "\n",
        " - A simple `CCD` volume filling parametrization with fixed notch depth and capacity [1 parameter].\n",
        "\n",
        "The number of free parameters and therefore the dimensionality of non-linear parameter space is N=5 or more."
      ]
    },
    {
      "cell_type": "code",
      "metadata": {},
      "source": [
        "parallel_trap_0 = af.Model(ac.TrapInstantCapture)\n",
        "parallel_trap_1 = af.Model(ac.TrapInstantCapture)\n",
        "\n",
        "parallel_trap_0.add_assertion(\n",
        "    parallel_trap_0.release_timescale < parallel_trap_1.release_timescale\n",
        ")\n",
        "\n",
        "parallel_trap_list = [parallel_trap_0, parallel_trap_1]\n",
        "\n",
        "parallel_ccd = af.Model(ac.CCDPhase)\n",
        "parallel_ccd.well_notch_depth = 0.0\n",
        "parallel_ccd.full_well_depth = 200000.0\n",
        "\n",
        "model = af.Collection(\n",
        "    cti=af.Model(\n",
        "        ac.CTI2D, parallel_trap_list=parallel_trap_list, parallel_ccd=parallel_ccd\n",
        "    )\n",
        ")"
      ],
      "outputs": [],
      "execution_count": null
    },
    {
      "cell_type": "markdown",
      "metadata": {},
      "source": [
        "__Search + Analysis + Model-Fit (Search 1)__\n",
        "\n",
        "To reduce run-times, we trim the `ImagingCI` data from the high resolution data (e.g. 100 columns) to just 5 columns \n",
        "to speed up the model-fit at the expense of inferring larger errors on the CTI model."
      ]
    },
    {
      "cell_type": "code",
      "metadata": {},
      "source": [
        "parallel_clocker = ac.Clocker2D(\n",
        "    parallel_express=5, parallel_roe=ac.ROEChargeInjection(), parallel_fast_mode=True\n",
        ")\n",
        "\n",
        "search = af.DynestyStatic(\n",
        "    path_prefix=path_prefix, name=\"search[1]_parallel[multi]\", nlive=100, walks=10\n",
        ")\n",
        "\n",
        "imaging_ci_trim_list = [\n",
        "    dataset.apply_settings(settings=ac.SettingsImagingCI(parallel_pixels=(50, 90)))\n",
        "    for dataset in dataset_list\n",
        "]\n",
        "\n",
        "analysis_list = [\n",
        "    ac.AnalysisImagingCI(dataset=dataset, clocker=parallel_clocker)\n",
        "    for dataset in imaging_ci_trim_list\n",
        "]\n",
        "\n",
        "analysis = sum(analysis_list)\n",
        "analysis.n_cores = 1\n",
        "\n",
        "result_1_list = search.fit(model=model, analysis=analysis)"
      ],
      "outputs": [],
      "execution_count": null
    },
    {
      "cell_type": "markdown",
      "metadata": {},
      "source": [
        "__Model + Search + Analysis + Model-Fit (Search 2)__\n",
        "\n",
        "We use the results of search 3 to create the CTI model fitted in search 3, with:\n",
        "\n",
        " - Two or more serial `TrapInstantCapture`'s species [4+ parameters: prior on density initialized from search 1].\n",
        "\n",
        " - A simple `CCD` volume filling parametrization with fixed notch depth and capacity [1 parameter: priors initialized \n",
        " from search 1].\n",
        "\n",
        "The number of free parameters and therefore the dimensionality of non-linear parameter space is N=5 or more."
      ]
    },
    {
      "cell_type": "code",
      "metadata": {},
      "source": [
        "serial_trap_0 = af.Model(ac.TrapInstantCapture)\n",
        "serial_trap_1 = af.Model(ac.TrapInstantCapture)\n",
        "\n",
        "serial_trap_0.add_assertion(\n",
        "    serial_trap_0.release_timescale < serial_trap_1.release_timescale\n",
        ")\n",
        "\n",
        "serial_trap_list = [serial_trap_0, serial_trap_1]\n",
        "\n",
        "serial_ccd = af.Model(ac.CCDPhase)\n",
        "serial_ccd.well_notch_depth = 0.0\n",
        "serial_ccd.full_well_depth = 200000.0\n",
        "\n",
        "model = af.Collection(\n",
        "    cti=af.Model(\n",
        "        ac.CTI2D,\n",
        "        parallel_trap_list=result_1_list.instance.cti.parallel_trap_list,\n",
        "        parallel_ccd=result_1_list.instance.cti.parallel_ccd,\n",
        "        serial_trap_list=serial_trap_list,\n",
        "        serial_ccd=serial_ccd,\n",
        "    )\n",
        ")"
      ],
      "outputs": [],
      "execution_count": null
    },
    {
      "cell_type": "markdown",
      "metadata": {},
      "source": [
        "__Dataset (Search 2)__\n",
        "\n",
        "In the second search we only fit a serial CTI model. \n",
        "\n",
        "However, it is benefitial if our pre-CTI data includes parallel CTI, as this will improve the accuracy of our inferred\n",
        "serial CTI model. \n",
        "\n",
        "To achieve this, we can update the `ImagingCI` object to use the maximum likelihood post-CTI data inferred from the \n",
        "fit above."
      ]
    },
    {
      "cell_type": "code",
      "metadata": {},
      "source": [
        "# dataset_list = [\n",
        "#     ac.ImagingCI(\n",
        "#         image=dataset.data,\n",
        "#         noise_map=dataset.noise_map,\n",
        "#         pre_cti_data=result_1.max_log_likelihood_full_fit.post_cti_data,\n",
        "#         layout=dataset.layout,\n",
        "#     )\n",
        "#     for dataset, result_1 in zip(dataset_list, result_1_list)\n",
        "# ]"
      ],
      "outputs": [],
      "execution_count": null
    },
    {
      "cell_type": "markdown",
      "metadata": {},
      "source": [
        "__Search + Analysis + Model-Fit (Search 2)__\n",
        "\n",
        "We now perform the model-fit on this dataset, as per usual."
      ]
    },
    {
      "cell_type": "code",
      "metadata": {},
      "source": [
        "search = af.DynestyStatic(\n",
        "    path_prefix=path_prefix, name=\"search[2]_serial[multi]\", nlive=100, walks=10\n",
        ")\n",
        "\n",
        "serial_clocker = ac.Clocker2D(\n",
        "    parallel_express=5,\n",
        "    parallel_roe=ac.ROEChargeInjection(),\n",
        "    serial_express=5,\n",
        "    serial_fast_mode=True,\n",
        ")\n",
        "\n",
        "analysis_list = [\n",
        "    ac.AnalysisImagingCI(dataset=dataset, clocker=serial_clocker)\n",
        "    for dataset in dataset_list\n",
        "]\n",
        "\n",
        "analysis = sum(analysis_list)\n",
        "analysis.n_cores = 1\n",
        "\n",
        "result_2_list = search.fit(model=model, analysis=analysis)"
      ],
      "outputs": [],
      "execution_count": null
    },
    {
      "cell_type": "markdown",
      "metadata": {},
      "source": [
        "__Model (Search 3)__\n",
        "\n",
        "We use the results of searches 2 & 4 to create the CTI model fitted in search 5, with:\n",
        "\n",
        " - Two or more parallel `TrapInstantCapture`'s species [4+ parameters: prior on density initialized from search 2].\n",
        "\n",
        " - Two or more serial `TrapInstantCapture`'s species [4+ parameters: prior on density initialized from search 4].\n",
        "\n",
        " - A simple `CCD` volume filling parametrization for parallel clocking [1 parameter: priors initialized from search 2].\n",
        "\n",
        " - A simple `CCD` volume filling parametrization for serial clocking [1 parameter: priors initialized from search 4].\n",
        "\n",
        "The number of free parameters and therefore the dimensionality of non-linear parameter space is N=10 or more."
      ]
    },
    {
      "cell_type": "code",
      "metadata": {},
      "source": [
        "model = af.Collection(\n",
        "    cti=af.Model(\n",
        "        ac.CTI2D,\n",
        "        parallel_trap_list=result_2_list[0].model.cti.parallel_trap_list,\n",
        "        parallel_ccd=result_2_list[0].model.cti.parallel_ccd,\n",
        "        serial_trap_list=result_2_list[0].model.cti.serial_trap_list,\n",
        "        serial_ccd=result_2_list[0].model.cti.serial_ccd,\n",
        "    )\n",
        ")"
      ],
      "outputs": [],
      "execution_count": null
    },
    {
      "cell_type": "markdown",
      "metadata": {},
      "source": [
        "__Search + Dataset + Analysis + Model-Fit (Search 3)__\n",
        "\n",
        "We use a non-linear search with slower more thorough settings, so it can robustly sample the complex parameter space. \n",
        "This is necessary because although the parallel and serial CTI models have been initialized pretty well, they are not\n",
        "yet perfect and there is a high probability the CTI model will shift from the previous estimate. \n",
        "\n",
        "To accurately clock parallel and serial CTI we cannot trim the data, thus the `ImagingCI` data at native resolution is\n",
        "used."
      ]
    },
    {
      "cell_type": "code",
      "metadata": {},
      "source": [
        "parallel_serial_clocker = ac.Clocker2D(\n",
        "    parallel_express=5,\n",
        "    parallel_roe=ac.ROEChargeInjection(),\n",
        "    serial_express=5,\n",
        "    parallel_fast_mode=True,\n",
        ")\n",
        "\n",
        "search = af.DynestyStatic(\n",
        "    path_prefix=path_prefix, name=\"search[3]_parallel[multi]_serial[multi]\", nlive=100\n",
        ")\n",
        "\n",
        "analysis_list = [\n",
        "    ac.AnalysisImagingCI(dataset=dataset, clocker=parallel_serial_clocker)\n",
        "    for dataset in dataset_list\n",
        "]\n",
        "\n",
        "analysis = sum(analysis_list)\n",
        "analysis.n_cores = 1\n",
        "\n",
        "result_5_list = search.fit(model=model, analysis=analysis)"
      ],
      "outputs": [],
      "execution_count": null
    },
    {
      "cell_type": "markdown",
      "metadata": {},
      "source": [
        "Finish."
      ]
    },
    {
      "cell_type": "code",
      "metadata": {},
      "source": [],
      "outputs": [],
      "execution_count": null
    }
  ],
  "metadata": {
    "anaconda-cloud": {},
    "kernelspec": {
      "display_name": "Python 3",
      "language": "python",
      "name": "python3"
    },
    "language_info": {
      "codemirror_mode": {
        "name": "ipython",
        "version": 3
      },
      "file_extension": ".py",
      "mimetype": "text/x-python",
      "name": "python",
      "nbconvert_exporter": "python",
      "pygments_lexer": "ipython3",
      "version": "3.6.1"
    }
  },
  "nbformat": 4,
  "nbformat_minor": 4
}