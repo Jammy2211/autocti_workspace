{
  "cells": [
    {
      "cell_type": "markdown",
      "metadata": {},
      "source": [
        "Pipelines: Parallel CTI\n",
        "========================\n",
        "\n",
        "By chaining together three searches this script fits A CTI model using `ImagingCI`, where in the final model:\n",
        "\n",
        " - The CTI model consists of an input number of parallel trap species.\n",
        " - The `CCD` volume filling is an input."
      ]
    },
    {
      "cell_type": "code",
      "metadata": {},
      "source": [
        "%matplotlib inline\n",
        "from pyprojroot import here\n",
        "workspace_path = str(here())\n",
        "%cd $workspace_path\n",
        "print(f\"Working Directory has been set to `{workspace_path}`\")\n",
        "\n",
        "from os import path\n",
        "import autofit as af\n",
        "import autocti as ac\n",
        "import autocti.plot as aplt"
      ],
      "outputs": [],
      "execution_count": null
    },
    {
      "cell_type": "markdown",
      "metadata": {},
      "source": [
        "__Dataset__ \n",
        "\n",
        "The paths pointing to the dataset we will use for CTI modeling."
      ]
    },
    {
      "cell_type": "code",
      "metadata": {},
      "source": [
        "dataset_name = \"simple\"\n",
        "dataset_path = path.join(\"dataset\", \"imaging_ci\", dataset_name)"
      ],
      "outputs": [],
      "execution_count": null
    },
    {
      "cell_type": "markdown",
      "metadata": {},
      "source": [
        "__Layout__\n",
        "\n",
        "Set up the 2D layout of the charge injection data and load it using this layout."
      ]
    },
    {
      "cell_type": "code",
      "metadata": {},
      "source": [
        "shape_native = (2000, 100)\n",
        "\n",
        "parallel_overscan = ac.Region2D((1980, 2000, 5, 95))\n",
        "serial_prescan = ac.Region2D((0, 2000, 0, 5))\n",
        "serial_overscan = ac.Region2D((0, 1980, 95, 100))\n",
        "\n",
        "region_list = [\n",
        "    (0, 200, serial_prescan[3], serial_overscan[2]),\n",
        "    (400, 600, serial_prescan[3], serial_overscan[2]),\n",
        "    (800, 1000, serial_prescan[3], serial_overscan[2]),\n",
        "    (1200, 1400, serial_prescan[3], serial_overscan[2]),\n",
        "    (1600, 1800, serial_prescan[3], serial_overscan[2]),\n",
        "]\n",
        "\n",
        "norm_list = [100, 5000, 25000, 200000]\n",
        "\n",
        "total_datasets = len(norm_list)\n",
        "\n",
        "layout_list = [\n",
        "    ac.Layout2DCI(\n",
        "        shape_2d=shape_native,\n",
        "        region_list=region_list,\n",
        "        parallel_overscan=parallel_overscan,\n",
        "        serial_prescan=serial_prescan,\n",
        "        serial_overscan=serial_overscan,\n",
        "    )\n",
        "    for i in range(total_datasets)\n",
        "]\n",
        "\n",
        "dataset_list = [\n",
        "    ac.ImagingCI.from_fits(\n",
        "        data_path=path.join(dataset_path, f\"norm_{int(norm)}\", \"data.fits\"),\n",
        "        noise_map_path=path.join(dataset_path, f\"norm_{int(norm)}\", \"noise_map.fits\"),\n",
        "        pre_cti_data_path=path.join(\n",
        "            dataset_path, f\"norm_{int(norm)}\", \"pre_cti_data.fits\"\n",
        "        ),\n",
        "        layout=layout,\n",
        "        pixel_scales=0.1,\n",
        "    )\n",
        "    for layout, norm in zip(layout_list, norm_list)\n",
        "]\n",
        "\n",
        "dataset_plotter = aplt.ImagingCIPlotter(dataset=dataset_list[0])\n",
        "dataset_plotter.subplot_dataset()"
      ],
      "outputs": [],
      "execution_count": null
    },
    {
      "cell_type": "markdown",
      "metadata": {},
      "source": [
        "__Mask__\n",
        "\n",
        "We apply a 2D mask which removes the FPR (e.g. all 200 pixels where the charge injection is performed)."
      ]
    },
    {
      "cell_type": "code",
      "metadata": {},
      "source": [
        "mask = ac.Mask2D.all_false(\n",
        "    shape_native=dataset_list[0].shape_native,\n",
        "    pixel_scales=dataset_list[0].pixel_scales,\n",
        ")\n",
        "\n",
        "mask = ac.Mask2D.masked_fpr_and_eper_from(\n",
        "    mask=mask,\n",
        "    layout=dataset_list[0].layout,\n",
        "    settings=ac.SettingsMask2D(parallel_fpr_pixels=(0, 200)),\n",
        "    pixel_scales=dataset_list[0].pixel_scales,\n",
        ")\n",
        "\n",
        "dataset_list = [dataset.apply_mask(mask=mask) for dataset in dataset_list]"
      ],
      "outputs": [],
      "execution_count": null
    },
    {
      "cell_type": "markdown",
      "metadata": {},
      "source": [
        "__Paths__\n",
        "\n",
        "The path the results of all chained searches are output:"
      ]
    },
    {
      "cell_type": "code",
      "metadata": {},
      "source": [
        "path_prefix = path.join(\"imaging_ci\", \"chaining\", \"parallel\")"
      ],
      "outputs": [],
      "execution_count": null
    },
    {
      "cell_type": "markdown",
      "metadata": {},
      "source": [
        "__Clocking__\n",
        "\n",
        "The `Clocker` models the CCD read-out, including CTI. \n",
        "\n",
        "For parallel clocking, we use 'charge injection mode' which transfers the charge of every pixel over the full CCD."
      ]
    },
    {
      "cell_type": "code",
      "metadata": {},
      "source": [
        "clocker = ac.Clocker2D(\n",
        "    parallel_express=5, parallel_roe=ac.ROEChargeInjection(), parallel_fast_mode=True\n",
        ")"
      ],
      "outputs": [],
      "execution_count": null
    },
    {
      "cell_type": "markdown",
      "metadata": {},
      "source": [
        "__Model (Search 1)__\n",
        "\n",
        "In Search 1 we fit a CTI model with:\n",
        "\n",
        " - One parallel `TrapInstantCapture`'s species [2 parameters].\n",
        "\n",
        " - A simple `CCD` volume filling parametrization with fixed notch depth and capacity [1 parameter].\n",
        "\n",
        "The number of free parameters and therefore the dimensionality of non-linear parameter space is N=3."
      ]
    },
    {
      "cell_type": "code",
      "metadata": {},
      "source": [
        "parallel_ccd = af.Model(ac.CCDPhase)\n",
        "parallel_ccd.well_notch_depth = 0.0\n",
        "parallel_ccd.full_well_depth = 200000.0\n",
        "\n",
        "model = af.Collection(\n",
        "    cti=af.Model(\n",
        "        ac.CTI2D,\n",
        "        parallel_trap_list=[af.Model(ac.TrapInstantCapture)],\n",
        "        parallel_ccd=parallel_ccd,\n",
        "    )\n",
        ")"
      ],
      "outputs": [],
      "execution_count": null
    },
    {
      "cell_type": "markdown",
      "metadata": {},
      "source": [
        "__Settings + Search + Analysis + Model-Fit (Search 1)__\n",
        "\n",
        "To reduce run-times, we trim the `ImagingCI` data from the high resolution data (e.g. 100 columns) to just 5 columns \n",
        "to speed up the model-fit at the expense of inferring larger errors on the CTI model."
      ]
    },
    {
      "cell_type": "code",
      "metadata": {},
      "source": [
        "imaging_ci_trim_list = [\n",
        "    dataset.apply_settings(settings=ac.SettingsImagingCI(parallel_pixels=(0, 5)))\n",
        "    for dataset in dataset_list\n",
        "]\n",
        "\n",
        "search = af.Nautilus(path_prefix=path_prefix, name=\"search[1]_parallel[x1]\", n_live=100)\n",
        "\n",
        "analysis_list = [\n",
        "    ac.AnalysisImagingCI(dataset=dataset, clocker=clocker)\n",
        "    for dataset in imaging_ci_trim_list\n",
        "]\n",
        "\n",
        "analysis = sum(analysis_list)\n",
        "analysis.n_cores = 1\n",
        "\n",
        "result_1_list = search.fit(model=model, analysis=analysis)"
      ],
      "outputs": [],
      "execution_count": null
    },
    {
      "cell_type": "markdown",
      "metadata": {},
      "source": [
        "__Model (Search 2)__\n",
        "\n",
        "We use the results of search 1 to create the CTI model fitted in search 2, with:\n",
        "\n",
        " - Two or more parallel `TrapInstantCapture`'s species [4+ parameters: prior on density initialized from search 1].\n",
        "\n",
        " - A simple `CCD` volume filling parametrization with fixed notch depth and capacity [1 parameter: priors initialized \n",
        " from search 1].\n",
        "\n",
        "The number of free parameters and therefore the dimensionality of non-linear parameter space is N=5 or more."
      ]
    },
    {
      "cell_type": "code",
      "metadata": {},
      "source": [
        "parallel_trap_0 = af.Model(ac.TrapInstantCapture)\n",
        "parallel_trap_1 = af.Model(ac.TrapInstantCapture)\n",
        "\n",
        "parallel_trap_0.density = af.UniformPrior(\n",
        "    lower_limit=0.0,\n",
        "    upper_limit=result_1_list[0].instance.cti.parallel_trap_list[0].density,\n",
        ")\n",
        "parallel_trap_1.density = af.UniformPrior(\n",
        "    lower_limit=0.0,\n",
        "    upper_limit=result_1_list[0].instance.cti.parallel_trap_list[0].density,\n",
        ")\n",
        "\n",
        "parallel_ccd = result_1_list[0].model.cti.parallel_ccd\n",
        "\n",
        "model = af.Collection(\n",
        "    cti=af.Model(\n",
        "        ac.CTI2D,\n",
        "        parallel_trap_list=[parallel_trap_0, parallel_trap_1],\n",
        "        parallel_ccd=parallel_ccd,\n",
        "    )\n",
        ")"
      ],
      "outputs": [],
      "execution_count": null
    },
    {
      "cell_type": "markdown",
      "metadata": {},
      "source": [
        "__Settings + Search + Analysis + Model-Fit (Search 2)__\n",
        "\n",
        "We use a non-linear search with slower more thorough settings, so it can robustly sample the complex parameter space. \n",
        "This is necessary given that  many parameters in the model are not yet initialized and assume broad uniform priors. \n",
        "\n",
        "We again use the trimmed `ImagingCI` data to speed up run-times."
      ]
    },
    {
      "cell_type": "code",
      "metadata": {},
      "source": [
        "imaging_ci_trim_list = [\n",
        "    dataset.apply_settings(settings=ac.SettingsImagingCI(parallel_pixels=(0, 5)))\n",
        "    for dataset in dataset_list\n",
        "]\n",
        "\n",
        "search = af.Nautilus(\n",
        "    path_prefix=path_prefix, name=\"search[2]_parallel[multi]\", n_live=100\n",
        ")\n",
        "\n",
        "analysis_list = [\n",
        "    ac.AnalysisImagingCI(dataset=dataset, clocker=clocker)\n",
        "    for dataset in imaging_ci_trim_list\n",
        "]\n",
        "\n",
        "analysis = sum(analysis_list)\n",
        "analysis.n_cores = 1\n",
        "\n",
        "result_2_list = search.fit(model=model, analysis=analysis)"
      ],
      "outputs": [],
      "execution_count": null
    },
    {
      "cell_type": "markdown",
      "metadata": {},
      "source": [
        "__Model (Search 3)__\n",
        "\n",
        "In Search 3 we fit a CTI model with:\n",
        "\n",
        " - The same number of trap species as search 2 [4+ parameters: priors initialized from search 2].\n",
        "\n",
        " - The same `CCD` volume filling parametrization as search 2 [1 parameter: priors initialized from search 2].\n",
        "\n",
        "The number of free parameters and therefore the dimensionality of non-linear parameter space is N=5 or more."
      ]
    },
    {
      "cell_type": "code",
      "metadata": {},
      "source": [
        "parallel_ccd = af.Model(ac.CCDPhase)\n",
        "parallel_ccd.well_notch_depth = 0.0\n",
        "parallel_ccd.full_well_depth = 200000.0\n",
        "\n",
        "model = af.Collection(\n",
        "    cti=af.Model(\n",
        "        ac.CTI2D,\n",
        "        parallel_trap_list=result_2_list[0].model.cti.parallel_trap_list,\n",
        "        parallel_ccd=result_2_list[0].model.cti.parallel_ccd,\n",
        "    )\n",
        ")"
      ],
      "outputs": [],
      "execution_count": null
    },
    {
      "cell_type": "markdown",
      "metadata": {},
      "source": [
        "__Settings + Model + Search + Analysis + Model-Fit (Search 3)__\n",
        "\n",
        "Now the value of every parameter is initialized (ensuring a more accurate and efficient non-linear search) and we do \n",
        "not trim the data to only 50 parallel columns and again use thorough non-linear search settings."
      ]
    },
    {
      "cell_type": "code",
      "metadata": {},
      "source": [
        "search = af.Nautilus(\n",
        "    path_prefix=path_prefix, name=\"search[3]_parallel[multi]\", n_live=100\n",
        ")\n",
        "\n",
        "analysis_list = [\n",
        "    ac.AnalysisImagingCI(dataset=dataset, clocker=clocker) for dataset in dataset_list\n",
        "]\n",
        "\n",
        "analysis = sum(analysis_list)\n",
        "analysis.n_cores = 1\n",
        "\n",
        "result_3_list = search.fit(model=model, analysis=analysis)"
      ],
      "outputs": [],
      "execution_count": null
    },
    {
      "cell_type": "markdown",
      "metadata": {},
      "source": [
        "Finish."
      ]
    },
    {
      "cell_type": "code",
      "metadata": {},
      "source": [],
      "outputs": [],
      "execution_count": null
    }
  ],
  "metadata": {
    "anaconda-cloud": {},
    "kernelspec": {
      "display_name": "Python 3",
      "language": "python",
      "name": "python3"
    },
    "language_info": {
      "codemirror_mode": {
        "name": "ipython",
        "version": 3
      },
      "file_extension": ".py",
      "mimetype": "text/x-python",
      "name": "python",
      "nbconvert_exporter": "python",
      "pygments_lexer": "ipython3",
      "version": "3.6.1"
    }
  },
  "nbformat": 4,
  "nbformat_minor": 4
}