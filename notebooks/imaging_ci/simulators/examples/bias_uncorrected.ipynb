{
  "cells": [
    {
      "cell_type": "markdown",
      "metadata": {},
      "source": [
        "Simulator: Bias Uncorrected\n",
        "===========================\n",
        "\n",
        "The data is used to illustrate the bias subtraction functionality illustrated\n",
        "in `preprocess_optional_bias_subtraction.py`.\n",
        "\n",
        "The method to simulate and add bias is therefore very simplistic and not necessarily that realistic. We simply add\n",
        "a constant value of 2000e- to the data after the simulation procedure is complete.\n",
        "\n",
        "__Model__\n",
        "\n",
        "This script simulates charge injection imaging with CTI, where:\n",
        "\n",
        " - Parallel CTI is added to the image using a 2 `Trap` species model.\n",
        " - The volume filling behaviour in the parallel direction using the `CCD` class.\n",
        "\n",
        "__Start Here Notebook__\n",
        "\n",
        "If any code in this script is unclear, refer to the simulators `start_here.ipynb` notebook for more detailed comments."
      ]
    },
    {
      "cell_type": "code",
      "metadata": {},
      "source": [
        "%matplotlib inline\n",
        "from pyprojroot import here\n",
        "workspace_path = str(here())\n",
        "%cd $workspace_path\n",
        "print(f\"Working Directory has been set to `{workspace_path}`\")\n",
        "\n",
        "from os import path\n",
        "import autocti as ac\n",
        "import autocti.plot as aplt"
      ],
      "outputs": [],
      "execution_count": null
    },
    {
      "cell_type": "markdown",
      "metadata": {},
      "source": [
        "__Dataset Paths__\n",
        "\n",
        "The path where the dataset will be output."
      ]
    },
    {
      "cell_type": "code",
      "metadata": {},
      "source": [
        "dataset_type = \"imaging_ci\"\n",
        "dataset_name = \"bias_uncorrected\""
      ],
      "outputs": [],
      "execution_count": null
    },
    {
      "cell_type": "markdown",
      "metadata": {},
      "source": [
        "Returns the path where the dataset will be output, which in this case is\n",
        "'/autocti_workspace/dataset/imaging_ci/misc/bias_uncorrected"
      ]
    },
    {
      "cell_type": "code",
      "metadata": {},
      "source": [
        "dataset_path = path.join(\"dataset\", dataset_type, dataset_name)"
      ],
      "outputs": [],
      "execution_count": null
    },
    {
      "cell_type": "markdown",
      "metadata": {},
      "source": [
        "__Layout__\n",
        "\n",
        "The 2D shape of the image."
      ]
    },
    {
      "cell_type": "code",
      "metadata": {},
      "source": [
        "shape_native = (2000, 100)"
      ],
      "outputs": [],
      "execution_count": null
    },
    {
      "cell_type": "markdown",
      "metadata": {},
      "source": [
        "The locations (using NumPy array indexes) of the parallel overscan, serial prescan and serial overscan on the image."
      ]
    },
    {
      "cell_type": "code",
      "metadata": {},
      "source": [
        "parallel_overscan = ac.Region2D((1980, 2000, 5, 95))\n",
        "serial_prescan = ac.Region2D((0, 2000, 0, 5))\n",
        "serial_overscan = ac.Region2D((0, 1980, 95, 100))"
      ],
      "outputs": [],
      "execution_count": null
    },
    {
      "cell_type": "markdown",
      "metadata": {},
      "source": [
        "Specify the charge injection regions on the CCD, which in this case is 5 equally spaced rectangular blocks."
      ]
    },
    {
      "cell_type": "code",
      "metadata": {},
      "source": [
        "region_list = [\n",
        "    (0, 200, serial_prescan[3], serial_overscan[2]),\n",
        "    (400, 600, serial_prescan[3], serial_overscan[2]),\n",
        "    (800, 1000, serial_prescan[3], serial_overscan[2]),\n",
        "    (1200, 1400, serial_prescan[3], serial_overscan[2]),\n",
        "    (1600, 1800, serial_prescan[3], serial_overscan[2]),\n",
        "]"
      ],
      "outputs": [],
      "execution_count": null
    },
    {
      "cell_type": "markdown",
      "metadata": {},
      "source": [
        "The normalization of every charge injection image, which determines how many images are simulated."
      ]
    },
    {
      "cell_type": "code",
      "metadata": {},
      "source": [
        "norm_list = [100, 5000, 25000, 200000]"
      ],
      "outputs": [],
      "execution_count": null
    },
    {
      "cell_type": "markdown",
      "metadata": {},
      "source": [
        "The total number of charge injection images that are simulated."
      ]
    },
    {
      "cell_type": "code",
      "metadata": {},
      "source": [
        "total_datasets = len(norm_list)"
      ],
      "outputs": [],
      "execution_count": null
    },
    {
      "cell_type": "markdown",
      "metadata": {},
      "source": [
        "Create the layout of the charge injection pattern for every charge injection normalization."
      ]
    },
    {
      "cell_type": "code",
      "metadata": {},
      "source": [
        "layout_list = [\n",
        "    ac.Layout2DCI(\n",
        "        shape_2d=shape_native,\n",
        "        region_list=region_list,\n",
        "        parallel_overscan=parallel_overscan,\n",
        "        serial_prescan=serial_prescan,\n",
        "        serial_overscan=serial_overscan,\n",
        "    )\n",
        "    for i in range(total_datasets)\n",
        "]"
      ],
      "outputs": [],
      "execution_count": null
    },
    {
      "cell_type": "markdown",
      "metadata": {},
      "source": [
        "__Clocker__\n",
        "\n",
        "The `Clocker` models the CCD read-out, including CTI. \n",
        "\n",
        "For parallel clocking, we use 'charge injection mode' which transfers the charge of every pixel over the full CCD."
      ]
    },
    {
      "cell_type": "code",
      "metadata": {},
      "source": [
        "clocker = ac.Clocker2D(\n",
        "    parallel_express=5, parallel_roe=ac.ROEChargeInjection(), parallel_fast_mode=True\n",
        ")"
      ],
      "outputs": [],
      "execution_count": null
    },
    {
      "cell_type": "markdown",
      "metadata": {},
      "source": [
        "__CTI Model__\n",
        "\n",
        "The CTI model used by arCTIc to add CTI to the input image in the parallel direction, which contains: \n",
        "\n",
        " - 2 `TrapInstantCapture` species in the parallel direction, which captures electrons during clocking instantly and \n",
        " release them according to an exponential probability distribution defined by a single release times.\n",
        " - A simple CCDPhase volume filling parametrization."
      ]
    },
    {
      "cell_type": "code",
      "metadata": {},
      "source": [
        "parallel_trap_0 = ac.TrapInstantCapture(density=1.0, release_timescale=5.0)\n",
        "parallel_trap_list = [parallel_trap_0]\n",
        "\n",
        "parallel_ccd = ac.CCDPhase(\n",
        "    well_fill_power=0.58, well_notch_depth=0.0, full_well_depth=200000.0\n",
        ")\n",
        "\n",
        "cti = ac.CTI2D(parallel_trap_list=parallel_trap_list, parallel_ccd=parallel_ccd)"
      ],
      "outputs": [],
      "execution_count": null
    },
    {
      "cell_type": "markdown",
      "metadata": {},
      "source": [
        "__Simulate__\n",
        "\n",
        "To simulate charge injection imaging, we pass the charge injection pattern to a `SimulatorImagingCI`, which adds CTI \n",
        "via arCTIc and read-noise to the data.\n",
        "\n",
        "This creates instances of the `ImagingCI` class, which include the images, noise-maps and pre_cti_data images."
      ]
    },
    {
      "cell_type": "code",
      "metadata": {},
      "source": [
        "simulator_list = [\n",
        "    ac.SimulatorImagingCI(read_noise=4.0, pixel_scales=0.1, norm=norm)\n",
        "    for norm in norm_list\n",
        "]"
      ],
      "outputs": [],
      "execution_count": null
    },
    {
      "cell_type": "markdown",
      "metadata": {},
      "source": [
        "We now pass each charge injection pattern to the simulator. This generate the charge injection image of each exposure\n",
        "and before passing each image to arCTIc does the following:\n",
        "\n",
        " - Uses an input read-out electronics corner to perform all rotations of the image before / after adding CTI.\n",
        " - Stores this corner so that if we output the files to .fits,they are output in their original and true orientation.\n",
        " - Includes information on the different scan regions of the image, such as the serial prescan and serial overscan."
      ]
    },
    {
      "cell_type": "code",
      "metadata": {},
      "source": [
        "dataset_list = [\n",
        "    simulator.via_layout_from(clocker=clocker, layout=layout, cti=cti)\n",
        "    for layout, simulator in zip(layout_list, simulator_list)\n",
        "]"
      ],
      "outputs": [],
      "execution_count": null
    },
    {
      "cell_type": "markdown",
      "metadata": {},
      "source": [
        "__Add Bias__\n",
        "\n",
        "Manually add 2000e- to every pixel, in order to simulate the effect of an unsubtracted bias."
      ]
    },
    {
      "cell_type": "code",
      "metadata": {},
      "source": [
        "for index in range(len(dataset_list)):\n",
        "    dataset_list[index].data += 2000.0"
      ],
      "outputs": [],
      "execution_count": null
    },
    {
      "cell_type": "markdown",
      "metadata": {},
      "source": [
        "__Output__\n",
        "\n",
        "Output subplots of the simulated dataset to the dataset path as .png files."
      ]
    },
    {
      "cell_type": "code",
      "metadata": {},
      "source": [
        "for dataset, norm in zip(dataset_list, norm_list):\n",
        "    output = aplt.Output(\n",
        "        path=path.join(dataset_path, f\"norm_{int(norm)}\"),\n",
        "        filename=\"imaging_ci\",\n",
        "        format=\"png\",\n",
        "    )\n",
        "\n",
        "    mat_plot = aplt.MatPlot2D(output=output)\n",
        "\n",
        "    dataset_plotter = aplt.ImagingCIPlotter(dataset=dataset, mat_plot_2d=mat_plot)\n",
        "    dataset_plotter.subplot_dataset()"
      ],
      "outputs": [],
      "execution_count": null
    },
    {
      "cell_type": "markdown",
      "metadata": {},
      "source": [
        "Output plots of the EPER and FPR's binned up in 1D, so that electron capture and trailing can be\n",
        "seen clearly."
      ]
    },
    {
      "cell_type": "code",
      "metadata": {},
      "source": [
        "for dataset, norm in zip(dataset_list, norm_list):\n",
        "    output = aplt.Output(\n",
        "        path=path.join(dataset_path, f\"norm_{int(norm)}\", \"binned_1d\"), format=\"png\"\n",
        "    )\n",
        "\n",
        "    mat_plot = aplt.MatPlot1D(output=output)\n",
        "\n",
        "    dataset_plotter = aplt.ImagingCIPlotter(dataset=dataset, mat_plot_1d=mat_plot)\n",
        "    dataset_plotter.figures_1d(region=\"parallel_fpr\", data=True, data_logy=True)\n",
        "    dataset_plotter.figures_1d(region=\"parallel_eper\", data=True, data_logy=True)"
      ],
      "outputs": [],
      "execution_count": null
    },
    {
      "cell_type": "markdown",
      "metadata": {},
      "source": [
        "Output the image, noise-map and pre CTI image of the charge injection dataset to .fits files."
      ]
    },
    {
      "cell_type": "code",
      "metadata": {},
      "source": [
        "[\n",
        "    dataset.output_to_fits(\n",
        "        data_path=path.join(dataset_path, f\"norm_{int(norm)}\", \"data.fits\"),\n",
        "        noise_map_path=path.join(dataset_path, f\"norm_{int(norm)}\", \"noise_map.fits\"),\n",
        "        pre_cti_data_path=path.join(\n",
        "            dataset_path, f\"norm_{int(norm)}\", \"pre_cti_data.fits\"\n",
        "        ),\n",
        "        overwrite=True,\n",
        "    )\n",
        "    for dataset, norm in zip(dataset_list, norm_list)\n",
        "]"
      ],
      "outputs": [],
      "execution_count": null
    },
    {
      "cell_type": "markdown",
      "metadata": {},
      "source": [
        "__CTI json__\n",
        "\n",
        "Save the `Clocker2D` and `CTI2D` in the dataset folder as a .json file, ensuring the true traps and CCD settings are \n",
        "safely stored and available to check how the dataset was simulated in the future. \n",
        "\n",
        "This can be loaded via the method `CTI2D.from_json`."
      ]
    },
    {
      "cell_type": "code",
      "metadata": {},
      "source": [
        "cti.output_to_json(file_path=path.join(dataset_path, \"cti.json\"))\n",
        "clocker.output_to_json(file_path=path.join(dataset_path, \"clocker.json\"))"
      ],
      "outputs": [],
      "execution_count": null
    },
    {
      "cell_type": "markdown",
      "metadata": {},
      "source": [
        "Finished."
      ]
    },
    {
      "cell_type": "code",
      "metadata": {},
      "source": [],
      "outputs": [],
      "execution_count": null
    }
  ],
  "metadata": {
    "anaconda-cloud": {},
    "kernelspec": {
      "display_name": "Python 3",
      "language": "python",
      "name": "python3"
    },
    "language_info": {
      "codemirror_mode": {
        "name": "ipython",
        "version": 3
      },
      "file_extension": ".py",
      "mimetype": "text/x-python",
      "name": "python",
      "nbconvert_exporter": "python",
      "pygments_lexer": "ipython3",
      "version": "3.6.1"
    }
  },
  "nbformat": 4,
  "nbformat_minor": 4
}