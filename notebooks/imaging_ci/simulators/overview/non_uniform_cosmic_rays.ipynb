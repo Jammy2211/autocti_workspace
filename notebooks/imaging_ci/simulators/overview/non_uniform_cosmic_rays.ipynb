{
  "cells": [
    {
      "cell_type": "markdown",
      "metadata": {},
      "source": [
        "Simulator: Uniform Charge Injection With Cosmic Rays\n",
        "====================================================\n",
        "\n",
        "__Model__\n",
        "\n",
        "This script simulates charge injection imaging with CTI, where:\n",
        "\n",
        " - Parallel CTI is added to the image using a 2 `Trap` species model.\n",
        " - The volume filling behaviour in the parallel direction using the `CCD` class.\n",
        "\n",
        "__Start Here Notebook__\n",
        "\n",
        "If any code in this script is unclear, refer to the `simulators/start_here.ipynb` notebook."
      ]
    },
    {
      "cell_type": "code",
      "metadata": {},
      "source": [
        "%matplotlib inline\n",
        "from pyprojroot import here\n",
        "workspace_path = str(here())\n",
        "%cd $workspace_path\n",
        "print(f\"Working Directory has been set to `{workspace_path}`\")\n",
        "\n",
        "from os import path\n",
        "import autocti as ac\n",
        "import autocti.plot as aplt"
      ],
      "outputs": [],
      "execution_count": null
    },
    {
      "cell_type": "markdown",
      "metadata": {},
      "source": [
        "__Dataset Paths__\n",
        "\n",
        "The 'dataset_name' describes the type of data being simulated (in this case, imaging data) and 'dataset_name' \n",
        "gives it a descriptive name. They define the folder the dataset is output to on your hard-disk:\n",
        "\n",
        " - The image will be output to '/autocti_workspace/dataset/dataset_name/dataset_name/dataset_type/image.fits'.\n",
        " - The noise-map will be output to '/autocti_workspace/dataset/dataset_name/dataset_name/dataset_type/noise_map.fits'.\n",
        " - The pre_cti_data will be output to '/autocti_workspace/dataset/dataset_name/dataset_name/dataset_type/pre_cti_data.fits'."
      ]
    },
    {
      "cell_type": "code",
      "metadata": {},
      "source": [
        "dataset_name = \"overview\"\n",
        "dataset_type = \"non_uniform_cosmic_rays\""
      ],
      "outputs": [],
      "execution_count": null
    },
    {
      "cell_type": "markdown",
      "metadata": {},
      "source": [
        "Returns the path where the dataset will be output, which in this case is\n",
        "'/autocti_workspace/dataset/imaging_ci/overview/non_uniform"
      ]
    },
    {
      "cell_type": "code",
      "metadata": {},
      "source": [
        "dataset_path = path.join(\"dataset\", dataset_name, \"imaging_ci\", dataset_type)"
      ],
      "outputs": [],
      "execution_count": null
    },
    {
      "cell_type": "markdown",
      "metadata": {},
      "source": [
        "__Layout__\n",
        "\n",
        "The 2D shape of the image."
      ]
    },
    {
      "cell_type": "code",
      "metadata": {},
      "source": [
        "shape_native = (2066, 2128)"
      ],
      "outputs": [],
      "execution_count": null
    },
    {
      "cell_type": "markdown",
      "metadata": {},
      "source": [
        "The locations (using NumPy array indexes) of the parallel overscan, serial prescan and serial overscan on the image."
      ]
    },
    {
      "cell_type": "code",
      "metadata": {},
      "source": [
        "parallel_overscan = ac.Region2D((2108, 2128, 51, 2099))\n",
        "serial_prescan = ac.Region2D((0, 2128, 0, 51))\n",
        "serial_overscan = ac.Region2D((0, 2128, 2099, 2128))"
      ],
      "outputs": [],
      "execution_count": null
    },
    {
      "cell_type": "markdown",
      "metadata": {},
      "source": [
        "Specify the charge injection regions on the CCD, which in this case is 5 equally spaced rectangular blocks."
      ]
    },
    {
      "cell_type": "code",
      "metadata": {},
      "source": [
        "region_list = [\n",
        "    (100, 300, serial_prescan[3], serial_overscan[2]),\n",
        "    (500, 700, serial_prescan[3], serial_overscan[2]),\n",
        "    (900, 1100, serial_prescan[3], serial_overscan[2]),\n",
        "    (1300, 1500, serial_prescan[3], serial_overscan[2]),\n",
        "    (1700, 1900, serial_prescan[3], serial_overscan[2]),\n",
        "]"
      ],
      "outputs": [],
      "execution_count": null
    },
    {
      "cell_type": "markdown",
      "metadata": {},
      "source": [
        "The normalization of every charge injection image, which determines how many images are simulated."
      ]
    },
    {
      "cell_type": "code",
      "metadata": {},
      "source": [
        "norm_list = [100]"
      ],
      "outputs": [],
      "execution_count": null
    },
    {
      "cell_type": "markdown",
      "metadata": {},
      "source": [
        "The total number of charge injection images that are simulated."
      ]
    },
    {
      "cell_type": "code",
      "metadata": {},
      "source": [
        "total_datasets = len(norm_list)"
      ],
      "outputs": [],
      "execution_count": null
    },
    {
      "cell_type": "markdown",
      "metadata": {},
      "source": [
        "These describe the non-uniformity pattern of the image."
      ]
    },
    {
      "cell_type": "code",
      "metadata": {},
      "source": [
        "column_sigma_list = [10.0] * len(norm_list)\n",
        "row_slope_list = [0.0] * len(norm_list)"
      ],
      "outputs": [],
      "execution_count": null
    },
    {
      "cell_type": "markdown",
      "metadata": {},
      "source": [
        "Create the layout of the charge injection pattern for every charge injection normalization."
      ]
    },
    {
      "cell_type": "code",
      "metadata": {},
      "source": [
        "layout_list = [\n",
        "    ac.Layout2DCI(\n",
        "        shape_2d=shape_native,\n",
        "        region_list=region_list,\n",
        "        parallel_overscan=parallel_overscan,\n",
        "        serial_prescan=serial_prescan,\n",
        "        serial_overscan=serial_overscan,\n",
        "    )\n",
        "    for i in range(total_datasets)\n",
        "]"
      ],
      "outputs": [],
      "execution_count": null
    },
    {
      "cell_type": "markdown",
      "metadata": {},
      "source": [
        "__Clocker__\n",
        "\n",
        "The `Clocker` models the CCD read-out, including CTI. \n",
        "\n",
        "For parallel clocking, we use 'charge injection mode' which transfers the charge of every pixel over the full CCD."
      ]
    },
    {
      "cell_type": "code",
      "metadata": {},
      "source": [
        "clocker = ac.Clocker2D(\n",
        "    parallel_express=5,\n",
        "    parallel_roe=ac.ROEChargeInjection(),\n",
        "    parallel_fast_mode=True,\n",
        "    serial_express=5,\n",
        "    serial_roe=ac.ROE(),\n",
        ")"
      ],
      "outputs": [],
      "execution_count": null
    },
    {
      "cell_type": "markdown",
      "metadata": {},
      "source": [
        "__CTI Model__\n",
        "\n",
        "The CTI model used by arCTIc to add CTI to the input image in the parallel direction, which contains: \n",
        "\n",
        " - 1 `TrapInstantCapture` species in the parallel and serial directions, which captures electrons during clocking \n",
        " instantly and release them according to an exponential probability distribution defined by a single release times.\n",
        " \n",
        " - A simple CCDPhase volume filling parametrization for parallel and serial clocking separately."
      ]
    },
    {
      "cell_type": "code",
      "metadata": {},
      "source": [
        "parallel_trap_0 = ac.TrapInstantCapture(density=20.0, release_timescale=5.0)\n",
        "parallel_trap_list = [parallel_trap_0]\n",
        "\n",
        "parallel_ccd = ac.CCDPhase(\n",
        "    well_fill_power=0.5, well_notch_depth=0.0, full_well_depth=200000.0\n",
        ")\n",
        "\n",
        "serial_trap_0 = ac.TrapInstantCapture(density=20.0, release_timescale=10.0)\n",
        "serial_trap_list = [serial_trap_0]\n",
        "\n",
        "serial_ccd = ac.CCDPhase(\n",
        "    well_fill_power=0.75, well_notch_depth=0.0, full_well_depth=200000.0\n",
        ")\n",
        "\n",
        "cti = ac.CTI2D(\n",
        "    parallel_trap_list=parallel_trap_list,\n",
        "    parallel_ccd=parallel_ccd,\n",
        "    serial_trap_list=serial_trap_list,\n",
        "    serial_ccd=serial_ccd,\n",
        ")"
      ],
      "outputs": [],
      "execution_count": null
    },
    {
      "cell_type": "markdown",
      "metadata": {},
      "source": [
        "__Simulate__\n",
        "\n",
        "To simulate charge injection imaging, we pass the charge injection pattern to a `SimulatorImagingCI`, which adds CTI \n",
        "via arCTIc and read-noise to the data.\n",
        "\n",
        "This creates instances of the `ImagingCI` class, which include the images, noise-maps and pre_cti_data images."
      ]
    },
    {
      "cell_type": "code",
      "metadata": {},
      "source": [
        "simulator_list = [\n",
        "    ac.SimulatorImagingCI(\n",
        "        read_noise=4.0,\n",
        "        pixel_scales=0.1,\n",
        "        norm=norm,\n",
        "        column_sigma=column_sigma,\n",
        "        row_slope=row_slope,\n",
        "        max_norm=200000.0,\n",
        "    )\n",
        "    for norm, column_sigma, row_slope in zip(\n",
        "        norm_list, column_sigma_list, row_slope_list\n",
        "    )\n",
        "]"
      ],
      "outputs": [],
      "execution_count": null
    },
    {
      "cell_type": "markdown",
      "metadata": {},
      "source": [
        "We also need to simulate the cosmic ray map, which we pass to the imaging simulator above. These cosmic rays will \n",
        "then be added to our ci pre-cti image in the simulate function below, and subject to CTI according to the CTI model.\n",
        "\n",
        "This uses the `SimulatorCosmicRayMap` to simulator cosmic rays via a random monte carlo process. The settings of the\n",
        "simulator can be customized via input `.fits` files, but we simply use the defaults supplied."
      ]
    },
    {
      "cell_type": "code",
      "metadata": {},
      "source": [
        "simulator_cosmic_ray_map = ac.SimulatorCosmicRayMap.defaults(\n",
        "    shape_native=shape_native,\n",
        "    flux_scaling=1.0,\n",
        "    pixel_scale=simulator_list[0].pixel_scales,\n",
        "    seed=1,\n",
        ")"
      ],
      "outputs": [],
      "execution_count": null
    },
    {
      "cell_type": "markdown",
      "metadata": {},
      "source": [
        "We now iterate over every normalization to create the corresponding cosmic ray maps.\n",
        "\n",
        "To ensure cosmic rays are not simulated above the CCD full well depth, the `limit` parameter caps all cosmic rays to\n",
        "this value."
      ]
    },
    {
      "cell_type": "code",
      "metadata": {},
      "source": [
        "cosmic_ray_map_list = list(\n",
        "    map(\n",
        "        lambda i: simulator_cosmic_ray_map.cosmic_ray_map_from(\n",
        "            limit=parallel_ccd.full_well_depth\n",
        "        ),\n",
        "        range(len(norm_list)),\n",
        "    )\n",
        ")"
      ],
      "outputs": [],
      "execution_count": null
    },
    {
      "cell_type": "markdown",
      "metadata": {},
      "source": [
        "We now pass each charge injection pattern to the simulator. This generate the charge injection image of each exposure\n",
        "and before passing each image to arCTIc does the following:\n",
        "\n",
        " - Uses an input read-out electronics corner to perform all rotations of the image before / after adding CTI.\n",
        " - Stores this corner so that if we output the files to .fits,they are output in their original and true orientation.\n",
        " - Includes information on the different scan regions of the image, such as the serial prescan and serial overscan."
      ]
    },
    {
      "cell_type": "code",
      "metadata": {},
      "source": [
        "dataset_list = [\n",
        "    simulator.via_layout_from(\n",
        "        clocker=clocker, layout=layout, cti=cti, cosmic_ray_map=cosmic_ray_map\n",
        "    )\n",
        "    for layout, simulator, cosmic_ray_map in zip(\n",
        "        layout_list, simulator_list, cosmic_ray_map_list\n",
        "    )\n",
        "]"
      ],
      "outputs": [],
      "execution_count": null
    },
    {
      "cell_type": "markdown",
      "metadata": {},
      "source": [
        "__Output__\n",
        "\n",
        "Output subplots of the simulated dataset to the dataset path as .png files."
      ]
    },
    {
      "cell_type": "code",
      "metadata": {},
      "source": [
        "for dataset, norm in zip(dataset_list, norm_list):\n",
        "    output = aplt.Output(\n",
        "        path=path.join(dataset_path, f\"norm_{int(norm)}\"),\n",
        "        filename=\"imaging_ci\",\n",
        "        format=\"png\",\n",
        "    )\n",
        "\n",
        "    mat_plot = aplt.MatPlot2D(output=output)\n",
        "\n",
        "    dataset_plotter = aplt.ImagingCIPlotter(dataset=dataset, mat_plot_2d=mat_plot)\n",
        "    dataset_plotter.subplot_dataset()"
      ],
      "outputs": [],
      "execution_count": null
    },
    {
      "cell_type": "markdown",
      "metadata": {},
      "source": [
        "Output plots of the EPER and FPR's binned up in 1D, so that electron capture and trailing can be\n",
        "seen clearly."
      ]
    },
    {
      "cell_type": "code",
      "metadata": {},
      "source": [
        "for dataset, norm in zip(dataset_list, norm_list):\n",
        "    output = aplt.Output(\n",
        "        path=path.join(dataset_path, f\"norm_{int(norm)}\", \"binned_1d\"), format=\"png\"\n",
        "    )\n",
        "\n",
        "    mat_plot = aplt.MatPlot1D(output=output)\n",
        "\n",
        "    dataset_plotter = aplt.ImagingCIPlotter(dataset=dataset, mat_plot_1d=mat_plot)\n",
        "    dataset_plotter.figures_1d(region=\"parallel_fpr\", data=True, data_logy=True)"
      ],
      "outputs": [],
      "execution_count": null
    },
    {
      "cell_type": "markdown",
      "metadata": {},
      "source": [
        "Output the image, noise-map and pre CTI image of the charge injection dataset to .fits files."
      ]
    },
    {
      "cell_type": "code",
      "metadata": {},
      "source": [
        "[\n",
        "    dataset.output_to_fits(\n",
        "        data_path=path.join(dataset_path, f\"norm_{int(norm)}\", \"data.fits\"),\n",
        "        noise_map_path=path.join(dataset_path, f\"norm_{int(norm)}\", \"noise_map.fits\"),\n",
        "        pre_cti_data_path=path.join(\n",
        "            dataset_path, f\"norm_{int(norm)}\", \"pre_cti_data.fits\"\n",
        "        ),\n",
        "        cosmic_ray_map_path=path.join(\n",
        "            dataset_path, f\"norm_{int(norm)}\", f\"cosmic_ray_map.fits\"\n",
        "        ),\n",
        "        overwrite=True,\n",
        "    )\n",
        "    for dataset, norm in zip(dataset_list, norm_list)\n",
        "]"
      ],
      "outputs": [],
      "execution_count": null
    },
    {
      "cell_type": "markdown",
      "metadata": {},
      "source": [
        "__CTI json__\n",
        "\n",
        "Save the `Clocker2D` and `CTI2D` in the dataset folder as a .json file, ensuring the true traps and CCD settings are \n",
        "safely stored and available to check how the dataset was simulated in the future. \n",
        "\n",
        "This can be loaded via the method `CTI2D.from_json`."
      ]
    },
    {
      "cell_type": "code",
      "metadata": {},
      "source": [
        "40\n",
        "ac.output_to_json(\n",
        "    obj=clocker,\n",
        "    file_path=path.join(dataset_path, \"clocker.json\"),\n",
        ")"
      ],
      "outputs": [],
      "execution_count": null
    },
    {
      "cell_type": "markdown",
      "metadata": {},
      "source": [
        "Finished."
      ]
    },
    {
      "cell_type": "code",
      "metadata": {},
      "source": [],
      "outputs": [],
      "execution_count": null
    }
  ],
  "metadata": {
    "anaconda-cloud": {},
    "kernelspec": {
      "display_name": "Python 3",
      "language": "python",
      "name": "python3"
    },
    "language_info": {
      "codemirror_mode": {
        "name": "ipython",
        "version": 3
      },
      "file_extension": ".py",
      "mimetype": "text/x-python",
      "name": "python",
      "nbconvert_exporter": "python",
      "pygments_lexer": "ipython3",
      "version": "3.6.1"
    }
  },
  "nbformat": 4,
  "nbformat_minor": 4
}