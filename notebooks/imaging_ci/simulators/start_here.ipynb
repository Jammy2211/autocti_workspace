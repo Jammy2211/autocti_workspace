{
  "cells": [
    {
      "cell_type": "markdown",
      "metadata": {},
      "source": [
        "Simulator: Uniform Charge Injection With Cosmic Rays\n",
        "====================================================\n",
        "\n",
        "This script is the starting point for simulating a 2D charge injection CTI dataset and it provides \n",
        "an overview of the simulation API.\n",
        "\n",
        "This script simulates the simplest 2D charge injection CTI dataset in the workspace, where the CTI model has just two\n",
        "trap species, the volume filling behaviour is simple and the injected charge signal (e.g. the FPR) is uniform across\n",
        "the image.\n",
        "\n",
        "After reading this script, the `examples` folder provide examples for simulating more complex CTI datasets in different\n",
        "ways.\n",
        "\n",
        "__Model__\n",
        "\n",
        "This script simulates charge injection imaging with CTI, where:\n",
        "\n",
        " - Parallel CTI is added to the image using a 2 `Trap` species model.\n",
        " - The volume filling behaviour in the parallel direction using the `CCD` class.\n",
        " \n",
        "__Plotters__\n",
        "\n",
        "To output images of the simulated data, `Plotter` objects are used, which are high-level wrappers of matplotlib\n",
        "code which produce high quality visualization of strong lenses.\n",
        "\n",
        "The `Plotter` API is described in the `autocti_workspace/*/plot/start_here.py` script."
      ]
    },
    {
      "cell_type": "code",
      "metadata": {},
      "source": [
        "%matplotlib inline\n",
        "from pyprojroot import here\n",
        "workspace_path = str(here())\n",
        "%cd $workspace_path\n",
        "print(f\"Working Directory has been set to `{workspace_path}`\")\n",
        "\n",
        "from os import path\n",
        "import autocti as ac\n",
        "import autocti.plot as aplt"
      ],
      "outputs": [],
      "execution_count": null
    },
    {
      "cell_type": "markdown",
      "metadata": {},
      "source": [
        "__Dataset Paths__\n",
        "\n",
        "The 'dataset_name' describes the type of data being simulated (in this case, imaging data) and 'dataset_name' \n",
        "gives it a descriptive name. They define the folder the dataset is output to on your hard-disk:\n",
        "\n",
        " - The image will be output to '/autocti_workspace/dataset/dataset_name/dataset_name/image.fits'.\n",
        " - The noise-map will be output to '/autocti_workspace/dataset/dataset_name/dataset_name/noise_map.fits'.\n",
        " - The pre_cti_data will be output to '/autocti_workspace/dataset/dataset_name/dataset_name/pre_cti_data.fits'."
      ]
    },
    {
      "cell_type": "code",
      "metadata": {},
      "source": [
        "dataset_type = \"imaging_ci\"\n",
        "dataset_name = \"simple\""
      ],
      "outputs": [],
      "execution_count": null
    },
    {
      "cell_type": "markdown",
      "metadata": {},
      "source": [
        "Returns the path where the dataset will be output, which in this case is:\n",
        "\n",
        "'/autocti_workspace/dataset/imaging_ci/simple"
      ]
    },
    {
      "cell_type": "code",
      "metadata": {},
      "source": [
        "dataset_path = path.join(\"dataset\", dataset_type, dataset_name)"
      ],
      "outputs": [],
      "execution_count": null
    },
    {
      "cell_type": "markdown",
      "metadata": {},
      "source": [
        "__Shape__\n",
        "\n",
        "The 2D shape of each charge injection image and other quantities in the dataset. \n",
        "\n",
        "The dataset we simulate has 2000 rows (over which parallel CTI trailling occurs) and is 100 columns across."
      ]
    },
    {
      "cell_type": "code",
      "metadata": {},
      "source": [
        "shape_native = (2000, 100)"
      ],
      "outputs": [],
      "execution_count": null
    },
    {
      "cell_type": "markdown",
      "metadata": {},
      "source": [
        "__Regions__\n",
        "\n",
        "We next define the locations of the prescan and overscan on the 2D data. \n",
        "\n",
        "2D regions are defined as a tuple of the form (y0, y1, x0, x1) = (top-row, bottom-row, left-column, right-column), \n",
        "where the integer values of the tuple are used to perform NumPy array indexing of the 2D data.\n",
        "\n",
        "For example, if the serial overscan of 2D data is 100 columns from the read-out electronics and spans a total of\n",
        "150 rows, its region is `region=(0, 150, 0, 100)`.\n",
        "\n",
        "These are used to visualize these regions of the 2D CTI dataset during the model-fit and customize aspects of the \n",
        "model-fit."
      ]
    },
    {
      "cell_type": "code",
      "metadata": {},
      "source": [
        "parallel_overscan = ac.Region2D((1980, 2000, 5, 95))\n",
        "serial_prescan = ac.Region2D((0, 2000, 0, 5))\n",
        "serial_overscan = ac.Region2D((0, 1980, 95, 100))"
      ],
      "outputs": [],
      "execution_count": null
    },
    {
      "cell_type": "markdown",
      "metadata": {},
      "source": [
        "Specify the charge regions on the 2D CTI Dataset, corresponding to where a signal is contained that has its electrons \n",
        "captured and trailed by CTI (e.g. the FPR).\n",
        "\n",
        "This dataset has five charge regions, which are spaced in on / off blocks of 200 pixels.\n",
        "\n",
        "Note that the charge injections do not extend to inside of the serial prescan or serial overscan regions."
      ]
    },
    {
      "cell_type": "code",
      "metadata": {},
      "source": [
        "region_list = [\n",
        "    (0, 200, serial_prescan[3], serial_overscan[2]),\n",
        "    (400, 600, serial_prescan[3], serial_overscan[2]),\n",
        "    (800, 1000, serial_prescan[3], serial_overscan[2]),\n",
        "    (1200, 1400, serial_prescan[3], serial_overscan[2]),\n",
        "    (1600, 1800, serial_prescan[3], serial_overscan[2]),\n",
        "]"
      ],
      "outputs": [],
      "execution_count": null
    },
    {
      "cell_type": "markdown",
      "metadata": {},
      "source": [
        "Specify the normalization of the charge in every individual 2D CTI charge injection dataset. \n",
        "\n",
        "When simulated, the normalization of the charge in every charge injection image is set by these values, meaning this\n",
        "is the total number of electrons in the FPR of every charge injection image."
      ]
    },
    {
      "cell_type": "code",
      "metadata": {},
      "source": [
        "norm_list = [100, 5000, 25000, 200000]"
      ],
      "outputs": [],
      "execution_count": null
    },
    {
      "cell_type": "markdown",
      "metadata": {},
      "source": [
        "The total number of charge injection images that are simulated, which is the number of normalizations \n",
        "specified above."
      ]
    },
    {
      "cell_type": "code",
      "metadata": {},
      "source": [
        "total_datasets = len(norm_list)"
      ],
      "outputs": [],
      "execution_count": null
    },
    {
      "cell_type": "markdown",
      "metadata": {},
      "source": [
        "__Layout__\n",
        "\n",
        "We now create a `Layout2D` object for every 2D charge injection dataset fitted in this script.\n",
        "\n",
        "This object contains all functionality associated with the layout of the data (e.g. where the FPR is, where the\n",
        "EPERs are, where the overscans are, etc.). \n",
        "\n",
        "The simulation procedure uses this object to create the initial electrons in the 2D dataset (e.g. the FPR), which are \n",
        "then trailed by CTI to form the EPERs."
      ]
    },
    {
      "cell_type": "code",
      "metadata": {},
      "source": [
        "layout_list = [\n",
        "    ac.Layout2DCI(\n",
        "        shape_2d=shape_native,\n",
        "        region_list=region_list,\n",
        "        parallel_overscan=parallel_overscan,\n",
        "        serial_prescan=serial_prescan,\n",
        "        serial_overscan=serial_overscan,\n",
        "    )\n",
        "    for i in range(total_datasets)\n",
        "]"
      ],
      "outputs": [],
      "execution_count": null
    },
    {
      "cell_type": "markdown",
      "metadata": {},
      "source": [
        "__Clocker / arCTIc__\n",
        "\n",
        "To model the CCD clocking process, including CTI, we use  arCTIc, or the \"algorithm for Charge Transfer Inefficiency \n",
        "clocking\".\n",
        "\n",
        "arCTIc is written in c++ can be used standalone outside of **PyAutoCTI** as described on its GitHub \n",
        "page (https://github.com/jkeger/arctic). **PyAutoCTI** uses arCTIc's built-in Python wrapper.\n",
        "\n",
        "In **PyAutoCTI** we call arCTIc via a `Clocker` object, which is a Python class that wraps arCTIc. This class has \n",
        "many optional inputs that customize how clocking is performed, but we'll omit these for now to keep things simple.\n",
        "\n",
        "For clocking, we use: \n",
        "\n",
        " - `parallel_express`: determines how many electrons are clocked per cycle and trades off speed for accuracy, where \n",
        "   `parallel_express=5` is a good balance.\n",
        "\n",
        " - 'ROEChargeInjection': which transfers the charge of every pixel over the full CCD.\n",
        " \n",
        " - `parallel_fast_mode`: which speeds up the analysis by only passing to arCTIc unique columns (for uniform charge\n",
        " injection data all columsn are identical, thus only one arCTIc call is required)."
      ]
    },
    {
      "cell_type": "code",
      "metadata": {},
      "source": [
        "clocker = ac.Clocker2D(\n",
        "    parallel_express=5, parallel_roe=ac.ROEChargeInjection(), parallel_fast_mode=True\n",
        ")"
      ],
      "outputs": [],
      "execution_count": null
    },
    {
      "cell_type": "markdown",
      "metadata": {},
      "source": [
        "__CTI Model__\n",
        "\n",
        "The CTI model used by arCTIc to add CTI to the input image in the parallel direction, which contains: \n",
        "\n",
        " - 2 `TrapInstantCapture` species in the parallel direction, which captures electrons during clocking instantly and \n",
        "   releases them according to an exponential probability distribution defined by a single release times.\n",
        " \n",
        " - A simple CCDPhase volume filling parametrization."
      ]
    },
    {
      "cell_type": "code",
      "metadata": {},
      "source": [
        "parallel_trap_0 = ac.TrapInstantCapture(density=0.13, release_timescale=1.25)\n",
        "parallel_trap_1 = ac.TrapInstantCapture(density=0.25, release_timescale=4.4)\n",
        "\n",
        "parallel_trap_list = [parallel_trap_0, parallel_trap_1]\n",
        "\n",
        "parallel_ccd = ac.CCDPhase(\n",
        "    well_fill_power=0.58, well_notch_depth=0.0, full_well_depth=200000.0\n",
        ")\n",
        "\n",
        "cti = ac.CTI2D(parallel_trap_list=parallel_trap_list, parallel_ccd=parallel_ccd)"
      ],
      "outputs": [],
      "execution_count": null
    },
    {
      "cell_type": "markdown",
      "metadata": {},
      "source": [
        "__Simulate__\n",
        "\n",
        "To simulate the 1D CTI dataset we first create a simulator, which includes:\n",
        "\n",
        " - The read noise of the data, which increasing means the data is lower signal-to-noise.\n",
        " \n",
        " - The `pixel_scales` define the arc-second to pixel conversion factor of the image, which for the dataset we are using \n",
        "   is 0.1\" / pixel. This is used for visualization only, specifically to convert axis labels from pixels to arc-seconds.\n",
        "   \n",
        " - The normalizaiton, `norm` of the dataset, which is the total number of electrons in the dataset before CTI (e.g.\n",
        "   the FPR)."
      ]
    },
    {
      "cell_type": "code",
      "metadata": {},
      "source": [
        "simulator_list = [\n",
        "    ac.SimulatorImagingCI(read_noise=4.0, pixel_scales=0.1, norm=norm)\n",
        "    for norm in norm_list\n",
        "]"
      ],
      "outputs": [],
      "execution_count": null
    },
    {
      "cell_type": "markdown",
      "metadata": {},
      "source": [
        "We now pass each charge injection pattern to the simulator, which: \n",
        "\n",
        " - Generates the charge injection image of each exposure using its input `norm`.\n",
        "\n",
        " - Adds CTI to the data using the `cti` model.\n",
        " \n",
        " - Adds read noise to the data.\n",
        "\n",
        "This creates a list of `ImagingCI` instances, which include the data (with CTI), noise-maps and the pre-cti data."
      ]
    },
    {
      "cell_type": "code",
      "metadata": {},
      "source": [
        "dataset_list = [\n",
        "    simulator.via_layout_from(clocker=clocker, layout=layout, cti=cti)\n",
        "    for layout, simulator in zip(layout_list, simulator_list)\n",
        "]"
      ],
      "outputs": [],
      "execution_count": null
    },
    {
      "cell_type": "markdown",
      "metadata": {},
      "source": [
        "We plot the first dataset in the list, which is the dataset with the lowest normalization."
      ]
    },
    {
      "cell_type": "code",
      "metadata": {},
      "source": [
        "dataset_plotter = aplt.ImagingCIPlotter(dataset=dataset_list[0])\n",
        "dataset_plotter.subplot_dataset()"
      ],
      "outputs": [],
      "execution_count": null
    },
    {
      "cell_type": "markdown",
      "metadata": {},
      "source": [
        "__Output__\n",
        "\n",
        "Output the simulated dataset to the dataset path as .fits files.\n",
        "\n",
        "If you are unfamiliar with .fits files, this is the standard file format of astronomical data and you can open \n",
        "them using the software ds9 (https://sites.google.com/cfa.harvard.edu/saoimageds9/home)."
      ]
    },
    {
      "cell_type": "code",
      "metadata": {},
      "source": [
        "[\n",
        "    dataset.output_to_fits(\n",
        "        data_path=path.join(dataset_path, f\"norm_{int(norm)}\", \"data.fits\"),\n",
        "        noise_map_path=path.join(dataset_path, f\"norm_{int(norm)}\", \"noise_map.fits\"),\n",
        "        pre_cti_data_path=path.join(\n",
        "            dataset_path, f\"norm_{int(norm)}\", \"pre_cti_data.fits\"\n",
        "        ),\n",
        "        overwrite=True,\n",
        "    )\n",
        "    for dataset, norm in zip(dataset_list, norm_list)\n",
        "]"
      ],
      "outputs": [],
      "execution_count": null
    },
    {
      "cell_type": "markdown",
      "metadata": {},
      "source": [
        "__Visualize__\n",
        "\n",
        "In the same folder as the .fits files, we also output plots of the simulated dataset in .png format.\n",
        "\n",
        "Having .png files like this is useful, as they can be opened quickly and easily by the user to check the dataset."
      ]
    },
    {
      "cell_type": "code",
      "metadata": {},
      "source": [
        "for dataset, norm in zip(dataset_list, norm_list):\n",
        "    output = aplt.Output(\n",
        "        path=path.join(dataset_path, f\"norm_{int(norm)}\"),\n",
        "        filename=\"imaging_ci\",\n",
        "        format=\"png\",\n",
        "    )\n",
        "\n",
        "    mat_plot = aplt.MatPlot2D(output=output)\n",
        "\n",
        "    dataset_plotter = aplt.ImagingCIPlotter(dataset=dataset, mat_plot_2d=mat_plot)\n",
        "    dataset_plotter.subplot_dataset()"
      ],
      "outputs": [],
      "execution_count": null
    },
    {
      "cell_type": "markdown",
      "metadata": {},
      "source": [
        "We also output subplots of the simulated dataset in .png format, as well as other images which summarize the dataset.\n",
        "\n",
        "These plots include 1D binned up images of the FPR and EPER, so that electron capture and trailing can be seen clearly."
      ]
    },
    {
      "cell_type": "code",
      "metadata": {},
      "source": [
        "for dataset, norm in zip(dataset_list, norm_list):\n",
        "    output = aplt.Output(\n",
        "        path=path.join(dataset_path, f\"norm_{int(norm)}\", \"binned_1d\"), format=\"png\"\n",
        "    )\n",
        "\n",
        "    mat_plot = aplt.MatPlot1D(output=output)\n",
        "\n",
        "    dataset_plotter = aplt.ImagingCIPlotter(dataset=dataset, mat_plot_1d=mat_plot)\n",
        "    dataset_plotter.figures_1d(region=\"parallel_fpr\", data=True, data_logy=True)\n",
        "    dataset_plotter.figures_1d(region=\"parallel_eper\", data=True, data_logy=True)\n"
      ],
      "outputs": [],
      "execution_count": null
    },
    {
      "cell_type": "markdown",
      "metadata": {},
      "source": [
        "__CTI json__\n",
        "\n",
        "Save the `Clocker2D` and `CTI2D` in the dataset folder as a .json file, ensuring the true traps and CCD settings are \n",
        "safely stored and available to check how the dataset was simulated in the future. \n",
        "\n",
        "This can be loaded via the method `CTI2D.from_json`."
      ]
    },
    {
      "cell_type": "code",
      "metadata": {},
      "source": [
        "cti.output_to_json(file_path=path.join(dataset_path, \"cti.json\"))\n",
        "clocker.output_to_json(file_path=path.join(dataset_path, \"clocker.json\"))"
      ],
      "outputs": [],
      "execution_count": null
    },
    {
      "cell_type": "markdown",
      "metadata": {},
      "source": [
        "Finished."
      ]
    },
    {
      "cell_type": "code",
      "metadata": {},
      "source": [],
      "outputs": [],
      "execution_count": null
    }
  ],
  "metadata": {
    "anaconda-cloud": {},
    "kernelspec": {
      "display_name": "Python 3",
      "language": "python",
      "name": "python3"
    },
    "language_info": {
      "codemirror_mode": {
        "name": "ipython",
        "version": 3
      },
      "file_extension": ".py",
      "mimetype": "text/x-python",
      "name": "python",
      "nbconvert_exporter": "python",
      "pygments_lexer": "ipython3",
      "version": "3.6.1"
    }
  },
  "nbformat": 4,
  "nbformat_minor": 4
}