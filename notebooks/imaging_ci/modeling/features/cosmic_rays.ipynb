{
  "cells": [
    {
      "cell_type": "markdown",
      "metadata": {},
      "source": [
        "Modeling: Charge Injection Uniform\n",
        "==================================\n",
        "\n",
        "Charge injection imaging data will have cosmic rays hit it during data acquisition, which must be identified and\n",
        "masked from the CTI calibration produce in order to prevent an inaccurate model being inferred. The CTI trails of\n",
        "the cosmic rays must be also be masked.\n",
        "\n",
        "This script illustrates how to perform CTI calibration to CI data which include cosmic rays, which have already\n",
        "been identified and masked.\n",
        "\n",
        "__Model__\n",
        "\n",
        "In this script, we will fit charge injection imaging to calibrate CTI, where:\n",
        "\n",
        " - The CTI model consists of two parallel `TrapInstantCapture` species.\n",
        " - The `CCD` volume filling is a simple parameterization with just a `well_fill_power` parameter.\n",
        " - The `ImagingCI` is simulated with uniform charge injection lines and no cosmic rays.\n",
        "\n",
        "__Cosmic Ray Flagging__\n",
        "\n",
        "Standard cosmic ray flagging algorithms rely on finding sharp spikes or gradients in the data cannot.\n",
        "They therefore cannot be applied to charge injection data, because the charge injection itself will also be flagged\n",
        "as cosmic rays.\n",
        "\n",
        "The procedure for flagging cosmic rays is given in the notebook:\n",
        "\n",
        "`imaging_ci/data_preparation/examples/cosmic_ray_flagging.ipynb`.\n",
        "\n",
        "__Cosmic Ray Information__\n",
        "\n",
        "Each cosmic ray will contain a CTI trail behind it, which could in principle offer additional information about\n",
        "CTI that can constrain the model inferred via CTI Calibration.\n",
        "\n",
        "However, this is not supported in **PyAutoCTI**, because:\n",
        "\n",
        " - There is no information on the original shape of the cosmic ray before it was subject to CTI, thus it is not\n",
        "   possible to measure its pre-cti image.\n",
        "\n",
        " - A subset of cosmic rays will hit during read out and therefore have different CTI trails compared to cosmic rays\n",
        "   which hit during the exposure.\n",
        "\n",
        "__Start Here Notebook__\n",
        "\n",
        "If any code in this script is unclear, refer to the `modeling/start_here.ipynb` notebook."
      ]
    },
    {
      "cell_type": "code",
      "metadata": {},
      "source": [
        "%matplotlib inline\n",
        "from pyprojroot import here\n",
        "workspace_path = str(here())\n",
        "%cd $workspace_path\n",
        "print(f\"Working Directory has been set to `{workspace_path}`\")\n",
        "\n",
        "from os import path\n",
        "import autofit as af\n",
        "import autocti as ac\n",
        "import autocti.plot as aplt"
      ],
      "outputs": [],
      "execution_count": null
    },
    {
      "cell_type": "markdown",
      "metadata": {},
      "source": [
        "__Dataset__\n",
        "\n",
        "The paths pointing to the dataset we will use for CTI modeling."
      ]
    },
    {
      "cell_type": "code",
      "metadata": {},
      "source": [
        "dataset_name = \"cosmic_rays\"\n",
        "dataset_path = path.join(\"dataset\", \"imaging_ci\", dataset_name)"
      ],
      "outputs": [],
      "execution_count": null
    },
    {
      "cell_type": "markdown",
      "metadata": {},
      "source": [
        "__Layout__\n",
        "\n",
        "The 2D shape of the images."
      ]
    },
    {
      "cell_type": "code",
      "metadata": {},
      "source": [
        "shape_native = (2000, 100)"
      ],
      "outputs": [],
      "execution_count": null
    },
    {
      "cell_type": "markdown",
      "metadata": {},
      "source": [
        "The locations (using NumPy array indexes) of the parallel overscan, serial prescan and serial overscan on the image."
      ]
    },
    {
      "cell_type": "code",
      "metadata": {},
      "source": [
        "parallel_overscan = ac.Region2D((1980, 2000, 5, 95))\n",
        "serial_prescan = ac.Region2D((0, 2000, 0, 5))\n",
        "serial_overscan = ac.Region2D((0, 1980, 95, 100))"
      ],
      "outputs": [],
      "execution_count": null
    },
    {
      "cell_type": "markdown",
      "metadata": {},
      "source": [
        "The charge injection regions on the CCD, which in this case is 5 equally spaced rectangular blocks."
      ]
    },
    {
      "cell_type": "code",
      "metadata": {},
      "source": [
        "region_list = [\n",
        "    (0, 200, serial_prescan[3], serial_overscan[2]),\n",
        "    (400, 600, serial_prescan[3], serial_overscan[2]),\n",
        "    (800, 1000, serial_prescan[3], serial_overscan[2]),\n",
        "    (1200, 1400, serial_prescan[3], serial_overscan[2]),\n",
        "    (1600, 1800, serial_prescan[3], serial_overscan[2]),\n",
        "]"
      ],
      "outputs": [],
      "execution_count": null
    },
    {
      "cell_type": "markdown",
      "metadata": {},
      "source": [
        "The normalization of every charge injection image, which determines how many images are simulated."
      ]
    },
    {
      "cell_type": "code",
      "metadata": {},
      "source": [
        "norm_list = [100, 5000, 25000, 200000]"
      ],
      "outputs": [],
      "execution_count": null
    },
    {
      "cell_type": "markdown",
      "metadata": {},
      "source": [
        "The total number of charge injection images that are fitted."
      ]
    },
    {
      "cell_type": "code",
      "metadata": {},
      "source": [
        "total_datasets = len(norm_list)"
      ],
      "outputs": [],
      "execution_count": null
    },
    {
      "cell_type": "markdown",
      "metadata": {},
      "source": [
        "Create the layout of the charge injection pattern for every charge injection normalization."
      ]
    },
    {
      "cell_type": "code",
      "metadata": {},
      "source": [
        "layout_list = [\n",
        "    ac.Layout2DCI(\n",
        "        shape_2d=shape_native,\n",
        "        region_list=region_list,\n",
        "        parallel_overscan=parallel_overscan,\n",
        "        serial_prescan=serial_prescan,\n",
        "        serial_overscan=serial_overscan,\n",
        "    )\n",
        "    for i in range(total_datasets)\n",
        "]"
      ],
      "outputs": [],
      "execution_count": null
    },
    {
      "cell_type": "markdown",
      "metadata": {},
      "source": [
        "We can now load every image, noise-map and pre-CTI charge injection image as instances of the `ImagingCI` object."
      ]
    },
    {
      "cell_type": "code",
      "metadata": {},
      "source": [
        "dataset_list = [\n",
        "    ac.ImagingCI.from_fits(\n",
        "        data_path=path.join(dataset_path, f\"norm_{int(norm)}\", \"data.fits\"),\n",
        "        noise_map_path=path.join(dataset_path, f\"norm_{int(norm)}\", \"noise_map.fits\"),\n",
        "        pre_cti_data_path=path.join(\n",
        "            dataset_path, f\"norm_{int(norm)}\", \"pre_cti_data.fits\"\n",
        "        ),\n",
        "        cosmic_ray_map_path=path.join(\n",
        "            dataset_path, f\"norm_{int(norm)}\", \"cosmic_ray_map.fits\"\n",
        "        ),\n",
        "        layout=layout,\n",
        "        pixel_scales=0.1,\n",
        "    )\n",
        "    for layout, norm in zip(layout_list, norm_list)\n",
        "]"
      ],
      "outputs": [],
      "execution_count": null
    },
    {
      "cell_type": "markdown",
      "metadata": {},
      "source": [
        "Lets plot the first `ImagingCI`."
      ]
    },
    {
      "cell_type": "code",
      "metadata": {},
      "source": [
        "dataset_plotter = aplt.ImagingCIPlotter(dataset=dataset_list[0])\n",
        "dataset_plotter.subplot_dataset()"
      ],
      "outputs": [],
      "execution_count": null
    },
    {
      "cell_type": "markdown",
      "metadata": {},
      "source": [
        "__Mask__\n",
        "\n",
        "We apply a 2D mask which removes the FPR (e.g. all 200 pixels where the charge injection is performed)."
      ]
    },
    {
      "cell_type": "code",
      "metadata": {},
      "source": [
        "mask = ac.Mask2D.all_false(\n",
        "    shape_native=dataset_list[0].shape_native,\n",
        "    pixel_scales=dataset_list[0].pixel_scales,\n",
        ")\n",
        "\n",
        "mask = ac.Mask2D.masked_fpr_and_eper_from(\n",
        "    mask=mask,\n",
        "    layout=dataset_list[0].layout,\n",
        "    settings=ac.SettingsMask2D(parallel_fpr_pixels=(0, 200)),\n",
        "    pixel_scales=dataset_list[0].pixel_scales,\n",
        ")\n",
        "\n",
        "mask_list = [\n",
        "    ac.Mask2D.from_cosmic_ray_map_buffed(\n",
        "        cosmic_ray_map=dataset.cosmic_ray_map,\n",
        "        settings=ac.SettingsMask2D(cosmic_ray_parallel_buffer=10),\n",
        "    )\n",
        "    for dataset in dataset_list\n",
        "]\n",
        "\n",
        "dataset_list = [\n",
        "    dataset.apply_mask(mask=mask) for dataset, mask in zip(dataset_list, mask_list)\n",
        "]"
      ],
      "outputs": [],
      "execution_count": null
    },
    {
      "cell_type": "markdown",
      "metadata": {},
      "source": [
        "__Clocking__\n",
        "\n",
        "The `Clocker` models the CCD read-out, including CTI. \n",
        "\n",
        "For clocking, we use: \n",
        "\n",
        " - 'ROEChargeInjection': which transfers the charge of every pixel over the full CCD.\n",
        " \n",
        " - `parallel_fast_mode`: which speeds up the analysis by only passing to arCTIc unique columns (for uniform charge\n",
        " injection data all columsn are identical, thus only one arCTIc call is required)."
      ]
    },
    {
      "cell_type": "code",
      "metadata": {},
      "source": [
        "clocker = ac.Clocker2D(\n",
        "    parallel_express=5, parallel_roe=ac.ROEChargeInjection(), parallel_fast_mode=True\n",
        ")"
      ],
      "outputs": [],
      "execution_count": null
    },
    {
      "cell_type": "markdown",
      "metadata": {},
      "source": [
        "__Model__\n",
        "\n",
        "We now compose our CTI model, which represents the trap species and CCD volume filling behaviour used to fit the charge \n",
        "injection data. In this example we fit a CTI model with:\n",
        "\n",
        " - Two parallel `TrapInstantCapture`'s which capture electrons during clocking instantly in the parallel direction\n",
        " [4 parameters].\n",
        " \n",
        " - A simple `CCD` volume filling parametrization with fixed notch depth and capacity [1 parameter].\n",
        "\n",
        "The number of free parameters and therefore the dimensionality of non-linear parameter space is N=5."
      ]
    },
    {
      "cell_type": "code",
      "metadata": {},
      "source": [
        "parallel_trap_0 = af.Model(ac.TrapInstantCapture)\n",
        "parallel_trap_1 = af.Model(ac.TrapInstantCapture)\n",
        "\n",
        "parallel_trap_0.add_assertion(\n",
        "    parallel_trap_0.release_timescale < parallel_trap_1.release_timescale\n",
        ")\n",
        "parallel_trap_list = [parallel_trap_0, parallel_trap_1]\n",
        "\n",
        "parallel_ccd = af.Model(ac.CCDPhase)\n",
        "parallel_ccd.well_notch_depth = 0.0\n",
        "parallel_ccd.full_well_depth = 200000.0\n",
        "\n",
        "model = af.Collection(\n",
        "    cti=af.Model(\n",
        "        ac.CTI2D, parallel_trap_list=parallel_trap_list, parallel_ccd=parallel_ccd\n",
        "    )\n",
        ")"
      ],
      "outputs": [],
      "execution_count": null
    },
    {
      "cell_type": "markdown",
      "metadata": {},
      "source": [
        "The `info` attribute shows the model in a readable format."
      ]
    },
    {
      "cell_type": "code",
      "metadata": {},
      "source": [
        "print(model.info)"
      ],
      "outputs": [],
      "execution_count": null
    },
    {
      "cell_type": "markdown",
      "metadata": {},
      "source": [
        "__Search__\n",
        "\n",
        "The model is fitted to the data using the nested sampling algorithm Nautilus (https://nautilus.readthedocs.io/en/latest/).\n",
        "\n",
        "The `name` and `path_prefix` below specify the path where results ae stored in the output folder:  \n",
        "\n",
        " `/autocti_workspace/output/imaging_ci/parallel[x2]`."
      ]
    },
    {
      "cell_type": "code",
      "metadata": {},
      "source": [
        "search = af.Nautilus(\n",
        "    path_prefix=path.join(\"imaging_ci\", dataset_name), name=\"parallel[x2]\", n_live=100\n",
        ")"
      ],
      "outputs": [],
      "execution_count": null
    },
    {
      "cell_type": "markdown",
      "metadata": {},
      "source": [
        "__Analysis__\n",
        "\n",
        "The `AnalysisImagingCI` object defines the `log_likelihood_function` used by the non-linear search to fit the model to \n",
        "the `ImagingCI`dataset."
      ]
    },
    {
      "cell_type": "code",
      "metadata": {},
      "source": [
        "analysis_list = [\n",
        "    ac.AnalysisImagingCI(dataset=dataset, clocker=clocker) for dataset in dataset_list\n",
        "]"
      ],
      "outputs": [],
      "execution_count": null
    },
    {
      "cell_type": "markdown",
      "metadata": {},
      "source": [
        "By summing this list of analysis objects, we create an overall `Analysis` which we can use to fit the CTI model, where:\n",
        "\n",
        " - The log likelihood function of this summed analysis class is the sum of the log likelihood functions of each \n",
        " individual analysis object.\n",
        "\n",
        " - The summing process ensures that tasks such as outputting results to hard-disk, visualization, etc use a \n",
        " structure that separates each analysis."
      ]
    },
    {
      "cell_type": "code",
      "metadata": {},
      "source": [
        "analysis = sum(analysis_list)"
      ],
      "outputs": [],
      "execution_count": null
    },
    {
      "cell_type": "markdown",
      "metadata": {},
      "source": [
        "We can parallelize the likelihood function of these analysis classes, whereby each evaluation will be performed on a \n",
        "different CPU."
      ]
    },
    {
      "cell_type": "code",
      "metadata": {},
      "source": [
        "analysis.n_cores = 1"
      ],
      "outputs": [],
      "execution_count": null
    },
    {
      "cell_type": "markdown",
      "metadata": {},
      "source": [
        "__Model-Fit__\n",
        "\n",
        "We can now begin the model-fit by passing the model and analysis object to the search, which performs a non-linear\n",
        "search to find which models fit the data with the highest likelihood.\n",
        "\n",
        "Checkout the folder `autocti_workspace/output/imaging_ci/parallel[x2]` for live outputs \n",
        "of the results of the fit, including on-the-fly visualization of the best fit model!"
      ]
    },
    {
      "cell_type": "code",
      "metadata": {},
      "source": [
        "result_list = search.fit(model=model, analysis=analysis)"
      ],
      "outputs": [],
      "execution_count": null
    },
    {
      "cell_type": "markdown",
      "metadata": {},
      "source": [
        "__Result__\n",
        "\n",
        "The result object returned by the fit provides information on the results of the non-linear search. \n",
        "\n",
        "The `info` attribute shows the result in a readable format."
      ]
    },
    {
      "cell_type": "code",
      "metadata": {},
      "source": [
        "print(result_list.info)"
      ],
      "outputs": [],
      "execution_count": null
    },
    {
      "cell_type": "markdown",
      "metadata": {},
      "source": [
        "The result object also contains the fit corresponding to the maximum log likelihood solution in parameter space,\n",
        "which can be used to visualizing the results."
      ]
    },
    {
      "cell_type": "code",
      "metadata": {},
      "source": [
        "print(result_list[0].max_log_likelihood_instance.cti.parallel_trap_list[0].density)\n",
        "print(result_list[0].max_log_likelihood_instance.cti.parallel_ccd.well_fill_power)\n",
        "\n",
        "for result in result_list:\n",
        "    fit_plotter = aplt.FitImagingCIPlotter(fit=result.max_log_likelihood_fit)\n",
        "    fit_plotter.subplot_fit()\n",
        "# %%\n",
        "'''\n",
        "Checkout `autocti_workspace/*/imaging_ci/modeling/results.py` for a full description of the result object.\n",
        "'''"
      ],
      "outputs": [],
      "execution_count": null
    },
    {
      "cell_type": "code",
      "metadata": {},
      "source": [],
      "outputs": [],
      "execution_count": null
    }
  ],
  "metadata": {
    "anaconda-cloud": {},
    "kernelspec": {
      "display_name": "Python 3",
      "language": "python",
      "name": "python3"
    },
    "language_info": {
      "codemirror_mode": {
        "name": "ipython",
        "version": 3
      },
      "file_extension": ".py",
      "mimetype": "text/x-python",
      "name": "python",
      "nbconvert_exporter": "python",
      "pygments_lexer": "ipython3",
      "version": "3.6.1"
    }
  },
  "nbformat": 4,
  "nbformat_minor": 4
}