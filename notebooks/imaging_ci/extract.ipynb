{
  "cells": [
    {
      "cell_type": "markdown",
      "metadata": {},
      "source": [
        "Extract\n",
        "-------\n",
        "\n",
        "**PyAutoCTI** has numerous methods for extracting subsets of data from a charge injection dataset.\n",
        "\n",
        "This script illustrates all the available options.\n",
        "\n",
        "This script assumes familiaring with the **PyAutoCTI** API, if anything is unclear check out other scripts throughout\n",
        "the workspace."
      ]
    },
    {
      "cell_type": "code",
      "metadata": {},
      "source": [
        "%matplotlib inline\n",
        "from pyprojroot import here\n",
        "workspace_path = str(here())\n",
        "%cd $workspace_path\n",
        "print(f\"Working Directory has been set to `{workspace_path}`\")\n",
        "\n",
        "from os import path\n",
        "import autocti as ac\n",
        "import autocti.plot as aplt"
      ],
      "outputs": [],
      "execution_count": null
    },
    {
      "cell_type": "markdown",
      "metadata": {},
      "source": [
        "__Dataset + Layout__\n",
        "\n",
        "We begin by loading a charge injection image which has parallel and serial CTI added, which we will use to illustrate\n",
        "the extraction methods.\n",
        "\n",
        "We also set up its corresponding `Layout2DCI` object, which is used to perform extractions.\n",
        "\n",
        "You should be familiar with the **PyAutoCTI** API below, if not check out other scripts throughout the workspace."
      ]
    },
    {
      "cell_type": "code",
      "metadata": {},
      "source": [
        "dataset_name = \"parallel_x2__serial_x2\"\n",
        "dataset_name = \"simple\"\n",
        "dataset_path = path.join(\"dataset\", \"imaging_ci\", dataset_name)\n",
        "\n",
        "shape_native = (2000, 100)"
      ],
      "outputs": [],
      "execution_count": null
    },
    {
      "cell_type": "markdown",
      "metadata": {},
      "source": [
        "The overscans input here are used to perform extractions."
      ]
    },
    {
      "cell_type": "code",
      "metadata": {},
      "source": [
        "parallel_overscan = ac.Region2D((1980, 2000, 5, 95))\n",
        "serial_prescan = ac.Region2D((0, 2000, 0, 5))\n",
        "serial_overscan = ac.Region2D((0, 1980, 95, 100))"
      ],
      "outputs": [],
      "execution_count": null
    },
    {
      "cell_type": "markdown",
      "metadata": {},
      "source": [
        "These charge injection regions are also used to perform extractions."
      ]
    },
    {
      "cell_type": "code",
      "metadata": {},
      "source": [
        "region_list = [\n",
        "    (0, 200, serial_prescan[3], serial_overscan[2]),\n",
        "    (400, 600, serial_prescan[3], serial_overscan[2]),\n",
        "    (800, 1000, serial_prescan[3], serial_overscan[2]),\n",
        "    (1200, 1400, serial_prescan[3], serial_overscan[2]),\n",
        "    (1600, 1800, serial_prescan[3], serial_overscan[2]),\n",
        "]\n",
        "\n",
        "norm = 100"
      ],
      "outputs": [],
      "execution_count": null
    },
    {
      "cell_type": "markdown",
      "metadata": {},
      "source": [
        "The layout object contains all the extraction functionality used in this example."
      ]
    },
    {
      "cell_type": "code",
      "metadata": {},
      "source": [
        "layout = ac.Layout2DCI(\n",
        "    shape_2d=shape_native,\n",
        "    region_list=region_list,\n",
        "    parallel_overscan=parallel_overscan,\n",
        "    serial_prescan=serial_prescan,\n",
        "    serial_overscan=serial_overscan,\n",
        ")"
      ],
      "outputs": [],
      "execution_count": null
    },
    {
      "cell_type": "markdown",
      "metadata": {},
      "source": [
        "We will demonstrate extraction on a charge injection image, but the functionality demonstrated here can be used\n",
        "on any 2D array (e.g. the noise-map, a CTI corrected image, a residual-map of a fit)."
      ]
    },
    {
      "cell_type": "code",
      "metadata": {},
      "source": [
        "data = ac.Array2D.from_fits(\n",
        "    file_path=path.join(dataset_path, f\"norm_{int(norm)}\", \"data.fits\"),\n",
        "    pixel_scales=0.1,\n",
        ")"
      ],
      "outputs": [],
      "execution_count": null
    },
    {
      "cell_type": "markdown",
      "metadata": {},
      "source": [
        "__Parallel EPERs__\n",
        "\n",
        "The 2D region of every set of parallel EPERs on the charge injection data is contained in the layout's extract\n",
        "object.\n",
        "\n",
        "To compute the parallel EPER regions, we specify the number of rows we want each the EPERs to span, using the\n",
        "`pixels` input. \n",
        "\n",
        "For example, by inputting `pixels=(0, 30)` each parallel EPER region contains 30 pixel rows.\n",
        "\n",
        "The returned shape of each region is (90, 30), where the 90 is the number of columns the parallel EPER spans (as \n",
        "defined by the  extent `serial_prescan[3]:serial_overscan[2]` in the `region_list` above)."
      ]
    },
    {
      "cell_type": "code",
      "metadata": {},
      "source": [
        "region_2d_parallel_eper_list = layout.extract.parallel_eper.region_list_from(\n",
        "    settings=ac.SettingsExtract(pixels=(0, 30))\n",
        ")\n",
        "print(region_2d_parallel_eper_list)"
      ],
      "outputs": [],
      "execution_count": null
    },
    {
      "cell_type": "markdown",
      "metadata": {},
      "source": [
        "The parallel EPER regions above are used to extract the parallel EPERs from the charge injection image. \n",
        "\n",
        "The function below returns a list of 2D arrays containing each EPER.\n",
        "\n",
        "We again specify the number of pixel rows each 2D parallel EPER that is extracted spans. "
      ]
    },
    {
      "cell_type": "code",
      "metadata": {},
      "source": [
        "data_parallel_eper_list = layout.extract.parallel_eper.array_2d_list_from(\n",
        "    array=data, settings=ac.SettingsExtract(pixels=(0, 30))\n",
        ")\n",
        "\n",
        "array_2d_plotter = aplt.Array2DPlotter(array=data_parallel_eper_list[0])\n",
        "array_2d_plotter.figure_2d()"
      ],
      "outputs": [],
      "execution_count": null
    },
    {
      "cell_type": "markdown",
      "metadata": {},
      "source": [
        "A stacked 2D array of the list of 2D arrays returned above can be extracted.\n",
        "\n",
        "The stacking process reduces noise in the data, making the EPERs higher signal to noise."
      ]
    },
    {
      "cell_type": "code",
      "metadata": {},
      "source": [
        "data_parallel_eper = layout.extract.parallel_eper.stacked_array_2d_from(\n",
        "    array=data, settings=ac.SettingsExtract(pixels=(0, 30))\n",
        ")\n",
        "\n",
        "array_2d_plotter = aplt.Array2DPlotter(array=data_parallel_eper)\n",
        "array_2d_plotter.figure_2d()"
      ],
      "outputs": [],
      "execution_count": null
    },
    {
      "cell_type": "markdown",
      "metadata": {},
      "source": [
        "A binned 1D array can be extracted. \n",
        "\n",
        "This first computes the stacked 2D array above and then bins the data over the serial direction in a single high\n",
        "signal to noise parallel EPER."
      ]
    },
    {
      "cell_type": "code",
      "metadata": {},
      "source": [
        "image_1d_parallel_eper = layout.extract.parallel_eper.binned_array_1d_from(\n",
        "    array=data, settings=ac.SettingsExtract(pixels=(0, 30))\n",
        ")\n",
        "\n",
        "array_1d_plotter = aplt.Array1DPlotter(y=image_1d_parallel_eper)\n",
        "array_1d_plotter.figure_1d()"
      ],
      "outputs": [],
      "execution_count": null
    },
    {
      "cell_type": "markdown",
      "metadata": {},
      "source": [
        "Negative inputs to the `pixels` tuple are supported in all of the above methods, which extract additional rows in \n",
        "front of the parallel EPERs."
      ]
    },
    {
      "cell_type": "code",
      "metadata": {},
      "source": [
        "image_1d_parallel_eper = layout.extract.parallel_eper.binned_array_1d_from(\n",
        "    array=data, settings=ac.SettingsExtract(pixels=(-10, 10))\n",
        ")\n",
        "\n",
        "array_1d_plotter = aplt.Array1DPlotter(y=image_1d_parallel_eper)\n",
        "array_1d_plotter.figure_1d()\n"
      ],
      "outputs": [],
      "execution_count": null
    },
    {
      "cell_type": "markdown",
      "metadata": {},
      "source": [
        "__Parallel FPRs__\n",
        "\n",
        "All of the above methods can be used extract, stack and bin the parallel FPR in an analogous fashion."
      ]
    },
    {
      "cell_type": "code",
      "metadata": {},
      "source": [
        "region_2d_parallel_fpr_list = layout.extract.parallel_fpr.region_list_from(\n",
        "    settings=ac.SettingsExtract(pixels=(0, 30))\n",
        ")\n",
        "print(region_2d_parallel_fpr_list)\n",
        "\n",
        "data_parallel_fpr_list = layout.extract.parallel_fpr.array_2d_list_from(\n",
        "    array=data, settings=ac.SettingsExtract(pixels=(0, 30))\n",
        ")\n",
        "\n",
        "array_2d_plotter = aplt.Array2DPlotter(array=data_parallel_fpr_list[0])\n",
        "array_2d_plotter.figure_2d()\n",
        "\n",
        "data_parallel_fpr = layout.extract.parallel_fpr.stacked_array_2d_from(\n",
        "    array=data, settings=ac.SettingsExtract(pixels=(0, 30))\n",
        ")\n",
        "\n",
        "array_2d_plotter = aplt.Array2DPlotter(array=data_parallel_fpr)\n",
        "array_2d_plotter.figure_2d()\n",
        "\n",
        "data_parallel_fpr = layout.extract.parallel_fpr.stacked_array_2d_from(\n",
        "    array=data, settings=ac.SettingsExtract(pixels=(0, 30))\n",
        ")\n",
        "\n",
        "array_2d_plotter = aplt.Array2DPlotter(array=data_parallel_fpr)\n",
        "array_2d_plotter.figure_2d()\n",
        "\n",
        "image_1d_parallel_fpr = layout.extract.parallel_fpr.binned_array_1d_from(\n",
        "    array=data, settings=ac.SettingsExtract(pixels=(0, 30))\n",
        ")\n",
        "\n",
        "array_1d_plotter = aplt.Array1DPlotter(y=image_1d_parallel_fpr)\n",
        "array_1d_plotter.figure_1d()"
      ],
      "outputs": [],
      "execution_count": null
    },
    {
      "cell_type": "markdown",
      "metadata": {},
      "source": [
        "__Serial EPERs__\n",
        "\n",
        "Extract methods for the serial EPERs are available, which again behave analogous to those above.\n",
        "\n",
        "The only differences are:\n",
        "\n",
        "- The `pixels` input now corresponds to the number of columns over which the EPERs are extracted. \n",
        "- When binning data to 1D, this is performed over the rows of the data in order to create a single serial EPER."
      ]
    },
    {
      "cell_type": "code",
      "metadata": {},
      "source": [
        "region_2d_serial_eper_list = layout.extract.serial_eper.region_list_from(\n",
        "    settings=ac.SettingsExtract(pixels=(0, 30))\n",
        ")\n",
        "print(region_2d_serial_eper_list)\n",
        "\n",
        "data_serial_eper_list = layout.extract.serial_eper.array_2d_list_from(\n",
        "    array=data, settings=ac.SettingsExtract(pixels=(0, 30))\n",
        ")\n",
        "\n",
        "array_2d_plotter = aplt.Array2DPlotter(array=data_serial_eper_list[0])\n",
        "array_2d_plotter.figure_2d()\n",
        "\n",
        "data_serial_eper = layout.extract.serial_eper.stacked_array_2d_from(\n",
        "    array=data, settings=ac.SettingsExtract(pixels=(0, 30))\n",
        ")\n",
        "\n",
        "array_2d_plotter = aplt.Array2DPlotter(array=data_serial_eper)\n",
        "array_2d_plotter.figure_2d()\n",
        "\n",
        "data_serial_eper = layout.extract.serial_eper.stacked_array_2d_from(\n",
        "    array=data, settings=ac.SettingsExtract(pixels=(0, 30))\n",
        ")\n",
        "\n",
        "array_2d_plotter = aplt.Array2DPlotter(array=data_serial_eper)\n",
        "array_2d_plotter.figure_2d()\n",
        "\n",
        "image_1d_serial_eper = layout.extract.serial_eper.binned_array_1d_from(\n",
        "    array=data, settings=ac.SettingsExtract(pixels=(0, 30))\n",
        ")\n",
        "\n",
        "array_1d_plotter = aplt.Array1DPlotter(y=image_1d_serial_eper)\n",
        "array_1d_plotter.figure_1d()"
      ],
      "outputs": [],
      "execution_count": null
    },
    {
      "cell_type": "markdown",
      "metadata": {},
      "source": [
        "__Serial FPR__\n",
        "\n",
        "Serial FPRs can also be extracted, with the behaviour hopefully self explanatory by now."
      ]
    },
    {
      "cell_type": "code",
      "metadata": {},
      "source": [
        "region_2d_serial_fpr_list = layout.extract.serial_fpr.region_list_from(\n",
        "    settings=ac.SettingsExtract(pixels=(0, 30))\n",
        ")\n",
        "print(region_2d_serial_fpr_list)\n",
        "\n",
        "data_serial_fpr_list = layout.extract.serial_fpr.array_2d_list_from(\n",
        "    array=data, settings=ac.SettingsExtract(pixels=(0, 30))\n",
        ")\n",
        "\n",
        "array_2d_plotter = aplt.Array2DPlotter(array=data_serial_fpr_list[0])\n",
        "array_2d_plotter.figure_2d()\n",
        "\n",
        "data_serial_fpr = layout.extract.serial_fpr.stacked_array_2d_from(\n",
        "    array=data, settings=ac.SettingsExtract(pixels=(0, 30))\n",
        ")\n",
        "\n",
        "array_2d_plotter = aplt.Array2DPlotter(array=data_serial_fpr)\n",
        "array_2d_plotter.figure_2d()\n",
        "\n",
        "data_serial_fpr = layout.extract.serial_fpr.stacked_array_2d_from(\n",
        "    array=data, settings=ac.SettingsExtract(pixels=(0, 30))\n",
        ")\n",
        "\n",
        "array_2d_plotter = aplt.Array2DPlotter(array=data_serial_fpr)\n",
        "array_2d_plotter.figure_2d()\n",
        "\n",
        "image_1d_serial_fpr = layout.extract.serial_fpr.binned_array_1d_from(\n",
        "    array=data, settings=ac.SettingsExtract(pixels=(0, 30))\n",
        ")\n",
        "\n",
        "array_1d_plotter = aplt.Array1DPlotter(y=image_1d_serial_fpr)\n",
        "array_1d_plotter.figure_1d()\n"
      ],
      "outputs": [],
      "execution_count": null
    },
    {
      "cell_type": "markdown",
      "metadata": {},
      "source": [
        "__Parallel and Serial Overscans__\n",
        "\n",
        "There are analogous extract methods for the parallel and serial overscans, which can be used for:\n",
        "\n",
        " - Extracting EPERs in science imaging data, where electrons are trailed into the overscan from the background sky\n",
        " of the observation. This data can be used to validate the CTI correction.\n",
        " \n",
        " - Extracting EPERs in flat field data, which again have electrons trailed into the overscan at the edge of the CCD.\n",
        " \n",
        "The overscans only contain one region, however we mimick the API of the methods above. This means that the functions:\n",
        "\n",
        " - `array_2d_list_from` always returns a list with a single entry, corresponding to the full overscan region.\n",
        " - `stacked_array_2d_from` always returns the array in the list above, with no stacking process taken."
      ]
    },
    {
      "cell_type": "code",
      "metadata": {},
      "source": [
        "region_2d_parallel_overscan_list = layout.extract.parallel_overscan.region_list_from(\n",
        "    settings=ac.SettingsExtract(pixels=(0, 30))\n",
        ")\n",
        "print(region_2d_parallel_overscan_list)\n",
        "\n",
        "data_parallel_overscan_list = layout.extract.parallel_overscan.array_2d_list_from(\n",
        "    array=data, settings=ac.SettingsExtract(pixels=(0, 30))\n",
        ")\n",
        "\n",
        "array_2d_plotter = aplt.Array2DPlotter(array=data_parallel_overscan_list[0])\n",
        "array_2d_plotter.figure_2d()\n",
        "\n",
        "data_parallel_overscan = layout.extract.parallel_overscan.stacked_array_2d_from(\n",
        "    array=data, settings=ac.SettingsExtract(pixels=(0, 30))\n",
        ")\n",
        "\n",
        "array_2d_plotter = aplt.Array2DPlotter(array=data_parallel_overscan)\n",
        "array_2d_plotter.figure_2d()\n",
        "\n",
        "data_parallel_overscan = layout.extract.parallel_overscan.stacked_array_2d_from(\n",
        "    array=data, settings=ac.SettingsExtract(pixels=(0, 30))\n",
        ")\n",
        "\n",
        "array_2d_plotter = aplt.Array2DPlotter(array=data_parallel_overscan)\n",
        "array_2d_plotter.figure_2d()\n",
        "\n",
        "image_1d_parallel_overscan = layout.extract.parallel_overscan.binned_array_1d_from(\n",
        "    array=data, settings=ac.SettingsExtract(pixels=(0, 30))\n",
        ")\n",
        "\n",
        "array_1d_plotter = aplt.Array1DPlotter(y=image_1d_parallel_overscan)\n",
        "array_1d_plotter.figure_1d()"
      ],
      "outputs": [],
      "execution_count": null
    },
    {
      "cell_type": "markdown",
      "metadata": {},
      "source": [
        "Equivalent methods are available for serial overscans."
      ]
    },
    {
      "cell_type": "code",
      "metadata": {},
      "source": [
        "region_2d_serial_overscan_list = layout.extract.serial_overscan.region_list_from(\n",
        "    settings=ac.SettingsExtract(pixels=(0, 30))\n",
        ")\n",
        "print(region_2d_serial_overscan_list)\n",
        "\n",
        "data_serial_overscan_list = layout.extract.serial_overscan.array_2d_list_from(\n",
        "    array=data, settings=ac.SettingsExtract(pixels=(0, 30))\n",
        ")\n",
        "\n",
        "array_2d_plotter = aplt.Array2DPlotter(array=data_serial_overscan_list[0])\n",
        "array_2d_plotter.figure_2d()\n",
        "\n",
        "data_serial_overscan = layout.extract.serial_overscan.stacked_array_2d_from(\n",
        "    array=data, settings=ac.SettingsExtract(pixels=(0, 30))\n",
        ")\n",
        "\n",
        "array_2d_plotter = aplt.Array2DPlotter(array=data_serial_overscan)\n",
        "array_2d_plotter.figure_2d()\n",
        "\n",
        "data_serial_overscan = layout.extract.serial_overscan.stacked_array_2d_from(\n",
        "    array=data, settings=ac.SettingsExtract(pixels=(0, 30))\n",
        ")\n",
        "\n",
        "array_2d_plotter = aplt.Array2DPlotter(array=data_serial_overscan)\n",
        "array_2d_plotter.figure_2d()\n",
        "\n",
        "image_1d_serial_overscan = layout.extract.serial_overscan.binned_array_1d_from(\n",
        "    array=data, settings=ac.SettingsExtract(pixels=(0, 30))\n",
        ")\n",
        "\n",
        "array_1d_plotter = aplt.Array1DPlotter(y=image_1d_serial_overscan)\n",
        "array_1d_plotter.figure_1d()"
      ],
      "outputs": [],
      "execution_count": null
    },
    {
      "cell_type": "markdown",
      "metadata": {},
      "source": [
        "__Dataset 1D__\n",
        "\n",
        "We can extract a `Dataset1D` object using any of the above `extract` objects.\n",
        "\n",
        "This dataset contains the binned up 1D data, noise-map and pre-cti attributes of the 2D dataset (in this case,\n",
        "an `ImagingCI` object used to create it. These are created using the `binned_array_1d_from` function.\n",
        "\n",
        "We can therefore quickly convert a 2D CTI calibration dataset to 1D via stacking and binning, enabling us to fit a CTI\n",
        "model in a signficant speed up. \n",
        "\n",
        "Below, we extract the parallel EPER's to create the 1D dataset. To ensure that the 1D pre-cti data contains flux\n",
        "before the EPER's (e.g. the FPR) for accurate clocking with arctic we also include the 10 pixels in front of\n",
        "the EPERs by specifying a negative `pixels` tuple."
      ]
    },
    {
      "cell_type": "code",
      "metadata": {},
      "source": [
        "dataset = ac.ImagingCI.from_fits(\n",
        "    data_path=path.join(dataset_path, f\"norm_{int(norm)}\", \"data.fits\"),\n",
        "    noise_map_path=path.join(dataset_path, f\"norm_{int(norm)}\", \"noise_map.fits\"),\n",
        "    pre_cti_data_path=path.join(dataset_path, f\"norm_{int(norm)}\", \"pre_cti_data.fits\"),\n",
        "    layout=layout,\n",
        "    pixel_scales=0.1,\n",
        ")\n",
        "\n",
        "dataset_1d = layout.extract.serial_overscan.dataset_1d_from(\n",
        "    dataset_2d=dataset, settings=ac.SettingsExtract(pixels=(-10, 30))\n",
        ")\n",
        "\n",
        "dataset_plotter = aplt.Dataset1DPlotter(dataset=dataset_1d)\n",
        "dataset_plotter.subplot_dataset()"
      ],
      "outputs": [],
      "execution_count": null
    },
    {
      "cell_type": "markdown",
      "metadata": {},
      "source": [
        "Finish."
      ]
    },
    {
      "cell_type": "code",
      "metadata": {},
      "source": [],
      "outputs": [],
      "execution_count": null
    }
  ],
  "metadata": {
    "anaconda-cloud": {},
    "kernelspec": {
      "display_name": "Python 3",
      "language": "python",
      "name": "python3"
    },
    "language_info": {
      "codemirror_mode": {
        "name": "ipython",
        "version": 3
      },
      "file_extension": ".py",
      "mimetype": "text/x-python",
      "name": "python",
      "nbconvert_exporter": "python",
      "pygments_lexer": "ipython3",
      "version": "3.6.1"
    }
  },
  "nbformat": 4,
  "nbformat_minor": 4
}