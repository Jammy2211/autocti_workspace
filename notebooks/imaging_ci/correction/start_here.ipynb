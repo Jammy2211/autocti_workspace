{
  "cells": [
    {
      "cell_type": "markdown",
      "metadata": {},
      "source": [
        "Correction: Start Here\n",
        "======================\n",
        "\n",
        "In this script, we correct CTI from charge injection imaging using a known CTI model.\n",
        "\n",
        "Whilst correcting CTI calibration data is not something one would commonly do, this script is here to illustrate\n",
        "the API for performing CTI correction, which can easily be applied to science data.\n",
        "\n",
        "The correction of CTI calibration data can also be used as a diagnostic for the quality of the CTI model that is\n",
        "calibrated."
      ]
    },
    {
      "cell_type": "code",
      "metadata": {},
      "source": [
        "%matplotlib inline\n",
        "from pyprojroot import here\n",
        "workspace_path = str(here())\n",
        "%cd $workspace_path\n",
        "print(f\"Working Directory has been set to `{workspace_path}`\")\n",
        "\n",
        "from os import path\n",
        "import autofit as af\n",
        "import autocti as ac\n",
        "import autocti.plot as aplt"
      ],
      "outputs": [],
      "execution_count": null
    },
    {
      "cell_type": "markdown",
      "metadata": {},
      "source": [
        "__Dataset__\n",
        "\n",
        "The paths pointing to the dataset we will use for CTI modeling."
      ]
    },
    {
      "cell_type": "code",
      "metadata": {},
      "source": [
        "dataset_name = \"simple\"\n",
        "dataset_path = path.join(\"dataset\", \"imaging_ci\", dataset_name)"
      ],
      "outputs": [],
      "execution_count": null
    },
    {
      "cell_type": "markdown",
      "metadata": {},
      "source": [
        "__Layout__\n",
        "\n",
        "The 2D shape of the images."
      ]
    },
    {
      "cell_type": "code",
      "metadata": {},
      "source": [
        "shape_native = (2000, 100)"
      ],
      "outputs": [],
      "execution_count": null
    },
    {
      "cell_type": "markdown",
      "metadata": {},
      "source": [
        "__Regions__\n",
        "\n",
        "We next define the locations of the prescan and overscan on the 2D data. \n",
        "\n",
        "2D regions are defined as a tuple of the form (y0, y1, x0, x1) = (top-row, bottom-row, left-column, right-column), \n",
        "where the integer values of the tuple are used to perform NumPy array indexing of the 2D data.\n",
        "\n",
        "For example, if the serial overscan of 2D data is 100 columns from the read-out electronics and spans a total of\n",
        "150 rows, its region is `region=(0, 150, 0, 100)`.\n",
        "\n",
        "These are used to visualize these regions of the 2D CTI dataset during the model-fit and customize aspects of the \n",
        "model-fit."
      ]
    },
    {
      "cell_type": "code",
      "metadata": {},
      "source": [
        "parallel_overscan = ac.Region2D((1980, 2000, 5, 95))\n",
        "serial_prescan = ac.Region2D((0, 2000, 0, 5))\n",
        "serial_overscan = ac.Region2D((0, 1980, 95, 100))"
      ],
      "outputs": [],
      "execution_count": null
    },
    {
      "cell_type": "markdown",
      "metadata": {},
      "source": [
        "Specify the charge regions on the 2D CTI Dataset, corresponding to where a signal is contained that has its electrons \n",
        "captured and trailed by CTI (e.g. the FPR).\n",
        "\n",
        "This dataset has five charge regions, which are spaced in on / off blocks of 200 pixels.\n",
        "\n",
        "Note that the charge injections do not extend to inside of the serial prescan or serial overscan regions."
      ]
    },
    {
      "cell_type": "code",
      "metadata": {},
      "source": [
        "region_list = [\n",
        "    (0, 200, serial_prescan[3], serial_overscan[2]),\n",
        "    (400, 600, serial_prescan[3], serial_overscan[2]),\n",
        "    (800, 1000, serial_prescan[3], serial_overscan[2]),\n",
        "    (1200, 1400, serial_prescan[3], serial_overscan[2]),\n",
        "    (1600, 1800, serial_prescan[3], serial_overscan[2]),\n",
        "]"
      ],
      "outputs": [],
      "execution_count": null
    },
    {
      "cell_type": "markdown",
      "metadata": {},
      "source": [
        "Specify the normalization of the charge in every individual 2D CTI charge injection dataset. \n",
        "\n",
        "This is not used internally by **PyAutoCTI**, and only required for loading the dataset because the dataset file\n",
        "names use the normalizations."
      ]
    },
    {
      "cell_type": "code",
      "metadata": {},
      "source": [
        "norm_list = [100, 5000, 25000, 200000]"
      ],
      "outputs": [],
      "execution_count": null
    },
    {
      "cell_type": "markdown",
      "metadata": {},
      "source": [
        "The total number of charge injection images that are fitted."
      ]
    },
    {
      "cell_type": "code",
      "metadata": {},
      "source": [
        "total_datasets = len(norm_list)"
      ],
      "outputs": [],
      "execution_count": null
    },
    {
      "cell_type": "markdown",
      "metadata": {},
      "source": [
        "__Layout__\n",
        "\n",
        "We now create a `Layout2D` object for every 1D dataset fitted in this script.\n",
        "\n",
        "This object contains all functionality associated with the layout of the data (e.g. where the FPR is, where the\n",
        "EPERs are, where the overscans are, etc.). \n",
        "\n",
        "This is used for performing tasks like extracting a small region of the data for visualization."
      ]
    },
    {
      "cell_type": "code",
      "metadata": {},
      "source": [
        "layout_list = [\n",
        "    ac.Layout2DCI(\n",
        "        shape_2d=shape_native,\n",
        "        region_list=region_list,\n",
        "        parallel_overscan=parallel_overscan,\n",
        "        serial_prescan=serial_prescan,\n",
        "        serial_overscan=serial_overscan,\n",
        "    )\n",
        "    for i in range(total_datasets)\n",
        "]"
      ],
      "outputs": [],
      "execution_count": null
    },
    {
      "cell_type": "markdown",
      "metadata": {},
      "source": [
        "__Dataset__\n",
        "\n",
        "We now use a `ImagingCI` object to load every 2D CTI charge injection dataset, including a noise-map and pre-cti data \n",
        "containing the data before read-out and therefore without CTI. \n",
        "\n",
        "The `pixel_scales` define the arc-second to pixel conversion factor of the image, which for the dataset we are using \n",
        "is 0.1\" / pixel."
      ]
    },
    {
      "cell_type": "code",
      "metadata": {},
      "source": [
        "dataset_list = [\n",
        "    ac.ImagingCI.from_fits(\n",
        "        data_path=path.join(dataset_path, f\"norm_{int(norm)}\", \"data.fits\"),\n",
        "        noise_map_path=path.join(dataset_path, f\"norm_{int(norm)}\", \"noise_map.fits\"),\n",
        "        pre_cti_data_path=path.join(\n",
        "            dataset_path, f\"norm_{int(norm)}\", \"pre_cti_data.fits\"\n",
        "        ),\n",
        "        layout=layout,\n",
        "        pixel_scales=0.1,\n",
        "    )\n",
        "    for layout, norm in zip(layout_list, norm_list)\n",
        "]"
      ],
      "outputs": [],
      "execution_count": null
    },
    {
      "cell_type": "markdown",
      "metadata": {},
      "source": [
        "Use a `ImagingCIPlotter` to the plot the data, including: \n",
        "\n",
        " - `data`: The 1D CTI data.\n",
        " - `noise_map`: The noise-map of the data, which quantifies the noise in every pixel as their RMS values.\n",
        " - `pre_cti_data`: The data before CTI, which has CTI added to it for every CTI model, which is compared to the data. \n",
        " - `signal_to_noise_map`: Quantifies the signal-to-noise in every pixel."
      ]
    },
    {
      "cell_type": "code",
      "metadata": {},
      "source": [
        "dataset_plotter = aplt.ImagingCIPlotter(dataset=dataset_list[0])\n",
        "dataset_plotter.subplot_dataset()"
      ],
      "outputs": [],
      "execution_count": null
    },
    {
      "cell_type": "markdown",
      "metadata": {},
      "source": [
        "__Clocker / arCTIc__\n",
        "\n",
        "To model the CCD clocking process, including CTI, we use  arCTIc, or the \"algorithm for Charge Transfer Inefficiency \n",
        "clocking\".\n",
        "\n",
        "arCTIc is written in c++ can be used standalone outside of **PyAutoCTI** as described on its GitHub \n",
        "page (https://github.com/jkeger/arctic). **PyAutoCTI** uses arCTIc's built-in Python wrapper.\n",
        "\n",
        "In **PyAutoCTI** we call arCTIc via a `Clocker` object, which is a Python class that wraps arCTIc. This class has \n",
        "many optional inputs that customize how clocking is performed, but we'll omit these for now to keep things simple.\n",
        "\n",
        "For clocking, we use: \n",
        "\n",
        " - `parallel_express`: determines how many electrons are clocked per cycle and trades off speed for accuracy, where \n",
        "   `parallel_express=5` is a good balance.\n",
        "\n",
        " - 'ROEChargeInjection': which transfers the charge of every pixel over the full CCD.\n",
        " \n",
        " - `parallel_fast_mode`: which speeds up the analysis by only passing to arCTIc unique columns (for uniform charge\n",
        " injection data all columsn are identical, thus only one arCTIc call is required)."
      ]
    },
    {
      "cell_type": "code",
      "metadata": {},
      "source": [
        "clocker = ac.Clocker2D(\n",
        "    parallel_express=5, parallel_roe=ac.ROEChargeInjection(), parallel_fast_mode=True\n",
        ")"
      ],
      "outputs": [],
      "execution_count": null
    },
    {
      "cell_type": "markdown",
      "metadata": {},
      "source": [
        "__Model__\n",
        "\n",
        "We now compose the CTI model we will use to correct CTI from the data.\n",
        "\n",
        "In this example, the true CTI model used to simulate the data is specified below. The `results` and `database` \n",
        "packages have tutorials showing how to directly use the results of a CTI calibration."
      ]
    },
    {
      "cell_type": "code",
      "metadata": {},
      "source": [
        "parallel_trap_0 = ac.TrapInstantCapture(density=0.13, release_timescale=1.25)\n",
        "parallel_trap_1 = ac.TrapInstantCapture(density=0.25, release_timescale=4.4)\n",
        "\n",
        "parallel_trap_list = [parallel_trap_0, parallel_trap_1]\n",
        "\n",
        "parallel_ccd = ac.CCDPhase(\n",
        "    well_fill_power=0.58, well_notch_depth=0.0, full_well_depth=200000.0\n",
        ")\n",
        "\n",
        "cti = ac.CTI2D(parallel_trap_list=parallel_trap_list, parallel_ccd=parallel_ccd)"
      ],
      "outputs": [],
      "execution_count": null
    },
    {
      "cell_type": "markdown",
      "metadata": {},
      "source": [
        "__Correction__\n",
        "\n",
        "We use the CTI model and clocker to perform the CTI correction, by calling the function `remove_cti` which is \n",
        "a wrapper to arCTIc."
      ]
    },
    {
      "cell_type": "code",
      "metadata": {},
      "source": [
        "data_corrected_list = [\n",
        "    clocker.remove_cti(data=dataset.data, cti=cti) for dataset in dataset_list\n",
        "]"
      ],
      "outputs": [],
      "execution_count": null
    },
    {
      "cell_type": "markdown",
      "metadata": {},
      "source": [
        "__Output__\n",
        "\n",
        "Output the corrected image to the dataset path as a .png file."
      ]
    },
    {
      "cell_type": "code",
      "metadata": {},
      "source": [
        "for data_corrected, norm in zip(data_corrected_list, norm_list):\n",
        "    mat_plot = aplt.MatPlot2D(\n",
        "        output=aplt.Output(\n",
        "            path=path.join(dataset_path, f\"norm_{int(norm)}\", \"correction\"),\n",
        "            filename=f\"data_corrected\",\n",
        "            format=\"png\",\n",
        "        )\n",
        "    )\n",
        "\n",
        "    array_2d_plotter = aplt.Array2DPlotter(array=data_corrected, mat_plot_2d=mat_plot)\n",
        "    array_2d_plotter.figure_2d()"
      ],
      "outputs": [],
      "execution_count": null
    },
    {
      "cell_type": "markdown",
      "metadata": {},
      "source": [
        "This is a hack so we can use an `ImagingCIPlotter` to plot the corrected binned regions."
      ]
    },
    {
      "cell_type": "code",
      "metadata": {},
      "source": [
        "for dataset, data_corrected in zip(dataset_list, data_corrected_list):\n",
        "    dataset.data = data_corrected\n"
      ],
      "outputs": [],
      "execution_count": null
    },
    {
      "cell_type": "markdown",
      "metadata": {},
      "source": [
        "Output plots of the corrected EPER and FPR's binned up in 1D, so that correction due to electron capture and trailing \n",
        "can be seen clearly."
      ]
    },
    {
      "cell_type": "code",
      "metadata": {},
      "source": [
        "for dataset, norm in zip(dataset_list, norm_list):\n",
        "    output = aplt.Output(\n",
        "        path=path.join(dataset_path, f\"norm_{int(norm)}\", \"correction\", \"binned_1d\"),\n",
        "        format=\"png\",\n",
        "    )\n",
        "\n",
        "    mat_plot = aplt.MatPlot1D(output=output)\n",
        "\n",
        "    dataset_plotter = aplt.ImagingCIPlotter(dataset=dataset, mat_plot_1d=mat_plot)\n",
        "    dataset_plotter.figures_1d(region=\"parallel_fpr\", data=True)\n",
        "    dataset_plotter.figures_1d(region=\"parallel_eper\", data=True)"
      ],
      "outputs": [],
      "execution_count": null
    },
    {
      "cell_type": "markdown",
      "metadata": {},
      "source": [
        "Output the simulated dataset to the dataset path as .fits files.\n",
        "\n",
        "If you are unfamiliar with .fits files, this is the standard file format of astronomical data and you can open \n",
        "them using the software ds9 (https://sites.google.com/cfa.harvard.edu/saoimageds9/home)."
      ]
    },
    {
      "cell_type": "code",
      "metadata": {},
      "source": [
        "[\n",
        "    data_corrected.output_to_fits(\n",
        "        file_path=path.join(dataset_path, f\"norm_{int(norm)}\", \"data_corrected.fits\"),\n",
        "        overwrite=True,\n",
        "    )\n",
        "    for data_corrected, norm in zip(data_corrected_list, norm_list)\n",
        "]"
      ],
      "outputs": [],
      "execution_count": null
    },
    {
      "cell_type": "markdown",
      "metadata": {},
      "source": [
        "__CTI json__\n",
        "\n",
        "Save the `Clocker2D` and `CTI2D` in the dataset folder as a .json file, ensuring the traps and CCD settings used to\n",
        "perform the correction are safely stored and available to check how the dataset was simulated in the future. \n",
        "\n",
        "This can be loaded via the method `CTI2D.from_json`."
      ]
    },
    {
      "cell_type": "code",
      "metadata": {},
      "source": [
        "cti.output_to_json(file_path=path.join(dataset_path, \"cti_correction.json\"))\n",
        "clocker.output_to_json(file_path=path.join(dataset_path, \"clocker_correction.json\"))"
      ],
      "outputs": [],
      "execution_count": null
    },
    {
      "cell_type": "markdown",
      "metadata": {},
      "source": [
        "Finished."
      ]
    },
    {
      "cell_type": "code",
      "metadata": {},
      "source": [],
      "outputs": [],
      "execution_count": null
    }
  ],
  "metadata": {
    "anaconda-cloud": {},
    "kernelspec": {
      "display_name": "Python 3",
      "language": "python",
      "name": "python3"
    },
    "language_info": {
      "codemirror_mode": {
        "name": "ipython",
        "version": 3
      },
      "file_extension": ".py",
      "mimetype": "text/x-python",
      "name": "python",
      "nbconvert_exporter": "python",
      "pygments_lexer": "ipython3",
      "version": "3.6.1"
    }
  },
  "nbformat": 4,
  "nbformat_minor": 4
}