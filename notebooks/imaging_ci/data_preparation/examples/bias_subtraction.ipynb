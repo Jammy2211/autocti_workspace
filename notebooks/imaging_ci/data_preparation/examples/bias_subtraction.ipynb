{
  "cells": [
    {
      "cell_type": "markdown",
      "metadata": {},
      "source": [
        "Data Preparation: Bias Subtraction\n",
        "----------------------------------\n",
        "\n",
        "Throughout the `autocti_workspace/imaging_ci` package, the charge injection imaging is assumed to already be\n",
        "bias subtracted, which may not be the case for real data.\n",
        "\n",
        "This script demonstrates **PyAutoCTI** methods which estimate the bias using each row of the serial prescan and use\n",
        "this to subtract it from the data, therefore performing bias correction.\n",
        "\n",
        "This uses the fact that in charge injection data the serial prescan pixels should not have signal from any other source\n",
        "(e.g. CTI cannot trail electrons into this region). There may be cosmic rays, but these can be flagged and masked.\n",
        "\n",
        "By taking the median of each row of the serial prescan one can therefore estimate the bias level in that row, which is\n",
        "subtracted from the fata row-by-row.\n",
        "\n",
        "This script first demonstrates a simple example, where there are no cosmic rays in the charge injection imaging. All\n",
        "functionality can use masking and cosmic rays, as illustrated in other proprocessing scripts."
      ]
    },
    {
      "cell_type": "code",
      "metadata": {},
      "source": [
        "%matplotlib inline\n",
        "from pyprojroot import here\n",
        "workspace_path = str(here())\n",
        "%cd $workspace_path\n",
        "print(f\"Working Directory has been set to `{workspace_path}`\")\n",
        "\n",
        "from os import path\n",
        "import autocti as ac\n",
        "import autocti.plot as aplt"
      ],
      "outputs": [],
      "execution_count": null
    },
    {
      "cell_type": "markdown",
      "metadata": {},
      "source": [
        "__Dataset + Layout__\n",
        "\n",
        "We begin by loading a charge injection image which has not been bias corrected, where the bias creates a constant\n",
        "value of 2000e- in every pixel. Every pixel in the data therefore has a signal of 2000e- or above.\n",
        "\n",
        "You should be familiar with the **PyAutoCTI** API below, if not check out other scripts throughout the workspace."
      ]
    },
    {
      "cell_type": "code",
      "metadata": {},
      "source": [
        "dataset_name = \"bias_uncorrected\"\n",
        "dataset_path = path.join(\"dataset\", \"imaging_ci\", dataset_name)\n",
        "\n",
        "shape_native = (2000, 100)"
      ],
      "outputs": [],
      "execution_count": null
    },
    {
      "cell_type": "markdown",
      "metadata": {},
      "source": [
        "The overscans input here are not used to perform pre-CTI data estimation."
      ]
    },
    {
      "cell_type": "code",
      "metadata": {},
      "source": [
        "parallel_overscan = ac.Region2D((1980, 2000, 5, 95))\n",
        "serial_prescan = ac.Region2D((0, 2000, 0, 5))\n",
        "serial_overscan = ac.Region2D((0, 1980, 95, 100))"
      ],
      "outputs": [],
      "execution_count": null
    },
    {
      "cell_type": "markdown",
      "metadata": {},
      "source": [
        "These charge injection regions are used to estimate the charge injection normalization in each column."
      ]
    },
    {
      "cell_type": "code",
      "metadata": {},
      "source": [
        "region_list = [\n",
        "    (0, 200, serial_prescan[3], serial_overscan[2]),\n",
        "    (400, 600, serial_prescan[3], serial_overscan[2]),\n",
        "    (800, 1000, serial_prescan[3], serial_overscan[2]),\n",
        "    (1200, 1400, serial_prescan[3], serial_overscan[2]),\n",
        "    (1600, 1800, serial_prescan[3], serial_overscan[2]),\n",
        "]\n",
        "\n",
        "norm = 5000"
      ],
      "outputs": [],
      "execution_count": null
    },
    {
      "cell_type": "markdown",
      "metadata": {},
      "source": [
        "The layout object contains all the charge injection normalization functionality used in this example."
      ]
    },
    {
      "cell_type": "code",
      "metadata": {},
      "source": [
        "layout = ac.Layout2DCI(\n",
        "    shape_2d=shape_native,\n",
        "    region_list=region_list,\n",
        "    parallel_overscan=parallel_overscan,\n",
        "    serial_prescan=serial_prescan,\n",
        "    serial_overscan=serial_overscan,\n",
        ")"
      ],
      "outputs": [],
      "execution_count": null
    },
    {
      "cell_type": "markdown",
      "metadata": {},
      "source": [
        "We will demonstrate injection estimation on a charge injection image which we load via a .fits file below."
      ]
    },
    {
      "cell_type": "code",
      "metadata": {},
      "source": [
        "dataset = ac.ImagingCI.from_fits(\n",
        "    data_path=path.join(dataset_path, f\"norm_{int(norm)}\", \"data.fits\"),\n",
        "    noise_map_path=path.join(dataset_path, f\"norm_{int(norm)}\", \"noise_map.fits\"),\n",
        "    pre_cti_data_path=path.join(dataset_path, f\"norm_{int(norm)}\", \"pre_cti_data.fits\"),\n",
        "    layout=layout,\n",
        "    pixel_scales=0.1,\n",
        ")"
      ],
      "outputs": [],
      "execution_count": null
    },
    {
      "cell_type": "markdown",
      "metadata": {},
      "source": [
        "A plot of the data shows it has a minimum signal of 2000e- in all pixels, including those with no charge injection."
      ]
    },
    {
      "cell_type": "code",
      "metadata": {},
      "source": [
        "array_2d_plotter = aplt.Array2DPlotter(array=dataset.data)\n",
        "array_2d_plotter.figure_2d()"
      ],
      "outputs": [],
      "execution_count": null
    },
    {
      "cell_type": "markdown",
      "metadata": {},
      "source": [
        "__Bias Level List__\n",
        "\n",
        "Every row of the serial prescan should have no signal from any other source (e.g. no CTI or charge injection).\n",
        "\n",
        "The median of the serial prescan therefore provides an estimate of the bias, which if subtracted from the data\n",
        "provides the bias corrected data.\n",
        "\n",
        "For more realistic CCD data, it is common for the bias to vary row-to-row. Ttaking the median of the prescan row-by-row \n",
        "is therefore a more accurate bias estimate, with each value subtracted from the data.\n",
        "\n",
        "The 2D region of the serial prescan is contained in the layout's extract object.\n",
        "\n",
        "To estimate the normalization of prescan row, we use the `median_list_from` of the `Layout2DCI` object with the \n",
        "input `pixels=(0, 5)`, which:\n",
        "\n",
        " - Extracts rows of the serial prescan of the charge injection data between the 0th and 4th pixels (noting that\n",
        " the `serial_prescan` above which defines where the serial prescan is spans 5 pixels in total).\n",
        "\n",
        " - Takes the median of each row.\n",
        "\n",
        "The normalizations are returned as a list:"
      ]
    },
    {
      "cell_type": "code",
      "metadata": {},
      "source": [
        "bias_estimate_list = layout.extract.serial_prescan.median_list_from(\n",
        "    array=dataset.data, settings=ac.SettingsExtract(pixels=(0, 5))\n",
        ")\n",
        "\n",
        "print(bias_estimate_list)"
      ],
      "outputs": [],
      "execution_count": null
    },
    {
      "cell_type": "markdown",
      "metadata": {},
      "source": [
        "We now subtract every bias value estimated row-by-row from the charge injection image."
      ]
    },
    {
      "cell_type": "code",
      "metadata": {},
      "source": [
        "for row_index in range(dataset.data.shape_native[0]):\n",
        "    dataset.data.native[row_index, :] -= bias_estimate_list[row_index]\n"
      ],
      "outputs": [],
      "execution_count": null
    }
  ],
  "metadata": {
    "anaconda-cloud": {},
    "kernelspec": {
      "display_name": "Python 3",
      "language": "python",
      "name": "python3"
    },
    "language_info": {
      "codemirror_mode": {
        "name": "ipython",
        "version": 3
      },
      "file_extension": ".py",
      "mimetype": "text/x-python",
      "name": "python",
      "nbconvert_exporter": "python",
      "pygments_lexer": "ipython3",
      "version": "3.6.1"
    }
  },
  "nbformat": 4,
  "nbformat_minor": 4
}