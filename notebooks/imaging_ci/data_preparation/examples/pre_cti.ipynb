{
  "cells": [
    {
      "cell_type": "markdown",
      "metadata": {},
      "source": [
        "Data Preparation: Pre CTI\n",
        "-------------------------\n",
        "\n",
        "Throughout the `autocti_workspace/imaging_ci` package, the charge injection imaging `pre_cti_data` is output to .fits\n",
        "format when data is simulated and loaded from .fits for modeling scripts.\n",
        "\n",
        "This perfect knowledge of the pre-CTI data is only possible for a real telescope if:\n",
        "\n",
        " - The charge injection is temporally stable, such that the pre-CTI data is (close to) identical every time data is\n",
        " acquired.\n",
        "\n",
        " - The charge injection's appearance has been quantified pre-launch, before there are significant levels of CTI on the\n",
        " CCD.\n",
        "\n",
        "This script demonstrates **PyAutoCTI** methods which estimate the pre-CTI data from charge injection imaging data,\n",
        "even when that charge injection imaging is subject to CTI during read out.\n",
        "\n",
        "This uses the fact that the inner regions of each First Pixel Response (FPR) of each charge injection region should\n",
        "not have had any electrons captured, because all traps are filled by the front pixels in the FPR. By taking the median\n",
        "of the inner regions of the FPR one can therefore estimate how much charge was injected.\n",
        "\n",
        "This script demonstrates a simple example, where only parallel CTI is present in the CCD and there are no cosmic\n",
        "rays in the charge injection imaging. The script `advanced.py` shows how this can be done with serial CTI and cosmic\n",
        "rays also included."
      ]
    },
    {
      "cell_type": "code",
      "metadata": {},
      "source": [
        "%matplotlib inline\n",
        "from pyprojroot import here\n",
        "workspace_path = str(here())\n",
        "%cd $workspace_path\n",
        "print(f\"Working Directory has been set to `{workspace_path}`\")\n",
        "\n",
        "from os import path\n",
        "import autofit as af\n",
        "import autocti as ac\n",
        "import autocti.plot as aplt"
      ],
      "outputs": [],
      "execution_count": null
    },
    {
      "cell_type": "markdown",
      "metadata": {},
      "source": [
        "__Dataset + Layout__\n",
        "\n",
        "We begin by loading a charge injection image which has parallel CTI added, which we will use to illustrate pre-CTI \n",
        "estimation methods.\n",
        "\n",
        "We also set up its corresponding `Layout2DCI` object, which is used to estimate the charge injection normalization\n",
        "in the FPR / charge injection regions.\n",
        "\n",
        "You should be familiar with the **PyAutoCTI** API below, if not check out other scripts throughout the workspace."
      ]
    },
    {
      "cell_type": "code",
      "metadata": {},
      "source": [
        "dataset_name = \"non_uniform\"\n",
        "dataset_path = path.join(\"dataset\", \"imaging_ci\", dataset_name)\n",
        "\n",
        "shape_native = (2000, 100)"
      ],
      "outputs": [],
      "execution_count": null
    },
    {
      "cell_type": "markdown",
      "metadata": {},
      "source": [
        "The overscans input here are not used to perform pre-CTI data estimation."
      ]
    },
    {
      "cell_type": "code",
      "metadata": {},
      "source": [
        "parallel_overscan = ac.Region2D((1980, 2000, 5, 95))\n",
        "serial_prescan = ac.Region2D((0, 2000, 0, 5))\n",
        "serial_overscan = ac.Region2D((0, 1980, 95, 100))"
      ],
      "outputs": [],
      "execution_count": null
    },
    {
      "cell_type": "markdown",
      "metadata": {},
      "source": [
        "These charge injection regions are used to estimate the charge injection normalization in each column."
      ]
    },
    {
      "cell_type": "code",
      "metadata": {},
      "source": [
        "region_list = [\n",
        "    (0, 200, serial_prescan[3], serial_overscan[2]),\n",
        "    (400, 600, serial_prescan[3], serial_overscan[2]),\n",
        "    (800, 1000, serial_prescan[3], serial_overscan[2]),\n",
        "    (1200, 1400, serial_prescan[3], serial_overscan[2]),\n",
        "    (1600, 1800, serial_prescan[3], serial_overscan[2]),\n",
        "]\n",
        "\n",
        "norm = 5000"
      ],
      "outputs": [],
      "execution_count": null
    },
    {
      "cell_type": "markdown",
      "metadata": {},
      "source": [
        "The layout object contains all the charge injection normalization functionality used in this example."
      ]
    },
    {
      "cell_type": "code",
      "metadata": {},
      "source": [
        "layout = ac.Layout2DCI(\n",
        "    shape_2d=shape_native,\n",
        "    region_list=region_list,\n",
        "    parallel_overscan=parallel_overscan,\n",
        "    serial_prescan=serial_prescan,\n",
        "    serial_overscan=serial_overscan,\n",
        ")"
      ],
      "outputs": [],
      "execution_count": null
    },
    {
      "cell_type": "markdown",
      "metadata": {},
      "source": [
        "We will demonstrate injection estimation on a charge injection image which we load via a .fits file below."
      ]
    },
    {
      "cell_type": "code",
      "metadata": {},
      "source": [
        "dataset = ac.ImagingCI.from_fits(\n",
        "    data_path=path.join(dataset_path, f\"norm_{int(norm)}\", \"data.fits\"),\n",
        "    noise_map_path=path.join(dataset_path, f\"norm_{int(norm)}\", \"noise_map.fits\"),\n",
        "    pre_cti_data_path=path.join(dataset_path, f\"norm_{int(norm)}\", \"pre_cti_data.fits\"),\n",
        "    layout=layout,\n",
        "    pixel_scales=0.1,\n",
        ")"
      ],
      "outputs": [],
      "execution_count": null
    },
    {
      "cell_type": "markdown",
      "metadata": {},
      "source": [
        "A plot of the data shows it has non-uniform charge injection lines."
      ]
    },
    {
      "cell_type": "code",
      "metadata": {},
      "source": [
        "array_2d_plotter = aplt.Array2DPlotter(array=dataset.data)\n",
        "array_2d_plotter.figure_2d()"
      ],
      "outputs": [],
      "execution_count": null
    },
    {
      "cell_type": "markdown",
      "metadata": {},
      "source": [
        "__Normalization List__\n",
        "\n",
        "The 2D region of every set of parallel FPRs on the charge injection data is contained in the layout's extract\n",
        "object.\n",
        "\n",
        "To estimate the normalization of each FPR's inner region, we use the `median_list_from` of the\n",
        "charge injection `Layout2DCI` object with the input `pixels=(180, 200)`, which:\n",
        "\n",
        " - Extracts the parallel FPR of every charge injection region between the inner 180th to 200th pixels (noting that\n",
        " the `region_list` above defining where the charge injections are has each FPR spanning 200 pixels.\n",
        "\n",
        " - Stacks all of the extracted parallel FPR's to remove read-noise.\n",
        "\n",
        " - Takes the median of these stacks to estimate the normalization value.\n",
        "\n",
        "The normalizations are returned as a list:"
      ]
    },
    {
      "cell_type": "code",
      "metadata": {},
      "source": [
        "injection_norm_list = layout.extract.parallel_fpr.median_list_from(\n",
        "    array=dataset.data, settings=ac.SettingsExtract(pixels=(150, 200))\n",
        ")"
      ],
      "outputs": [],
      "execution_count": null
    },
    {
      "cell_type": "markdown",
      "metadata": {},
      "source": [
        "The number of entries in the list corresponds to the number of columns of charge injection:"
      ]
    },
    {
      "cell_type": "code",
      "metadata": {},
      "source": [
        "print(len(injection_norm_list))\n",
        "print(region_list[0][3] - region_list[0][2])"
      ],
      "outputs": [],
      "execution_count": null
    },
    {
      "cell_type": "markdown",
      "metadata": {},
      "source": [
        "__Pre CTI Image Estimate__\n",
        "\n",
        "From this `normalization_list` we can create a pre-CTI charge injeciton image, where each column corresponds to\n",
        "the normalization estimated above.\n",
        "\n",
        "This again uses the charge injection data's layout attribute, which knows where the charge injections are contained\n",
        "on the data."
      ]
    },
    {
      "cell_type": "code",
      "metadata": {},
      "source": [
        "pre_cti_data = layout.pre_cti_data_non_uniform_from(\n",
        "    injection_norm_list=injection_norm_list, pixel_scales=dataset.data.pixel_scales\n",
        ")"
      ],
      "outputs": [],
      "execution_count": null
    },
    {
      "cell_type": "markdown",
      "metadata": {},
      "source": [
        "If we plot the original data and this pre-CTI estimate we can see they are similar."
      ]
    },
    {
      "cell_type": "code",
      "metadata": {},
      "source": [
        "array_2d_plotter = aplt.Array2DPlotter(array=dataset.data)\n",
        "array_2d_plotter.figure_2d()\n",
        "\n",
        "array_2d_plotter = aplt.Array2DPlotter(array=pre_cti_data)\n",
        "array_2d_plotter.figure_2d()"
      ],
      "outputs": [],
      "execution_count": null
    },
    {
      "cell_type": "markdown",
      "metadata": {},
      "source": [
        "If we subtract the two images, we find that the only residuals left are contained in the parallel FPR and EPERs.\n",
        "\n",
        "These are because our pre-CTI estimate image does not account for the CTI contained in the original data."
      ]
    },
    {
      "cell_type": "code",
      "metadata": {},
      "source": [
        "residual_map = dataset.data.native - pre_cti_data.native\n",
        "\n",
        "array_2d_plotter = aplt.Array2DPlotter(array=residual_map)\n",
        "array_2d_plotter.figure_2d()"
      ],
      "outputs": [],
      "execution_count": null
    },
    {
      "cell_type": "markdown",
      "metadata": {},
      "source": [
        "__CTI Modeling__\n",
        "\n",
        "We now demonstrate that this pre-CTI data can be used to estimate an accurate CTI model, with a quick model-fit.\n",
        "\n",
        "The `ImagingCI` data loaded above contained the true `pre_cti_data`, which was loaded via a .fits file. We create a \n",
        "new instance of the `ImagingCI` data which uses the pre-CTI image we estimated above."
      ]
    },
    {
      "cell_type": "code",
      "metadata": {},
      "source": [
        "dataset = ac.ImagingCI(\n",
        "    data=dataset.data,\n",
        "    noise_map=dataset.noise_map,\n",
        "    pre_cti_data=pre_cti_data,\n",
        "    layout=dataset.layout,\n",
        ")"
      ],
      "outputs": [],
      "execution_count": null
    },
    {
      "cell_type": "markdown",
      "metadata": {},
      "source": [
        "If you are not familiar with the CTI modeling API, checkout the scripts contained in \n",
        "the `autocti_workspace/*/imaging_ci/modeling` package."
      ]
    },
    {
      "cell_type": "code",
      "metadata": {},
      "source": [
        "clocker = ac.Clocker2D(\n",
        "    parallel_express=5, parallel_roe=ac.ROEChargeInjection(), parallel_fast_mode=True\n",
        ")\n",
        "\n",
        "parallel_trap_0 = af.Model(ac.TrapInstantCapture)\n",
        "parallel_trap_list = [parallel_trap_0]\n",
        "\n",
        "parallel_ccd = af.Model(ac.CCDPhase)\n",
        "parallel_ccd.well_notch_depth = 0.0\n",
        "parallel_ccd.full_well_depth = 200000.0\n",
        "\n",
        "model = af.Collection(\n",
        "    cti=af.Model(\n",
        "        ac.CTI2D, parallel_trap_list=parallel_trap_list, parallel_ccd=parallel_ccd\n",
        "    )\n",
        ")\n",
        "\n",
        "search = af.Nautilus(\n",
        "    path_prefix=path.join(\"imaging_ci\", \"pre_cti_estimate_simple\"),\n",
        "    name=\"parallel[x1]\",\n",
        "    n_live=100,\n",
        ")\n",
        "\n",
        "analysis = ac.AnalysisImagingCI(dataset=dataset, clocker=clocker)\n",
        "\n",
        "result = search.fit(model=model, analysis=analysis)"
      ],
      "outputs": [],
      "execution_count": null
    },
    {
      "cell_type": "markdown",
      "metadata": {},
      "source": [
        "__Result__\n",
        "\n",
        "We now use the maximum likelihood inferred CTI model to add CTI to the pre-CTI data estimated above and used in this\n",
        "model-fit."
      ]
    },
    {
      "cell_type": "code",
      "metadata": {},
      "source": [
        "instance = result.max_log_likelihood_instance\n",
        "\n",
        "post_cti_data = clocker.add_cti(data=pre_cti_data, cti=instance.cti)\n",
        "\n",
        "residual_map = dataset.data.native - post_cti_data\n",
        "\n",
        "array_2d_plotter = aplt.Array2DPlotter(array=residual_map)\n",
        "array_2d_plotter.figure_2d()"
      ],
      "outputs": [],
      "execution_count": null
    },
    {
      "cell_type": "markdown",
      "metadata": {},
      "source": [
        "__Wrap Up__\n",
        "\n",
        "This example uses the inner regions of a charge injection image's FPR to estimate the original charge injection\n",
        "image's appearance before clocking and therefore before electrons are captured and trailed due to CTI. \n",
        "\n",
        "We then showed that using this estimated image, we could fit a CTI model to the original data. This gave an accurate\n",
        "model of CTI for the data, which we used to add CTI to the estimated pre-CTI data. This gave a cleaned subtract\n",
        "from the original data with minimal residuals. \n",
        "\n",
        "The next example, titled `complex.py` uses the same tools, but extends the problem to include cosmic rays in\n",
        "the charge injection image (which must be accounted for when estimate the charge levels) and serial CTI (which\n",
        "moves electrons between the FPR regions we use to estimate the charge injection)"
      ]
    },
    {
      "cell_type": "code",
      "metadata": {},
      "source": [],
      "outputs": [],
      "execution_count": null
    }
  ],
  "metadata": {
    "anaconda-cloud": {},
    "kernelspec": {
      "display_name": "Python 3",
      "language": "python",
      "name": "python3"
    },
    "language_info": {
      "codemirror_mode": {
        "name": "ipython",
        "version": 3
      },
      "file_extension": ".py",
      "mimetype": "text/x-python",
      "name": "python",
      "nbconvert_exporter": "python",
      "pygments_lexer": "ipython3",
      "version": "3.6.1"
    }
  },
  "nbformat": 4,
  "nbformat_minor": 4
}