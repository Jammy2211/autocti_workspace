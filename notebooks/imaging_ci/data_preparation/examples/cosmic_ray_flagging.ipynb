{
  "cells": [
    {
      "cell_type": "markdown",
      "metadata": {},
      "source": [
        "Data Preparation: Cosmic Rays\n",
        "=============================\n",
        "\n",
        "We have seen how to estimate the pre-CTI image from charge injection data, including accounting for serial CTI.\n",
        "\n",
        "We will now demonstrate how cosmic rays can be flagged in a pre-CTI data.\n",
        "\n",
        "Many cosmic rays hit the charge injection FPR and therefore dilute the signal used to estimate the pre-CTI data.\n",
        "This creates a degeneracy between cosmic ray flagging and injection normalizaiton estimation, which requires special\n",
        "care to mitigate, which the next tutorial explains.\n",
        "\n",
        "Therefore, to provide a simple explanation of cosmic ray flagging, this tutorial uses the true pre-CTI data output\n",
        "from the simulation procedure."
      ]
    },
    {
      "cell_type": "code",
      "metadata": {},
      "source": [
        "%matplotlib inline\n",
        "from pyprojroot import here\n",
        "workspace_path = str(here())\n",
        "%cd $workspace_path\n",
        "print(f\"Working Directory has been set to `{workspace_path}`\")\n",
        "\n",
        "from os import path\n",
        "import autocti as ac\n",
        "import autocti.plot as aplt"
      ],
      "outputs": [],
      "execution_count": null
    },
    {
      "cell_type": "markdown",
      "metadata": {},
      "source": [
        "__Dataset + Layout__\n",
        "\n",
        "We begin by loading a charge injection image which has cosmic rays and parallel and serial CTI added, which we will \n",
        "use to illustrate pre-CTI estimation methods.\n",
        "\n",
        "We also set up its corresponding `Layout2DCI` object, which is used to estimate the charge injection normalization\n",
        "in the FPR / charge injection regions.\n",
        "\n",
        "You should be familiar with the **PyAutoCTI** API below, if not check out other scripts throughout the workspace."
      ]
    },
    {
      "cell_type": "code",
      "metadata": {},
      "source": [
        "dataset_name = \"parallel_x2__serial_x3\"\n",
        "dataset_name = \"cosmic_rays\"\n",
        "dataset_path = path.join(\"dataset\", \"imaging_ci\", dataset_name)\n",
        "\n",
        "shape_native = (2000, 100)"
      ],
      "outputs": [],
      "execution_count": null
    },
    {
      "cell_type": "markdown",
      "metadata": {},
      "source": [
        "The overscans input here are not used to perform pre-CTI data estimation."
      ]
    },
    {
      "cell_type": "code",
      "metadata": {},
      "source": [
        "parallel_overscan = ac.Region2D((1980, 2000, 5, 95))\n",
        "serial_prescan = ac.Region2D((0, 2000, 0, 5))\n",
        "serial_overscan = ac.Region2D((0, 1980, 95, 100))"
      ],
      "outputs": [],
      "execution_count": null
    },
    {
      "cell_type": "markdown",
      "metadata": {},
      "source": [
        "These charge injection regions are used to estimate the charge injection normalization in each column."
      ]
    },
    {
      "cell_type": "code",
      "metadata": {},
      "source": [
        "region_list = [\n",
        "    (0, 200, serial_prescan[3], serial_overscan[2]),\n",
        "    (400, 600, serial_prescan[3], serial_overscan[2]),\n",
        "    (800, 1000, serial_prescan[3], serial_overscan[2]),\n",
        "    (1200, 1400, serial_prescan[3], serial_overscan[2]),\n",
        "    (1600, 1800, serial_prescan[3], serial_overscan[2]),\n",
        "]\n",
        "\n",
        "norm = 5000"
      ],
      "outputs": [],
      "execution_count": null
    },
    {
      "cell_type": "markdown",
      "metadata": {},
      "source": [
        "The layout object contains all the charge injection normalization functionality used in this example."
      ]
    },
    {
      "cell_type": "code",
      "metadata": {},
      "source": [
        "layout = ac.Layout2DCI(\n",
        "    shape_2d=shape_native,\n",
        "    region_list=region_list,\n",
        "    parallel_overscan=parallel_overscan,\n",
        "    serial_prescan=serial_prescan,\n",
        "    serial_overscan=serial_overscan,\n",
        ")"
      ],
      "outputs": [],
      "execution_count": null
    },
    {
      "cell_type": "markdown",
      "metadata": {},
      "source": [
        "We will demonstrate injection estimation on a charge injection image which we load via a .fits file below."
      ]
    },
    {
      "cell_type": "code",
      "metadata": {},
      "source": [
        "dataset = ac.ImagingCI.from_fits(\n",
        "    data_path=path.join(dataset_path, f\"norm_{int(norm)}\", \"data.fits\"),\n",
        "    noise_map_path=path.join(dataset_path, f\"norm_{int(norm)}\", \"noise_map.fits\"),\n",
        "    pre_cti_data_path=path.join(dataset_path, f\"norm_{int(norm)}\", \"pre_cti_data.fits\"),\n",
        "    layout=layout,\n",
        "    pixel_scales=0.1,\n",
        ")"
      ],
      "outputs": [],
      "execution_count": null
    },
    {
      "cell_type": "markdown",
      "metadata": {},
      "source": [
        "A plot of the data shows it has non-uniform charge injection lines and cosmic rays."
      ]
    },
    {
      "cell_type": "code",
      "metadata": {},
      "source": [
        "array_2d_plotter = aplt.Array2DPlotter(array=dataset.data)\n",
        "array_2d_plotter.figure_2d()"
      ],
      "outputs": [],
      "execution_count": null
    },
    {
      "cell_type": "markdown",
      "metadata": {},
      "source": [
        "__CTI Correction__\n",
        "\n",
        "Following the same strategy as the previous example, we correct the charge injection data for CTI before flagging\n",
        "cosmic rays.\n",
        "\n",
        "We also correct for parallel CTI, assuming that a model from a previous calibration run would be available. \n",
        "\n",
        "This is not absolutely necessary for cosmic ray flagging, but we will see there is an interplay between the cosmic\n",
        "ray flagging algorithm and pre-CTI estimation routine, and correcting CTI first simplifies this problem."
      ]
    },
    {
      "cell_type": "code",
      "metadata": {},
      "source": [
        "clocker = ac.Clocker2D(\n",
        "    parallel_express=5,\n",
        "    parallel_roe=ac.ROEChargeInjection(),\n",
        "    parallel_fast_mode=True,\n",
        "    serial_express=5,\n",
        "    iterations=5,\n",
        ")\n",
        "\n",
        "parallel_trap_0 = ac.TrapInstantCapture(density=0.13, release_timescale=1.25)\n",
        "parallel_trap_1 = ac.TrapInstantCapture(density=0.25, release_timescale=4.4)\n",
        "\n",
        "parallel_trap_list = [parallel_trap_0, parallel_trap_1]\n",
        "\n",
        "parallel_ccd = ac.CCDPhase(\n",
        "    well_fill_power=0.58, well_notch_depth=0.0, full_well_depth=200000.0\n",
        ")\n",
        "\n",
        "\n",
        "serial_trap_0 = ac.TrapInstantCapture(density=0.0442, release_timescale=0.8)\n",
        "serial_trap_1 = ac.TrapInstantCapture(density=0.1326, release_timescale=4.0)\n",
        "serial_trap_2 = ac.TrapInstantCapture(density=3.9782, release_timescale=20.0)\n",
        "\n",
        "serial_trap_list = [serial_trap_0, serial_trap_1, serial_trap_2]\n",
        "\n",
        "serial_ccd = ac.CCDPhase(\n",
        "    well_fill_power=0.58, well_notch_depth=0.0, full_well_depth=200000.0\n",
        ")\n",
        "\n",
        "cti = ac.CTI2D(\n",
        "    parallel_trap_list=parallel_trap_list,\n",
        "    parallel_ccd=parallel_ccd,\n",
        "    serial_trap_list=serial_trap_list,\n",
        "    serial_ccd=serial_ccd,\n",
        ")\n",
        "\n",
        "data_corrected = clocker.remove_cti(data=dataset.data, cti=cti)"
      ],
      "outputs": [],
      "execution_count": null
    },
    {
      "cell_type": "markdown",
      "metadata": {},
      "source": [
        "__Cosmic Ray Flagging__\n",
        "\n",
        "To flag cosmic rays, we use a simple threshold cut whereby any pixel with a signal to noise value above a threshold is \n",
        "flagged as a cosmic ray.\n",
        "\n",
        "We use a threshold value of 4.0, which is such a high value that it is hard to associate any other signal in the data\n",
        "with such high signal to noise values other than a cosmic ray. "
      ]
    },
    {
      "cell_type": "code",
      "metadata": {},
      "source": [
        "cr_threshold = 4.0\n",
        "\n",
        "cosmic_ray_flag_mask = data_corrected.native > cr_threshold * dataset.noise_map.native"
      ],
      "outputs": [],
      "execution_count": null
    },
    {
      "cell_type": "markdown",
      "metadata": {},
      "source": [
        "We now plot the cosmic ray flag mask, which is a boolean array that contained `True` for any pixel \n",
        "flagged as containing a cosmic ray and `False` for all other pixels.\n",
        "\n",
        "Inspection of the plotted image reveals two insights:\n",
        "\n",
        "- Cosmic rays have been successfully flagged, with small streaks of flagged pixels being shown which look like\n",
        "cosmic rays.\n",
        "\n",
        "- However, the majority of flagged data is the non-uniform charge injection region.\n",
        "\n",
        "So, whats happening? Well, we forgot an obvious fact above, that the charge injection region may also have a signal \n",
        "to noise well above our threshold value of 4.0!"
      ]
    },
    {
      "cell_type": "code",
      "metadata": {},
      "source": [
        "array_2d_plotter = aplt.Array2DPlotter(array=cosmic_ray_flag_mask)\n",
        "array_2d_plotter.figure_2d()"
      ],
      "outputs": [],
      "execution_count": null
    },
    {
      "cell_type": "markdown",
      "metadata": {},
      "source": [
        "To mitigate this effect, we can simply subtract off the charge injection pattern, such that we are left with an \n",
        "image only containing cosmic rays. "
      ]
    },
    {
      "cell_type": "code",
      "metadata": {},
      "source": [
        "pre_cti_data = ac.Array2D.from_fits(\n",
        "    file_path=path.join(dataset_path, f\"norm_{int(norm)}\", \"pre_cti_data.fits\"),\n",
        "    pixel_scales=0.1,\n",
        ")\n",
        "\n",
        "data_charge_subtracted = data_corrected.native - pre_cti_data.native\n",
        "\n",
        "array_2d_plotter = aplt.Array2DPlotter(array=data_charge_subtracted)\n",
        "array_2d_plotter.figure_2d()"
      ],
      "outputs": [],
      "execution_count": null
    },
    {
      "cell_type": "markdown",
      "metadata": {},
      "source": [
        "To mitigate this effect, we can simply subtract off the charge injection pattern, such that we are left with an \n",
        "image only containing cosmic rays which we can flag. "
      ]
    },
    {
      "cell_type": "code",
      "metadata": {},
      "source": [
        "cosmic_ray_flag_mask = data_charge_subtracted > cr_threshold * dataset.noise_map.native\n",
        "\n",
        "array_2d_plotter = aplt.Array2DPlotter(array=cosmic_ray_flag_mask)\n",
        "array_2d_plotter.figure_2d()"
      ],
      "outputs": [],
      "execution_count": null
    },
    {
      "cell_type": "markdown",
      "metadata": {},
      "source": [
        "We can also use the cosmic ray mask to create a `cosmic_ray_map`, which only contains the flagged cosmic rays."
      ]
    },
    {
      "cell_type": "code",
      "metadata": {},
      "source": [
        "cosmic_ray_map = data_charge_subtracted * cosmic_ray_flag_mask\n",
        "\n",
        "array_2d_plotter = aplt.Array2DPlotter(array=cosmic_ray_map)\n",
        "array_2d_plotter.figure_2d()"
      ],
      "outputs": [],
      "execution_count": null
    },
    {
      "cell_type": "markdown",
      "metadata": {},
      "source": [
        "__What about Cosmic Ray CTI Trails?__\n",
        "\n",
        "Every cosmic ray in our charge injection dataset has CTI trails due to parallel and serial CTI. In this script, we \n",
        "corrected the data for CTI before performing cosmic ray flagging, therefore our cosmic ray map does not also flag\n",
        "for cosmic ray trails.\n",
        "\n",
        "For CTI modeling, these trails must also be masked to ensure CTI calibration is not biased. In modeling script\n",
        "which analyse data with cosmic rays, you'll see that a special type of mask is created from the cosmic ray flag\n",
        "mask, which extends the mask in the parallel and serial directions by an input number of pixels, so that the\n",
        "cosmic ray trails are masked. \n",
        "\n",
        "In fact, this also masks the diagonal around each cosmic ray containing charge trailed first by parallel CTI, and then \n",
        "serial CTI.\n",
        "\n",
        "If we had flagged cosmic rays using the uncorrected image, it would likely have struggled to flag the CTI trails of \n",
        "cosmic rays.. This is because these trails have a low signal and therefore low signal to noise!\n",
        "\n",
        "__Wrap Up__\n",
        "\n",
        "This example shows how we can flag cosmic rays in charge injection imaging data. \n",
        "\n",
        "The algorithm does a great job, provided we have a clean subjection of the charge injeciton reigon to ensure it does \n",
        "flag the charge injection pattern.\n",
        "\n",
        "The next example shows how we can combine this method with the pre-CTI data estimator to flag cosmic rays in a dataset\n",
        "where we do not have knowledge of the charge injection imaging beforehand. "
      ]
    },
    {
      "cell_type": "code",
      "metadata": {},
      "source": [],
      "outputs": [],
      "execution_count": null
    }
  ],
  "metadata": {
    "anaconda-cloud": {},
    "kernelspec": {
      "display_name": "Python 3",
      "language": "python",
      "name": "python3"
    },
    "language_info": {
      "codemirror_mode": {
        "name": "ipython",
        "version": 3
      },
      "file_extension": ".py",
      "mimetype": "text/x-python",
      "name": "python",
      "nbconvert_exporter": "python",
      "pygments_lexer": "ipython3",
      "version": "3.6.1"
    }
  },
  "nbformat": 4,
  "nbformat_minor": 4
}