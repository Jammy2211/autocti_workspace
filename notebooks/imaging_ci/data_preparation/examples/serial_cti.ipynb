{
  "cells": [
    {
      "cell_type": "markdown",
      "metadata": {},
      "source": [
        "Data Preparation: Serial CTI\n",
        "----------------------------\n",
        "\n",
        "The `preprocess_1_serial_cti.py` script shows how to estimate the pre-CTI charge injection images from an observed\n",
        "charge injection data which includes parallel CTI.\n",
        "\n",
        "This was centred around using the inner regions of the FPR of the charge injection data, which should not have had\n",
        "any electrons captured due to CTI.\n",
        "\n",
        "This script builds on this example, showing how this process can account for serial CTI, which moves electrons between\n",
        "the charge injection line FPR regions. This assumes that a known serial CTI model is available, for example\n",
        "from the previous day's CTI calibration observations.\n",
        "\n",
        "I recommend you have completed all previous preprocess scripts before this one."
      ]
    },
    {
      "cell_type": "code",
      "metadata": {},
      "source": [
        "%matplotlib inline\n",
        "from pyprojroot import here\n",
        "workspace_path = str(here())\n",
        "%cd $workspace_path\n",
        "print(f\"Working Directory has been set to `{workspace_path}`\")\n",
        "\n",
        "from os import path\n",
        "import autofit as af\n",
        "import autocti as ac\n",
        "import autocti.plot as aplt"
      ],
      "outputs": [],
      "execution_count": null
    },
    {
      "cell_type": "markdown",
      "metadata": {},
      "source": [
        "__Dataset + Layout__\n",
        "\n",
        "We begin by loading a charge injection image which has parallel and serial CTI added, which we will use to illustrate \n",
        "pre-CTI estimation methods.\n",
        "\n",
        "We also set up its corresponding `Layout2DCI` object, which is used to estimate the charge injection normalization\n",
        "in the FPR / charge injection regions.\n",
        "\n",
        "You should be familiar with the **PyAutoCTI** API below, if not check out other scripts throughout the workspace."
      ]
    },
    {
      "cell_type": "code",
      "metadata": {},
      "source": [
        "dataset_name = \"serial_cti\"\n",
        "dataset_path = path.join(\"dataset\", \"imaging_ci\", dataset_name)\n",
        "\n",
        "shape_native = (2000, 100)"
      ],
      "outputs": [],
      "execution_count": null
    },
    {
      "cell_type": "markdown",
      "metadata": {},
      "source": [
        "The overscans input here are not used to perform pre-CTI data estimation."
      ]
    },
    {
      "cell_type": "code",
      "metadata": {},
      "source": [
        "parallel_overscan = ac.Region2D((1980, 2000, 5, 95))\n",
        "serial_prescan = ac.Region2D((0, 2000, 0, 5))\n",
        "serial_overscan = ac.Region2D((0, 1980, 95, 100))"
      ],
      "outputs": [],
      "execution_count": null
    },
    {
      "cell_type": "markdown",
      "metadata": {},
      "source": [
        "These charge injection regions are used to estimate the charge injection normalization in each column."
      ]
    },
    {
      "cell_type": "code",
      "metadata": {},
      "source": [
        "region_list = [\n",
        "    (0, 200, serial_prescan[3], serial_overscan[2]),\n",
        "    (400, 600, serial_prescan[3], serial_overscan[2]),\n",
        "    (800, 1000, serial_prescan[3], serial_overscan[2]),\n",
        "    (1200, 1400, serial_prescan[3], serial_overscan[2]),\n",
        "    (1600, 1800, serial_prescan[3], serial_overscan[2]),\n",
        "]\n",
        "\n",
        "norm = 5000"
      ],
      "outputs": [],
      "execution_count": null
    },
    {
      "cell_type": "markdown",
      "metadata": {},
      "source": [
        "The layout object contains all the charge injection normalization functionality used in this example."
      ]
    },
    {
      "cell_type": "code",
      "metadata": {},
      "source": [
        "layout = ac.Layout2DCI(\n",
        "    shape_2d=shape_native,\n",
        "    region_list=region_list,\n",
        "    parallel_overscan=parallel_overscan,\n",
        "    serial_prescan=serial_prescan,\n",
        "    serial_overscan=serial_overscan,\n",
        ")"
      ],
      "outputs": [],
      "execution_count": null
    },
    {
      "cell_type": "markdown",
      "metadata": {},
      "source": [
        "We will demonstrate injection estimation on a charge injection image which we load via a .fits file below."
      ]
    },
    {
      "cell_type": "code",
      "metadata": {},
      "source": [
        "dataset = ac.ImagingCI.from_fits(\n",
        "    data_path=path.join(dataset_path, f\"norm_{int(norm)}\", \"data.fits\"),\n",
        "    noise_map_path=path.join(dataset_path, f\"norm_{int(norm)}\", \"noise_map.fits\"),\n",
        "    pre_cti_data_path=path.join(dataset_path, f\"norm_{int(norm)}\", \"pre_cti_data.fits\"),\n",
        "    layout=layout,\n",
        "    pixel_scales=0.1,\n",
        ")"
      ],
      "outputs": [],
      "execution_count": null
    },
    {
      "cell_type": "markdown",
      "metadata": {},
      "source": [
        "A plot of the data shows it has non-uniform charge injection lines and cosmic rays."
      ]
    },
    {
      "cell_type": "code",
      "metadata": {},
      "source": [
        "array_2d_plotter = aplt.Array2DPlotter(array=dataset.data)\n",
        "array_2d_plotter.figure_2d()"
      ],
      "outputs": [],
      "execution_count": null
    },
    {
      "cell_type": "markdown",
      "metadata": {},
      "source": [
        "__Normalization List__\n",
        "\n",
        "The `proprocess_1_pre_cti.py` example explains the code below, which estimates the charge injection normalizations \n",
        "from the inner regions of each FPR."
      ]
    },
    {
      "cell_type": "code",
      "metadata": {},
      "source": [
        "injection_norm_list = layout.extract.parallel_fpr.median_list_from(\n",
        "    array=dataset.data, settings=ac.SettingsExtract(pixels=(150, 200))\n",
        ")\n",
        "\n",
        "print(injection_norm_list)"
      ],
      "outputs": [],
      "execution_count": null
    },
    {
      "cell_type": "markdown",
      "metadata": {},
      "source": [
        "__Pre CTI Image Estimate__\n",
        "\n",
        "From this `normalization_list` we can create a pre-CTI charge injection image, where each column corresponds to\n",
        "the normalization estimated above.\n",
        "\n",
        "Note that due to serial CTI mixing, we are expecting this image to be less accurate of an estimate than we found\n",
        "in the first data preparation example."
      ]
    },
    {
      "cell_type": "code",
      "metadata": {},
      "source": [
        "pre_cti_data = layout.pre_cti_data_non_uniform_from(\n",
        "    injection_norm_list=injection_norm_list, pixel_scales=dataset.data.pixel_scales\n",
        ")"
      ],
      "outputs": [],
      "execution_count": null
    },
    {
      "cell_type": "markdown",
      "metadata": {},
      "source": [
        "If we plot the original data and this pre-CTI estimate we can see they are similar by eye."
      ]
    },
    {
      "cell_type": "code",
      "metadata": {},
      "source": [
        "array_2d_plotter = aplt.Array2DPlotter(array=dataset.data)\n",
        "array_2d_plotter.figure_2d()\n",
        "\n",
        "array_2d_plotter = aplt.Array2DPlotter(array=pre_cti_data)\n",
        "array_2d_plotter.figure_2d()"
      ],
      "outputs": [],
      "execution_count": null
    },
    {
      "cell_type": "markdown",
      "metadata": {},
      "source": [
        "However, if we subtract the two images, we find that there are residuals contained in the parallel and serial \n",
        "FPR and EPERs.\n",
        "\n",
        "These are because our pre-CTI estimate image does not account for the CTI contained in the original data."
      ]
    },
    {
      "cell_type": "code",
      "metadata": {},
      "source": [
        "residual_map = dataset.data.native - pre_cti_data.native\n",
        "\n",
        "array_2d_plotter = aplt.Array2DPlotter(array=residual_map)\n",
        "array_2d_plotter.figure_2d()"
      ],
      "outputs": [],
      "execution_count": null
    },
    {
      "cell_type": "markdown",
      "metadata": {},
      "source": [
        "The aim of this example is to account for the impact of serial CTI mixing in the charge injection FPR, which the\n",
        "residual map above shows but does not show clearly.\n",
        "\n",
        "We can get an image the residuals only due to this effect by adding the true parallel and serial CTI models to the\n",
        "estimated image above. Because the CTI model is the same one used to simulate the data, the results residuals can only\n",
        "be attributed to a misestimation of the pre-CTI data."
      ]
    },
    {
      "cell_type": "code",
      "metadata": {},
      "source": [
        "clocker = ac.Clocker2D(\n",
        "    parallel_express=5,\n",
        "    parallel_roe=ac.ROEChargeInjection(),\n",
        "    parallel_fast_mode=True,\n",
        "    serial_express=5,\n",
        "    iterations=5,\n",
        ")\n",
        "\n",
        "parallel_trap_0 = ac.TrapInstantCapture(density=0.13, release_timescale=1.25)\n",
        "parallel_trap_1 = ac.TrapInstantCapture(density=0.25, release_timescale=4.4)\n",
        "\n",
        "parallel_trap_list = [parallel_trap_0, parallel_trap_1]\n",
        "\n",
        "parallel_ccd = ac.CCDPhase(\n",
        "    well_fill_power=0.58, well_notch_depth=0.0, full_well_depth=200000.0\n",
        ")\n",
        "\n",
        "\n",
        "serial_trap_0 = ac.TrapInstantCapture(density=0.0442, release_timescale=0.8)\n",
        "serial_trap_1 = ac.TrapInstantCapture(density=0.1326, release_timescale=4.0)\n",
        "serial_trap_2 = ac.TrapInstantCapture(density=3.9782, release_timescale=20.0)\n",
        "\n",
        "serial_trap_list = [serial_trap_0, serial_trap_1, serial_trap_2]\n",
        "\n",
        "serial_ccd = ac.CCDPhase(\n",
        "    well_fill_power=0.58, well_notch_depth=0.0, full_well_depth=200000.0\n",
        ")\n",
        "\n",
        "cti = ac.CTI2D(\n",
        "    parallel_trap_list=parallel_trap_list,\n",
        "    parallel_ccd=parallel_ccd,\n",
        "    serial_trap_list=serial_trap_list,\n",
        "    serial_ccd=serial_ccd,\n",
        ")\n",
        "\n",
        "post_cti_data = clocker.add_cti(data=pre_cti_data, cti=cti)"
      ],
      "outputs": [],
      "execution_count": null
    },
    {
      "cell_type": "markdown",
      "metadata": {},
      "source": [
        "We now use this post-CTI data to create the residual map.\n",
        "\n",
        "It shows a distinct rippling effect, whereby certain charge injections leave large residuals because their charge\n",
        "estimate has been most impacted by serial CTI. This is the effect we need to remove to get an accurate charge\n",
        "injection image estimate."
      ]
    },
    {
      "cell_type": "code",
      "metadata": {},
      "source": [
        "residual_map = dataset.data.native - post_cti_data\n",
        "\n",
        "array_2d_plotter = aplt.Array2DPlotter(array=residual_map)\n",
        "array_2d_plotter.figure_2d()"
      ],
      "outputs": [],
      "execution_count": null
    },
    {
      "cell_type": "markdown",
      "metadata": {},
      "source": [
        "__CTI Correction__\n",
        "\n",
        "To mitigate this effect, we use a previous estimate of the parallel and serial CTI models to correct the charge \n",
        "injection data.\n",
        "\n",
        "This should relocate the majority of electrons back to their original charge injection lines, such that our\n",
        "estimate of the pre-CTI charge injection data is now accurate."
      ]
    },
    {
      "cell_type": "code",
      "metadata": {},
      "source": [
        "data_corrected = clocker.remove_cti(data=dataset.data, cti=cti)\n",
        "\n",
        "injection_norm_list = layout.extract.parallel_fpr.median_list_from(\n",
        "    array=data_corrected, settings=ac.SettingsExtract(pixels=(0, 200))\n",
        ")\n",
        "\n",
        "pre_cti_data = layout.pre_cti_data_non_uniform_from(\n",
        "    injection_norm_list=injection_norm_list, pixel_scales=dataset.data.pixel_scales\n",
        ")"
      ],
      "outputs": [],
      "execution_count": null
    },
    {
      "cell_type": "markdown",
      "metadata": {},
      "source": [
        "As we did above, we want to determine if the residuals due to the misestimation of charge injection normalizations\n",
        "has been accounted for. \n",
        "\n",
        "Thus we again add the true CTI model to this estimated pre-CTI data before computing the residuals.\n",
        "\n",
        "Upon plotting the residuals, we find that the rippling effect has been removed and we are left with a clean\n",
        "pre-CTI dataset."
      ]
    },
    {
      "cell_type": "code",
      "metadata": {},
      "source": [
        "post_cti_data = clocker.add_cti(data=pre_cti_data, cti=cti)\n",
        "\n",
        "residual_map = dataset.data.native - post_cti_data\n",
        "\n",
        "array_2d_plotter = aplt.Array2DPlotter(array=residual_map)\n",
        "array_2d_plotter.figure_2d()"
      ],
      "outputs": [],
      "execution_count": null
    },
    {
      "cell_type": "markdown",
      "metadata": {},
      "source": [
        "__Parallel CTI Correction__\n",
        "\n",
        "In the previous preprocesing tutorial, parallel CTI was in the data but a model was not used for correction. This works\n",
        "because the charge injection is uniform in the parallel direction, meaning that electrons are only captured and\n",
        "release after the FPR (all traps are filled when clocking the inner regions of the FPR).\n",
        "\n",
        "Nevertheless, it is likely one would have a parallel CTI model available to them and this could be used to correct\n",
        "CTI from the data before estimating the pre-CTI image. This would mean that the full FPR could be used (instead of\n",
        "the inner regions), but has the downside that if the CTI model is not perfect uncertainty will be introduced.\n",
        "\n",
        "__What if I dont have a serial CTI model?__\n",
        "\n",
        "If a serial CTI model is not available, it is probably still possible to get an accurate estimate of the pre-CTI \n",
        "data. \n",
        "\n",
        "For example, one could imagine altering the **PyAutoCTI** likelihood function to work as follows:\n",
        "\n",
        " 1) Assume a serial CTI model and use this to correct serial CTI from the charge injection image.\n",
        " 2) Use this serial CTI corrected data to estimate the pre-CTI data using the functionality illustrated above.\n",
        " 3) Use the same serial CTI model to add CTI to this pre-CTI data estimate.\n",
        " 4) Compute the likelihood using this data as per usual.\n",
        "\n",
        "We have not found a use-case to write such an algorithm, but if it sounds like you could use one please contact us!\n",
        "\n",
        "__Wrap Up__\n",
        "\n",
        "This example shows how serial CTI degrades the use of the inner FPR regions to estimate the pre-CTI data, and\n",
        "that this can be mitigated by using an already known serial CTI model to correct the data first. \n",
        "\n",
        "We next consider how cosmic rays can be flagged and removed from charge injection imaging."
      ]
    },
    {
      "cell_type": "code",
      "metadata": {},
      "source": [],
      "outputs": [],
      "execution_count": null
    }
  ],
  "metadata": {
    "anaconda-cloud": {},
    "kernelspec": {
      "display_name": "Python 3",
      "language": "python",
      "name": "python3"
    },
    "language_info": {
      "codemirror_mode": {
        "name": "ipython",
        "version": 3
      },
      "file_extension": ".py",
      "mimetype": "text/x-python",
      "name": "python",
      "nbconvert_exporter": "python",
      "pygments_lexer": "ipython3",
      "version": "3.6.1"
    }
  },
  "nbformat": 4,
  "nbformat_minor": 4
}