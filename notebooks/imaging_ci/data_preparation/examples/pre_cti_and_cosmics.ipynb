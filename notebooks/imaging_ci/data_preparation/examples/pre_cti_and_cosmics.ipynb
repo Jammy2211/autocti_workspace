{
  "cells": [
    {
      "cell_type": "markdown",
      "metadata": {},
      "source": [
        "Data Preparation: Pre-CTI and Cosmics (Optional)\n",
        "------------------------------------------------\n",
        "\n",
        "We have seen how to estimate the pre-CTI image from charge injection data (including accounting for serial CTI)\n",
        "and how to flag cosmic rays in that data.\n",
        "\n",
        "However, we have not done both at the same time; a process which is somewhat degenerate. In order to estimate\n",
        "the pre-CTI image, we take the median of the inner regions of the FPR, a process which will be biased by cosmic\n",
        "rays if they are not masked and flagged beforehand. However, to flag cosmic rays we first subtracted a pre-CTI\n",
        "image, to ensure the cosmic ray flagging algorithm does not flag the non-uniform charge.\n",
        "\n",
        "This tutorial demonstrates an iterative approach which alternates between these two steps, to accurately estimate\n",
        "the pre-CTI data whilst fully flagging cosmic rays.\n",
        "\n",
        "__Foreword__\n",
        "\n",
        "I wrote this tutorial script expecting the degeneracy between cosmic rays and pre CTI estimation to be\n",
        "a big issue that required an iterative approach. However, after writing the script, this does not seem neceesary\n",
        "for realistic levels of cosmic rays (e.g. in Euclid data).\n",
        "\n",
        "My conclusion was that the that ratio of pixels impacted by cosmic rays to the number of pixels available to\n",
        "estimate each FPR was to low to require the iterative approach. Nevertheless, it is conceivable that there\n",
        "are datasets where this approach is necessary, in which case this tutorial may prove useful."
      ]
    },
    {
      "cell_type": "code",
      "metadata": {},
      "source": [
        "%matplotlib inline\n",
        "from pyprojroot import here\n",
        "workspace_path = str(here())\n",
        "%cd $workspace_path\n",
        "print(f\"Working Directory has been set to `{workspace_path}`\")\n",
        "\n",
        "from os import path\n",
        "import autofit as af\n",
        "import autocti as ac\n",
        "import autocti.plot as aplt"
      ],
      "outputs": [],
      "execution_count": null
    },
    {
      "cell_type": "markdown",
      "metadata": {},
      "source": [
        "__Dataset + Layout__\n",
        "\n",
        "We begin by loading a charge injection image which has cosmic rays and parallel and serial CTI added, which we will \n",
        "use to illustrate pre-CTI estimation methods.\n",
        "\n",
        "We also set up its corresponding `Layout2DCI` object, which is used to estimate the charge injection normalization\n",
        "in the FPR / charge injection regions.\n",
        "\n",
        "You should be familiar with the **PyAutoCTI** API below, if not check out other scripts throughout the workspace."
      ]
    },
    {
      "cell_type": "code",
      "metadata": {},
      "source": [
        "dataset_name = \"cosmic_rays\"\n",
        "dataset_path = path.join(\"dataset\", \"imaging_ci\", dataset_name)\n",
        "\n",
        "shape_native = (2000, 100)"
      ],
      "outputs": [],
      "execution_count": null
    },
    {
      "cell_type": "markdown",
      "metadata": {},
      "source": [
        "The overscans input here are not used to perform pre-CTI data estimation."
      ]
    },
    {
      "cell_type": "code",
      "metadata": {},
      "source": [
        "parallel_overscan = ac.Region2D((1980, 2000, 5, 95))\n",
        "serial_prescan = ac.Region2D((0, 2000, 0, 5))\n",
        "serial_overscan = ac.Region2D((0, 1980, 95, 100))"
      ],
      "outputs": [],
      "execution_count": null
    },
    {
      "cell_type": "markdown",
      "metadata": {},
      "source": [
        "These charge injection regions are used to estimate the charge injection normalization in each column."
      ]
    },
    {
      "cell_type": "code",
      "metadata": {},
      "source": [
        "region_list = [\n",
        "    (0, 200, serial_prescan[3], serial_overscan[2]),\n",
        "    (400, 600, serial_prescan[3], serial_overscan[2]),\n",
        "    (800, 1000, serial_prescan[3], serial_overscan[2]),\n",
        "    (1200, 1400, serial_prescan[3], serial_overscan[2]),\n",
        "    (1600, 1800, serial_prescan[3], serial_overscan[2]),\n",
        "]\n",
        "\n",
        "norm = 100"
      ],
      "outputs": [],
      "execution_count": null
    },
    {
      "cell_type": "markdown",
      "metadata": {},
      "source": [
        "The layout object contains all the charge injection normalization functionality used in this example."
      ]
    },
    {
      "cell_type": "code",
      "metadata": {},
      "source": [
        "layout = ac.Layout2DCI(\n",
        "    shape_2d=shape_native,\n",
        "    region_list=region_list,\n",
        "    parallel_overscan=parallel_overscan,\n",
        "    serial_prescan=serial_prescan,\n",
        "    serial_overscan=serial_overscan,\n",
        ")"
      ],
      "outputs": [],
      "execution_count": null
    },
    {
      "cell_type": "markdown",
      "metadata": {},
      "source": [
        "We will demonstrate injection estimation on a charge injection image which we load via a .fits file below."
      ]
    },
    {
      "cell_type": "code",
      "metadata": {},
      "source": [
        "dataset = ac.ImagingCI.from_fits(\n",
        "    data_path=path.join(dataset_path, f\"norm_{int(norm)}\", \"data.fits\"),\n",
        "    noise_map_path=path.join(dataset_path, f\"norm_{int(norm)}\", \"noise_map.fits\"),\n",
        "    pre_cti_data_path=path.join(dataset_path, f\"norm_{int(norm)}\", \"pre_cti_data.fits\"),\n",
        "    layout=layout,\n",
        "    pixel_scales=0.1,\n",
        ")"
      ],
      "outputs": [],
      "execution_count": null
    },
    {
      "cell_type": "markdown",
      "metadata": {},
      "source": [
        "A plot of the data shows it has non-uniform charge injection lines and cosmic rays."
      ]
    },
    {
      "cell_type": "code",
      "metadata": {},
      "source": [
        "array_2d_plotter = aplt.Array2DPlotter(array=dataset.data)\n",
        "array_2d_plotter.figure_2d()"
      ],
      "outputs": [],
      "execution_count": null
    },
    {
      "cell_type": "markdown",
      "metadata": {},
      "source": [
        "__CTI Correction__\n",
        "\n",
        "Following the same strategy as the previous example, we correct the charge injection data for parallel and serial \n",
        "CTI before flagging cosmic rays.\n",
        "\n",
        "Due to the interplay between the cosmic ray flagging algorithm and pre-CTI estimation routine, this simplifies the\n",
        "simplifies the iterative approach necessary to perform both."
      ]
    },
    {
      "cell_type": "code",
      "metadata": {},
      "source": [
        "clocker = ac.Clocker2D(\n",
        "    parallel_express=5,\n",
        "    parallel_roe=ac.ROEChargeInjection(),\n",
        "    parallel_fast_mode=True,\n",
        "    serial_express=5,\n",
        "    iterations=5,\n",
        ")\n",
        "\n",
        "parallel_trap_0 = ac.TrapInstantCapture(density=0.13, release_timescale=1.25)\n",
        "parallel_trap_1 = ac.TrapInstantCapture(density=0.25, release_timescale=4.4)\n",
        "\n",
        "parallel_trap_list = [parallel_trap_0, parallel_trap_1]\n",
        "\n",
        "parallel_ccd = ac.CCDPhase(\n",
        "    well_fill_power=0.58, well_notch_depth=0.0, full_well_depth=200000.0\n",
        ")\n",
        "\n",
        "serial_trap_0 = ac.TrapInstantCapture(density=0.0442, release_timescale=0.8)\n",
        "serial_trap_1 = ac.TrapInstantCapture(density=0.1326, release_timescale=4.0)\n",
        "serial_trap_2 = ac.TrapInstantCapture(density=3.9782, release_timescale=20.0)\n",
        "\n",
        "serial_trap_list = [serial_trap_0, serial_trap_1, serial_trap_2]\n",
        "\n",
        "serial_ccd = ac.CCDPhase(\n",
        "    well_fill_power=0.58, well_notch_depth=0.0, full_well_depth=200000.0\n",
        ")\n",
        "\n",
        "cti = ac.CTI2D(\n",
        "    parallel_trap_list=parallel_trap_list,\n",
        "    parallel_ccd=parallel_ccd,\n",
        "    serial_trap_list=serial_trap_list,\n",
        "    serial_ccd=serial_ccd,\n",
        ")\n",
        "\n",
        "data_corrected = clocker.remove_cti(data=dataset.data, cti=cti)"
      ],
      "outputs": [],
      "execution_count": null
    },
    {
      "cell_type": "markdown",
      "metadata": {},
      "source": [
        "__Normalization List__\n",
        "\n",
        "We first estimate the charge injection normalizations from the inner regions of each FPR.\n",
        "\n",
        "Note that we have performed any cosmic ray flagging yet, thus a small fraction of estimates are likely to be very \n",
        "inaccurate because a cosmic ray overlaps the inner FPR."
      ]
    },
    {
      "cell_type": "code",
      "metadata": {},
      "source": [
        "injection_norm_list = layout.extract.parallel_fpr.median_list_from(\n",
        "    array=data_corrected, settings=ac.SettingsExtract(pixels=(150, 200))\n",
        ")\n",
        "\n",
        "print(injection_norm_list)"
      ],
      "outputs": [],
      "execution_count": null
    },
    {
      "cell_type": "markdown",
      "metadata": {},
      "source": [
        "__Pre CTI Image Estimate__\n",
        "\n",
        "From this `normalization_list` we can create a pre-CTI charge injection image, where each column corresponds to\n",
        "the normalization estimated above.\n",
        "\n",
        "This again uses the charge injection data's layout attribute, which knows where the charge injections are contained\n",
        "on the data."
      ]
    },
    {
      "cell_type": "code",
      "metadata": {},
      "source": [
        "pre_cti_data = layout.pre_cti_data_non_uniform_from(\n",
        "    injection_norm_list=injection_norm_list, pixel_scales=dataset.data.pixel_scales\n",
        ")"
      ],
      "outputs": [],
      "execution_count": null
    },
    {
      "cell_type": "markdown",
      "metadata": {},
      "source": [
        "If we plot the original data and this pre-CTI estimate we can see they are similar, but that the `pre_cti_data`\n",
        "does not include cosmic rays."
      ]
    },
    {
      "cell_type": "code",
      "metadata": {},
      "source": [
        "array_2d_plotter = aplt.Array2DPlotter(array=data_corrected)\n",
        "array_2d_plotter.figure_2d()\n",
        "\n",
        "array_2d_plotter = aplt.Array2DPlotter(array=pre_cti_data)\n",
        "array_2d_plotter.figure_2d()"
      ],
      "outputs": [],
      "execution_count": null
    },
    {
      "cell_type": "markdown",
      "metadata": {},
      "source": [
        "If we subtract the two images, we find that the large residuals are left due to cosmic rays."
      ]
    },
    {
      "cell_type": "code",
      "metadata": {},
      "source": [
        "residual_map = data_corrected - pre_cti_data.native\n",
        "\n",
        "array_2d_plotter = aplt.Array2DPlotter(array=residual_map)\n",
        "array_2d_plotter.figure_2d()"
      ],
      "outputs": [],
      "execution_count": null
    },
    {
      "cell_type": "markdown",
      "metadata": {},
      "source": [
        "We are specifically interested in whether the presence of cosmic rays lead to some charge injection estimates\n",
        "being inaccurate.\n",
        "\n",
        "To plot this, we create the residual map again but first subtract all of the cosmic rays. We will use the true\n",
        "cosmic ray map, which is output from the simulation script.\n",
        "\n",
        "We add CTI to these cosmic rays before subtracting them, so that their trails are also subtracted."
      ]
    },
    {
      "cell_type": "code",
      "metadata": {},
      "source": [
        "cosmic_ray_map = ac.Array2D.from_fits(\n",
        "    file_path=path.join(dataset_path, f\"norm_{int(norm)}\", \"cosmic_ray_map.fits\"),\n",
        "    pixel_scales=0.1,\n",
        ")\n",
        "\n",
        "mask = ac.Mask2D.all_false(\n",
        "    shape_native=data_corrected.shape_native,\n",
        "    pixel_scales=data_corrected.pixel_scales,\n",
        ")\n",
        "\n",
        "mask = ac.Mask2D.from_cosmic_ray_map_buffed(\n",
        "    cosmic_ray_map=cosmic_ray_map,\n",
        "    settings=ac.SettingsMask2D(\n",
        "        cosmic_ray_parallel_buffer=80,\n",
        "        cosmic_ray_serial_buffer=80,\n",
        "        cosmic_ray_diagonal_buffer=5,\n",
        "    ),\n",
        ")\n",
        "\n",
        "residual_map = residual_map.apply_mask(mask=mask)\n",
        "\n",
        "array_2d_plotter = aplt.Array2DPlotter(array=residual_map)\n",
        "array_2d_plotter.figure_2d()"
      ],
      "outputs": [],
      "execution_count": null
    },
    {
      "cell_type": "markdown",
      "metadata": {},
      "source": [
        "Had the interplay between pre-CTI estimation and cosmic rays been important I would expect a \n",
        "\n",
        "There is a residual signal over the data, which is due to inaccurate pre-CTI estimation in certain columns.\n",
        "\n",
        "__Cosmic Ray Flagging__\n",
        "\n",
        "Nevertheless, the image should be good enough to subtract the charge injections and flag the majority of cosmic rays.\n",
        "\n",
        "[Note that the routine below does not use the true cosmic ray map loaded above, we only used that for illustration\n",
        "but from here on do not assume any knowledge of the truth to proprocess the data]."
      ]
    },
    {
      "cell_type": "code",
      "metadata": {},
      "source": [
        "data_charge_subtracted = data_corrected.native - pre_cti_data.native\n",
        "\n",
        "cr_threshold = 4.0\n",
        "\n",
        "cosmic_ray_flag_mask = data_charge_subtracted > cr_threshold * dataset.noise_map.native"
      ],
      "outputs": [],
      "execution_count": null
    },
    {
      "cell_type": "markdown",
      "metadata": {},
      "source": [
        "We now create and plot a cosmic ray map."
      ]
    },
    {
      "cell_type": "code",
      "metadata": {},
      "source": [
        "cosmic_ray_map = data_charge_subtracted * cosmic_ray_flag_mask\n",
        "\n",
        "array_2d_plotter = aplt.Array2DPlotter(array=cosmic_ray_map)\n",
        "array_2d_plotter.figure_2d()"
      ],
      "outputs": [],
      "execution_count": null
    },
    {
      "cell_type": "markdown",
      "metadata": {},
      "source": [
        "We subtract this from the original data to visualize how many cosmic rays were flagged."
      ]
    },
    {
      "cell_type": "code",
      "metadata": {},
      "source": [
        "image_cosmic_ray_cleaned = data_corrected - cosmic_ray_map\n",
        "\n",
        "array_2d_plotter = aplt.Array2DPlotter(array=image_cosmic_ray_cleaned)\n",
        "array_2d_plotter.figure_2d()"
      ],
      "outputs": [],
      "execution_count": null
    },
    {
      "cell_type": "markdown",
      "metadata": {},
      "source": [
        "We now reperform pre-CTI image estimation and create the same visuals as above, to see if the residuals seen\n",
        "above are reduced."
      ]
    },
    {
      "cell_type": "code",
      "metadata": {},
      "source": [
        "injection_norm_list_after_cr = layout.extract.parallel_fpr.median_list_from(\n",
        "    array=image_cosmic_ray_cleaned, settings=ac.SettingsExtract(pixels=(150, 200))\n",
        ")"
      ],
      "outputs": [],
      "execution_count": null
    },
    {
      "cell_type": "markdown",
      "metadata": {},
      "source": [
        "We can compare the injection estimate including cosmic rays to the one with cosmic rays flagged.\n",
        "\n",
        "The residuals below are all < 1.0, which is confirmation that the presence of cosmic rays in this dataset\n",
        "is not having a meaningful impact on the charge injection normalization estimation."
      ]
    },
    {
      "cell_type": "code",
      "metadata": {},
      "source": [
        "injection_residuals = [\n",
        "    injection - injection_after_cr\n",
        "    for injection, injection_after_cr in zip(\n",
        "        injection_norm_list, injection_norm_list_after_cr\n",
        "    )\n",
        "]\n",
        "\n",
        "pre_cti_data = layout.pre_cti_data_non_uniform_from(\n",
        "    injection_norm_list=injection_norm_list_after_cr,\n",
        "    pixel_scales=dataset.data.pixel_scales,\n",
        ")"
      ],
      "outputs": [],
      "execution_count": null
    },
    {
      "cell_type": "markdown",
      "metadata": {},
      "source": [
        "Residual map plots also show no visual difference with those plotted above, again confirming the cosmic rays\n",
        "are not impacting pre-CTI estimation."
      ]
    },
    {
      "cell_type": "code",
      "metadata": {},
      "source": [
        "residual_map = data_corrected - pre_cti_data.native\n",
        "\n",
        "array_2d_plotter = aplt.Array2DPlotter(array=residual_map)\n",
        "array_2d_plotter.figure_2d()\n",
        "\n",
        "\n",
        "residual_map = residual_map.apply_mask(mask=mask)\n",
        "\n",
        "array_2d_plotter = aplt.Array2DPlotter(array=residual_map)\n",
        "array_2d_plotter.figure_2d()"
      ],
      "outputs": [],
      "execution_count": null
    },
    {
      "cell_type": "markdown",
      "metadata": {},
      "source": [
        "__Iterative Approach__\n",
        "\n",
        "We end using an iterative approach that alternatives between cosmic ray flagging and pre-CTI estimation.\n",
        "\n",
        "As discussed throughout the tutorial, this is not necessary for this data where cosmic rays are subdominant,\n",
        "but it may be important for certain datasets where cosmic rays dominate.\n",
        "\n",
        "The routine below starts from the original data loaded from .fits, as opposed to the already corrected / flagged\n",
        "data above, so it can easily be copy, pasted and used."
      ]
    },
    {
      "cell_type": "code",
      "metadata": {},
      "source": [
        "iterations = 3\n",
        "\n",
        "data = data_corrected\n",
        "\n",
        "for i in range(iterations):\n",
        "    injection_norm_list = layout.extract.parallel_fpr.median_list_from(\n",
        "        array=data, settings=ac.SettingsExtract(pixels=(150, 200))\n",
        "    )\n",
        "\n",
        "    pre_cti_data = layout.pre_cti_data_non_uniform_from(\n",
        "        injection_norm_list=injection_norm_list,\n",
        "        pixel_scales=dataset.data.pixel_scales,\n",
        "    )\n",
        "\n",
        "    data_charge_subtracted = data_corrected.native - pre_cti_data.native\n",
        "\n",
        "    cosmic_ray_flag_mask = (\n",
        "        data_charge_subtracted > cr_threshold * dataset.noise_map.native\n",
        "    )\n",
        "\n",
        "    cosmic_ray_map = data_charge_subtracted * cosmic_ray_flag_mask\n",
        "\n",
        "    data = data_corrected - cosmic_ray_map"
      ],
      "outputs": [],
      "execution_count": null
    },
    {
      "cell_type": "markdown",
      "metadata": {},
      "source": [
        "We plot the final residual map, which has had the pre-CTI estimate and all cosmic rays subtracted."
      ]
    },
    {
      "cell_type": "code",
      "metadata": {},
      "source": [
        "residual_map = data - pre_cti_data.native\n",
        "\n",
        "array_2d_plotter = aplt.Array2DPlotter(array=residual_map)\n",
        "array_2d_plotter.figure_2d()"
      ],
      "outputs": [],
      "execution_count": null
    },
    {
      "cell_type": "markdown",
      "metadata": {},
      "source": [
        "__Wrap Up__\n",
        "\n",
        "This example uses the inner regions of a charge injection image's FPR to estimate the original charge injection\n",
        "image's appearance before clocking and therefore before electrons are captured and trailed due to CTI. \n",
        "\n",
        "We then showed that using this estimated image, we could fit a CTI model to the original data. This gave an accurate\n",
        "model of CTI for the data, which we used to add CTI to the estimated pre-CTI data. This gave a cleaned subtract\n",
        "from the original data with minimal residuals. \n",
        "\n",
        "The next example, titled `complex.py` uses the same tools, but extends the problem to include cosmic rays in\n",
        "the charge injection image (which must be accounted for when estimate the charge levels) and serial CTI (which\n",
        "moves electrons between the FPR regions we use to estimate the charge injection)"
      ]
    },
    {
      "cell_type": "code",
      "metadata": {},
      "source": [],
      "outputs": [],
      "execution_count": null
    }
  ],
  "metadata": {
    "anaconda-cloud": {},
    "kernelspec": {
      "display_name": "Python 3",
      "language": "python",
      "name": "python3"
    },
    "language_info": {
      "codemirror_mode": {
        "name": "ipython",
        "version": 3
      },
      "file_extension": ".py",
      "mimetype": "text/x-python",
      "name": "python",
      "nbconvert_exporter": "python",
      "pygments_lexer": "ipython3",
      "version": "3.6.1"
    }
  },
  "nbformat": 4,
  "nbformat_minor": 4
}