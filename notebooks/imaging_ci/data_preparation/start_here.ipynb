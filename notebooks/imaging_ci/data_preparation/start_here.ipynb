{
  "cells": [
    {
      "cell_type": "markdown",
      "metadata": {},
      "source": [
        "Charge Injection Imaging: Data Preparation\n",
        "==========================================\n",
        "\n",
        "When a charge injection imaging dataset is analysed, it must conform to certain standards in order\n",
        "for the analysis to be performed correctly. This tutorial describes these standards and links to more detailed scripts\n",
        "which will help you prepare your dataset to adhere to them if it does not already.\n",
        "\n",
        "__Pixel Scale__\n",
        "\n",
        "The \"pixel_scale\" of the image (and the data in general) is pixel-units to arcsecond-units conversion factor of\n",
        "your telescope. You should look up now if you are unsure of the value.\n",
        "\n",
        "The pixel scale of some common telescopes is as follows:\n",
        "\n",
        " - Hubble Space telescope 0.04\" - 0.1\" (depends on the instrument and wavelength).\n",
        " - James Webb Space telescope 0.06\" - 0.1\" (depends on the instrument and wavelength).\n",
        " - Euclid 0.1\" (Optical VIS instrument) and 0.2\" (NIR NISP instrument).\n",
        "\n",
        "It is absolutely vital you use the correct pixel scale, so double check this value!"
      ]
    },
    {
      "cell_type": "code",
      "metadata": {},
      "source": [
        "%matplotlib inline\n",
        "from pyprojroot import here\n",
        "workspace_path = str(here())\n",
        "%cd $workspace_path\n",
        "print(f\"Working Directory has been set to `{workspace_path}`\")\n",
        "\n",
        "from os import path\n",
        "import autofit as af\n",
        "import autocti as ac\n",
        "import autocti.plot as aplt\n"
      ],
      "outputs": [],
      "execution_count": null
    },
    {
      "cell_type": "markdown",
      "metadata": {},
      "source": [
        "__Dataset + Layout__\n",
        "\n",
        "The paths pointing to the dataset we will use for CTI modeling."
      ]
    },
    {
      "cell_type": "code",
      "metadata": {},
      "source": [
        "dataset_name = \"non_uniform\"\n",
        "dataset_path = path.join(\"dataset\", \"imaging_ci\", dataset_name)"
      ],
      "outputs": [],
      "execution_count": null
    },
    {
      "cell_type": "markdown",
      "metadata": {},
      "source": [
        "__Shape__\n",
        "\n",
        "The 2D shape of the images."
      ]
    },
    {
      "cell_type": "code",
      "metadata": {},
      "source": [
        "shape_native = (2000, 100)"
      ],
      "outputs": [],
      "execution_count": null
    },
    {
      "cell_type": "markdown",
      "metadata": {},
      "source": [
        "__Regions__\n",
        "\n",
        "We next define the locations of the prescan and overscan on the 2D data. \n",
        "\n",
        "2D regions are defined as a tuple of the form (y0, y1, x0, x1) = (top-row, bottom-row, left-column, right-column), \n",
        "where the integer values of the tuple are used to perform NumPy array indexing of the 2D data.\n",
        "\n",
        "For example, if the serial overscan of 2D data is 100 columns from the read-out electronics and spans a total of\n",
        "150 rows, its region is `region=(0, 150, 0, 100)`.\n",
        "\n",
        "These are used to visualize these regions of the 2D CTI dataset during the model-fit and customize aspects of the \n",
        "model-fit."
      ]
    },
    {
      "cell_type": "code",
      "metadata": {},
      "source": [
        "parallel_overscan = ac.Region2D((1980, 2000, 5, 95))\n",
        "serial_prescan = ac.Region2D((0, 2000, 0, 5))\n",
        "serial_overscan = ac.Region2D((0, 1980, 95, 100))"
      ],
      "outputs": [],
      "execution_count": null
    },
    {
      "cell_type": "markdown",
      "metadata": {},
      "source": [
        "Specify the charge regions on the 2D CTI Dataset, corresponding to where a signal is contained that has its electrons \n",
        "captured and trailed by CTI (e.g. the FPR).\n",
        "\n",
        "This dataset has five charge regions, which are spaced in on / off blocks of 200 pixels.\n",
        "\n",
        "Note that the charge injections do not extend to inside of the serial prescan or serial overscan regions."
      ]
    },
    {
      "cell_type": "code",
      "metadata": {},
      "source": [
        "region_list = [\n",
        "    (0, 200, serial_prescan[3], serial_overscan[2]),\n",
        "    (400, 600, serial_prescan[3], serial_overscan[2]),\n",
        "    (800, 1000, serial_prescan[3], serial_overscan[2]),\n",
        "    (1200, 1400, serial_prescan[3], serial_overscan[2]),\n",
        "    (1600, 1800, serial_prescan[3], serial_overscan[2]),\n",
        "]"
      ],
      "outputs": [],
      "execution_count": null
    },
    {
      "cell_type": "markdown",
      "metadata": {},
      "source": [
        "Specify the normalization of the charge in the dataset we use to illustrate data preparation.\n",
        "\n",
        "This is not used internally by **PyAutoCTI**, and only required for loading the dataset because the dataset file\n",
        "names use the normalizations."
      ]
    },
    {
      "cell_type": "code",
      "metadata": {},
      "source": [
        "norm = 5000"
      ],
      "outputs": [],
      "execution_count": null
    },
    {
      "cell_type": "markdown",
      "metadata": {},
      "source": [
        "__Layout__\n",
        "\n",
        "We now create a `Layout2D` object for every 1D dataset fitted in this script.\n",
        "\n",
        "This object contains all functionality associated with the layout of the data (e.g. where the FPR is, where the\n",
        "EPERs are, where the overscans are, etc.). \n",
        "\n",
        "This is used for performing tasks like extracting a small region of the data for visualization."
      ]
    },
    {
      "cell_type": "code",
      "metadata": {},
      "source": [
        "layout = ac.Layout2DCI(\n",
        "    shape_2d=shape_native,\n",
        "    region_list=region_list,\n",
        "    parallel_overscan=parallel_overscan,\n",
        "    serial_prescan=serial_prescan,\n",
        "    serial_overscan=serial_overscan,\n",
        ")"
      ],
      "outputs": [],
      "execution_count": null
    },
    {
      "cell_type": "markdown",
      "metadata": {},
      "source": [
        "__Dataset__\n",
        "\n",
        "We now use a `ImagingCI` object to load every 2D CTI charge injection dataset, including a noise-map and pre-cti data \n",
        "containing the data before read-out and therefore without CTI. \n",
        "\n",
        "The `pixel_scales` define the arc-second to pixel conversion factor of the image, which for the dataset we are using \n",
        "is 0.1\" / pixel."
      ]
    },
    {
      "cell_type": "code",
      "metadata": {},
      "source": [
        "dataset = ac.ImagingCI.from_fits(\n",
        "    data_path=path.join(dataset_path, f\"norm_{int(norm)}\", \"data.fits\"),\n",
        "    noise_map_path=path.join(dataset_path, f\"norm_{int(norm)}\", \"noise_map.fits\"),\n",
        "    pre_cti_data_path=path.join(dataset_path, f\"norm_{int(norm)}\", \"pre_cti_data.fits\"),\n",
        "    layout=layout,\n",
        "    pixel_scales=0.1,\n",
        ")"
      ],
      "outputs": [],
      "execution_count": null
    },
    {
      "cell_type": "markdown",
      "metadata": {},
      "source": [
        "Use a `ImagingCIPlotter` to the plot the data."
      ]
    },
    {
      "cell_type": "code",
      "metadata": {},
      "source": [
        "array_2d_plotter = aplt.Array2DPlotter(array=dataset.data)\n",
        "array_2d_plotter.figure_2d()"
      ],
      "outputs": [],
      "execution_count": null
    },
    {
      "cell_type": "markdown",
      "metadata": {},
      "source": [
        "__Image__\n",
        "\n",
        "This image conforms to **PyAutoCTI** standards for the following reasons.\n",
        "\n",
        " - Units: The image flux is in units of electrons (as opposed to electrons, counts, ADU`s etc.). \n",
        "   Internal **PyAutoCTI** functions which perform CTI clocking assume the image is in electrons.\n",
        "   \n",
        " - Bias: Although not clear from the visual itself, the image has been bias subtracted, which **PyAutoCTI**\n",
        "   assumes has always been performed for data it processes (in addition to other effects like non-linearity).\n",
        "   \n",
        "If your image conforms to all of the above standards, you are good to use it for an analysis (but must also check\n",
        "you noise-map and PSF conform to standards first!).\n",
        "\n",
        "If it does not, checkout the `examples/bias_subtraction.ipynb` notebooks for tools to process the data so it does (or \n",
        "use your own data reduction tools to do so).\n",
        "\n",
        "This workspace does not currently have an example of how to convert your data from another data unit to electrons,\n",
        "because this is often an instrument specific process which a general example cannot cover. \n",
        "\n",
        "__Noise Map__\n",
        "\n",
        "The noise-map defines the uncertainty in every pixel of your strong lens image, where values are defined as the \n",
        "RMS standard deviation in every pixel (not the variances, HST WHT-map values, etc.). \n",
        "\n",
        "Lets inspect a noise-map which conforms to **PyAutoCTI** standards:"
      ]
    },
    {
      "cell_type": "code",
      "metadata": {},
      "source": [
        "array_plotter = aplt.Array2DPlotter(array=dataset.noise_map)\n",
        "array_plotter.figure_2d()"
      ],
      "outputs": [],
      "execution_count": null
    },
    {
      "cell_type": "markdown",
      "metadata": {},
      "source": [
        "This noise-map conforms to **PyAutoCTI** standards for the following reasons:\n",
        "\n",
        " - Units: Like its corresponding image, it is in units of electrons (as opposed to electrons per second, counts, \n",
        "   ADU`s etc.). Internal **PyAutoCTI** functions for computing quantities like a galaxy magnitude assume the data and \n",
        "   model light profiles are in electrons per second.\n",
        "\n",
        " - Values: The noise-map values themselves are the RMS standard deviations of the noise in every pixel. When a model \n",
        "   is fitted to data in **PyAutoCTI** and a likelihood is evaluated, this calculation assumes that this is the\n",
        "   corresponding definition of the noise-map. The noise map therefore should not be the variance of the noise, or \n",
        "   another definition of noise.\n",
        "\n",
        "If you are not certain what the definition of the noise-map you have available to you is, or do not know how to\n",
        "compute a noise-map at all, you should refer to the instrument handbook of the telescope your data is from. It is\n",
        "absolutely vital that the noise-map is correct, as it is the only way to quantify the goodness-of-fit.\n",
        "\n",
        "A sanity check for a reliable noise map is that there is a a near constant set of values corresponding to the \n",
        "read-out noise of the instrument. There are not many other sources of noise in charge injection data, but\n",
        "there may be charge injection noise in the FPR.\n",
        "   \n",
        "If your noise-map conforms to all of the above standards, you are good to use it for an analysis (but must also check\n",
        "you image conform to standards first!).\n",
        "\n",
        "If it does not, checkout the `examples/noise_map.ipynb` notebook for tools to process the data so it does (or use your \n",
        "own data reduction tools to do so).\n",
        "\n",
        "__Pre CTI Data__\n",
        "\n",
        "To perform CTI calibration, we need to know what the data looked like before read-out and therefore before CTI. \n",
        "This is because CTI calibration first adds CTI to this image, before subtracting it from the observed image to\n",
        "quantify the likelihood and CTI effect.\n",
        "\n",
        "The pre-CTI data can be estimated from the observed image using its first pixel response (FPR). This is because no\n",
        "electrons are captured in the central region os the FPR (because all traps on the CCD are already full). \n",
        "There the median of the inner region of the FPR can be used to estimate the pre-CTI data.\n",
        "\n",
        "Other aspects of charge injection data, such as column-to-column non-uniformity and charge injection noise can also\n",
        "be estimate using the FPR.\n",
        "\n",
        "Lets inspect pre-cti data which conforms to **PyAutoCTI** standards:"
      ]
    },
    {
      "cell_type": "code",
      "metadata": {},
      "source": [
        "array_plotter = aplt.Array2DPlotter(array=dataset.pre_cti_data)\n",
        "array_plotter.figure_2d()"
      ],
      "outputs": [],
      "execution_count": null
    },
    {
      "cell_type": "markdown",
      "metadata": {},
      "source": [
        "This conforms to **PyAutoCTI** standards for the following reasons.\n",
        "\n",
        " - Units: Like its corresponding image, it is in units of electrons (as opposed to electrons per second, counts, \n",
        "   ADU`s etc.). \n",
        "   \n",
        " - Accuracy: The pre-CTI data is estimated from the FPR and therefore provides an accurate estimate of the\n",
        "   signal truly injected into the CCD before read-out. \n",
        "\n",
        "If your pre-CTI data conforms to all of the above standards, you are good to use it for an analysis (but must also check\n",
        "you noise-map and image conform to standards first!).\n",
        "\n",
        "If it does not, checkout the `examples/pre_cti.ipynb` notebook for tools to process the data so it does (or use your \n",
        "own data reduction tools to do so).\n",
        "\n",
        "__Cosmic Ray Flagging__\n",
        "\n",
        "Charge injection data taken in space is affected by cosmic rays. These are high energy particles which appear as\n",
        "delta functions (or small extended spikes) in the image. \n",
        "\n",
        "Because one has no knowledge of when a cosmic ray hit the CCD, it is impossible to know when it occured and thus\n",
        "no useful information can be extracted from it about CTI. \n",
        "\n",
        "Therefore, cosmic rays must be flagged and masked so they do not affect the analysis. This masking must also include \n",
        "their CTI EPER trails.\n",
        "\n",
        "Due to the regular and predictable nature of charge injection data, it is possible to flag cosmic rays to a very high\n",
        "completeness using simple thresholding techniques. The process therefore does not use more complicated techniques\n",
        "which are often applied to science data, which by default would flag the charge injection regions as cosmic rays.\n",
        "\n",
        "Lets inspect a cosmic ray map which conforms to **PyAutoCTI** standards:"
      ]
    },
    {
      "cell_type": "code",
      "metadata": {},
      "source": [
        "dataset_path = path.join(\"dataset\", \"imaging_ci\", \"cosmic_rays\")\n",
        "\n",
        "cosmic_ray_map = ac.Array2D.from_fits(\n",
        "    file_path=path.join(dataset_path, f\"norm_{int(norm)}\", \"cosmic_ray_map.fits\"),\n",
        "    pixel_scales=0.1,\n",
        ")\n",
        "\n",
        "array_plotter = aplt.Array2DPlotter(array=cosmic_ray_map)\n",
        "array_plotter.figure_2d()"
      ],
      "outputs": [],
      "execution_count": null
    },
    {
      "cell_type": "markdown",
      "metadata": {},
      "source": [
        "This conforms to **PyAutoCTI** standards for the following reasons.\n",
        "\n",
        " - Accuracy: The cosmic ray map has successfully identified the vast majority of cosmic rays in the image.\n",
        "\n",
        "__Data Processing Complete__\n",
        "\n",
        "If your image, noise-map and PSF conform the standards above, you are ready to analyse your dataset!\n",
        "\n",
        "Below, we provide an overview of optional data preparation steos which prepare other aspects of the analysis. \n",
        "\n",
        "New users are recommended to skim-read the optional steps below so they are aware of them, but to not perform them \n",
        "and instead analyse their dataset now. You can come back to the data preparation scripts below if it becomes necessary."
      ]
    },
    {
      "cell_type": "code",
      "metadata": {},
      "source": [],
      "outputs": [],
      "execution_count": null
    }
  ],
  "metadata": {
    "anaconda-cloud": {},
    "kernelspec": {
      "display_name": "Python 3",
      "language": "python",
      "name": "python3"
    },
    "language_info": {
      "codemirror_mode": {
        "name": "ipython",
        "version": 3
      },
      "file_extension": ".py",
      "mimetype": "text/x-python",
      "name": "python",
      "nbconvert_exporter": "python",
      "pygments_lexer": "ipython3",
      "version": "3.6.1"
    }
  },
  "nbformat": 4,
  "nbformat_minor": 4
}