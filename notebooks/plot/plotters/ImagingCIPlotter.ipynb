{
  "cells": [
    {
      "cell_type": "markdown",
      "metadata": {},
      "source": [
        "Plots: ImagingCIPlotter\n",
        "=======================\n",
        "\n",
        "This example illustrates how to plot a `ImagingCI` dataset using an `ImagingCIPlotter`."
      ]
    },
    {
      "cell_type": "code",
      "metadata": {},
      "source": [
        "%matplotlib inline\n",
        "from pyprojroot import here\n",
        "workspace_path = str(here())\n",
        "%cd $workspace_path\n",
        "print(f\"Working Directory has been set to `{workspace_path}`\")\n",
        "\n",
        "from os import path\n",
        "import autocti as ac\n",
        "import autocti.plot as aplt"
      ],
      "outputs": [],
      "execution_count": null
    },
    {
      "cell_type": "markdown",
      "metadata": {},
      "source": [
        "__Dataset__\n",
        "\n",
        "Load the charge injection dataset 'imaging_ci/uniform/parallel_x2' from .fits files, which is the dataset we will\n",
        "use to illustrate plotting charge injection data."
      ]
    },
    {
      "cell_type": "code",
      "metadata": {},
      "source": [
        "\n",
        "shape_native = (2000, 100)\n",
        "\n",
        "dataset_name = \"simple\"\n",
        "dataset_path = path.join(\"dataset\", \"imaging_ci\", dataset_name)\n",
        "\n",
        "parallel_overscan = ac.Region2D((1980, 2000, 5, 95))\n",
        "serial_prescan = ac.Region2D((0, 2000, 0, 5))\n",
        "serial_overscan = ac.Region2D((0, 1980, 95, 100))\n",
        "\n",
        "regions_list = [\n",
        "    (0, 200, serial_prescan[3], serial_overscan[2]),\n",
        "    (400, 600, serial_prescan[3], serial_overscan[2]),\n",
        "    (800, 1000, serial_prescan[3], serial_overscan[2]),\n",
        "    (1200, 1400, serial_prescan[3], serial_overscan[2]),\n",
        "    (1600, 1800, serial_prescan[3], serial_overscan[2]),\n",
        "]\n",
        "\n",
        "\n",
        "norm_list = [100, 5000, 25000, 200000]\n",
        "\n",
        "total_datasets = len(norm_list)\n",
        "\n",
        "layout_list = [\n",
        "    ac.Layout2DCI(\n",
        "        shape_2d=shape_native,\n",
        "        region_list=regions_list,\n",
        "        parallel_overscan=parallel_overscan,\n",
        "        serial_prescan=serial_prescan,\n",
        "        serial_overscan=serial_overscan,\n",
        "    )\n",
        "    for i in range(total_datasets)\n",
        "]\n",
        "\n",
        "dataset_list = [\n",
        "    ac.ImagingCI.from_fits(\n",
        "        data_path=path.join(dataset_path, f\"norm_{int(norm)}\", \"data.fits\"),\n",
        "        noise_map_path=path.join(dataset_path, f\"norm_{int(norm)}\", \"noise_map.fits\"),\n",
        "        pre_cti_data_path=path.join(\n",
        "            dataset_path, f\"norm_{int(norm)}\", \"pre_cti_data.fits\"\n",
        "        ),\n",
        "        layout=layout,\n",
        "        pixel_scales=0.1,\n",
        "    )\n",
        "    for layout, norm in zip(layout_list, norm_list)\n",
        "]\n"
      ],
      "outputs": [],
      "execution_count": null
    },
    {
      "cell_type": "markdown",
      "metadata": {},
      "source": [
        "__Plotting__\n",
        "\n",
        "We now pass the first dataset in the imaging to a `ImagingCIPlotter` and call various `figure_*` methods to plot \n",
        "different attributes."
      ]
    },
    {
      "cell_type": "code",
      "metadata": {},
      "source": [
        "dataset_plotter = aplt.ImagingCIPlotter(\n",
        "    dataset=dataset_list[0],\n",
        ")\n",
        "dataset_plotter.figures_2d(\n",
        "    data=True,\n",
        "    noise_map=True,\n",
        "    pre_cti_data=True,\n",
        ")"
      ],
      "outputs": [],
      "execution_count": null
    },
    {
      "cell_type": "markdown",
      "metadata": {},
      "source": [
        "The `ImagingCIPlotter` may also plot a subplot of all of these attributes."
      ]
    },
    {
      "cell_type": "code",
      "metadata": {},
      "source": [
        "dataset_plotter.subplot_dataset()"
      ],
      "outputs": [],
      "execution_count": null
    },
    {
      "cell_type": "markdown",
      "metadata": {},
      "source": [
        "__Regions__\n",
        "\n",
        "We can also call `figures_1d_*` methods which create 1D plots of regions of the image binned over the parallel or\n",
        "serial direction.\n",
        "\n",
        "The regions available are:\n",
        "\n",
        " `parallel_fpr`: The charge injection region binned up over all columns (e.g. across serial).\n",
        " `parallel_eper`: The parallel CTI trails behind the charge injection region binned up over all columns (e.g. \n",
        "  across serial).\n",
        " `serial_front_edge`: The charge injection region binned up over all rows (e.g. across parallel).\n",
        " `serial_trails`: The serial CTI trails behind the charge injection region binned up over all rows (e.g. across serial)."
      ]
    },
    {
      "cell_type": "code",
      "metadata": {},
      "source": [
        "dataset_plotter.figures_1d(region=\"parallel_fpr\", data=True, pre_cti_data=True)\n",
        "dataset_plotter.figures_1d(region=\"parallel_eper\", data=True, pre_cti_data=True)"
      ],
      "outputs": [],
      "execution_count": null
    },
    {
      "cell_type": "markdown",
      "metadata": {},
      "source": [
        "Region plots also include the data with error bars showing the noise map."
      ]
    },
    {
      "cell_type": "code",
      "metadata": {},
      "source": [
        "dataset_plotter.figures_1d(region=\"parallel_fpr\", data=True)\n",
        "dataset_plotter.figures_1d(region=\"parallel_eper\", data=True)"
      ],
      "outputs": [],
      "execution_count": null
    },
    {
      "cell_type": "markdown",
      "metadata": {},
      "source": [
        "The above plots can also be created with a logarithmic y axis."
      ]
    },
    {
      "cell_type": "code",
      "metadata": {},
      "source": [
        "dataset_plotter.figures_1d(region=\"parallel_fpr\", data_logy=True)\n",
        "dataset_plotter.figures_1d(region=\"parallel_eper\", data_logy=True)"
      ],
      "outputs": [],
      "execution_count": null
    },
    {
      "cell_type": "markdown",
      "metadata": {},
      "source": [
        "There is also a subplot of these 1D plots."
      ]
    },
    {
      "cell_type": "code",
      "metadata": {},
      "source": [
        "dataset_plotter.subplot_1d(region=\"parallel_fpr\")"
      ],
      "outputs": [],
      "execution_count": null
    },
    {
      "cell_type": "markdown",
      "metadata": {},
      "source": [
        "Imaging` contains the following attributes which can be plotted automatically via the `Include2D` object.\n",
        "\n",
        "(By default, an `Array2D` does not contain a `Mask2D`, we therefore manually created an `Array2D` with a mask to \n",
        "illustrate the plotted of a mask and its border below)."
      ]
    },
    {
      "cell_type": "code",
      "metadata": {},
      "source": [
        "include = aplt.Include2D(\n",
        "    parallel_overscan=True, serial_prescan=True, serial_overscan=True\n",
        ")\n",
        "dataset_plotter = aplt.ImagingCIPlotter(dataset=dataset_list[0], include_2d=include)\n",
        "dataset_plotter.figures_2d(data=True)"
      ],
      "outputs": [],
      "execution_count": null
    },
    {
      "cell_type": "markdown",
      "metadata": {},
      "source": [
        "__Multiple Images__\n",
        "\n",
        "Our `ImagingCI` dataset consists of many images taken at different charge injection levels. We may wish to plot\n",
        "all images on the same subplot, which can be performed using the method `subplot_of_figure`."
      ]
    },
    {
      "cell_type": "code",
      "metadata": {},
      "source": [
        "dataset_plotter_list = [\n",
        "    aplt.ImagingCIPlotter(dataset=dataset) for dataset in dataset_list\n",
        "]\n",
        "multi_plotter = aplt.MultiFigurePlotter(plotter_list=dataset_plotter_list)\n",
        "multi_plotter.subplot_of_figure(func_name=\"figures_2d\", figure_name=\"data\")\n",
        "multi_plotter.subplot_of_figure(func_name=\"figures_2d\", figure_name=\"pre_cti_data\")"
      ],
      "outputs": [],
      "execution_count": null
    },
    {
      "cell_type": "markdown",
      "metadata": {},
      "source": [
        "This method can also plot all of the 1D figures that we plotted above."
      ]
    },
    {
      "cell_type": "code",
      "metadata": {},
      "source": [
        "multi_plotter.subplot_of_figure(\n",
        "    func_name=\"figures_1d\", figure_name=\"data\", region=\"parallel_fpr\"\n",
        ")"
      ],
      "outputs": [],
      "execution_count": null
    },
    {
      "cell_type": "markdown",
      "metadata": {},
      "source": [
        "__Settings Dictionary__\n",
        "\n",
        "The `settings_dict` of each dataset has entries corresponding to the settings used to create the data. \n",
        "\n",
        "For example, this might be the voltages of the charge injections.\n",
        "\n",
        "This will display on 1D figures when they are plotted, so that when we create a subplot of many datasets we can\n",
        "see the settings of each dataset."
      ]
    },
    {
      "cell_type": "code",
      "metadata": {},
      "source": [
        "dataset_list = [\n",
        "    ac.ImagingCI.from_fits(\n",
        "        data_path=path.join(dataset_path, f\"norm_{int(norm)}\", \"data.fits\"),\n",
        "        noise_map_path=path.join(dataset_path, f\"norm_{int(norm)}\", \"noise_map.fits\"),\n",
        "        pre_cti_data_path=path.join(\n",
        "            dataset_path, f\"norm_{int(norm)}\", \"pre_cti_data.fits\"\n",
        "        ),\n",
        "        layout=layout,\n",
        "        pixel_scales=0.1,\n",
        "        settings_dict={\"voltage_0\": \"3V\", \"voltage_2\": \"6V\"},\n",
        "    )\n",
        "    for layout, norm in zip(layout_list, norm_list)\n",
        "]\n",
        "\n",
        "dataset_plotter_list = [\n",
        "    aplt.ImagingCIPlotter(dataset=dataset) for dataset in dataset_list\n",
        "]\n",
        "multi_plotter = aplt.MultiFigurePlotter(plotter_list=dataset_plotter_list)\n",
        "\n",
        "multi_plotter.subplot_of_figure(\n",
        "    func_name=\"figures_1d\", figure_name=\"data\", region=\"parallel_fpr\"\n",
        ")\n"
      ],
      "outputs": [],
      "execution_count": null
    },
    {
      "cell_type": "markdown",
      "metadata": {},
      "source": [
        "Finish."
      ]
    },
    {
      "cell_type": "code",
      "metadata": {},
      "source": [],
      "outputs": [],
      "execution_count": null
    }
  ],
  "metadata": {
    "anaconda-cloud": {},
    "kernelspec": {
      "display_name": "Python 3",
      "language": "python",
      "name": "python3"
    },
    "language_info": {
      "codemirror_mode": {
        "name": "ipython",
        "version": 3
      },
      "file_extension": ".py",
      "mimetype": "text/x-python",
      "name": "python",
      "nbconvert_exporter": "python",
      "pygments_lexer": "ipython3",
      "version": "3.6.1"
    }
  },
  "nbformat": 4,
  "nbformat_minor": 4
}