{
  "cells": [
    {
      "cell_type": "markdown",
      "metadata": {},
      "source": [
        "Plots: FitImagingCIPlotter\n",
        "==========================\n",
        "\n",
        "This example illustrates how to plot a `FitImagingCI` dataset using an `FitImagingCIPlotter`."
      ]
    },
    {
      "cell_type": "code",
      "metadata": {},
      "source": [
        "%matplotlib inline\n",
        "from pyprojroot import here\n",
        "workspace_path = str(here())\n",
        "%cd $workspace_path\n",
        "print(f\"Working Directory has been set to `{workspace_path}`\")\n",
        "\n",
        "from os import path\n",
        "import autocti as ac\n",
        "import autocti.plot as aplt"
      ],
      "outputs": [],
      "execution_count": null
    },
    {
      "cell_type": "markdown",
      "metadata": {},
      "source": [
        "__Dataset__\n",
        "\n",
        "Load the charge injection dataset 'imaging_ci/uniform/parallel_x2' from .fits files, which is the dataset we will\n",
        "use to illustrate plotting charge injection data."
      ]
    },
    {
      "cell_type": "code",
      "metadata": {},
      "source": [
        "\n",
        "shape_native = (2000, 100)\n",
        "\n",
        "dataset_name = \"simple\"\n",
        "dataset_path = path.join(\"dataset\", \"imaging_ci\", dataset_name)\n",
        "\n",
        "parallel_overscan = ac.Region2D((1980, 2000, 5, 95))\n",
        "serial_prescan = ac.Region2D((0, 2000, 0, 5))\n",
        "serial_overscan = ac.Region2D((0, 1980, 95, 100))\n",
        "\n",
        "regions_list = [\n",
        "    (0, 200, serial_prescan[3], serial_overscan[2]),\n",
        "    (400, 600, serial_prescan[3], serial_overscan[2]),\n",
        "    (800, 1000, serial_prescan[3], serial_overscan[2]),\n",
        "    (1200, 1400, serial_prescan[3], serial_overscan[2]),\n",
        "    (1600, 1800, serial_prescan[3], serial_overscan[2]),\n",
        "]\n",
        "\n",
        "\n",
        "norm_list = [100, 5000, 25000, 200000]\n",
        "\n",
        "total_datasets = len(norm_list)\n",
        "\n",
        "layout_list = [\n",
        "    ac.Layout2DCI(\n",
        "        shape_2d=shape_native,\n",
        "        region_list=regions_list,\n",
        "        parallel_overscan=parallel_overscan,\n",
        "        serial_prescan=serial_prescan,\n",
        "        serial_overscan=serial_overscan,\n",
        "    )\n",
        "    for i in range(total_datasets)\n",
        "]\n",
        "\n",
        "dataset_list = [\n",
        "    ac.ImagingCI.from_fits(\n",
        "        data_path=path.join(dataset_path, f\"norm_{int(norm)}\", \"data.fits\"),\n",
        "        noise_map_path=path.join(dataset_path, f\"norm_{int(norm)}\", \"noise_map.fits\"),\n",
        "        pre_cti_data_path=path.join(\n",
        "            dataset_path, f\"norm_{int(norm)}\", \"pre_cti_data.fits\"\n",
        "        ),\n",
        "        layout=layout,\n",
        "        pixel_scales=0.1,\n",
        "    )\n",
        "    for layout, norm in zip(layout_list, norm_list)\n",
        "]"
      ],
      "outputs": [],
      "execution_count": null
    },
    {
      "cell_type": "markdown",
      "metadata": {},
      "source": [
        "The `Clocker` models the line read-out, including CTI. "
      ]
    },
    {
      "cell_type": "code",
      "metadata": {},
      "source": [
        "clocker = ac.Clocker2D(\n",
        "    parallel_express=5, parallel_roe=ac.ROEChargeInjection(), parallel_fast_mode=True\n",
        ")"
      ],
      "outputs": [],
      "execution_count": null
    },
    {
      "cell_type": "markdown",
      "metadata": {},
      "source": [
        "__CTI Model__\n",
        "\n",
        "The CTI model used by arCTIc to add CTI to the input image in the parallel direction, which contains: \n",
        "\n",
        " - 2 `Trap` species in the parallel direction.\n",
        " - A simple CCDPhase volume filling parametrization.\n",
        " \n",
        "This is the true CTI model used to simulate the dataset."
      ]
    },
    {
      "cell_type": "code",
      "metadata": {},
      "source": [
        "parallel_trap_0 = ac.TrapInstantCapture(density=0.13, release_timescale=1.25)\n",
        "parallel_trap_1 = ac.TrapInstantCapture(density=0.25, release_timescale=4.4)\n",
        "\n",
        "parallel_trap_list = [parallel_trap_0, parallel_trap_1]\n",
        "\n",
        "parallel_ccd = ac.CCDPhase(\n",
        "    well_fill_power=0.58, well_notch_depth=0.0, full_well_depth=200000.0\n",
        ")\n",
        "\n",
        "cti = ac.CTI2D(\n",
        "    parallel_trap_list=parallel_trap_list,\n",
        "    parallel_ccd=parallel_ccd,\n",
        ")"
      ],
      "outputs": [],
      "execution_count": null
    },
    {
      "cell_type": "markdown",
      "metadata": {},
      "source": [
        "Make a post-CTI image from the pre-CTI images in our `ImagingCI` dataset, using the `Clocker`."
      ]
    },
    {
      "cell_type": "code",
      "metadata": {},
      "source": [
        "post_cti_data_list = [\n",
        "    clocker.add_cti(data=dataset.pre_cti_data, cti=cti) for dataset in dataset_list\n",
        "]"
      ],
      "outputs": [],
      "execution_count": null
    },
    {
      "cell_type": "markdown",
      "metadata": {},
      "source": [
        "We now perform the fit."
      ]
    },
    {
      "cell_type": "code",
      "metadata": {},
      "source": [
        "fit_ci_list = [\n",
        "    ac.FitImagingCI(dataset=dataset, post_cti_data=post_cti_data)\n",
        "    for dataset, post_cti_data in zip(dataset_list, post_cti_data_list)\n",
        "]"
      ],
      "outputs": [],
      "execution_count": null
    },
    {
      "cell_type": "markdown",
      "metadata": {},
      "source": [
        "We now pass the `FitImagingCI` and call various `figure_*` methods to plot different attributes."
      ]
    },
    {
      "cell_type": "code",
      "metadata": {},
      "source": [
        "fit_plotter = aplt.FitImagingCIPlotter(fit=fit_ci_list[0])\n",
        "fit_plotter.figures_2d(\n",
        "    data=True,\n",
        "    noise_map=True,\n",
        "    pre_cti_data=True,\n",
        "    residual_map=True,\n",
        "    normalized_residual_map=True,\n",
        "    chi_squared_map=True,\n",
        ")"
      ],
      "outputs": [],
      "execution_count": null
    },
    {
      "cell_type": "markdown",
      "metadata": {},
      "source": [
        "The `FitImagingCIPlotter` may also plot a subplot of these attributes."
      ]
    },
    {
      "cell_type": "code",
      "metadata": {},
      "source": [
        "fit_plotter.subplot_fit()"
      ],
      "outputs": [],
      "execution_count": null
    },
    {
      "cell_type": "markdown",
      "metadata": {},
      "source": [
        "__Regions__\n",
        "\n",
        "We can also call `figures_1d_*` methods which create 1D plots of regions of the fit binned over the parallel or\n",
        "serial direction.\n",
        "\n",
        "The regions available are:\n",
        "\n",
        " `parallel_fpr`: The charge injection region binned up over all columns (e.g. across serial).\n",
        " `parallel_eper`: The parallel CTI trails behind the charge injection region binned up over all columns (e.g. \n",
        "  across serial).\n",
        " `serial_front_edge`: The charge injection region binned up over all rows (e.g. across parallel).\n",
        " `serial_trails`: The serial CTI trails behind the charge injection region binned up over all rows (e.g. across serial)."
      ]
    },
    {
      "cell_type": "code",
      "metadata": {},
      "source": [
        "fit_plotter.figures_1d(region=\"parallel_fpr\", data=True, residual_map=True)\n",
        "fit_plotter.figures_1d(region=\"parallel_eper\", data=True, residual_map=True)"
      ],
      "outputs": [],
      "execution_count": null
    },
    {
      "cell_type": "markdown",
      "metadata": {},
      "source": [
        "Region plots also include the data with error bars showing the noise map."
      ]
    },
    {
      "cell_type": "code",
      "metadata": {},
      "source": [
        "fit_plotter.figures_1d(region=\"parallel_fpr\", data=True)\n",
        "fit_plotter.figures_1d(region=\"parallel_eper\", data=True)"
      ],
      "outputs": [],
      "execution_count": null
    },
    {
      "cell_type": "markdown",
      "metadata": {},
      "source": [
        "The above plots can also be created with a logarithmic y axis."
      ]
    },
    {
      "cell_type": "code",
      "metadata": {},
      "source": [
        "fit_plotter.figures_1d(region=\"parallel_fpr\", data_logy=True)\n",
        "fit_plotter.figures_1d(region=\"parallel_eper\", data_logy=True)"
      ],
      "outputs": [],
      "execution_count": null
    },
    {
      "cell_type": "markdown",
      "metadata": {},
      "source": [
        "There is also a subplot of these 1D plots."
      ]
    },
    {
      "cell_type": "code",
      "metadata": {},
      "source": [
        "fit_plotter.subplot_1d(region=\"parallel_fpr\")"
      ],
      "outputs": [],
      "execution_count": null
    },
    {
      "cell_type": "markdown",
      "metadata": {},
      "source": [
        "__Multiple Images on the Same Plot__\n",
        "\n",
        "Our `FitImagingCI` is performed over multiple images taken at different charge injection levels. We may wish to plot\n",
        "the results of the fit on each image on the same subplot, which can be performed using the \n",
        "method `subplot_of_figure`."
      ]
    },
    {
      "cell_type": "code",
      "metadata": {},
      "source": [
        "fit_plotter_list = [aplt.FitImagingCIPlotter(fit=fit_ci) for fit_ci in fit_ci_list]\n",
        "multi_plotter = aplt.MultiFigurePlotter(plotter_list=fit_plotter_list)\n",
        "\n",
        "multi_plotter.subplot_of_figure(func_name=\"figures_2d\", figure_name=\"data\")\n",
        "multi_plotter.subplot_of_figure(func_name=\"figures_2d\", figure_name=\"residual_map\")"
      ],
      "outputs": [],
      "execution_count": null
    },
    {
      "cell_type": "markdown",
      "metadata": {},
      "source": [
        "This method can also plot all of the 1D figures that we plotted above."
      ]
    },
    {
      "cell_type": "code",
      "metadata": {},
      "source": [
        "fit_plotter_list = [aplt.FitImagingCIPlotter(fit=fit_ci) for fit_ci in fit_ci_list]\n",
        "\n",
        "multi_plotter = aplt.MultiFigurePlotter(plotter_list=fit_plotter_list)\n",
        "\n",
        "multi_plotter.subplot_of_figure(\n",
        "    func_name=\"figures_1d\", figure_name=\"residual_map\", region=\"parallel_fpr\"\n",
        ")"
      ],
      "outputs": [],
      "execution_count": null
    },
    {
      "cell_type": "markdown",
      "metadata": {},
      "source": [
        "Finish."
      ]
    },
    {
      "cell_type": "code",
      "metadata": {},
      "source": [],
      "outputs": [],
      "execution_count": null
    }
  ],
  "metadata": {
    "anaconda-cloud": {},
    "kernelspec": {
      "display_name": "Python 3",
      "language": "python",
      "name": "python3"
    },
    "language_info": {
      "codemirror_mode": {
        "name": "ipython",
        "version": 3
      },
      "file_extension": ".py",
      "mimetype": "text/x-python",
      "name": "python",
      "nbconvert_exporter": "python",
      "pygments_lexer": "ipython3",
      "version": "3.6.1"
    }
  },
  "nbformat": 4,
  "nbformat_minor": 4
}