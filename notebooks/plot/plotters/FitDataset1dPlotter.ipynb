{
  "cells": [
    {
      "cell_type": "markdown",
      "metadata": {},
      "source": [
        "Plots: FitDataset1DPlotter\n",
        "===================\n",
        "\n",
        "This example illustrates how to plot a `Dataset1D` dataset using an `Dataset1DPlotter`."
      ]
    },
    {
      "cell_type": "code",
      "metadata": {},
      "source": [
        "%matplotlib inline\n",
        "from pyprojroot import here\n",
        "workspace_path = str(here())\n",
        "%cd $workspace_path\n",
        "print(f\"Working Directory has been set to `{workspace_path}`\")\n",
        "\n",
        "from os import path\n",
        "import autocti as ac\n",
        "import autocti.plot as aplt"
      ],
      "outputs": [],
      "execution_count": null
    },
    {
      "cell_type": "markdown",
      "metadata": {},
      "source": [
        "__dataset__\n",
        "\n",
        "Load the dataset 'dataset_1d/species_x1' from .fits files, which is the dataset we will use to illustrate plotting \n",
        "the dataset."
      ]
    },
    {
      "cell_type": "code",
      "metadata": {},
      "source": [
        "dataset_name = \"simple\"\n",
        "dataset_path = path.join(\"dataset\", \"dataset_1d\", dataset_name)\n",
        "\n",
        "shape_native = (200, 1)\n",
        "\n",
        "prescan = ac.Region1D((0, 10))\n",
        "overscan = ac.Region1D((190, 200))\n",
        "\n",
        "region_list = [(10, 20)]\n",
        "\n",
        "norm_list = [100, 5000, 25000, 200000]\n",
        "\n",
        "layout_list = [\n",
        "    ac.Layout1D(\n",
        "        shape_1d=shape_native,\n",
        "        region_list=region_list,\n",
        "        prescan=prescan,\n",
        "        overscan=overscan,\n",
        "    )\n",
        "    for norm in norm_list\n",
        "]\n",
        "\n",
        "dataset_list = [\n",
        "    ac.Dataset1D.from_fits(\n",
        "        data_path=path.join(dataset_path, f\"norm_{int(norm)}\", \"data.fits\"),\n",
        "        noise_map_path=path.join(dataset_path, f\"norm_{int(norm)}\", \"noise_map.fits\"),\n",
        "        pre_cti_data_path=path.join(\n",
        "            dataset_path, f\"norm_{int(norm)}\", \"pre_cti_data.fits\"\n",
        "        ),\n",
        "        layout=layout,\n",
        "        pixel_scales=0.1,\n",
        "    )\n",
        "    for layout, norm in zip(layout_list, norm_list)\n",
        "]"
      ],
      "outputs": [],
      "execution_count": null
    },
    {
      "cell_type": "markdown",
      "metadata": {},
      "source": [
        "The `Clocker` models the read-out of the data, including CTI. "
      ]
    },
    {
      "cell_type": "code",
      "metadata": {},
      "source": [
        "clocker = ac.Clocker1D(express=5)"
      ],
      "outputs": [],
      "execution_count": null
    },
    {
      "cell_type": "markdown",
      "metadata": {},
      "source": [
        "__CTI Model__\n",
        "\n",
        "The CTI model used by arCTIc to add CTI to the input line in the parallel direction, which contains: \n",
        "\n",
        " - 2 `Trap` species in the parallel direction.\n",
        " - A simple CCDPhase volume filling parametrization.\n",
        " \n",
        "This is the true CTI model used to simulate the dataset."
      ]
    },
    {
      "cell_type": "code",
      "metadata": {},
      "source": [
        "trap_0 = ac.TrapInstantCapture(density=0.13, release_timescale=1.25)\n",
        "trap_1 = ac.TrapInstantCapture(density=0.25, release_timescale=4.4)\n",
        "trap_list = [trap_0, trap_1]\n",
        "\n",
        "ccd = ac.CCDPhase(well_fill_power=0.58, well_notch_depth=0.0, full_well_depth=200000.0)\n",
        "\n",
        "cti = ac.CTI1D(\n",
        "    trap_list=trap_list,\n",
        "    ccd=ccd,\n",
        ")"
      ],
      "outputs": [],
      "execution_count": null
    },
    {
      "cell_type": "markdown",
      "metadata": {},
      "source": [
        "Make a post-1D CTI Dataset from the pre-cti datas in our `Dataset1D` dataset, using the `Clocker`."
      ]
    },
    {
      "cell_type": "code",
      "metadata": {},
      "source": [
        "post_cti_data_list = [\n",
        "    clocker.add_cti(data=dataset.pre_cti_data, cti=cti)\n",
        "    for dataset, norm in zip(dataset_list, norm_list)\n",
        "]"
      ],
      "outputs": [],
      "execution_count": null
    },
    {
      "cell_type": "markdown",
      "metadata": {},
      "source": [
        "We now perform the fit."
      ]
    },
    {
      "cell_type": "code",
      "metadata": {},
      "source": [
        "fit_1d_list = [\n",
        "    ac.FitDataset1D(dataset=dataset, post_cti_data=post_cti_data)\n",
        "    for dataset, post_cti_data in zip(dataset_list, post_cti_data_list)\n",
        "]"
      ],
      "outputs": [],
      "execution_count": null
    },
    {
      "cell_type": "markdown",
      "metadata": {},
      "source": [
        "We now pass the `FitDataset1D` and call various `figure_*` methods to plot different attributes."
      ]
    },
    {
      "cell_type": "code",
      "metadata": {},
      "source": [
        "fit_1d_plotter = aplt.FitDataset1DPlotter(fit=fit_1d_list[0])\n",
        "fit_1d_plotter.figures_1d(\n",
        "    data=True,\n",
        "    noise_map=True,\n",
        "    pre_cti_data=True,\n",
        "    residual_map=True,\n",
        "    normalized_residual_map=True,\n",
        "    chi_squared_map=True,\n",
        ")"
      ],
      "outputs": [],
      "execution_count": null
    },
    {
      "cell_type": "markdown",
      "metadata": {},
      "source": [
        "The `FitDataset1DPlotter` may also plot a subplot of these attributes."
      ]
    },
    {
      "cell_type": "code",
      "metadata": {},
      "source": [
        "fit_1d_plotter.subplot_fit()"
      ],
      "outputs": [],
      "execution_count": null
    },
    {
      "cell_type": "markdown",
      "metadata": {},
      "source": [
        "Our `FitDataset1D` is performed over multiple lines taken at different charge injection levels. We may wish to plot\n",
        "the results of the fit on each line on the same subplot, which can be performed using the \n",
        "method `subplot_of_figure`."
      ]
    },
    {
      "cell_type": "code",
      "metadata": {},
      "source": [
        "fit_1d_plotter_list = [aplt.FitDataset1DPlotter(fit=fit_1d) for fit_1d in fit_1d_list]\n",
        "multi_plotter = aplt.MultiFigurePlotter(plotter_list=fit_1d_plotter_list)\n",
        "\n",
        "multi_plotter.subplot_of_figure(func_name=\"figures_1d\", figure_name=\"data\")\n",
        "multi_plotter.subplot_of_figure(func_name=\"figures_1d\", figure_name=\"residual_map\")"
      ],
      "outputs": [],
      "execution_count": null
    },
    {
      "cell_type": "markdown",
      "metadata": {},
      "source": [
        "Finish."
      ]
    },
    {
      "cell_type": "code",
      "metadata": {},
      "source": [],
      "outputs": [],
      "execution_count": null
    }
  ],
  "metadata": {
    "anaconda-cloud": {},
    "kernelspec": {
      "display_name": "Python 3",
      "language": "python",
      "name": "python3"
    },
    "language_info": {
      "codemirror_mode": {
        "name": "ipython",
        "version": 3
      },
      "file_extension": ".py",
      "mimetype": "text/x-python",
      "name": "python",
      "nbconvert_exporter": "python",
      "pygments_lexer": "ipython3",
      "version": "3.6.1"
    }
  },
  "nbformat": 4,
  "nbformat_minor": 4
}