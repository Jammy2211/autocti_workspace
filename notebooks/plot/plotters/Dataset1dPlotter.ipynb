{
  "cells": [
    {
      "cell_type": "markdown",
      "metadata": {},
      "source": [
        "Plots: Dataset1DPlotter\n",
        "=======================\n",
        "\n",
        "This example illustrates how to plot a `Dataset1D` dataset using an `Dataset1DPlotter`."
      ]
    },
    {
      "cell_type": "code",
      "metadata": {},
      "source": [
        "%matplotlib inline\n",
        "from pyprojroot import here\n",
        "workspace_path = str(here())\n",
        "%cd $workspace_path\n",
        "print(f\"Working Directory has been set to `{workspace_path}`\")\n",
        "\n",
        "from os import path\n",
        "import autocti as ac\n",
        "import autocti.plot as aplt"
      ],
      "outputs": [],
      "execution_count": null
    },
    {
      "cell_type": "markdown",
      "metadata": {},
      "source": [
        "__dataset__\n",
        "\n",
        "Load the dataset 'dataset_1d/species_x1' from .fits files, which is the dataset we will use to illustrate plotting \n",
        "the dataset."
      ]
    },
    {
      "cell_type": "code",
      "metadata": {},
      "source": [
        "dataset_name = \"simple\"\n",
        "dataset_path = path.join(\"dataset\", \"dataset_1d\", dataset_name)\n",
        "\n",
        "shape_native = (200, 1)\n",
        "\n",
        "prescan = ac.Region1D((0, 10))\n",
        "overscan = ac.Region1D((190, 200))\n",
        "\n",
        "region_list = [(10, 20)]\n",
        "\n",
        "norm_list = [100, 5000, 25000, 200000]\n",
        "\n",
        "layout_list = [\n",
        "    ac.Layout1D(\n",
        "        shape_1d=shape_native,\n",
        "        region_list=region_list,\n",
        "        prescan=prescan,\n",
        "        overscan=overscan,\n",
        "    )\n",
        "    for norm in norm_list\n",
        "]\n",
        "\n",
        "dataset_list = [\n",
        "    ac.Dataset1D.from_fits(\n",
        "        data_path=path.join(dataset_path, f\"norm_{int(norm)}\", \"data.fits\"),\n",
        "        noise_map_path=path.join(dataset_path, f\"norm_{int(norm)}\", \"noise_map.fits\"),\n",
        "        pre_cti_data_path=path.join(\n",
        "            dataset_path, f\"norm_{int(norm)}\", \"pre_cti_data.fits\"\n",
        "        ),\n",
        "        layout=layout,\n",
        "        pixel_scales=0.1,\n",
        "    )\n",
        "    for layout, norm in zip(layout_list, norm_list)\n",
        "]"
      ],
      "outputs": [],
      "execution_count": null
    },
    {
      "cell_type": "markdown",
      "metadata": {},
      "source": [
        "__Plotting__\n",
        "\n",
        "We now pass the first dataset in the imaging to a `Dataset1DPlotter` and call various `figure_*` methods to plot \n",
        "different attributes."
      ]
    },
    {
      "cell_type": "code",
      "metadata": {},
      "source": [
        "\n",
        "output = aplt.Output(path=path.join(\".\"), format=\"png\")\n",
        "\n",
        "dataset_plotter = aplt.Dataset1DPlotter(\n",
        "    dataset=dataset_list[0], mat_plot_1d=aplt.MatPlot1D(output=output)\n",
        ")\n",
        "dataset_plotter.figures_1d(\n",
        "    data_logy=True,\n",
        "    noise_map=True,\n",
        "    signal_to_noise_map=True,\n",
        "    pre_cti_data=True,\n",
        ")"
      ],
      "outputs": [],
      "execution_count": null
    },
    {
      "cell_type": "markdown",
      "metadata": {},
      "source": [
        "The `Dataset1DPlotter` may also plot a subplot of all of these attributes."
      ]
    },
    {
      "cell_type": "code",
      "metadata": {},
      "source": [
        "dataset_plotter.subplot_dataset()"
      ],
      "outputs": [],
      "execution_count": null
    },
    {
      "cell_type": "markdown",
      "metadata": {},
      "source": [
        "Imaging` contains the following attributes which can be plotted automatically via the `Include2D` object.\n",
        "\n",
        "(By default, an `Array2D` does not contain a `Mask2D`, we therefore manually created an `Array2D` with a mask to \n",
        "illustrate the plotted of a mask and its border below)."
      ]
    },
    {
      "cell_type": "code",
      "metadata": {},
      "source": [
        "include = aplt.Include1D()\n",
        "dataset_plotter = aplt.Dataset1DPlotter(dataset=dataset_list[0], include_1d=include)\n",
        "dataset_plotter.figures_1d(data=True)"
      ],
      "outputs": [],
      "execution_count": null
    },
    {
      "cell_type": "markdown",
      "metadata": {},
      "source": [
        "__Regions__\n",
        "\n",
        "Specific regions of the data can be extracted and plotted, for example the EPER or FPR."
      ]
    },
    {
      "cell_type": "code",
      "metadata": {},
      "source": [
        "dataset_plotter = aplt.Dataset1DPlotter(dataset=dataset_list[0])\n",
        "dataset_plotter.figures_1d(region=\"fpr\", data=True)\n",
        "dataset_plotter.figures_1d(region=\"eper\", data=True)"
      ],
      "outputs": [],
      "execution_count": null
    },
    {
      "cell_type": "markdown",
      "metadata": {},
      "source": [
        "Region plots also include the data with error bars showing the noise map."
      ]
    },
    {
      "cell_type": "code",
      "metadata": {},
      "source": [
        "dataset_plotter.figures_1d(region=\"fpr\", data=True)\n",
        "dataset_plotter.figures_1d(region=\"eper\", data=True)"
      ],
      "outputs": [],
      "execution_count": null
    },
    {
      "cell_type": "markdown",
      "metadata": {},
      "source": [
        "The above plots can also be created with a logarithmic y axis."
      ]
    },
    {
      "cell_type": "code",
      "metadata": {},
      "source": [
        "dataset_plotter.figures_1d(region=\"fpr\", data_logy=True)\n",
        "dataset_plotter.figures_1d(region=\"eper\", data_logy=True)"
      ],
      "outputs": [],
      "execution_count": null
    },
    {
      "cell_type": "markdown",
      "metadata": {},
      "source": [
        "__Multiple Images__\n",
        "\n",
        "Our `Dataset1D` dataset consists of many images taken at different charge injection levels. We may wish to plot\n",
        "all images on the same subplot, which can be performed using the method `subplot_of_figure`."
      ]
    },
    {
      "cell_type": "code",
      "metadata": {},
      "source": [
        "dataset_plotter_list = [\n",
        "    aplt.Dataset1DPlotter(dataset=dataset)\n",
        "    for dataset, norm in zip(dataset_list, norm_list)\n",
        "]\n",
        "multi_plotter = aplt.MultiFigurePlotter(plotter_list=dataset_plotter_list)\n",
        "multi_plotter.subplot_of_figure(func_name=\"figures_1d\", figure_name=\"data\")\n",
        "multi_plotter.subplot_of_figure(func_name=\"figures_1d\", figure_name=\"pre_cti_data\")"
      ],
      "outputs": [],
      "execution_count": null
    },
    {
      "cell_type": "markdown",
      "metadata": {},
      "source": [
        "__Settings Dictionary__\n",
        "\n",
        "The `settings_dict` of each dataset has entries corresponding to the settings used to create the data. \n",
        "\n",
        "For example, this might be the voltages of the charge injections.\n",
        "\n",
        "This will display on 1D figures when they are plotted, so that when we create a subplot of many datasets we can\n",
        "see the settings of each dataset."
      ]
    },
    {
      "cell_type": "code",
      "metadata": {},
      "source": [
        "dataset_list = [\n",
        "    ac.Dataset1D.from_fits(\n",
        "        data_path=path.join(dataset_path, f\"norm_{int(norm)}\", \"data.fits\"),\n",
        "        noise_map_path=path.join(dataset_path, f\"norm_{int(norm)}\", \"noise_map.fits\"),\n",
        "        pre_cti_data_path=path.join(\n",
        "            dataset_path, f\"norm_{int(norm)}\", \"pre_cti_data.fits\"\n",
        "        ),\n",
        "        layout=layout,\n",
        "        pixel_scales=0.1,\n",
        "        settings_dict={\"voltage_0\": \"3V\", \"voltage_2\": \"6V\"},\n",
        "    )\n",
        "    for layout, norm in zip(layout_list, norm_list)\n",
        "]\n",
        "\n",
        "dataset_plotter_list = [\n",
        "    aplt.Dataset1DPlotter(dataset=dataset)\n",
        "    for dataset, norm in zip(dataset_list, norm_list)\n",
        "]\n",
        "multi_plotter = aplt.MultiFigurePlotter(plotter_list=dataset_plotter_list)\n",
        "multi_plotter.subplot_of_figure(func_name=\"figures_1d\", figure_name=\"data\")"
      ],
      "outputs": [],
      "execution_count": null
    },
    {
      "cell_type": "markdown",
      "metadata": {},
      "source": [
        "Finish."
      ]
    },
    {
      "cell_type": "code",
      "metadata": {},
      "source": [],
      "outputs": [],
      "execution_count": null
    }
  ],
  "metadata": {
    "anaconda-cloud": {},
    "kernelspec": {
      "display_name": "Python 3",
      "language": "python",
      "name": "python3"
    },
    "language_info": {
      "codemirror_mode": {
        "name": "ipython",
        "version": 3
      },
      "file_extension": ".py",
      "mimetype": "text/x-python",
      "name": "python",
      "nbconvert_exporter": "python",
      "pygments_lexer": "ipython3",
      "version": "3.6.1"
    }
  },
  "nbformat": 4,
  "nbformat_minor": 4
}