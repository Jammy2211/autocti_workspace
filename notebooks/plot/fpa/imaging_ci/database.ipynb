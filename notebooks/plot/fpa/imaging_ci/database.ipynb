{
  "cells": [
    {
      "cell_type": "markdown",
      "metadata": {},
      "source": [
        "Plots FPA: Database\n",
        "===================\n",
        "\n",
        "CTI calibration is typically performed independently on many CCD's over a telescope's focal plane array (FPA).\n",
        "For example, for Euclid, the FPA is a 6x6 grid of CCDs.\n",
        "\n",
        "Visualizing the results of a CTI calibration in a way that shows the results across all CCDs in the FPA is\n",
        "challenging, as there is a lot of information to convey.\n",
        "\n",
        "Fits to each CCD are also performed independently, meaning that the model-fit of a given CCD does not have any\n",
        "information on the CTI best-fit of its neighboring CCDs, meaning that visualizing the results of a CTI calibration\n",
        "across the FPA is not a trivial task.\n",
        "\n",
        "The `autocti_workspace/*/plot/fpa` package provides tools for simulating an FPA of CTI calibration data, fitting it in\n",
        "a realistic calibration setting and plotting the results of the fit on a single figure showing the whole FPA via\n",
        "the database.\n",
        "\n",
        "__Database__\n",
        "\n",
        "This script creates an .sqlite database file from the results of the model-fit performed\n",
        "in the `plot/ccd/dataset_1d/fit.py` script and uses this database to create figures of the fit to the FPA.\n",
        "\n",
        "If you are not familiar with the database functionality, checkout\n",
        "the `autocti_workspace/*/dataset_1d/advanced/database` package."
      ]
    },
    {
      "cell_type": "code",
      "metadata": {},
      "source": [
        "\n",
        "%matplotlib inline\n",
        "from pyprojroot import here\n",
        "workspace_path = str(here())\n",
        "%cd $workspace_path\n",
        "print(f\"Working Directory has been set to `{workspace_path}`\")\n",
        "\n",
        "import copy\n",
        "import numpy as np\n",
        "import os\n",
        "from os import path\n",
        "import autofit as af\n",
        "import autocti as ac\n",
        "import autocti.plot as aplt\n"
      ],
      "outputs": [],
      "execution_count": null
    },
    {
      "cell_type": "markdown",
      "metadata": {},
      "source": [
        "__Building a Database File From an Output Folder__\n",
        "\n",
        "The fits performed in the `plot/foa/dataset_1d/fit.py` script output results to hard-disk, in the `output` folder.\n",
        "\n",
        "The code belows creates a new .sqlite database file from these results, which is used to load the results of the \n",
        "model-fit in this example script."
      ]
    },
    {
      "cell_type": "code",
      "metadata": {},
      "source": [
        "database_name = \"plot_fpa\"\n",
        "\n",
        "try:\n",
        "    os.remove(path.join(\"output\", f\"{database_name}.sqlite\"))\n",
        "except FileNotFoundError:\n",
        "    pass\n",
        "\n",
        "agg = af.Aggregator.from_database(\n",
        "    filename=f\"{database_name}.sqlite\", completed_only=False\n",
        ")\n",
        "\n",
        "agg.add_directory(directory=path.join(\"output\", database_name))"
      ],
      "outputs": [],
      "execution_count": null
    },
    {
      "cell_type": "markdown",
      "metadata": {},
      "source": [
        "__Output__\n",
        "\n",
        "The image of each fit are output to the directory below, and we update their filenames before making each plot."
      ]
    },
    {
      "cell_type": "code",
      "metadata": {},
      "source": [
        "mat_plot = aplt.MatPlot1D(\n",
        "    output=aplt.Output(\n",
        "        path=path.join(\"scripts\", \"plot\", \"images\", \"fpa\"),\n",
        "        format=\"png\",\n",
        "    )\n",
        ")"
      ],
      "outputs": [],
      "execution_count": null
    },
    {
      "cell_type": "markdown",
      "metadata": {},
      "source": [
        "__Dataset__\n",
        "\n",
        "The model-fit was performed to 36 1D datasets consisting of 1 charge injection level across the 6x6 FPA.\n",
        "\n",
        "We first seek to plot these 36 datasets, on an 6 x 6 matplotlib figure, so we can cleanly see all datasets across\n",
        "the FPA on at once.\n",
        "\n",
        "We use the `ImagingCIAgg` object to create a generator of every dataset, which we iterate over to create a \n",
        "figure of all 36 datasets via the `Dataset1DPlotter` object."
      ]
    },
    {
      "cell_type": "code",
      "metadata": {},
      "source": [
        "dataset_1d_agg = ac.agg.ImagingCIAgg(aggregator=agg)\n",
        "dataset_gen = dataset_1d_agg.dataset_list_gen_from()\n",
        "\n",
        "dataset_plotter_list = []\n",
        "\n",
        "\n",
        "for dataset_list in dataset_gen:\n",
        "    for dataset in dataset_list:\n",
        "        dataset_plotter_list.append(\n",
        "            aplt.Dataset1DPlotter(dataset=dataset, mat_plot_1d=mat_plot)\n",
        "        )\n",
        "\n",
        "dataset_plotter_list[0].set_filename(filename=\"dataset_via_database\")\n",
        "\n",
        "multi_plotter = aplt.MultiFigurePlotter(\n",
        "    plotter_list=dataset_plotter_list, subplot_shape=(6, 6)\n",
        ")\n",
        "\n",
        "multi_plotter.subplot_of_figure(\n",
        "    func_name=\"figures_1d\",\n",
        "    figure_name=\"data\",\n",
        ")\n"
      ],
      "outputs": [],
      "execution_count": null
    },
    {
      "cell_type": "markdown",
      "metadata": {},
      "source": [
        "The model-fit masked the FPR, and the visualization above therefore does not show the FPR (the values of 0's in its\n",
        "location indicate it has been masked).\n",
        "\n",
        "When performing the fit a full dataset was passed to the `Analysis` object for visualization via the `dataset_full`\n",
        "input. This can also be loaded from the database and plotted, by passing the `ImagingCIAgg` object the input\n",
        "`use_dataset_full=True."
      ]
    },
    {
      "cell_type": "code",
      "metadata": {},
      "source": [
        "dataset_1d_agg = ac.agg.ImagingCIAgg(aggregator=agg, use_dataset_full=True)\n",
        "dataset_gen = dataset_1d_agg.dataset_list_gen_from()\n",
        "\n",
        "dataset_plotter_list = []\n",
        "\n",
        "for dataset_list in dataset_gen:\n",
        "    for dataset in dataset_list:\n",
        "        dataset_plotter_list.append(\n",
        "            aplt.Dataset1DPlotter(dataset=dataset, mat_plot_1d=mat_plot)\n",
        "        )\n",
        "\n",
        "dataset_plotter_list[0].set_filename(filename=\"dataset_full_via_database\")\n",
        "\n",
        "multi_plotter = aplt.MultiFigurePlotter(\n",
        "    plotter_list=dataset_plotter_list, subplot_shape=(6, 6)\n",
        ")\n",
        "\n",
        "multi_plotter.subplot_of_figure(\n",
        "    func_name=\"figures_1d\",\n",
        "    figure_name=\"data\",\n",
        ")"
      ],
      "outputs": [],
      "execution_count": null
    },
    {
      "cell_type": "markdown",
      "metadata": {},
      "source": [
        "Plots of the FPR and EPER regions of the CCD are also available.\n",
        "\n",
        "We again use the full dataset, to ensure the FPR is plotted and not masked."
      ]
    },
    {
      "cell_type": "code",
      "metadata": {},
      "source": [
        "for region in [\"fpr\", \"eper\"]:\n",
        "    dataset_gen = dataset_1d_agg.dataset_list_gen_from()\n",
        "\n",
        "    dataset_plotter_list = []\n",
        "\n",
        "    for dataset_list in dataset_gen:\n",
        "        for dataset in dataset_list:\n",
        "            dataset_plotter_list.append(\n",
        "                aplt.Dataset1DPlotter(dataset=dataset, mat_plot_1d=mat_plot)\n",
        "            )\n",
        "\n",
        "    dataset_plotter_list[0].set_filename(filename=f\"dataset_{region}_via_database\")\n",
        "\n",
        "    multi_plotter = aplt.MultiFigurePlotter(\n",
        "        plotter_list=dataset_plotter_list, subplot_shape=(6, 6)\n",
        "    )\n",
        "\n",
        "    multi_plotter.subplot_of_figure(\n",
        "        func_name=\"figures_1d\", figure_name=\"data\", region=region\n",
        "    )\n"
      ],
      "outputs": [],
      "execution_count": null
    },
    {
      "cell_type": "markdown",
      "metadata": {},
      "source": [
        "__Fits__\n",
        "\n",
        "Visualization of model fits can be performed using the `FitImaging1DAgg` object and an analogous generator to the\n",
        "API above.\n",
        "\n",
        "Below, we produce a subplot of all 32 fits to the full unmasked data, for the FPR and EPER regions."
      ]
    },
    {
      "cell_type": "code",
      "metadata": {},
      "source": [
        "fit_agg = ac.agg.FitImagingCIAgg(aggregator=agg, use_dataset_full=True)\n",
        "\n",
        "for region in [\"fpr\", \"eper\"]:\n",
        "    fit_gen = fit_agg.max_log_likelihood_gen_from()\n",
        "\n",
        "    fit_plotter_list = []\n",
        "\n",
        "    for fit_list in fit_gen:\n",
        "        for fit in fit_list:\n",
        "            fit_plotter_list.append(\n",
        "                aplt.FitDataset1DPlotter(fit=fit, mat_plot_1d=mat_plot)\n",
        "            )\n",
        "\n",
        "    fit_plotter_list[0].set_filename(filename=f\"fit_{region}_via_database\")\n",
        "\n",
        "    multi_plotter = aplt.MultiFigurePlotter(\n",
        "        plotter_list=fit_plotter_list, subplot_shape=(6, 6)\n",
        "    )\n",
        "\n",
        "    multi_plotter.subplot_of_figure(\n",
        "        func_name=\"figures_1d\", figure_name=\"data\", region=region\n",
        "    )"
      ],
      "outputs": [],
      "execution_count": null
    },
    {
      "cell_type": "markdown",
      "metadata": {},
      "source": [
        "__Charge Injection Profiles__"
      ]
    },
    {
      "cell_type": "code",
      "metadata": {},
      "source": [
        "dataset_1d_agg = ac.agg.ImagingCIAgg(aggregator=agg, use_dataset_full=True)\n",
        "dataset_gen = dataset_1d_agg.dataset_list_gen_from()\n",
        "\n",
        "for dataset_list in dataset_gen:\n",
        "    fpr_list = []\n",
        "    eper_list = []\n",
        "\n",
        "    for dataset in dataset_list:\n",
        "        print(dataset.settings_dict[\"CCD\"])\n",
        "\n",
        "        layout = dataset.layout\n",
        "\n",
        "        if dataset.settings_dict[\"CCD\"] == \"1-1.E\":\n",
        "            fpr_list.append(dataset.fpr_value)\n",
        "\n",
        "            eper = np.sum(\n",
        "                layout.extract.parallel_eper.binned_array_1d_from(\n",
        "                    array=dataset.data, settings=ac.SettingsExtract(pixels=(0, 10))\n",
        "                )\n",
        "            )\n",
        "\n",
        "            eper_list.append(eper)\n"
      ],
      "outputs": [],
      "execution_count": null
    },
    {
      "cell_type": "markdown",
      "metadata": {},
      "source": [
        "__Classic Aggregator__\n",
        "\n",
        "The tasks above can also use an older implementation of the aggregator, which is now deprecated but still supported.\n",
        "\n",
        "This is used for CTI calibration in the Euclid coding framework (which does not support sqlite and thus has to\n",
        "use this implementation).\n",
        "\n",
        "The code below is purely for testing / legacy purposes and probably not of interest to most users."
      ]
    },
    {
      "cell_type": "code",
      "metadata": {},
      "source": [
        "from autofit.aggregator import Aggregator as ClassicAggregator\n",
        "\n",
        "aggregator = ClassicAggregator(directory=path.join(\"output\", \"plot_fpa\"))\n",
        "\n",
        "fit_agg = ac.agg.FitImagingCIAgg(aggregator=agg, use_dataset_full=True)\n",
        "\n",
        "for region in [\"fpr\", \"eper\"]:\n",
        "    fit_gen = fit_agg.max_log_likelihood_gen_from()\n",
        "\n",
        "    fit_plotter_list = []\n",
        "\n",
        "    for fit_list in fit_gen:\n",
        "        for fit in fit_list:\n",
        "            fit_plotter_list.append(\n",
        "                aplt.FitDataset1DPlotter(fit=fit, mat_plot_1d=mat_plot)\n",
        "            )\n",
        "\n",
        "    fit_plotter_list[0].set_filename(filename=f\"fit_{region}_via_classic_aggregator\")\n",
        "\n",
        "    multi_plotter = aplt.MultiFigurePlotter(\n",
        "        plotter_list=fit_plotter_list, subplot_shape=(6, 6)\n",
        "    )\n",
        "\n",
        "    multi_plotter.subplot_of_figure(\n",
        "        func_name=\"figures_1d\", figure_name=\"data\", region=region\n",
        "    )\n",
        "\n",
        "# \"\"\"\n",
        "# __Max LH Fits__\n",
        "# \"\"\"\n",
        "# ml_instances = [samps.max_log_likelihood() for samps in agg.values(\"samples\")]\n",
        "#\n",
        "# fit_list = [ac.FitDataset1D(dataset=)]\n"
      ],
      "outputs": [],
      "execution_count": null
    }
  ],
  "metadata": {
    "anaconda-cloud": {},
    "kernelspec": {
      "display_name": "Python 3",
      "language": "python",
      "name": "python3"
    },
    "language_info": {
      "codemirror_mode": {
        "name": "ipython",
        "version": 3
      },
      "file_extension": ".py",
      "mimetype": "text/x-python",
      "name": "python",
      "nbconvert_exporter": "python",
      "pygments_lexer": "ipython3",
      "version": "3.6.1"
    }
  },
  "nbformat": 4,
  "nbformat_minor": 4
}