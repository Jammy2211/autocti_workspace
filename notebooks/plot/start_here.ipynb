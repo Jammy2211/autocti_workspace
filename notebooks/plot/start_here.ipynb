{
  "cells": [
    {
      "cell_type": "markdown",
      "metadata": {},
      "source": [
        "Plots: Start Here\n",
        "=================\n",
        "\n",
        "This example illustrates the basic API for plotting."
      ]
    },
    {
      "cell_type": "code",
      "metadata": {},
      "source": [
        "%matplotlib inline\n",
        "from pyprojroot import here\n",
        "workspace_path = str(here())\n",
        "%cd $workspace_path\n",
        "print(f\"Working Directory has been set to `{workspace_path}`\")\n",
        "\n",
        "from os import path\n",
        "import autocti as ac\n",
        "import autocti.plot as aplt"
      ],
      "outputs": [],
      "execution_count": null
    },
    {
      "cell_type": "markdown",
      "metadata": {},
      "source": [
        "__Dataset__\n",
        "\n",
        "First, lets load an example image of a CTI `Dataset1D`.\n",
        "\n",
        "You should be familiar with how we load datasets in this way, if not checkout the `overview` \n",
        "and `modeling/start_here.py` examples."
      ]
    },
    {
      "cell_type": "code",
      "metadata": {},
      "source": [
        "dataset_name = \"simple\"\n",
        "dataset_path = path.join(\"dataset\", \"dataset_1d\", dataset_name)\n",
        "shape_native = (200,)\n",
        "\n",
        "prescan = ac.Region1D(region=(0, 10))\n",
        "overscan = ac.Region1D(region=(190, 200))\n",
        "\n",
        "region_list = [(10, 20)]\n",
        "\n",
        "norm_list = [100]\n",
        "\n",
        "total_datasets = len(norm_list)\n",
        "\n",
        "layout_list = [\n",
        "    ac.Layout1D(\n",
        "        shape_1d=shape_native,\n",
        "        region_list=region_list,\n",
        "        prescan=prescan,\n",
        "        overscan=overscan,\n",
        "    )\n",
        "    for i in range(total_datasets)\n",
        "]\n",
        "\n",
        "dataset_list = [\n",
        "    ac.Dataset1D.from_fits(\n",
        "        data_path=path.join(dataset_path, f\"norm_{int(norm)}\", \"data.fits\"),\n",
        "        noise_map_path=path.join(dataset_path, f\"norm_{int(norm)}\", \"noise_map.fits\"),\n",
        "        pre_cti_data_path=path.join(\n",
        "            dataset_path, f\"norm_{int(norm)}\", \"pre_cti_data.fits\"\n",
        "        ),\n",
        "        layout=layout,\n",
        "        pixel_scales=0.1,\n",
        "    )\n",
        "    for layout, norm in zip(layout_list, norm_list)\n",
        "]"
      ],
      "outputs": [],
      "execution_count": null
    },
    {
      "cell_type": "markdown",
      "metadata": {},
      "source": [
        "__Plot Customization via MatPlot__\n",
        "\n",
        "You can customize a number of matplotlib setup options using a `MatPlot` object, which \n",
        "wraps the `matplotlib` methods used to display the image.\n",
        "\n",
        "(For example, the `Figure` class wraps the `matplotlib` method `plt.figure()`, whereas the `YTicks` class wraps\n",
        "`plt.yticks`).\n",
        "\n",
        "The `autocti.workspace.*.plot.mat_wrap` illustrates every `MatPlot` object, for \n",
        "example `Figure`, `YTicks`, etc."
      ]
    },
    {
      "cell_type": "code",
      "metadata": {},
      "source": [
        "mat_plot = aplt.MatPlot1D(\n",
        "    figure=aplt.Figure(figsize=(7, 7)),\n",
        "    yticks=aplt.YTicks(fontsize=8),\n",
        "    xticks=aplt.XTicks(fontsize=8),\n",
        "    title=aplt.Title(fontsize=12),\n",
        "    ylabel=aplt.YLabel(fontsize=6),\n",
        "    xlabel=aplt.XLabel(fontsize=6),\n",
        ")\n",
        "\n",
        "dataset_plotter = aplt.Dataset1DPlotter(dataset=dataset_list[0], mat_plot_1d=mat_plot)\n",
        "dataset_plotter.figures_1d(data=True)"
      ],
      "outputs": [],
      "execution_count": null
    },
    {
      "cell_type": "markdown",
      "metadata": {},
      "source": [
        "__Configs__\n",
        "\n",
        "All matplotlib options can be customized via the config files, such that those values are used every time.\n",
        "\n",
        "Checkout the `mat_wrap.yaml`, `mat_wrap_1d.yaml` and `mat_wrap_2d.yaml` files \n",
        "in `autocti_workspace/config/visualize/mat_wrap`.\n",
        "\n",
        "All default matplotlib values are here. There are a lot of entries, so lets focus on whats important for displaying \n",
        "figures:\n",
        "\n",
        " - mat_wrap.yaml -> Figure -> figure: -> figsize\n",
        " - mat_wrap.yaml -> YLabel -> figure: -> fontsize\n",
        " - mat_wrap.yaml -> XLabel -> figure: -> fontsize\n",
        " - mat_wrap.yaml -> TickParams -> figure: -> labelsize\n",
        " - mat_wrap.yaml -> YTicks -> figure: -> labelsize\n",
        " - mat_wrap.yaml -> XTicks -> figure: -> labelsize\n",
        "\n",
        "__Subplots__\n",
        "\n",
        "In addition to plotting individual `figures`, we also plot `subplots` which are again customized via\n",
        "the `mat_plot` objects.\n",
        "\n",
        "__Visuals__\n",
        "\n",
        "Visuals can be added to any figure, using standard quantities.\n",
        "\n",
        "For example, we can plot a mask on the image above using a `Visuals2D` object.\n",
        "\n",
        "The `autocti.workspace.*.plot.visuals_2d` illustrates every `Visuals` object, for \n",
        "example `MaskScatter`, `LightProfileCentreScatter`, etc."
      ]
    },
    {
      "cell_type": "code",
      "metadata": {},
      "source": [
        "visuals = aplt.Visuals1D(vertical_line=5.0)\n",
        "\n",
        "dataset_plotter = aplt.Dataset1DPlotter(dataset=dataset_list[0], visuals_1d=visuals)\n",
        "dataset_plotter.figures_1d(data=True)"
      ],
      "outputs": [],
      "execution_count": null
    },
    {
      "cell_type": "markdown",
      "metadata": {},
      "source": [
        "__Searches__\n",
        "\n",
        "Model-fits using a non-linear search (e.g. Nautilus, Emcee) produce search-specific visualization.\n",
        "\n",
        "The `autocti.workspace.*.plot.search` illustrates how to perform this visualization for every search (e.g.\n",
        "`DynestyPlotter`, `EmceePlotter`.\n",
        "\n",
        "__Adding Plotter Objects Together__\n",
        "\n",
        "The `MatPlot` objects can be added together. \n",
        "\n",
        "This is useful when we want to perform multiple visualizations which share the same base settings, but have\n",
        "individually tailored settings:"
      ]
    },
    {
      "cell_type": "code",
      "metadata": {},
      "source": [
        "mat_plot_base = aplt.MatPlot1D(\n",
        "    yticks=aplt.YTicks(fontsize=18),\n",
        "    xticks=aplt.XTicks(fontsize=18),\n",
        "    ylabel=aplt.YLabel(ylabel=\"\"),\n",
        "    xlabel=aplt.XLabel(xlabel=\"\"),\n",
        ")\n",
        "\n",
        "mat_plot = aplt.MatPlot1D(\n",
        "    title=aplt.Title(label=\"Example Figure 1\"),\n",
        ")\n",
        "\n",
        "mat_plot = mat_plot + mat_plot_base\n",
        "\n",
        "dataset_plotter = aplt.Dataset1DPlotter(dataset=dataset_list[0], mat_plot_1d=mat_plot)\n",
        "dataset_plotter.figures_1d(data=True)\n",
        "\n",
        "mat_plot = aplt.MatPlot1D(\n",
        "    title=aplt.Title(label=\"Example Figure 2\"),\n",
        ")\n",
        "\n",
        "mat_plot = mat_plot + mat_plot_base\n",
        "\n",
        "dataset_plotter = aplt.Dataset1DPlotter(dataset=dataset_list[0], mat_plot_1d=mat_plot)\n",
        "dataset_plotter.figures_1d(data=True)\n",
        "\n",
        "mat_plot = mat_plot + mat_plot_base\n"
      ],
      "outputs": [],
      "execution_count": null
    },
    {
      "cell_type": "markdown",
      "metadata": {},
      "source": [
        "The `Visuals` objects can also be added together."
      ]
    },
    {
      "cell_type": "code",
      "metadata": {},
      "source": [
        "visuals_1d_0 = aplt.Visuals1D(vertical_line=5.0)\n",
        "visuals_1d_1 = aplt.Visuals1D(shaded_region=[6.0, 7.0])\n",
        "\n",
        "visuals = visuals_1d_0 + visuals_1d_1\n",
        "\n",
        "dataset_plotter = aplt.Dataset1DPlotter(\n",
        "    dataset=dataset_list[0], visuals_1d=visuals, mat_plot_1d=aplt.MatPlot1D()\n",
        ")\n",
        "dataset_plotter.figures_1d(data=True)"
      ],
      "outputs": [],
      "execution_count": null
    },
    {
      "cell_type": "markdown",
      "metadata": {},
      "source": [
        "Finish."
      ]
    },
    {
      "cell_type": "code",
      "metadata": {},
      "source": [],
      "outputs": [],
      "execution_count": null
    }
  ],
  "metadata": {
    "anaconda-cloud": {},
    "kernelspec": {
      "display_name": "Python 3",
      "language": "python",
      "name": "python3"
    },
    "language_info": {
      "codemirror_mode": {
        "name": "ipython",
        "version": 3
      },
      "file_extension": ".py",
      "mimetype": "text/x-python",
      "name": "python",
      "nbconvert_exporter": "python",
      "pygments_lexer": "ipython3",
      "version": "3.6.1"
    }
  },
  "nbformat": 4,
  "nbformat_minor": 4
}