{
  "cells": [
    {
      "cell_type": "markdown",
      "metadata": {},
      "source": [
        "Overview: Charge Injection Data\n",
        "-------------------------------\n",
        "\n",
        "In overview 2, we inspected charge injection data to understand how 2D CCD clocking works.\n",
        "\n",
        "Now we know how CTI information is contained in the First-Pixel Response (FPR) and Extended-Pixel Edge Response (EPER)\n",
        "of a dataset, lets consider how a charge injection dataset contains everything we need to calibrate a CTI model.\n",
        "\n",
        "Lets again load our 2D schematic of a charge injection image:"
      ]
    },
    {
      "cell_type": "code",
      "metadata": {},
      "source": [
        "%matplotlib inline\n",
        "from pyprojroot import here\n",
        "workspace_path = str(here())\n",
        "%cd $workspace_path\n",
        "print(f\"Working Directory has been set to `{workspace_path}`\")\n",
        "\n",
        "import autocti as ac\n",
        "import autocti.plot as aplt\n",
        "\n",
        "import matplotlib.pyplot as plt\n",
        "import matplotlib.image as mpimg\n",
        "from os import path\n",
        "\n",
        "img = mpimg.imread(path.join(\"dataset\", \"overview\", \"ccd_schematic.png\"))\n",
        "plt.imshow(img)\n",
        "plt.show()"
      ],
      "outputs": [],
      "execution_count": null
    },
    {
      "cell_type": "markdown",
      "metadata": {},
      "source": [
        "The charge injection electronics create the 2D regions on the data which contain a known input signal of electrons.\n",
        "This is analogous to block of ~10 electrons in our 1D datasets of the previous overviews.\n",
        "\n",
        "When we acquire a charge injection image using a real CCD, these electrons are subject to CTI. Therefore, a charge \n",
        "injection dataset has FPR's and EPER's, just like the 1D dataset we saw in the previous overview. In fact, it has two \n",
        "sets of FPRs and EPERs, corresponding to parallel and serial CTI.\n",
        "\n",
        "To illustrate this, we will load a charge injection dataset into **PyAutoCTI**, which has the same dimensions and \n",
        "layout as the schematic above. \n",
        "\n",
        "Before loading the data we must to define various properties of our charge injection image. \n",
        "\n",
        "Lets begin by defining the 2D `shape_native` of our charge injection image, which as discussed in overview 2 \n",
        "has `2046 + 20 = 2066` rows of pixels and `51 + 2048 + 29 = 2128` columns of pixels."
      ]
    },
    {
      "cell_type": "code",
      "metadata": {},
      "source": [
        "shape_native = (2066, 2128)"
      ],
      "outputs": [],
      "execution_count": null
    },
    {
      "cell_type": "markdown",
      "metadata": {},
      "source": [
        "Next, we define the regions on the data containing the parallel overscan, serial prescan and serial overscan.\n",
        "\n",
        "We use a `Region2D`, which defines a 2D region on the 2D data where the input tuple gives the (y0, y1, x0, x1) \n",
        "coordinates. \n",
        "\n",
        "For example, as shown on the schematic, the parallel overscan is at the bottom of the image and its region spans \n",
        "the pixel coordinates y0 -> y1 = 2108 -> 2128 and x0 -> x1 = 51 -> 2099."
      ]
    },
    {
      "cell_type": "code",
      "metadata": {},
      "source": [
        "parallel_overscan = ac.Region2D((2108, 2128, 51, 2099))\n",
        "serial_prescan = ac.Region2D((0, 2128, 0, 51))\n",
        "serial_overscan = ac.Region2D((0, 2128, 2099, 2128))"
      ],
      "outputs": [],
      "execution_count": null
    },
    {
      "cell_type": "markdown",
      "metadata": {},
      "source": [
        "We also need to specify the 2D region of every charge injection region (e.g. the pixel coordinates where the\n",
        "charge is injected)."
      ]
    },
    {
      "cell_type": "code",
      "metadata": {},
      "source": [
        "regions_list = [\n",
        "    (100, 300, serial_prescan[3], serial_overscan[2]),\n",
        "    (500, 700, serial_prescan[3], serial_overscan[2]),\n",
        "    (900, 1100, serial_prescan[3], serial_overscan[2]),\n",
        "    (1300, 1500, serial_prescan[3], serial_overscan[2]),\n",
        "    (1700, 1900, serial_prescan[3], serial_overscan[2]),\n",
        "]"
      ],
      "outputs": [],
      "execution_count": null
    },
    {
      "cell_type": "markdown",
      "metadata": {},
      "source": [
        "We also require the normalization of the injected charge level of each charge injection image in our charge\n",
        "injection imaging dataset.\n",
        "\n",
        "In this example, we will only inspect one charge injection image with a normalization of 100 electrons."
      ]
    },
    {
      "cell_type": "code",
      "metadata": {},
      "source": [
        "norm = 100"
      ],
      "outputs": [],
      "execution_count": null
    },
    {
      "cell_type": "markdown",
      "metadata": {},
      "source": [
        "We now create a charge injection `Layout2DCI` object which uses the above variables to describe the different regions\n",
        "on a charge injection image."
      ]
    },
    {
      "cell_type": "code",
      "metadata": {},
      "source": [
        "layout = ac.Layout2DCI(\n",
        "    shape_2d=shape_native,\n",
        "    region_list=regions_list,\n",
        "    parallel_overscan=parallel_overscan,\n",
        "    serial_prescan=serial_prescan,\n",
        "    serial_overscan=serial_overscan,\n",
        ")"
      ],
      "outputs": [],
      "execution_count": null
    },
    {
      "cell_type": "markdown",
      "metadata": {},
      "source": [
        "Now we have defined our layout, we can load the charge injection imaging data as an `ImagingCI` object.\n",
        "\n",
        "We have a prepared dataset in the `dataset/imaging_ci/overview` folder of the workspace which we load below.\n",
        "\n",
        "The `ImagingCI` object has the following three attributes:\n",
        "\n",
        " - `image`: the charge injection image which includes FPRs and EPERs due to CTI.\n",
        " - `noise_map`: the noise-map of the charge injection image, which below only consists of read noise of 1 electron.\n",
        " - `pre_cti_data`: an image which estimates what the charge injection image looked like before clocking and therefore\n",
        " without CTI.\n",
        " \n",
        "__Simulators__\n",
        " \n",
        "To avoid storing large .fits files on GitHub, the files below must be simulated locally in your workspace.\n",
        "\n",
        "This is done by running the following scripts:\n",
        "\n",
        "- `python scripts/imaging_ci/simulators/overview/uniform.py`\n",
        "- `python scripts/imaging_ci/simulators/overview/non_uniform_cosmic_rays.py`\n",
        "- `python scripts/imaging_ci/simulators/overview/calibrate.py`"
      ]
    },
    {
      "cell_type": "code",
      "metadata": {},
      "source": [
        "dataset_name = \"overview\"\n",
        "dataset_type = \"uniform\"\n",
        "dataset_path = path.join(\"dataset\", dataset_name, \"imaging_ci\", dataset_type)\n",
        "\n",
        "dataset = ac.ImagingCI.from_fits(\n",
        "    data_path=path.join(dataset_path, f\"norm_{int(norm)}\", \"data.fits\"),\n",
        "    noise_map_path=path.join(dataset_path, f\"norm_{int(norm)}\", \"noise_map.fits\"),\n",
        "    pre_cti_data_path=path.join(dataset_path, f\"norm_{int(norm)}\", \"pre_cti_data.fits\"),\n",
        "    layout=layout,\n",
        "    pixel_scales=0.1,\n",
        ")"
      ],
      "outputs": [],
      "execution_count": null
    },
    {
      "cell_type": "markdown",
      "metadata": {},
      "source": [
        "We can plot the charge injection imaging using a `ImagingCI` object."
      ]
    },
    {
      "cell_type": "code",
      "metadata": {},
      "source": [
        "dataset_plotter = aplt.ImagingCIPlotter(\n",
        "    dataset=dataset,\n",
        "    mat_plot_2d=aplt.MatPlot2D(\n",
        "        title=aplt.Title(label=r\"2D Charge Injection Image\", fontsize=20)\n",
        "    ),\n",
        ")\n",
        "dataset_plotter.figures_2d(data=True)"
      ],
      "outputs": [],
      "execution_count": null
    },
    {
      "cell_type": "markdown",
      "metadata": {},
      "source": [
        "The figure shows the charge injection regions as rectangular blocks interspersed with regions of zero change,\n",
        "as expected.\n",
        "\n",
        "Furthermore, by closely inspecting the edges of each charge injection plots changes in signal can be seen,\n",
        "corresponding to the parallel and serial FPRs and EPERs. \n",
        "\n",
        "We can zoom in on one of these regions and change the color scheme to properly highlight the FPRs.\n",
        "\n",
        "(**PyAutoCTI** has a built-in visualization library which wraps matplotlib, which is documented in the \n",
        "`autocti_workspace/*/plots` package)."
      ]
    },
    {
      "cell_type": "code",
      "metadata": {},
      "source": [
        "mat_plot = aplt.MatPlot2D(\n",
        "    axis=aplt.Axis(extent=[-106.0, -96.0, 88.0, 98.0]),\n",
        "    cmap=aplt.Cmap(vmin=0.0, vmax=5.0),\n",
        "    title=aplt.Title(label=r\"2D Charge Injection FPRs\"),\n",
        ")\n",
        "\n",
        "dataset_plotter = aplt.ImagingCIPlotter(dataset=dataset, mat_plot_2d=mat_plot)\n",
        "dataset_plotter.figures_2d(data=True)"
      ],
      "outputs": [],
      "execution_count": null
    },
    {
      "cell_type": "markdown",
      "metadata": {},
      "source": [
        "We can do the same to highlight the EPERs."
      ]
    },
    {
      "cell_type": "code",
      "metadata": {},
      "source": [
        "mat_plot = aplt.MatPlot2D(\n",
        "    axis=aplt.Axis(extent=[96.0, 106.0, 68.0, 78.0]),\n",
        "    cmap=aplt.Cmap(vmin=0.0, vmax=10.0),\n",
        "    title=aplt.Title(label=r\"2D Charge Injection EPERs\"),\n",
        ")\n",
        "\n",
        "dataset_plotter = aplt.ImagingCIPlotter(dataset=dataset, mat_plot_2d=mat_plot)\n",
        "dataset_plotter.figures_2d(data=True)"
      ],
      "outputs": [],
      "execution_count": null
    },
    {
      "cell_type": "markdown",
      "metadata": {},
      "source": [
        "The `LayoutCI` object we defined above is contained in the `ImagingCI` object. \n",
        "\n",
        "The layout allows us to extract regions of interest in the data, for example a 1D array of the first 10 pixels of \n",
        "every parallel EPERs binned together."
      ]
    },
    {
      "cell_type": "code",
      "metadata": {},
      "source": [
        "parallel_eper_1d = layout.extract.parallel_eper.binned_array_1d_from(\n",
        "    array=dataset.data, settings=ac.SettingsExtract(pixels=(0, 10))\n",
        ")\n",
        "\n",
        "array_1d_plotter = aplt.Array1DPlotter(\n",
        "    y=parallel_eper_1d,\n",
        "    mat_plot_1d=aplt.MatPlot1D(\n",
        "        yticks=aplt.YTicks(manual_suffix=\"e-\"),\n",
        "        title=aplt.Title(label=r\"1D Binned Parallel EPERs\")\n",
        "    ),\n",
        ")\n",
        "array_1d_plotter.figure_1d()"
      ],
      "outputs": [],
      "execution_count": null
    },
    {
      "cell_type": "markdown",
      "metadata": {},
      "source": [
        "The layout can extract all the regions of interest of the data."
      ]
    },
    {
      "cell_type": "code",
      "metadata": {},
      "source": [
        "parallel_fpr_1d = layout.extract.parallel_fpr.binned_array_1d_from(\n",
        "    array=dataset.data, settings=ac.SettingsExtract(pixels=(0, 10))\n",
        ")\n",
        "array_1d_plotter = aplt.Array1DPlotter(\n",
        "    y=parallel_fpr_1d,\n",
        "    mat_plot_1d=aplt.MatPlot1D(\n",
        "        yticks=aplt.YTicks(manual_suffix=\"e-\"),\n",
        "        title=aplt.Title(label=r\"1D Binned Parallel FPRs\")\n",
        "    ),\n",
        ")\n",
        "array_1d_plotter.figure_1d()\n",
        "\n",
        "serial_eper_1d = layout.extract.serial_eper.binned_array_1d_from(\n",
        "    array=dataset.data, settings=ac.SettingsExtract(pixels=(0, 10))\n",
        ")\n",
        "array_1d_plotter = aplt.Array1DPlotter(\n",
        "    y=serial_eper_1d,\n",
        "    mat_plot_1d=aplt.MatPlot1D(\n",
        "        yticks=aplt.YTicks(manual_suffix=\"e-\"),\n",
        "        title=aplt.Title(label=r\"1D Binned Serial EPERs\")\n",
        "    ),\n",
        ")\n",
        "array_1d_plotter.figure_1d()\n",
        "\n",
        "serial_fpr_1d = layout.extract.serial_fpr.binned_array_1d_from(\n",
        "    array=dataset.data, settings=ac.SettingsExtract(pixels=(0, 10))\n",
        ")\n",
        "array_1d_plotter = aplt.Array1DPlotter(\n",
        "    y=serial_fpr_1d,\n",
        "    mat_plot_1d=aplt.MatPlot1D(\n",
        "        yticks=aplt.YTicks(manual_suffix=\"e-\"),\n",
        "        title=aplt.Title(label=r\"1D Binned Serial FPRs\")\n",
        "    ),\n",
        ")\n",
        "array_1d_plotter.figure_1d()"
      ],
      "outputs": [],
      "execution_count": null
    },
    {
      "cell_type": "markdown",
      "metadata": {},
      "source": [
        "We can now appreciate that charge injection imaging has all the information we need to calibrate CTI -- distinct FPR \n",
        "and EPERs. \n",
        "\n",
        "The other key piece of information is an understanding of what the data looked like before clocking and CTI, which is\n",
        "contained in the `pre_cti_data`."
      ]
    },
    {
      "cell_type": "code",
      "metadata": {},
      "source": [
        "dataset_plotter = aplt.ImagingCIPlotter(\n",
        "    dataset=dataset,\n",
        "    mat_plot_2d=aplt.MatPlot2D(\n",
        "        title=aplt.Title(label=r\"2D Charge Injection Pre-CTI Image\")\n",
        "    ),\n",
        ")\n",
        "dataset_plotter.figures_2d(pre_cti_data=True)"
      ],
      "outputs": [],
      "execution_count": null
    },
    {
      "cell_type": "markdown",
      "metadata": {},
      "source": [
        "__Realistic Charge Injection Imaging__\n",
        "\n",
        "For the simple charge injection data above this is literally a rectangular of non-zero values (corresponding to the\n",
        "injection level) surrounding large regions of 0 electrons.\n",
        "\n",
        "The key point is that because when the data was acquired on a CCD, we know what level of charge we injected, we\n",
        "therefore have a clear understanding of its appearance before CTI. Without this knowledge, we could not use it\n",
        "to calibrate CTI.\n",
        "\n",
        "More realistic charge injection imaging has many other features, for example: \n",
        " \n",
        " - The charge injection may show non-uniformity across the columns. This is not a for CTI calibration provided we have \n",
        " knowledge about the non-uniformity's appearance during charge injection.\n",
        " \n",
        " - There may be cosmic rays which hit the CCD during data acquisition and are read-out in the data. This is not a \n",
        " problem for CTI calibration provided we can detect, flag and mask these cosmic rays.\n",
        "\n",
        "**PyAutoCTI** has built in tools for both these tasks which are illustrated at:\n",
        " \n",
        "https://github.com/Jammy2211/autocti_workspace/tree/main/notebooks/imaging_ci/data_preparation."
      ]
    },
    {
      "cell_type": "code",
      "metadata": {},
      "source": [
        "dataset_name = \"overview\"\n",
        "dataset_type = \"non_uniform_cosmic_rays\"\n",
        "dataset_path = path.join(\"dataset\", dataset_name, \"imaging_ci\", dataset_type)\n",
        "\n",
        "dataset = ac.ImagingCI.from_fits(\n",
        "    data_path=path.join(dataset_path, f\"norm_{int(norm)}\", \"data.fits\"),\n",
        "    noise_map_path=path.join(dataset_path, f\"norm_{int(norm)}\", \"noise_map.fits\"),\n",
        "    pre_cti_data_path=path.join(dataset_path, f\"norm_{int(norm)}\", \"pre_cti_data.fits\"),\n",
        "    layout=layout,\n",
        "    pixel_scales=0.1,\n",
        ")\n",
        "\n",
        "dataset_plotter = aplt.ImagingCIPlotter(\n",
        "    dataset=dataset,\n",
        "    mat_plot_2d=aplt.MatPlot2D(\n",
        "        cmap=aplt.Cmap(vmin=0.0, vmax=110.0),\n",
        "        title=aplt.Title(label=r\"2D Charge Injection Image\"),\n",
        "    ),\n",
        ")\n",
        "dataset_plotter.figures_2d(data=True)"
      ],
      "outputs": [],
      "execution_count": null
    },
    {
      "cell_type": "markdown",
      "metadata": {},
      "source": [
        "__Wrap Up__\n",
        "\n",
        "We now have an understanding of how a dataset, in this case charge injection imaging, can contain the information\n",
        "we need to calibrate a CTI model. We also showed **PyAutoCTI**'s tools that make loading, manipulating and plotting\n",
        "these datasets straight forward.\n",
        "\n",
        "Next, we'll show how we actually compose a CTI model and fit it to a charge injection dataset."
      ]
    },
    {
      "cell_type": "code",
      "metadata": {},
      "source": [],
      "outputs": [],
      "execution_count": null
    }
  ],
  "metadata": {
    "anaconda-cloud": {},
    "kernelspec": {
      "display_name": "Python 3",
      "language": "python",
      "name": "python3"
    },
    "language_info": {
      "codemirror_mode": {
        "name": "ipython",
        "version": 3
      },
      "file_extension": ".py",
      "mimetype": "text/x-python",
      "name": "python",
      "nbconvert_exporter": "python",
      "pygments_lexer": "ipython3",
      "version": "3.6.1"
    }
  },
  "nbformat": 4,
  "nbformat_minor": 4
}