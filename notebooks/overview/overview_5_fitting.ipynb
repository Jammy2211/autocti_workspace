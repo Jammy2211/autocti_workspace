{
  "cells": [
    {
      "cell_type": "markdown",
      "metadata": {},
      "source": [
        "Overview: Fitting\n",
        "-----------------\n",
        "\n",
        "CTI calibration is the process of determining the CTI model of a given CCD, including the total density of traps\n",
        "on the CCD, the average release times of these traps and the CCD filling behaviour.\n",
        "\n",
        "To perform CTI calibration, we first need to be able to assume a CTI model, fit it to a dataset (e.g. charge\n",
        "injection imaging) and quantify its goodness-of-fit.\n",
        "\n",
        "If we can do this, we are then in a position to perform CTI calibration via a non-linear fitting algorithm (which is\n",
        "the topic of the next overview). This overview shows how we fit data with a CTI model using **PyAutoCTI**.\n",
        "\n",
        "Fitting a CTI model to a realistically sized charge injection image (e.g. the 2066 x 2128 images of previous\n",
        "tutorials) can take a while. To ensure this illustration script runs fast, we'll fit an idealized charge injection\n",
        "image which is just 30 x 30 pixels."
      ]
    },
    {
      "cell_type": "code",
      "metadata": {},
      "source": [
        "%matplotlib inline\n",
        "from pyprojroot import here\n",
        "workspace_path = str(here())\n",
        "%cd $workspace_path\n",
        "print(f\"Working Directory has been set to `{workspace_path}`\")\n",
        "\n",
        "from os import path\n",
        "\n",
        "import autocti as ac\n",
        "import autocti.plot as aplt"
      ],
      "outputs": [],
      "execution_count": null
    },
    {
      "cell_type": "markdown",
      "metadata": {},
      "source": [
        "__Dataset (Charge Injection)__\n",
        "\n",
        "We set up the variables required to load the charge injection imaging, using the same code shown in the previous \n",
        "overview.\n",
        "\n",
        "Note that the `Region2D` and `Layout2DCI` inputs have been updated to reflect the 30 x 30 shape of the dataset."
      ]
    },
    {
      "cell_type": "code",
      "metadata": {},
      "source": [
        "shape_native = (30, 30)\n",
        "\n",
        "parallel_overscan = ac.Region2D((25, 30, 1, 29))\n",
        "serial_prescan = ac.Region2D((0, 30, 0, 1))\n",
        "serial_overscan = ac.Region2D((0, 25, 29, 30))\n",
        "\n",
        "regions_list = [(0, 25, serial_prescan[3], serial_overscan[2])]\n",
        "\n",
        "layout = ac.Layout2DCI(\n",
        "    shape_2d=shape_native,\n",
        "    region_list=regions_list,\n",
        "    parallel_overscan=parallel_overscan,\n",
        "    serial_prescan=serial_prescan,\n",
        "    serial_overscan=serial_overscan,\n",
        ")"
      ],
      "outputs": [],
      "execution_count": null
    },
    {
      "cell_type": "markdown",
      "metadata": {},
      "source": [
        "We load a charge injection image with injections of 100e-."
      ]
    },
    {
      "cell_type": "code",
      "metadata": {},
      "source": [
        "norm = 100\n",
        "\n",
        "dataset_name = \"overview\"\n",
        "dataset_type = \"calibrate\"\n",
        "dataset_path = path.join(\"dataset\", dataset_name, \"imaging_ci\", dataset_type)\n",
        "\n",
        "dataset = ac.ImagingCI.from_fits(\n",
        "    data_path=path.join(dataset_path, f\"norm_{int(norm)}\", \"data.fits\"),\n",
        "    noise_map_path=path.join(dataset_path, f\"norm_{int(norm)}\", \"noise_map.fits\"),\n",
        "    pre_cti_data_path=path.join(dataset_path, f\"norm_{int(norm)}\", \"pre_cti_data.fits\"),\n",
        "    layout=layout,\n",
        "    pixel_scales=0.1,\n",
        ")"
      ],
      "outputs": [],
      "execution_count": null
    },
    {
      "cell_type": "markdown",
      "metadata": {},
      "source": [
        "By plotting the charge injection image, we see that it is a 30 x 30 cutout of a charge injection region.\n",
        "\n",
        "The dataset has been simulated with only parallel CTI, and therefore only contains a single FPR (at the top of\n",
        "each image) and a single EPER (with trails appearing at the bottom of the image). \n",
        "\n",
        "We will fit only a parallel CTI model for simplicity in this overview, but extending this to also include serial \n",
        "CTI is straightforward."
      ]
    },
    {
      "cell_type": "code",
      "metadata": {},
      "source": [
        "dataset_plotter = aplt.ImagingCIPlotter(dataset=dataset)\n",
        "dataset_plotter.figures_2d(data=True, pre_cti_data=True)"
      ],
      "outputs": [],
      "execution_count": null
    },
    {
      "cell_type": "markdown",
      "metadata": {},
      "source": [
        "__CTI Model__\n",
        "\n",
        "We next illustrate how we fit this charge injection imaging with a parallel CTI model and quantify the goodness of fit.\n",
        "\n",
        "We therefore need to assume a parallel CTI which we fit to the data. \n",
        "\n",
        "We therefore set up a clocker, traps and a CCD volume filling phase."
      ]
    },
    {
      "cell_type": "code",
      "metadata": {},
      "source": [
        "clocker = ac.Clocker2D()\n",
        "\n",
        "parallel_trap = ac.TrapInstantCapture(density=300.0, release_timescale=0.5)\n",
        "parallel_ccd = ac.CCDPhase(\n",
        "    well_fill_power=0.75, well_notch_depth=0.0, full_well_depth=200000.0\n",
        ")\n",
        "\n",
        "cti = ac.CTI2D(parallel_trap_list=[parallel_trap], parallel_ccd=parallel_ccd)"
      ],
      "outputs": [],
      "execution_count": null
    },
    {
      "cell_type": "markdown",
      "metadata": {},
      "source": [
        "__Charge Injection Fitting__\n",
        "\n",
        "To fit the CTI model to our charge injection imaging we create a `post_cti_image` via the clocker and pass it with\n",
        "the dataset to the `FitImagingCI` object."
      ]
    },
    {
      "cell_type": "code",
      "metadata": {},
      "source": [
        "\n",
        "post_cti_data = clocker.add_cti(data=dataset.pre_cti_data, cti=cti)\n",
        "\n",
        "fit = ac.FitImagingCI(dataset=dataset, post_cti_data=post_cti_data)"
      ],
      "outputs": [],
      "execution_count": null
    },
    {
      "cell_type": "markdown",
      "metadata": {},
      "source": [
        "From here on, we refer to the `post_cti_image` as our `model_image` -- it is the image of our CTI model which we are\n",
        "comparing to the data to determine whether the CTI model is a good fit.\n",
        "\n",
        "The `FitImagingCI` object contains both these terms as properties, however they both correspond to the same 2D numpy\n",
        "array."
      ]
    },
    {
      "cell_type": "code",
      "metadata": {},
      "source": [
        "print(fit.post_cti_data.native[0, 0])\n",
        "print(fit.model_data.native[0, 0])"
      ],
      "outputs": [],
      "execution_count": null
    },
    {
      "cell_type": "markdown",
      "metadata": {},
      "source": [
        "The `FitImagingCI` contains the following NumPy arrays as properties which quantify the goodness-of-fit:\n",
        "\n",
        " - `residual_map`: Residuals = (Data - Model_Data).\n",
        " - `normalized_residual_map`: Normalized_Residual = (Data - Model_Data) / Noise\n",
        " - `chi_squared_map`: Chi_Squared = ((Residuals) / (Noise)) ** 2.0 = ((Data - Model)**2.0)/(Variances)\n",
        "\n",
        "We can plot these via a `FitImagingCIPlotter` and see that the residuals and other quantities are significant, \n",
        "indicating a bad model fit."
      ]
    },
    {
      "cell_type": "code",
      "metadata": {},
      "source": [
        "fit_plotter = aplt.FitImagingCIPlotter(\n",
        "    fit=fit,\n",
        "    mat_plot_2d=aplt.MatPlot2D(title=aplt.Title(label=r\"2D Residual Map (Bad Fit)\")),\n",
        ")\n",
        "fit_plotter.figures_2d(residual_map=True)\n",
        "fit_plotter = aplt.FitImagingCIPlotter(\n",
        "    fit=fit,\n",
        "    mat_plot_2d=aplt.MatPlot2D(\n",
        "        title=aplt.Title(label=r\"2D Normalized Residual Map (Bad Fit)\")\n",
        "    ),\n",
        ")\n",
        "fit_plotter.figures_2d(normalized_residual_map=True)\n",
        "fit_plotter = aplt.FitImagingCIPlotter(\n",
        "    fit=fit,\n",
        "    mat_plot_2d=aplt.MatPlot2D(title=aplt.Title(label=r\"2D Chi-Squared Map (Bad Fit)\")),\n",
        ")\n",
        "fit_plotter.figures_2d(chi_squared_map=True)"
      ],
      "outputs": [],
      "execution_count": null
    },
    {
      "cell_type": "markdown",
      "metadata": {},
      "source": [
        "There are single valued floats which quantify the goodness of fit:\n",
        "\n",
        " - `chi_squared`: The sum of the `chi_squared_map`.\n",
        " - `noise_normalization`: The normalizing noise term in the likelihood function \n",
        "    where [Noise_Term] = sum(log(2*pi*[Noise]**2.0)).\n",
        "\n",
        "An overall goodness-of-fit measurement is provided by the `log_likelihood`:\n",
        "\n",
        " - `log_likelihood`: The log likelihood value of the fit where [LogLikelihood] = -0.5*[Chi_Squared_Term + Noise_Term]."
      ]
    },
    {
      "cell_type": "code",
      "metadata": {},
      "source": [
        "print(fit.chi_squared)\n",
        "print(fit.noise_normalization)\n",
        "print(fit.log_likelihood)"
      ],
      "outputs": [],
      "execution_count": null
    },
    {
      "cell_type": "markdown",
      "metadata": {},
      "source": [
        "__Good Fit__\n",
        "\n",
        "The significant residuals indicate the model-fit above is bad. \n",
        "\n",
        "Below, we use the \"correct\" CTI model (which we know because it is the model we used to simulate this charge injection\n",
        "data!) to reperform the fit above."
      ]
    },
    {
      "cell_type": "code",
      "metadata": {},
      "source": [
        "parallel_trap = ac.TrapInstantCapture(density=10.0, release_timescale=5.0)\n",
        "\n",
        "parallel_ccd = ac.CCDPhase(\n",
        "    well_fill_power=0.5, well_notch_depth=0.0, full_well_depth=200000.0\n",
        ")\n",
        "\n",
        "cti = ac.CTI2D(parallel_trap_list=[parallel_trap], parallel_ccd=parallel_ccd)\n",
        "\n",
        "post_cti_data = clocker.add_cti(data=dataset.pre_cti_data, cti=cti)\n",
        "\n",
        "fit = ac.FitImagingCI(dataset=dataset, post_cti_data=post_cti_data)"
      ],
      "outputs": [],
      "execution_count": null
    },
    {
      "cell_type": "markdown",
      "metadata": {},
      "source": [
        "The plot of the residuals now shows no significant signal, indicating a good fit."
      ]
    },
    {
      "cell_type": "code",
      "metadata": {},
      "source": [
        "fit_plotter = aplt.FitImagingCIPlotter(\n",
        "    fit=fit,\n",
        "    mat_plot_2d=aplt.MatPlot2D(title=aplt.Title(label=r\"2D Residual Map (Good Fit)\")),\n",
        ")\n",
        "fit_plotter.figures_2d(residual_map=True)\n",
        "\n",
        "fit_plotter = aplt.FitImagingCIPlotter(\n",
        "    fit=fit,\n",
        "    mat_plot_2d=aplt.MatPlot2D(\n",
        "        title=aplt.Title(label=r\"2D Normalized Residual Map (Good Fit)\")\n",
        "    ),\n",
        ")\n",
        "fit_plotter.figures_2d(normalized_residual_map=True)\n",
        "\n",
        "fit_plotter = aplt.FitImagingCIPlotter(\n",
        "    fit=fit,\n",
        "    mat_plot_2d=aplt.MatPlot2D(\n",
        "        title=aplt.Title(label=r\"2D Chi-Squared Map (Good Fit)\")\n",
        "    ),\n",
        ")\n",
        "fit_plotter.figures_2d(chi_squared_map=True)"
      ],
      "outputs": [],
      "execution_count": null
    },
    {
      "cell_type": "markdown",
      "metadata": {},
      "source": [
        "If we compare the `log_likelihood` to the value above, we can see that it has increased by a lot, again indicating a\n",
        "good fit.\n",
        "\n",
        "You should keep the quantity the `log_likelihood` in mind as it will be key when we discuss how CTI calibration is \n",
        "performed."
      ]
    },
    {
      "cell_type": "code",
      "metadata": {},
      "source": [
        "print(fit.log_likelihood)"
      ],
      "outputs": [],
      "execution_count": null
    },
    {
      "cell_type": "markdown",
      "metadata": {},
      "source": [
        "__Mask__\n",
        "\n",
        "We may want to fit charge injection data but mask regions of the data such that it is not including it the fit.\n",
        "\n",
        "**PyAutoCTI** has built in tools for masking. For example, below, we create a mask which removes all 25 pixels \n",
        "containing the parallel FPR."
      ]
    },
    {
      "cell_type": "code",
      "metadata": {},
      "source": [
        "mask = ac.Mask2D.all_false(\n",
        "    shape_native=dataset.shape_native, pixel_scales=dataset.pixel_scales\n",
        ")\n",
        "\n",
        "mask = ac.Mask2D.masked_fpr_and_eper_from(\n",
        "    mask=mask,\n",
        "    layout=dataset.layout,\n",
        "    pixel_scales=dataset.pixel_scales,\n",
        "    settings=ac.SettingsMask2D(parallel_fpr_pixels=(0, 25)),\n",
        ")"
      ],
      "outputs": [],
      "execution_count": null
    },
    {
      "cell_type": "markdown",
      "metadata": {},
      "source": [
        "If we apply this mask to the charge injection imaging and plot it, the parallel FPR is remove from the plotted figure."
      ]
    },
    {
      "cell_type": "code",
      "metadata": {},
      "source": [
        "dataset = dataset.apply_mask(mask=mask)\n",
        "\n",
        "dataset_plotter = aplt.ImagingCIPlotter(\n",
        "    dataset=dataset,\n",
        "    mat_plot_2d=aplt.MatPlot2D(\n",
        "        title=aplt.Title(label=r\"Charge Injection Image (Masked)\")\n",
        "    ),\n",
        ")\n",
        "dataset_plotter.figures_2d(data=True)"
      ],
      "outputs": [],
      "execution_count": null
    },
    {
      "cell_type": "markdown",
      "metadata": {},
      "source": [
        "If we repeat the fit above using this masked imaging we see that the residuals, normalized residuals and chi-squared\n",
        "map are masked and not included in the fit."
      ]
    },
    {
      "cell_type": "code",
      "metadata": {},
      "source": [
        "fit = ac.FitImagingCI(dataset=dataset, post_cti_data=post_cti_data)\n",
        "\n",
        "fit_plotter = aplt.FitImagingCIPlotter(\n",
        "    fit=fit,\n",
        "    mat_plot_2d=aplt.MatPlot2D(title=aplt.Title(label=r\"2D Residual Map (Masked)\")),\n",
        ")\n",
        "fit_plotter.figures_2d(residual_map=True)\n",
        "fit_plotter = aplt.FitImagingCIPlotter(\n",
        "    fit=fit,\n",
        "    mat_plot_2d=aplt.MatPlot2D(\n",
        "        title=aplt.Title(label=r\"2D Normalized Residual Map (Masked)\")\n",
        "    ),\n",
        ")\n",
        "fit_plotter.figures_2d(normalized_residual_map=True)\n",
        "fit_plotter = aplt.FitImagingCIPlotter(\n",
        "    fit=fit,\n",
        "    mat_plot_2d=aplt.MatPlot2D(title=aplt.Title(label=r\"2D Chi-Squared Map (Masked)\")),\n",
        ")\n",
        "fit_plotter.figures_2d(chi_squared_map=True)"
      ],
      "outputs": [],
      "execution_count": null
    },
    {
      "cell_type": "markdown",
      "metadata": {},
      "source": [
        "Furthermore, the `log_likelihood` value changes, because the parallel FPR pixels are not used when computing its value."
      ]
    },
    {
      "cell_type": "code",
      "metadata": {},
      "source": [
        "print(fit.log_likelihood)"
      ],
      "outputs": [],
      "execution_count": null
    },
    {
      "cell_type": "markdown",
      "metadata": {},
      "source": [
        "__Fitting 1D Datasets__\n",
        "\n",
        "In previous tutorials, we illustrated CTI using 1D datasets which contained an FPR and EPER.\n",
        "\n",
        "Below we load a 1D dataset which you can imagine corresponds to a single column of a charge injection image:"
      ]
    },
    {
      "cell_type": "code",
      "metadata": {},
      "source": [
        "shape_native = (30,)\n",
        "\n",
        "prescan = ac.Region1D((0, 1))\n",
        "overscan = ac.Region1D((25, 30))\n",
        "\n",
        "region_list = [(1, 25)]\n",
        "\n",
        "norm = 100\n",
        "\n",
        "layout_1d = ac.Layout1D(\n",
        "    shape_1d=shape_native,\n",
        "    region_list=region_list,\n",
        "    prescan=prescan,\n",
        "    overscan=overscan,\n",
        ")\n",
        "\n",
        "dataset_path = path.join(\"dataset\", dataset_name, \"dataset_1d\")\n",
        "\n",
        "dataset = ac.Dataset1D.from_fits(\n",
        "    data_path=path.join(dataset_path, f\"norm_{int(norm)}\", \"data.fits\"),\n",
        "    noise_map_path=path.join(dataset_path, f\"norm_{int(norm)}\", \"noise_map.fits\"),\n",
        "    pre_cti_data_path=path.join(dataset_path, f\"norm_{int(norm)}\", \"pre_cti_data.fits\"),\n",
        "    layout=layout_1d,\n",
        "    pixel_scales=0.1,\n",
        ")"
      ],
      "outputs": [],
      "execution_count": null
    },
    {
      "cell_type": "markdown",
      "metadata": {},
      "source": [
        "When we plot the dataset we see it has an FPR of 25 pixels and an EPER of 5 trailling pixels, just like the charge \n",
        "injection data."
      ]
    },
    {
      "cell_type": "code",
      "metadata": {},
      "source": [
        "dataset_plotter = aplt.Dataset1DPlotter(\n",
        "    dataset=dataset,\n",
        "    mat_plot_1d=aplt.MatPlot1D(\n",
        "        yticks=aplt.YTicks(manual_suffix=\"e-\"), title=aplt.Title(label=r\"1D Dataset\")\n",
        "    ),\n",
        ")\n",
        "dataset_plotter.subplot_dataset()"
      ],
      "outputs": [],
      "execution_count": null
    },
    {
      "cell_type": "markdown",
      "metadata": {},
      "source": [
        "We can mask the data to remove the FPR just like we did above."
      ]
    },
    {
      "cell_type": "code",
      "metadata": {},
      "source": [
        "mask = ac.Mask1D.all_false(\n",
        "    shape_slim=dataset.data.shape_slim, pixel_scales=dataset.data.pixel_scales\n",
        ")\n",
        "\n",
        "mask = ac.Mask1D.masked_fpr_and_eper_from(\n",
        "    mask=mask,\n",
        "    layout=dataset.layout,\n",
        "    pixel_scales=dataset.data.pixel_scales,\n",
        "    settings=ac.SettingsMask1D(fpr_pixels=(0, 25)),\n",
        ")"
      ],
      "outputs": [],
      "execution_count": null
    },
    {
      "cell_type": "markdown",
      "metadata": {},
      "source": [
        "To fit this 1D data we create a 1D clockcer, use this to produce a 1D model image and fit it using a `FitDataset1D`\n",
        "object.\n",
        "\n",
        "Note how visualizing the fit for inspection is a lot easier in 1D than 2D."
      ]
    },
    {
      "cell_type": "code",
      "metadata": {},
      "source": [
        "clocker = ac.Clocker1D(express=5, roe=ac.ROEChargeInjection())\n",
        "\n",
        "trap = ac.TrapInstantCapture(density=1.0, release_timescale=2.0)\n",
        "ccd = ac.CCDPhase(well_fill_power=0.75, well_notch_depth=0.0, full_well_depth=200000.0)\n",
        "\n",
        "cti = ac.CTI1D(trap_list=[parallel_trap], ccd=parallel_ccd)\n",
        "\n",
        "post_cti_data = clocker.add_cti(data=dataset.pre_cti_data, cti=cti)\n",
        "\n",
        "fit = ac.FitDataset1D(dataset=dataset, post_cti_data=post_cti_data)"
      ],
      "outputs": [],
      "execution_count": null
    },
    {
      "cell_type": "markdown",
      "metadata": {},
      "source": [
        "Plotting the fit shows this model gives a good fit, with minimal residuals."
      ]
    },
    {
      "cell_type": "code",
      "metadata": {},
      "source": [
        "fit_plotter = aplt.FitDataset1DPlotter(\n",
        "    fit=fit,\n",
        "    mat_plot_1d=aplt.MatPlot1D(\n",
        "        yticks=aplt.YTicks(manual_suffix=\"e-\"),\n",
        "        title=aplt.Title(label=r\"1D Residual Map\"),\n",
        "    ),\n",
        ")\n",
        "fit_plotter.figures_1d(residual_map=True)\n",
        "fit_plotter = aplt.FitDataset1DPlotter(\n",
        "    fit=fit,\n",
        "    mat_plot_1d=aplt.MatPlot1D(\n",
        "        yticks=aplt.YTicks(manual_suffix=\"e-\"),\n",
        "        title=aplt.Title(label=r\"1D Normalized Residual Map\"),\n",
        "    ),\n",
        ")\n",
        "fit_plotter.figures_1d(normalized_residual_map=True)\n",
        "fit_plotter = aplt.FitDataset1DPlotter(\n",
        "    fit=fit,\n",
        "    mat_plot_1d=aplt.MatPlot1D(\n",
        "        yticks=aplt.YTicks(manual_suffix=\"e-\"),\n",
        "        title=aplt.Title(label=r\"1D Chi-Squared Map\"),\n",
        "    ),\n",
        ")\n",
        "fit_plotter.figures_1d(chi_squared_map=True)"
      ],
      "outputs": [],
      "execution_count": null
    },
    {
      "cell_type": "markdown",
      "metadata": {},
      "source": [
        "The fit has all the same figures of merit as the charge injection fit, for example, the `chi_squared` \n",
        "and `log_likelihood`."
      ]
    },
    {
      "cell_type": "code",
      "metadata": {},
      "source": [
        "print(fit.chi_squared)\n",
        "print(fit.noise_normalization)\n",
        "print(fit.log_likelihood)"
      ],
      "outputs": [],
      "execution_count": null
    },
    {
      "cell_type": "markdown",
      "metadata": {},
      "source": [
        "__Wrap Up__\n",
        "\n",
        "This overview shows how by assuming a CTI model, we can use it to create a model-image of a CTI calibration dataset\n",
        "and fit it to that data. We were able to quantify its goodness-of-fit via a `log_likelihood`.\n",
        "\n",
        "We are now in a position to perform CTI calibration, where our goal is to find the CTI model (e.g. the combination\n",
        "of trap densities, release times and CCD volume filling) which fits the data accurately and gives the highest\n",
        "`log_likelihood` values. This is the topic of the next overview."
      ]
    },
    {
      "cell_type": "code",
      "metadata": {},
      "source": [],
      "outputs": [],
      "execution_count": null
    }
  ],
  "metadata": {
    "anaconda-cloud": {},
    "kernelspec": {
      "display_name": "Python 3",
      "language": "python",
      "name": "python3"
    },
    "language_info": {
      "codemirror_mode": {
        "name": "ipython",
        "version": 3
      },
      "file_extension": ".py",
      "mimetype": "text/x-python",
      "name": "python",
      "nbconvert_exporter": "python",
      "pygments_lexer": "ipython3",
      "version": "3.6.1"
    }
  },
  "nbformat": 4,
  "nbformat_minor": 4
}