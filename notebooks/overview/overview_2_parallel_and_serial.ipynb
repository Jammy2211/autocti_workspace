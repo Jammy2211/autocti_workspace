{
  "cells": [
    {
      "cell_type": "markdown",
      "metadata": {},
      "source": [
        "Overview: Parallel and Serial\n",
        "-----------------------------\n",
        "\n",
        "The descriptions and animations of the previous overview described CCD clocking as a 1D process, whereby electrons were\n",
        "trailed as they move in one direction towards read-out electronics.\n",
        "\n",
        "However, the images from the Hubble Space Telescope we looked at are 2D, and CCD clocking is of course a 2D process.\n",
        "So, lets adjust our picture of how CCD clocking works to one that is two dimensional.\n",
        "\n",
        "Below is a schematic of a 2D image, called a \"charge injection image\". This image does not contain galaxies or stars.\n",
        "Instead, the signal is created using electronics at bottom of the CCD (furthest from the read out electronics) which\n",
        "inject a current (e.g. rows of electrons into every pixel) across the CCD.\n",
        "\n",
        "This injection is turned on and off, creating the regions of the data with signal (the yellow / orange rectangles in\n",
        "the image below) interspersed around regions with no charge.\n",
        "\n",
        "(It turns out that charge injection images are crucial to calibrating CTI -- a process we have to undertake before\n",
        "we can correct CTI in data. We cover this in overviews 4 and 5!)"
      ]
    },
    {
      "cell_type": "code",
      "metadata": {},
      "source": [
        "%matplotlib inline\n",
        "from pyprojroot import here\n",
        "workspace_path = str(here())\n",
        "%cd $workspace_path\n",
        "print(f\"Working Directory has been set to `{workspace_path}`\")\n",
        "\n",
        "import matplotlib.pyplot as plt\n",
        "import matplotlib.image as mpimg\n",
        "from os import path\n",
        "\n",
        "img = mpimg.imread(path.join(\"dataset\", \"overview\", \"ccd_schematic.png\"))\n",
        "plt.imshow(img)\n",
        "plt.show()\n",
        "plt.close()"
      ],
      "outputs": [],
      "execution_count": null
    },
    {
      "cell_type": "markdown",
      "metadata": {},
      "source": [
        "__Two Dimensional CCD__\n",
        "\n",
        "The CCD above has `2046 + 20 = 2066` rows of pixels and `51 + 2048 + 29 = 2128` columns of pixels (these are the\n",
        "dimensions of a CCD quadrant of the Euclid space satellite). \n",
        "\n",
        "As a reminder, a 'pixel' describes a group of electrons that are collectively held together in the same electrostatic \n",
        "potential in the CCD, and therefore read out together in the same pixel after clocking.\n",
        "\n",
        "Clocking and read-out of a 2D image extends the 1D description above as follows:\n",
        "\n",
        " 1) An entire row of electrons over 2066 pixels are shifted, all at once, by adjusting the electrostatic potential in \n",
        "    every pixel simultaneously. In the diagram above this shift is in the upwards direction.\n",
        "\n",
        " 2) These electrons enter the special row of pixels shown at the top of the schematic, called the 'read-out register',\n",
        "    where they are held in place with a special row of electrostatic potentials. This is called '**parallel** clocking'.\n",
        "\n",
        " 3) At the far end of the read-out register are the read-out electronics. This was seen in the 1D animations in the\n",
        "    previous overview and is located at the top-left of the schematic above. The electrons in this row of 2066 pixels, \n",
        "    read-out register, are clocked towards read out electronics and converted from an analogue to digital signal.\n",
        "    This is called '**serial** clocking.\n",
        "\n",
        " 3) After the electrons in these 2066 pixels are read out, the read-out register is now empty and the next row of \n",
        "    electrons are shifted into it.\n",
        "\n",
        " 4) This process is repeated until the electrons in all 2128 columns of pixels have been read-out and converted to a \n",
        "    digital signal.\n",
        "\n",
        "In the example above, serial clocking has to shift 2066 electrons, one pixel at a time, into the read out electronics.\n",
        "For every 2066 shifts, parallel clocking has to move only a single row of electrons (all at once) into the read out \n",
        "register.\n",
        "\n",
        "Serial clocking is therefore much faster than parallel clocking, in the example above around ~2000 times faster. \n",
        "Keep this in mind!\n",
        "\n",
        "__arCTIc__\n",
        "\n",
        "Now, lets perform 2D clocking and CTI addition using arCTIc. First, lets make a scaled down version of the charge\n",
        "injection image, which will simply contain a 3x3 square of pixels containing 100 electrons surrounded by pixels which\n",
        "are empty.\n",
        "\n",
        "This uses an `Array2D` object, which is a class representing a 2D data structure and is a 2D extension of the \n",
        "`Array1D` objected used in the previous overview. It again inherits from a numpy ndarray and is extended \n",
        "with functionality which is expanded upon elsewhere in the workspace."
      ]
    },
    {
      "cell_type": "code",
      "metadata": {},
      "source": [
        "import autocti as ac\n",
        "\n",
        "pre_cti_data_2d = ac.Array2D.no_mask(\n",
        "    values=[\n",
        "        [0.0, 0.0, 0.0, 0.0, 0.0, 0.0, 0.0, 0.0],\n",
        "        [0.0, 10.0, 10.0, 10.0, 0.0, 0.0, 0.0, 0.0],\n",
        "        [0.0, 10.0, 10.0, 10.0, 0.0, 0.0, 0.0, 0.0],\n",
        "        [0.0, 10.0, 10.0, 10.0, 0.0, 0.0, 0.0, 0.0],\n",
        "        [0.0, 0.0, 0.0, 0.0, 0.0, 0.0, 0.0, 0.0],\n",
        "        [0.0, 0.0, 0.0, 0.0, 0.0, 0.0, 0.0, 0.0],\n",
        "        [0.0, 0.0, 0.0, 0.0, 0.0, 0.0, 0.0, 0.0],\n",
        "        [0.0, 0.0, 0.0, 0.0, 0.0, 0.0, 0.0, 0.0],\n",
        "        [0.0, 0.0, 0.0, 0.0, 0.0, 0.0, 0.0, 0.0],\n",
        "        [0.0, 0.0, 0.0, 0.0, 0.0, 0.0, 0.0, 0.0],\n",
        "    ],\n",
        "    pixel_scales=0.1,\n",
        ")"
      ],
      "outputs": [],
      "execution_count": null
    },
    {
      "cell_type": "markdown",
      "metadata": {},
      "source": [
        "**PyAutoCTI** has a built in visualization library for plotting 2D data (amongst many other things)!"
      ]
    },
    {
      "cell_type": "code",
      "metadata": {},
      "source": [
        "import autocti.plot as aplt\n",
        "\n",
        "array_2d_plotter = aplt.Array2DPlotter(\n",
        "    array=pre_cti_data_2d,\n",
        "    mat_plot_2d=aplt.MatPlot2D(title=aplt.Title(label=\"2D Data Without CTI\")),\n",
        ")\n",
        "array_2d_plotter.figure_2d()"
      ],
      "outputs": [],
      "execution_count": null
    },
    {
      "cell_type": "markdown",
      "metadata": {},
      "source": [
        "To model the CCD clocking process, including CTI, we create a **PyAutoCTI** `Clocker2D` object, which calls arCTIc\n",
        "via a Python wrapper."
      ]
    },
    {
      "cell_type": "code",
      "metadata": {},
      "source": [
        "clocker = ac.Clocker2D(parallel_roe=ac.ROE())"
      ],
      "outputs": [],
      "execution_count": null
    },
    {
      "cell_type": "markdown",
      "metadata": {},
      "source": [
        "__CTI Model (Parallel)__\n",
        "\n",
        "We again need to define our CTI model, that is the number of traps our 2D data encounters when we pass it through the \n",
        "clocker and replicate the CCD clocking process. \n",
        "\n",
        "We will again use a trap which captures electrons instantaneously and define the CCD's phase describing how the\n",
        "electron cloud fills pixels. \n",
        "\n",
        "You'll note that the variables below use the prefix `parallel_`, which indicates that this is only accounting for\n",
        "CTI in the parallel clocking direction."
      ]
    },
    {
      "cell_type": "code",
      "metadata": {},
      "source": [
        "parallel_trap = ac.TrapInstantCapture(density=100.0, release_timescale=1.0)\n",
        "parallel_ccd = ac.CCDPhase(\n",
        "    well_fill_power=0.58, well_notch_depth=0.0, full_well_depth=200000.0\n",
        ")"
      ],
      "outputs": [],
      "execution_count": null
    },
    {
      "cell_type": "markdown",
      "metadata": {},
      "source": [
        "We group these into a `CTI2D` object."
      ]
    },
    {
      "cell_type": "code",
      "metadata": {},
      "source": [
        "cti = ac.CTI2D(parallel_trap_list=[parallel_trap], parallel_ccd=parallel_ccd)"
      ],
      "outputs": [],
      "execution_count": null
    },
    {
      "cell_type": "markdown",
      "metadata": {},
      "source": [
        "We can now add parallel CTI to our 2D data by passing it through the 2D clocker.\n",
        "\n",
        "For our 2d ndarray which has shape (10,8) parallel clocking goes upwards towards entries in the \n",
        "row pre_cti_data_2d[0, :]. CTI trails should therefore appear at the bottom of the `pre_cti_data_2d` after each\n",
        "block of 10 electrons."
      ]
    },
    {
      "cell_type": "code",
      "metadata": {},
      "source": [
        "post_cti_data_2d = clocker.add_cti(data=pre_cti_data_2d, cti=cti)\n",
        "\n",
        "array_2d_plotter = aplt.Array2DPlotter(\n",
        "    array=post_cti_data_2d,\n",
        "    mat_plot_2d=aplt.MatPlot2D(title=aplt.Title(label=\"2D Data With Parallel CTI\")),\n",
        ")\n",
        "array_2d_plotter.figure_2d()"
      ],
      "outputs": [],
      "execution_count": null
    },
    {
      "cell_type": "markdown",
      "metadata": {},
      "source": [
        "__CTI Model (Serial)__\n",
        "\n",
        "We can do the exact same for serial clocking and CTI.\n",
        "\n",
        "Because serial clocking is ~x1000 faster than parallel clocking, this means it is subject to a completely different\n",
        "landscape of traps. For this reason, we always define our parallel and serial CTI models separately and it is common\n",
        " for them to have different densities. For illustrative purposes, our serial CTI model has two unique trap species.\n",
        "\n",
        "The way an electron cloud fills a pixel in the read-out register is different to the main pixels, meaning for serial\n",
        "clocking and CTI we also define a unique `CCDPhase`. "
      ]
    },
    {
      "cell_type": "code",
      "metadata": {},
      "source": [
        "serial_trap_0 = ac.TrapInstantCapture(density=60.0, release_timescale=2.0)\n",
        "serial_trap_1 = ac.TrapInstantCapture(density=100.0, release_timescale=10.0)\n",
        "\n",
        "serial_ccd = ac.CCDPhase(\n",
        "    well_fill_power=0.58, well_notch_depth=0.0, full_well_depth=200000.0\n",
        ")\n",
        "\n",
        "cti = ac.CTI2D(serial_trap_list=[serial_trap_0, serial_trap_1], serial_ccd=serial_ccd)"
      ],
      "outputs": [],
      "execution_count": null
    },
    {
      "cell_type": "markdown",
      "metadata": {},
      "source": [
        "We can now add serial CTI to our 2D data by passing it through the 2D clocker.\n",
        "\n",
        "For our 2d ndarray which has shape (10,8) serial clocking goes left towards entries in the column \n",
        "pre_cti_data_2d[:, 0]. CTI trails should therefore appear at the right of the `pre_cti_data_2d` after each\n",
        "block of 10 electrons."
      ]
    },
    {
      "cell_type": "code",
      "metadata": {},
      "source": [
        "post_cti_data_2d = clocker.add_cti(data=pre_cti_data_2d, cti=cti)\n",
        "\n",
        "array_2d_plotter = aplt.Array2DPlotter(\n",
        "    array=post_cti_data_2d,\n",
        "    mat_plot_2d=aplt.MatPlot2D(title=aplt.Title(label=\"2D Data With Serial CTI\")),\n",
        ")\n",
        "array_2d_plotter.figure_2d()"
      ],
      "outputs": [],
      "execution_count": null
    },
    {
      "cell_type": "markdown",
      "metadata": {},
      "source": [
        "__CTI Model (Parallel + Serial)__\n",
        "\n",
        "We can of course add both parallel and serial via the same arCTIc call.\n",
        "\n",
        "In this case, parallel CTI is added first, followed by serial CTI, where serial CTI is added on top of the post-cti\n",
        "image produced after parallel clocking. This is the same order of events as occurs on a real CCD.\n",
        "\n",
        "This means we expect to a small number of electrons trailed into the corner of our post-cti image, which are the\n",
        "parallel CTI trails then trailed during serial clocking."
      ]
    },
    {
      "cell_type": "code",
      "metadata": {},
      "source": [
        "cti = ac.CTI2D(\n",
        "    parallel_trap_list=[parallel_trap],\n",
        "    parallel_ccd=parallel_ccd,\n",
        "    serial_trap_list=[serial_trap_0, serial_trap_1],\n",
        "    serial_ccd=serial_ccd,\n",
        ")\n",
        "\n",
        "post_cti_data_2d = clocker.add_cti(data=pre_cti_data_2d, cti=cti)\n",
        "\n",
        "array_2d_plotter = aplt.Array2DPlotter(\n",
        "    array=post_cti_data_2d,\n",
        "    mat_plot_2d=aplt.MatPlot2D(\n",
        "        title=aplt.Title(label=\"2D Data With Parallel and Serial CTI\")\n",
        "    ),\n",
        ")\n",
        "array_2d_plotter.figure_2d()"
      ],
      "outputs": [],
      "execution_count": null
    },
    {
      "cell_type": "markdown",
      "metadata": {},
      "source": [
        "__Correcting CTI__\n",
        "\n",
        "Correcting CTI in 2D is as easy as it was in 1D, by simply calling the clocker's `remove_cti()` method."
      ]
    },
    {
      "cell_type": "code",
      "metadata": {},
      "source": [
        "corrected_cti_data = clocker.remove_cti(data=post_cti_data_2d, cti=cti)\n",
        "\n",
        "array_2d_plotter = aplt.Array2DPlotter(\n",
        "    array=corrected_cti_data,\n",
        "    mat_plot_2d=aplt.MatPlot2D(title=aplt.Title(label=\"2D Data With CTI Corrected\")),\n",
        ")\n",
        "array_2d_plotter.figure_2d()"
      ],
      "outputs": [],
      "execution_count": null
    },
    {
      "cell_type": "markdown",
      "metadata": {},
      "source": [
        "__Wrap Up__\n",
        "\n",
        "We now understand how a CCD works in two dimensions and are able to add and correct CTI to 2D image data.\n",
        "\n",
        "The remaining question is, if we have data containing CTI which we wish to correct, how do we choose our CTI model?\n",
        "How do we know the density of traps on the CCD? How do electrons fill pixels?\n",
        "\n",
        "We'll begin to cover this in the next overview, first explaining how these different properties of the CTI model\n",
        "change the way CTI appears in a dataset; information we will later use to calibrate a CTI model."
      ]
    },
    {
      "cell_type": "code",
      "metadata": {},
      "source": [],
      "outputs": [],
      "execution_count": null
    }
  ],
  "metadata": {
    "anaconda-cloud": {},
    "kernelspec": {
      "display_name": "Python 3",
      "language": "python",
      "name": "python3"
    },
    "language_info": {
      "codemirror_mode": {
        "name": "ipython",
        "version": 3
      },
      "file_extension": ".py",
      "mimetype": "text/x-python",
      "name": "python",
      "nbconvert_exporter": "python",
      "pygments_lexer": "ipython3",
      "version": "3.6.1"
    }
  },
  "nbformat": 4,
  "nbformat_minor": 4
}