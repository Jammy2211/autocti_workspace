{
  "cells": [
    {
      "cell_type": "markdown",
      "metadata": {},
      "source": [
        "Overview: What is CTI?\n",
        "----------------------\n",
        "\n",
        "Charge Transfer Inefficiency, or CTI for short, is an effect that occurs when acquiring imaging data from Charge\n",
        "Coupled Devices (CCDs).\n",
        "\n",
        "Lets take a look at a extract of data taken from the Advanced Camera for Surveys (ACS) instrument on board the\n",
        "Hubble Space Telescope (this figure is taken from Massey et al 2009 -- https://arxiv.org/abs/1009.4335):"
      ]
    },
    {
      "cell_type": "code",
      "metadata": {},
      "source": [
        "%matplotlib inline\n",
        "from pyprojroot import here\n",
        "workspace_path = str(here())\n",
        "%cd $workspace_path\n",
        "print(f\"Working Directory has been set to `{workspace_path}`\")\n",
        "\n",
        "import matplotlib.pyplot as plt\n",
        "import matplotlib.image as mpimg\n",
        "from os import path\n",
        "\n",
        "img = mpimg.imread(path.join(\"dataset\", \"overview\", \"what_is_cti.png\"))\n",
        "plt.imshow(img)\n",
        "plt.show()\n",
        "plt.close()"
      ],
      "outputs": [],
      "execution_count": null
    },
    {
      "cell_type": "markdown",
      "metadata": {},
      "source": [
        "__Trailing__\n",
        "\n",
        "On the left hand side of the figure, we can see CTI is action. Upwards from all the bright sources of light (which \n",
        "are of galaxies, stars and cosmic rays) we see a trailing or smearing effect. This is not a genuine signal emitted by \n",
        "each galaxy or star, but is instead induced during data acquisition. \n",
        "\n",
        "On the right hand side of the figure, we can see that when a CTI correction is applied this trailing effect is entirely \n",
        "removed from the data. \n",
        "\n",
        "This trailing effect is the characteristic signal of **Charge Transfer Inefficiency**, and removing it is pretty much \n",
        "what **PyAutoCTI** is all about!\n",
        "\n",
        "__CCD Clocking__\n",
        "\n",
        "To understand at a physical level what CTI is, we first need to understand how a CCD acquires imaging data. This is a \n",
        "massive over simplification, but in order to understand CTI this process can be simplified into 4 steps:\n",
        "\n",
        " 1) Point a telescope (e.g. the Hubble Space Telescope) towards light sources (e.g. stars, galaxies, etc.) whose \n",
        " photons are collected via the telescope mirror and hit the CCD.\n",
        "\n",
        " 2) These photons interact with a silicon lattice inside the CCD and via the photoelectric effect are converted into \n",
        " (photo-)electrons. These electrons make-up the signal that we observe (e.g. the galaxies, stars and cosmic rays in \n",
        " the image above).\n",
        " \n",
        " 3) Left to their own accord, these electrons would move freely over the CCD and we would lose our image of the galaxies\n",
        " and stars. Therefore, an electrostatic potential runs over the CCD, which applies voltage difference that hold\n",
        " electrons in place wherever they interacted with the silicon lattice. The electrons therefore maintain their 2D spatial\n",
        " locations, corresponding to the 2D pixels we see in the image above.\n",
        "\n",
        " 4) We finally convert this analogue signal of electrons into a digital image. By varying the voltages of the \n",
        " electrostatic potential we can move electrons across the CCD, towards the 'read-out electronics' which perform this \n",
        " analogue to digital conversion. The end result of this process is a 2D digital image, like the one shown above.\n",
        " \n",
        "The animation below shows this process in action (this will display automatically in a Jupyter notebook, if you are \n",
        "viewing the Python script go manually to the URL):\n",
        "\n",
        "![CCD Animation](https://github.com/Jammy2211/autocti_workspace/blob/main/dataset/overview/ccd.gif \"ccd\")\n",
        "\n",
        "__CTI__\n",
        "\n",
        "Now we know how a CCD works, we can understand what CTI is.\n",
        "\n",
        "During the CCD clocking process, there are defections and imperfections in the CCD's silicon lattice, called 'traps'.\n",
        "These traps capture electrons and hold them for a certain amount of time. Depending on the length of time they hold the \n",
        "electron, one of two things can happen:\n",
        "\n",
        " - The release time is shorter than the clocking speed of the CCD, such that the electron is released with its original \n",
        " group of electrons that are collectively held together in the same electrostatic potential (e.g. they all correspond \n",
        " to the same pixel in the image). In this case there is no trailing or smearing.\n",
        " \n",
        " - The release time is longer than the clocking speed of the CCD. In this case, the electron's original group of\n",
        " electrons have already moved on, well away from the electron. This means that when the electron is released, it joins\n",
        " a different group of electrons in a preceeeding electrostatic potential (e.g. the electrons appears in a different\n",
        " image pixel). Clearly, this is responsible for the trailing effect we've seen in the images above! \n",
        " \n",
        "The animation below shows the CCD clocking process, but now includes one of these traps (this will display automatically \n",
        "in a Jupyter notebook, if you are viewing the Python script go manually to the URL):\n",
        "\n",
        "![CTI Animation](https://github.com/Jammy2211/autocti_workspace/blob/main/dataset/overview/cti.gif \"cti\")\n",
        "\n",
        "__Charge Transfer__\n",
        "\n",
        "We can now understand why CTI is called Charge Transfer Inefficiency: it is simply the inefficient transfer of \n",
        "charge (e.g.a flow of electrons)!\n",
        "\n",
        "Now, lets quickly show how we can model CTI using **PyAutoCTI**.\n",
        "\n",
        "Firstly, lets create a simple 1D dataset, which could correspond to a column of data in a 2D image like those shown \n",
        "above. For simplicity, this data is 5 pixels each containing 100 electrons with 10 empty pixels trailing them.\n",
        "\n",
        "The `Array1D` object is a class representing a 1D data structure. It inherits from a numpy ndarray but is extended \n",
        "with functionality which is expanded upon elsewhere in the workspace."
      ]
    },
    {
      "cell_type": "code",
      "metadata": {},
      "source": [
        "import autocti as ac\n",
        "\n",
        "pre_cti_data_1d = ac.Array1D.no_mask(\n",
        "    values=[\n",
        "        10.0,\n",
        "        10.0,\n",
        "        10.0,\n",
        "        10.0,\n",
        "        10.0,\n",
        "        0.0,\n",
        "        0.0,\n",
        "        0.0,\n",
        "        0.0,\n",
        "        0.0,\n",
        "        0.0,\n",
        "        0.0,\n",
        "        0.0,\n",
        "        0.0,\n",
        "        0.0,\n",
        "    ],\n",
        "    pixel_scales=1.0,\n",
        ")"
      ],
      "outputs": [],
      "execution_count": null
    },
    {
      "cell_type": "markdown",
      "metadata": {},
      "source": [
        "**PyAutoCTI** has a built in visualization library for plotting 1D data (amongst many other things)!\n",
        "\n",
        "(The`aplt.MatPLot1D` object below wraps various `matplotlib` methods such as `plt.title()` and `plt.ylabel()`. \n",
        "The **PyAutoCTI** visualization library has numerous objects which perform wrapping like this in order to easily \n",
        "plot CTI specific figures.)."
      ]
    },
    {
      "cell_type": "code",
      "metadata": {},
      "source": [
        "import autocti.plot as aplt\n",
        "\n",
        "array_1d_plotter = aplt.Array1DPlotter(\n",
        "    y=pre_cti_data_1d,\n",
        "    mat_plot_1d=aplt.MatPlot1D(\n",
        "        title=aplt.Title(label=\"1D Data Without CTI\"),\n",
        "        ylabel=aplt.YLabel(ylabel=\"electrons\"),\n",
        "    ),\n",
        ")\n",
        "array_1d_plotter.figure_1d()"
      ],
      "outputs": [],
      "execution_count": null
    },
    {
      "cell_type": "markdown",
      "metadata": {},
      "source": [
        "__arCTIc__\n",
        "\n",
        "To model the CCD clocking process, including CTI, we use \n",
        "arCTIc, or the \"algorithm for Charge Transfer Inefficiency clocking\".\n",
        "\n",
        "arCTIc is written in c++ can be used standalone outside of **PyAutoCTI** as described on its GitHub \n",
        "page (https://github.com/jkeger/arctic). **PyAutoCTI** uses arCTIc's built-in Python wrapper.\n",
        "\n",
        "In **PyAutoCTI** we call arCTIc via a `Clocker` object, which is a Python class that wraps arCTIc. This class has \n",
        "many optional inputs that customize how clocking is performed, but we'll omit these for now to keep things simple."
      ]
    },
    {
      "cell_type": "code",
      "metadata": {},
      "source": [
        "clocker = ac.Clocker1D()"
      ],
      "outputs": [],
      "execution_count": null
    },
    {
      "cell_type": "markdown",
      "metadata": {},
      "source": [
        "__CTI Model__\n",
        "\n",
        "We now need to define our CTI model, that is the number of traps our 1D data is going to encounter when we pass it \n",
        "through the clocker and replicate the CCD clocking process..\n",
        "\n",
        "There are many different types of traps one can use do to this. We will use the simplest, a `TrapInstantCapture`,\n",
        "which instantaneously captures an electron when it encounters it during CCD clocking. \n",
        "\n",
        "The number of these traps our 1D data encounters is set via the `density` parameter, whereas the `release_timescale` \n",
        "defines how long, on average, each trap holds an electron for (we discuss what units these parameters are in and\n",
        "therefore what they physically mean elsewhere in the workspace)."
      ]
    },
    {
      "cell_type": "code",
      "metadata": {},
      "source": [
        "trap = ac.TrapInstantCapture(density=50.0, release_timescale=1.0)"
      ],
      "outputs": [],
      "execution_count": null
    },
    {
      "cell_type": "markdown",
      "metadata": {},
      "source": [
        "CTI also depends on the physical properties of the CCD, and how each group of electrons (called a 'cloud' of electrons) \n",
        "interacts with the silicon lattice. We'll describe this in more detail elsewhere, but it does mean we need to also \n",
        "define a `CCDPhase` class before we can clock our data using arCTIc."
      ]
    },
    {
      "cell_type": "code",
      "metadata": {},
      "source": [
        "ccd = ac.CCDPhase(well_fill_power=0.58, well_notch_depth=0.0, full_well_depth=200000.0)"
      ],
      "outputs": [],
      "execution_count": null
    },
    {
      "cell_type": "markdown",
      "metadata": {},
      "source": [
        "We group these into a `CTI1D` object."
      ]
    },
    {
      "cell_type": "code",
      "metadata": {},
      "source": [
        "cti = ac.CTI1D(trap_list=[trap], ccd=ccd)"
      ],
      "outputs": [],
      "execution_count": null
    },
    {
      "cell_type": "markdown",
      "metadata": {},
      "source": [
        "We can now add CTI to our 1D data by passing it through the 1D clocker.\n",
        "\n",
        "Note that, in 1D, clocking is to the left of the image."
      ]
    },
    {
      "cell_type": "code",
      "metadata": {},
      "source": [
        "post_cti_data_1d = clocker.add_cti(data=pre_cti_data_1d, cti=cti)\n",
        "\n",
        "array_1d_plotter = aplt.Array1DPlotter(\n",
        "    y=post_cti_data_1d,\n",
        "    mat_plot_1d=aplt.MatPlot1D(\n",
        "        title=aplt.Title(label=\"1D Data With CTI\"),\n",
        "        ylabel=aplt.YLabel(ylabel=\"electrons\"),\n",
        "    ),\n",
        ")\n",
        "array_1d_plotter.figure_1d()"
      ],
      "outputs": [],
      "execution_count": null
    },
    {
      "cell_type": "markdown",
      "metadata": {},
      "source": [
        "We can see CTI add been added to our 1D data! \n",
        "\n",
        "To the right of our 5 pixels which each contained 10 electrons, we can now see a faint signal has emerged when \n",
        "previously all that was there were pixels containig 0 electrons. This is CTI trailing; electrons have been trailed \n",
        "from the pixels with 10 electrons into these trailing pixels, as a result of CTI.\n",
        "\n",
        "We can also see that the pixels which previously contained 100 electrons now have slightly less, \n",
        "*they have lost electrons*. This makes sense -- when electrons are trailed due to CTI they are moved from one pixel i\n",
        "nto another pixel behind it. We therefore should expect that the pixels at the front lose electrons.\n",
        "\n",
        "__Correcting CTI__\n",
        "\n",
        "Using a CTI model and clocker we added CTI to a 1D data, degrading our original signal of 5 pixels containing 10\n",
        "electrons.\n",
        "\n",
        "Fortunately, arCTIc can also correct CTI. To do this, we simply pass it the data we want to correct (which therefore\n",
        "ought to include CTI) and the CTI model we will use to correct it. We will use the data with CTI we just created\n",
        "above, alongside the CTI model used to create it."
      ]
    },
    {
      "cell_type": "code",
      "metadata": {},
      "source": [
        "data_corrected_1d = clocker.remove_cti(data=post_cti_data_1d, cti=cti)\n",
        "\n",
        "array_1d_plotter = aplt.Array1DPlotter(\n",
        "    y=data_corrected_1d,\n",
        "    mat_plot_1d=aplt.MatPlot1D(\n",
        "        title=aplt.Title(label=\"1D Data With CTI Corrected\"),\n",
        "        ylabel=aplt.YLabel(ylabel=\"electrons\"),\n",
        "    ),\n",
        ")\n",
        "array_1d_plotter.figure_1d()"
      ],
      "outputs": [],
      "execution_count": null
    },
    {
      "cell_type": "markdown",
      "metadata": {},
      "source": [
        "We have corrected CTI from the data and almost recovered our original 1D dataset!\n",
        "\n",
        "The CTI correction uses an iterative approach, where it uses the `add_cti` function to add CTI to the input data.\n",
        "Each calls informs arCTIc of how the CTI model relocates (e.g. trails) electrons, which arCTIc then uses to figure out \n",
        "how to moves electrons back to their original pixel. \n",
        "\n",
        "By iteratively performing this operation muitliple times (typically 5 times) more and more electrons are relocated to\n",
        "their original pixels. Eventually, the CTI trails in the input data are removed and arCTIc no longer moves any electrons\n",
        "after each iteration.\n",
        "\n",
        "__What Forms Traps?__\n",
        "\n",
        "We now understand that CTI is caused by traps in the silicon lattice, but why do these traps exist? How do they form?\n",
        "\n",
        "A very small number of traps form during CCD manufacturing, we are talking about a *tiny* amount. Most CCD \n",
        "manufacturing is so good nowadays, that the level of CTI is < 0.000001%. That is, for every electron we move over a \n",
        "pixel, < 0.000001% of transfers lead to an electron being moved into a trailing pixel. This is so small we would \n",
        "probably never even notice CTI in the images, and wouldn't need to worry about correcting it.\n",
        "\n",
        "CTI becomes a problem when our telescope is in space. In space, we don't have the Earth's atmosphere shielding our\n",
        "telescope from lots of nasty radiation, some of which hits our CCD, interacts with the silicon lattice and forms\n",
        "traps. The longer our telescope has been in space, the more radiation will have hit it, the more traps that will\n",
        "have formed. The figure below slows the level of CTI in Hubble over the course of its lifetime -- as a function of\n",
        "time, CTI increases."
      ]
    },
    {
      "cell_type": "code",
      "metadata": {},
      "source": [
        "img = mpimg.imread(path.join(\"dataset\", \"overview\", \"cti_time_evolution.png\"))\n",
        "plt.imshow(img)\n",
        "plt.show()"
      ],
      "outputs": [],
      "execution_count": null
    },
    {
      "cell_type": "markdown",
      "metadata": {},
      "source": [
        "__Wrap Up__\n",
        "\n",
        "We now have an idea as to what Charge Transfer Inefficiency, or CTI, is. The next overview scripts will expand on \n",
        "the simple toy model we introduced here and add more nuance to the phenomena. \n",
        "\n",
        "To wrap up, lets consider why we actually care about CTI. Put simply, CTI is a massive problem for many Astronomy \n",
        "science-cases:\n",
        "\n",
        " - Dark Matter: By measuring the shapes of galaxies to equisite precision a phenomena called 'weak gravitational lensing' \n",
        " can be used to map out dark matter throughout the Universe. If our observations of galaxies have this trailing / \n",
        " smearing effect, there is no way we can reliable measure their shapes!\n",
        " \n",
        " - Exoplanets: Detecting an exoplanet relies on understanding exactly where a small packet of photons hit a CCD, \n",
        " something which a trailing / smearing effect does not make straight forward."
      ]
    },
    {
      "cell_type": "code",
      "metadata": {},
      "source": [],
      "outputs": [],
      "execution_count": null
    }
  ],
  "metadata": {
    "anaconda-cloud": {},
    "kernelspec": {
      "display_name": "Python 3",
      "language": "python",
      "name": "python3"
    },
    "language_info": {
      "codemirror_mode": {
        "name": "ipython",
        "version": 3
      },
      "file_extension": ".py",
      "mimetype": "text/x-python",
      "name": "python",
      "nbconvert_exporter": "python",
      "pygments_lexer": "ipython3",
      "version": "3.6.1"
    }
  },
  "nbformat": 4,
  "nbformat_minor": 4
}