{
  "cells": [
    {
      "cell_type": "markdown",
      "metadata": {},
      "source": [
        "Overview: CTI Calibration\n",
        "-------------------------\n",
        "\n",
        "In the previous overview, we learnt how to fit a CTI model to a dataset and quantify its goodness-of-fit via a log\n",
        "likelihood.\n",
        "\n",
        "We are now in a position to perform CTI calibration, that is determine the best-fit CTI model to a charge injection\n",
        "dataset. This requires us to perform model-fitting, whereby we use a non-linear search algorithm to fit the\n",
        "model to the data.\n",
        "\n",
        "CTI modeling uses the probabilistic programming language [PyAutoFit](https://github.com/rhayes777/PyAutoFit), an\n",
        "open-source Python framework that allows complex model fitting techniques to be straightforwardly integrated into\n",
        "scientific modeling software. Check it out if you are interested in developing your own software to perform\n",
        "advanced model-fitting!\n",
        "\n",
        "Whereas previous tutorials loaded a single charge injection dataset, this tutorial will load and fit three datasets\n",
        "each with a different injection normalizations. This is necessary for us to be able to calibrate the CTI model's\n",
        "CCD volume filling."
      ]
    },
    {
      "cell_type": "code",
      "metadata": {},
      "source": [
        "%matplotlib inline\n",
        "from pyprojroot import here\n",
        "workspace_path = str(here())\n",
        "%cd $workspace_path\n",
        "print(f\"Working Directory has been set to `{workspace_path}`\")\n",
        "\n",
        "from os import path\n",
        "\n",
        "import autofit as af\n",
        "import autocti as ac\n",
        "import autocti.plot as aplt"
      ],
      "outputs": [],
      "execution_count": null
    },
    {
      "cell_type": "markdown",
      "metadata": {},
      "source": [
        "__Dataset__\n",
        "\n",
        "We set up the variables required to load the charge injection imaging, using the same code shown in the previous \n",
        "overview.\n",
        "\n",
        "Note that the `Region2D` and `Layout2DCI` inputs have been updated to reflect the 30 x 30 shape of the dataset."
      ]
    },
    {
      "cell_type": "code",
      "metadata": {},
      "source": [
        "shape_native = (30, 30)\n",
        "\n",
        "parallel_overscan = ac.Region2D((25, 30, 1, 29))\n",
        "serial_prescan = ac.Region2D((0, 30, 0, 1))\n",
        "serial_overscan = ac.Region2D((0, 25, 29, 30))\n",
        "\n",
        "regions_list = [(0, 25, serial_prescan[3], serial_overscan[2])]\n",
        "\n",
        "norm_list = [100, 5000, 25000, 200000]\n",
        "\n",
        "total_datasets = len(norm_list)\n",
        "\n",
        "layout_list = [\n",
        "    ac.Layout2DCI(\n",
        "        shape_2d=shape_native,\n",
        "        region_list=regions_list,\n",
        "        parallel_overscan=parallel_overscan,\n",
        "        serial_prescan=serial_prescan,\n",
        "        serial_overscan=serial_overscan,\n",
        "    )\n",
        "    for i in range(total_datasets)\n",
        "]"
      ],
      "outputs": [],
      "execution_count": null
    },
    {
      "cell_type": "markdown",
      "metadata": {},
      "source": [
        "We load each charge injection image, with injections of 100e-, 1000e- and 10000e- so that we have the information \n",
        "required to calibrate the volume filling behaviour of the CCD."
      ]
    },
    {
      "cell_type": "code",
      "metadata": {},
      "source": [
        "dataset_name = \"overview\"\n",
        "dataset_type = \"calibrate\"\n",
        "dataset_path = path.join(\"dataset\", dataset_name, \"imaging_ci\", dataset_type)\n",
        "\n",
        "dataset_list = [\n",
        "    ac.ImagingCI.from_fits(\n",
        "        data_path=path.join(dataset_path, f\"norm_{int(norm)}\", \"data.fits\"),\n",
        "        noise_map_path=path.join(dataset_path, f\"norm_{int(norm)}\", \"noise_map.fits\"),\n",
        "        pre_cti_data_path=path.join(\n",
        "            dataset_path, f\"norm_{int(norm)}\", \"pre_cti_data.fits\"\n",
        "        ),\n",
        "        layout=layout,\n",
        "        pixel_scales=0.1,\n",
        "    )\n",
        "    for layout, norm in zip(layout_list, norm_list)\n",
        "]"
      ],
      "outputs": [],
      "execution_count": null
    },
    {
      "cell_type": "markdown",
      "metadata": {},
      "source": [
        "__Clocking__\n",
        "\n",
        "We define the `Clocker` which models the CCD read-out, including CTI. \n",
        "\n",
        "For parallel clocking, we use 'charge injection mode' which transfers the charge of every pixel over the full CCD."
      ]
    },
    {
      "cell_type": "code",
      "metadata": {},
      "source": [
        "clocker = ac.Clocker2D(\n",
        "    parallel_express=5, parallel_roe=ac.ROEChargeInjection(), parallel_fast_mode=True\n",
        ")"
      ],
      "outputs": [],
      "execution_count": null
    },
    {
      "cell_type": "markdown",
      "metadata": {},
      "source": [
        "__Model__\n",
        "\n",
        "We compose the CTI model that we fit to the data using **PyAutoFit** `Model` objects. \n",
        "\n",
        "These behave analogously to the `TrapInstantCapture` and `CCDPhase` objects but their parameters (e.g. `density`, \n",
        "`well_fill_power`) are not specified and are instead determined by a fitting procedure.\n",
        "\n",
        "In this example we fit a CTI model with:\n",
        "\n",
        " - One parallel `TrapInstantCapture`'s which capture electrons during clocking instantly in the parallel direction\n",
        " [2 parameters].\n",
        "\n",
        " - A simple `CCD` volume filling parametrization with fixed notch depth and capacity [1 parameter].\n",
        "\n",
        "The number of free parameters and therefore the dimensionality of non-linear parameter space is N=3."
      ]
    },
    {
      "cell_type": "code",
      "metadata": {},
      "source": [
        "parallel_trap_0 = af.Model(ac.TrapInstantCapture)\n",
        "parallel_trap_0.density = af.UniformPrior(lower_limit=0.0, upper_limit=20.0)\n",
        "parallel_trap_0.release_timescale = af.UniformPrior(lower_limit=0.0, upper_limit=20.0)\n",
        "\n",
        "parallel_trap_list = [parallel_trap_0]\n",
        "\n",
        "parallel_ccd = af.Model(ac.CCDPhase)\n",
        "parallel_ccd.well_fill_power = af.UniformPrior(lower_limit=0.0, upper_limit=1.0)\n",
        "parallel_ccd.well_notch_depth = 0.0\n",
        "parallel_ccd.full_well_depth = 200000.0"
      ],
      "outputs": [],
      "execution_count": null
    },
    {
      "cell_type": "markdown",
      "metadata": {},
      "source": [
        "We combine the trap and CCD models above into a `CTI2D` and `Collection` object, which is the model we will fit. \n",
        "\n",
        "The `CTI2D` object can be easily extended to contain model components for serial CTI. Furthermore, the `Collection` \n",
        "object can be extended to contain other components of a model other than just the CTI model, for example nuisance\n",
        "parameters that represent features in the CCD."
      ]
    },
    {
      "cell_type": "code",
      "metadata": {},
      "source": [
        "model = af.Collection(\n",
        "    cti=af.Model(\n",
        "        ac.CTI2D, parallel_trap_list=parallel_trap_list, parallel_ccd=parallel_ccd\n",
        "    )\n",
        ")"
      ],
      "outputs": [],
      "execution_count": null
    },
    {
      "cell_type": "markdown",
      "metadata": {},
      "source": [
        "The `info` attribute shows the model in a readable format."
      ]
    },
    {
      "cell_type": "code",
      "metadata": {},
      "source": [
        "print(model.info)"
      ],
      "outputs": [],
      "execution_count": null
    },
    {
      "cell_type": "markdown",
      "metadata": {},
      "source": [
        "__Non-linear Search__\n",
        "\n",
        "We now choose the non-linear search, which is the fitting method used to determine the set of CTI model parameters \n",
        "that best-fit our data.\n",
        "\n",
        "In this example we use `nautilus` (https://github.com/joshspeagle/nautilus), a nested sampling algorithm that is\n",
        "very effective at lens modeling."
      ]
    },
    {
      "cell_type": "code",
      "metadata": {},
      "source": [
        "search = af.Nautilus(name=\"overview_modeling_2d\")"
      ],
      "outputs": [],
      "execution_count": null
    },
    {
      "cell_type": "markdown",
      "metadata": {},
      "source": [
        "__Analysis__\n",
        "\n",
        "We next create a list of `AnalysisImagingCI` objects, which each contain a `log_likelihood_function` that the \n",
        "non-linear search calls to fit the CIT model to the data."
      ]
    },
    {
      "cell_type": "code",
      "metadata": {},
      "source": [
        "analysis_list = [\n",
        "    ac.AnalysisImagingCI(dataset=dataset, clocker=clocker) for dataset in dataset_list\n",
        "]"
      ],
      "outputs": [],
      "execution_count": null
    },
    {
      "cell_type": "markdown",
      "metadata": {},
      "source": [
        "By summing this list of analysis objects, we create an overall `Analysis` which we can use to fit the CTI model, where:\n",
        "\n",
        " - The log likelihood function of this summed analysis class is the sum of the log likelihood functions of each \n",
        " individual analysis object.\n",
        "\n",
        " - The summing process ensures that tasks such as outputting results to hard-disk, visualization, etc use a \n",
        " structure that separates each analysis and therefore each dataset."
      ]
    },
    {
      "cell_type": "code",
      "metadata": {},
      "source": [
        "analysis = sum(analysis_list)"
      ],
      "outputs": [],
      "execution_count": null
    },
    {
      "cell_type": "markdown",
      "metadata": {},
      "source": [
        "We can parallelize the likelihood function of these analysis classes, whereby each evaluation is performed on a \n",
        "different CPU."
      ]
    },
    {
      "cell_type": "code",
      "metadata": {},
      "source": [
        "analysis.n_cores = 1"
      ],
      "outputs": [],
      "execution_count": null
    },
    {
      "cell_type": "markdown",
      "metadata": {},
      "source": [
        "__Model-Fit__\n",
        "\n",
        "We can now begin the model-fit by passing the model and analysis object to the search, which performs a non-linear\n",
        "search to find which models fit the data with the highest likelihood.\n",
        "\n",
        "All results are written to hard disk, including on-the-fly results and visualization of the best fit model!\n",
        "\n",
        "Checkout the folder `autocti_workspace/output/imaging_ci/parallel[x2]` for live outputs of the results of the fit!"
      ]
    },
    {
      "cell_type": "code",
      "metadata": {},
      "source": [
        "result_list = search.fit(model=model, analysis=analysis)"
      ],
      "outputs": [],
      "execution_count": null
    },
    {
      "cell_type": "markdown",
      "metadata": {},
      "source": [
        "__Result__\n",
        "\n",
        "The result object returned by the fit provides information on the results of the non-linear search. \n",
        "\n",
        "The `info` attribute shows the result in a readable format."
      ]
    },
    {
      "cell_type": "code",
      "metadata": {},
      "source": [
        "print(result_list.info)\n",
        "\n",
        "for result, norm in zip(result_list, norm_list):\n",
        "    fit_plotter = aplt.FitImagingCIPlotter(fit=result.max_log_likelihood_fit)\n",
        "    fit_plotter.subplot_fit()"
      ],
      "outputs": [],
      "execution_count": null
    },
    {
      "cell_type": "markdown",
      "metadata": {},
      "source": [
        "It also contains the maximum likelihood CTI model, which allows us to print the maximum likelihood values of the \n",
        "inferred CTI model parameters.\n",
        "\n",
        "Note how this object uses the same API as the `Collection` and `Model` we composed above (e.g. the model component\n",
        "above was named `cti.parallel_trap_list`, which is used below)."
      ]
    },
    {
      "cell_type": "code",
      "metadata": {},
      "source": [
        "cti_model = result_list[0].max_log_likelihood_instance.cti\n",
        "\n",
        "print(cti_model.parallel_trap_list[0].density)\n",
        "print(cti_model.parallel_trap_list[0].release_timescale)\n",
        "print(cti_model.parallel_ccd.well_fill_power)"
      ],
      "outputs": [],
      "execution_count": null
    },
    {
      "cell_type": "markdown",
      "metadata": {},
      "source": [
        "__Calibration in 1D__\n",
        "\n",
        "We can also perform CTI calibration on 1D datasets."
      ]
    },
    {
      "cell_type": "code",
      "metadata": {},
      "source": [
        "shape_native = (30,)\n",
        "\n",
        "prescan = ac.Region1D((0, 1))\n",
        "overscan = ac.Region1D((25, 30))\n",
        "\n",
        "region_list = [(1, 25)]\n",
        "\n",
        "norm_list = [100, 5000, 25000, 200000]\n",
        "\n",
        "layout_list = [\n",
        "    ac.Layout1D(\n",
        "        shape_1d=shape_native,\n",
        "        region_list=region_list,\n",
        "        prescan=prescan,\n",
        "        overscan=overscan,\n",
        "    )\n",
        "    for norm in norm_list\n",
        "]\n",
        "\n",
        "dataset_type = \"dataset_1d\"\n",
        "dataset_name = \"overview\"\n",
        "dataset_path = path.join(\"dataset\", dataset_name, dataset_type)\n",
        "\n",
        "dataset_list = [\n",
        "    ac.Dataset1D.from_fits(\n",
        "        data_path=path.join(dataset_path, f\"norm_{int(norm)}\", \"data.fits\"),\n",
        "        noise_map_path=path.join(dataset_path, f\"norm_{int(norm)}\", \"noise_map.fits\"),\n",
        "        pre_cti_data_path=path.join(\n",
        "            dataset_path, f\"norm_{int(norm)}\", \"pre_cti_data.fits\"\n",
        "        ),\n",
        "        layout=layout,\n",
        "        pixel_scales=0.1,\n",
        "    )\n",
        "    for layout, norm in zip(layout_list, norm_list)\n",
        "]"
      ],
      "outputs": [],
      "execution_count": null
    },
    {
      "cell_type": "markdown",
      "metadata": {},
      "source": [
        "__Clocking__\n",
        "\n",
        "We define the `Clocker1D`, which models the CCD read-out, including CTI. \n",
        "\n",
        "For parallel clocking, we use 'charge injection mode' which transfers the charge of every pixel over the full CCD."
      ]
    },
    {
      "cell_type": "code",
      "metadata": {},
      "source": [
        "clocker = ac.Clocker1D(express=5, roe=ac.ROEChargeInjection())"
      ],
      "outputs": [],
      "execution_count": null
    },
    {
      "cell_type": "markdown",
      "metadata": {},
      "source": [
        "__Model__\n",
        "\n",
        "We again compose a CTI model that we fit to the data using autofit `Model` objects. "
      ]
    },
    {
      "cell_type": "code",
      "metadata": {},
      "source": [
        "trap_0 = af.Model(ac.TrapInstantCapture)\n",
        "trap_0.density = af.UniformPrior(lower_limit=0.0, upper_limit=20.0)\n",
        "trap_0.release_timescale = af.UniformPrior(lower_limit=0.0, upper_limit=50.0)\n",
        "\n",
        "traps = [trap_0]\n",
        "\n",
        "ccd = af.Model(ac.CCDPhase)\n",
        "ccd.well_fill_power = af.UniformPrior(lower_limit=0.0, upper_limit=1.0)\n",
        "ccd.well_notch_depth = 0.0\n",
        "ccd.full_well_depth = 200000.0"
      ],
      "outputs": [],
      "execution_count": null
    },
    {
      "cell_type": "markdown",
      "metadata": {},
      "source": [
        "We combine the trap and CCD models above into a `CTI1D` and `Collection` object, which is the model we will fit. "
      ]
    },
    {
      "cell_type": "code",
      "metadata": {},
      "source": [
        "model = af.Collection(cti=af.Model(ac.CTI1D, trap_list=traps, ccd=ccd))"
      ],
      "outputs": [],
      "execution_count": null
    },
    {
      "cell_type": "markdown",
      "metadata": {},
      "source": [
        "__Non-linear Search__\n",
        "\n",
        "We again use `nautilus` (https://github.com/joshspeagle/nautilus) to fit the model."
      ]
    },
    {
      "cell_type": "code",
      "metadata": {},
      "source": [
        "search = af.Nautilus(name=\"overview_modeling_1d\")"
      ],
      "outputs": [],
      "execution_count": null
    },
    {
      "cell_type": "markdown",
      "metadata": {},
      "source": [
        "__Analysis__\n",
        "\n",
        "We next create a list of `AnalysisDataset1D` objects, which each contain a `log_likelihood_function` that the \n",
        "non-linear search calls to fit the CIT model to the data.\n",
        "\n",
        "We again sum these analyses objects into a single analysis."
      ]
    },
    {
      "cell_type": "code",
      "metadata": {},
      "source": [
        "analysis_list = [\n",
        "    ac.AnalysisDataset1D(dataset=dataset, clocker=clocker) for dataset in dataset_list\n",
        "]\n",
        "\n",
        "analysis = sum(analysis_list)\n",
        "\n",
        "analysis.n_cores = 1"
      ],
      "outputs": [],
      "execution_count": null
    },
    {
      "cell_type": "markdown",
      "metadata": {},
      "source": [
        "__Model-Fit__\n",
        "\n",
        "We can now begin the model-fit by passing the model and analysis object to the search, which performs a non-linear\n",
        "search to find which models fit the data with the highest likelihood."
      ]
    },
    {
      "cell_type": "code",
      "metadata": {},
      "source": [
        "result_list = search.fit(model=model, analysis=analysis)"
      ],
      "outputs": [],
      "execution_count": null
    },
    {
      "cell_type": "markdown",
      "metadata": {},
      "source": [
        "__Result__\n",
        "\n",
        "The result object returned by the fit provides information on the results of the non-linear search. \n",
        "\n",
        "The `info` attribute shows the result in a readable format."
      ]
    },
    {
      "cell_type": "code",
      "metadata": {},
      "source": [
        "print(result_list.info)"
      ],
      "outputs": [],
      "execution_count": null
    },
    {
      "cell_type": "markdown",
      "metadata": {},
      "source": [
        "The result object also contains the fit corresponding to the maximum log likelihood solution in parameter space,\n",
        "which can be used to visualizing the results."
      ]
    },
    {
      "cell_type": "code",
      "metadata": {},
      "source": [
        "print(result_list[0].max_log_likelihood_instance.cti.trap_list[0].density)\n",
        "print(result_list[0].max_log_likelihood_instance.cti.ccd.well_fill_power)\n",
        "\n",
        "for result, norm in zip(result_list, norm_list):\n",
        "    fit_plotter = aplt.FitDataset1DPlotter(fit=result.max_log_likelihood_fit)\n",
        "    fit_plotter.subplot_fit()"
      ],
      "outputs": [],
      "execution_count": null
    },
    {
      "cell_type": "markdown",
      "metadata": {},
      "source": [
        "A full overview of the CTI results is given at `autocti_workspace/*/results`."
      ]
    },
    {
      "cell_type": "code",
      "metadata": {},
      "source": [],
      "outputs": [],
      "execution_count": null
    }
  ],
  "metadata": {
    "anaconda-cloud": {},
    "kernelspec": {
      "display_name": "Python 3",
      "language": "python",
      "name": "python3"
    },
    "language_info": {
      "codemirror_mode": {
        "name": "ipython",
        "version": 3
      },
      "file_extension": ".py",
      "mimetype": "text/x-python",
      "name": "python",
      "nbconvert_exporter": "python",
      "pygments_lexer": "ipython3",
      "version": "3.6.1"
    }
  },
  "nbformat": 4,
  "nbformat_minor": 4
}