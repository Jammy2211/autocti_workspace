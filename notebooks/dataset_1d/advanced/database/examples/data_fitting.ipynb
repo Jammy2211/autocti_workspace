{
  "cells": [
    {
      "cell_type": "markdown",
      "metadata": {},
      "source": [
        "Database: Data Fitting\n",
        "======================\n",
        "\n",
        "In this tutorial, we use the aggregator to load models and data from a non-linear search and use them to perform\n",
        "fits to the data.\n",
        "\n",
        "All examples use just a single instance of a `FitDataset1D` object corresponding to the maximum log likelihood sample.\n",
        "\n",
        "__Charge Injection Imaging__\n",
        "\n",
        "This script can easily be adapted to analyse the results of charge injection imaging model-fits.\n",
        "\n",
        "The only entries that needs changing are: \n",
        "\n",
        " - `Dataset1DAgg` -> `ImagingCIAgg`.\n",
        " - `FitDataset1DAgg` -> `FitImagingCIAgg`.\n",
        " - `Clocker1D` -> `Clocker2D`.\n",
        " - `SettingsDataset1D` -> `SettingsImagingCI`.\n",
        " - `Dataset1DPlotter` -> `ImagingCIPlotter`.\n",
        " - `FitDataset1DPlotter` -> `FitImagingCIPlotter`."
      ]
    },
    {
      "cell_type": "code",
      "metadata": {},
      "source": [
        "%matplotlib inline\n",
        "from pyprojroot import here\n",
        "workspace_path = str(here())\n",
        "%cd $workspace_path\n",
        "print(f\"Working Directory has been set to `{workspace_path}`\")\n",
        "\n",
        "from os import path\n",
        "import autofit as af\n",
        "import autocti as ac\n",
        "import autocti.plot as aplt"
      ],
      "outputs": [],
      "execution_count": null
    },
    {
      "cell_type": "markdown",
      "metadata": {},
      "source": [
        "__Database File__\n",
        "\n",
        "First, set up the aggregator as we did in the previous tutorial."
      ]
    },
    {
      "cell_type": "code",
      "metadata": {},
      "source": [
        "agg = af.Aggregator.from_database(\"database.sqlite\")"
      ],
      "outputs": [],
      "execution_count": null
    },
    {
      "cell_type": "markdown",
      "metadata": {},
      "source": [
        "__Fits via Database__\n",
        "\n",
        "Having performed a model-fit, we now want to interpret and visualize the results. In this example, we want to inspect\n",
        "the `Dataset1D` objects that gave good fits to the data. \n",
        "\n",
        "Using the tools introduced in the previous tutorials, this would require us to create a `Samples` object and manually \n",
        "compose our own `Dataset1D`. To ensure this is memory-light, this would have to be done via generators, which can be \n",
        "tricky to write. There is a optional database tutorial which how these datasets can be retrieved manually, but here we \n",
        "use convenience objects instead.\n",
        "\n",
        "We first get a dataset 1D generator via the `ac.agg.Dataset1D` object, where this `dataset_gen` is a list containing\n",
        "each dataset that was fitted. This can be useful for reminding ourselves of the datasets we fitted, before plotting \n",
        "the fits themselves."
      ]
    },
    {
      "cell_type": "code",
      "metadata": {},
      "source": [
        "dataset_1d_agg = ac.agg.Dataset1DAgg(aggregator=agg)\n",
        "dataset_gen = dataset_1d_agg.dataset_list_gen_from()\n",
        "\n",
        "for dataset_list in dataset_gen:\n",
        "    dataset_plotter = aplt.Dataset1DPlotter(dataset=dataset_list[0])\n",
        "    dataset_plotter.subplot_dataset()"
      ],
      "outputs": [],
      "execution_count": null
    },
    {
      "cell_type": "markdown",
      "metadata": {},
      "source": [
        "We now use the database to load a generator containing a list of the fits of the maximum log likelihood model to \n",
        "each dataset."
      ]
    },
    {
      "cell_type": "code",
      "metadata": {},
      "source": [
        "fit_agg = ac.agg.FitDataset1DAgg(aggregator=agg)\n",
        "fit_gen = fit_agg.max_log_likelihood_gen_from()\n",
        "\n",
        "for fit_list in fit_gen:\n",
        "    fit_plotter = aplt.FitDataset1DPlotter(fit=fit_list[0])\n",
        "    fit_plotter.subplot_fit()"
      ],
      "outputs": [],
      "execution_count": null
    },
    {
      "cell_type": "markdown",
      "metadata": {},
      "source": [
        "__Modification__\n",
        "\n",
        "The `Dataset1DAgg` allow us to modify the fit settings. By default, it uses the `Clocker1D` and `SettingsDataset1D` \n",
        "that were used during the model-fit. \n",
        "\n",
        "However, we can change these settings such that the fit is performed differently. For example, what if I wanted to see \n",
        "how the fit looks with a clocker that uses a different express parameter?\n",
        "\n",
        "You can do this by passing the objects, which overwrite the ones used by the analysis."
      ]
    },
    {
      "cell_type": "code",
      "metadata": {},
      "source": [
        "fit_agg = ac.agg.FitDataset1DAgg(\n",
        "    aggregator=agg,\n",
        "    clocker_list=[ac.Clocker1D(express=2)] * 4,\n",
        ")\n",
        "fit_gen = fit_agg.max_log_likelihood_gen_from()\n",
        "\n",
        "for fit_list in fit_gen:\n",
        "    fit_plotter = aplt.FitDataset1DPlotter(fit=fit_list[0])\n",
        "    fit_plotter.subplot_fit()"
      ],
      "outputs": [],
      "execution_count": null
    },
    {
      "cell_type": "markdown",
      "metadata": {},
      "source": [
        "__Visualization Customization__\n",
        "\n",
        "The benefit of inspecting fits using the aggregator, rather than the files outputs to the hard-disk, is that we can \n",
        "customize the plots using the `MatPlot1D` and `MatPlot2D` objects..\n",
        "\n",
        "Below, we create a new function to apply as a generator to do this. However, we use a convenience method available \n",
        "in the aggregator package to set up the fit."
      ]
    },
    {
      "cell_type": "code",
      "metadata": {},
      "source": [
        "fit_agg = ac.agg.FitDataset1DAgg(aggregator=agg)\n",
        "fit_gen = fit_agg.max_log_likelihood_gen_from()\n",
        "\n",
        "for fit_list in fit_gen:\n",
        "    mat_plot = aplt.MatPlot1D(\n",
        "        figure=aplt.Figure(figsize=(12, 12)),\n",
        "        title=aplt.Title(label=\"Custom Image\", fontsize=24),\n",
        "        yticks=aplt.YTicks(fontsize=24),\n",
        "        xticks=aplt.XTicks(fontsize=24),\n",
        "        cmap=aplt.Cmap(norm=\"log\", vmax=1.0, vmin=1.0),\n",
        "        colorbar_tickparams=aplt.ColorbarTickParams(labelsize=20),\n",
        "        units=aplt.Units(in_kpc=True),\n",
        "    )\n",
        "\n",
        "    fit_plotter = aplt.FitDataset1DPlotter(fit=fit_list[0], mat_plot_1d=mat_plot)\n",
        "    fit_plotter.figures_1d(data=True)"
      ],
      "outputs": [],
      "execution_count": null
    },
    {
      "cell_type": "markdown",
      "metadata": {},
      "source": [
        "Making this plot for a paper? You can output it to hard disk."
      ]
    },
    {
      "cell_type": "code",
      "metadata": {},
      "source": [
        "fit_agg = ac.agg.FitDataset1DAgg(aggregator=agg)\n",
        "fit_gen = fit_agg.max_log_likelihood_gen_from()\n",
        "\n",
        "for fit_list in fit_gen:\n",
        "    mat_plot = aplt.MatPlot2D(\n",
        "        title=aplt.Title(label=\"Hey\"),\n",
        "        output=aplt.Output(\n",
        "            path=path.join(\"output\", \"path\", \"of\", \"file\"),\n",
        "            filename=\"publication\",\n",
        "            format=\"png\",\n",
        "        ),\n",
        "    )\n"
      ],
      "outputs": [],
      "execution_count": null
    },
    {
      "cell_type": "markdown",
      "metadata": {},
      "source": [
        "The info dictionary we passed is also available."
      ]
    },
    {
      "cell_type": "code",
      "metadata": {},
      "source": [
        "print(\"Info:\")\n",
        "info_gen = agg.values(\"info\")\n",
        "print([info for info in info_gen])"
      ],
      "outputs": [],
      "execution_count": null
    },
    {
      "cell_type": "markdown",
      "metadata": {},
      "source": [
        "Finished."
      ]
    },
    {
      "cell_type": "code",
      "metadata": {},
      "source": [],
      "outputs": [],
      "execution_count": null
    }
  ],
  "metadata": {
    "anaconda-cloud": {},
    "kernelspec": {
      "display_name": "Python 3",
      "language": "python",
      "name": "python3"
    },
    "language_info": {
      "codemirror_mode": {
        "name": "ipython",
        "version": 3
      },
      "file_extension": ".py",
      "mimetype": "text/x-python",
      "name": "python",
      "nbconvert_exporter": "python",
      "pygments_lexer": "ipython3",
      "version": "3.6.1"
    }
  },
  "nbformat": 4,
  "nbformat_minor": 4
}