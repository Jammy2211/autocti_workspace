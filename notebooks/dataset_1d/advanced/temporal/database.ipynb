{
  "cells": [
    {
      "cell_type": "markdown",
      "metadata": {},
      "source": [
        "Temporal: Database\n",
        "==================\n",
        "\n",
        "The example script `fit.py` fits multiple 1D CTI calibration datasets, representative of data taken over the course\n",
        "of a space mission where radiation damage increases therefore also increasing the level of CTI.\n",
        "\n",
        "This script loads the model-fitting results into an .sqlite database file and performs interpolation on the results\n",
        "to determine the evolution of CTI with time."
      ]
    },
    {
      "cell_type": "code",
      "metadata": {},
      "source": [
        "%matplotlib inline\n",
        "from pyprojroot import here\n",
        "workspace_path = str(here())\n",
        "%cd $workspace_path\n",
        "print(f\"Working Directory has been set to `{workspace_path}`\")\n",
        "\n",
        "import numpy as np\n",
        "from os import path\n",
        "import os\n",
        "import autofit as af\n",
        "import autocti as ac"
      ],
      "outputs": [],
      "execution_count": null
    },
    {
      "cell_type": "markdown",
      "metadata": {},
      "source": [
        "__Building a Database File From an Output Folder__\n",
        "\n",
        "The fits performed in the `advanced/temporal/fits.py` script output results to hard-disk, in the `output` folder.\n",
        "\n",
        "The code belows creates a new .sqlite database file from these results, which is used to load the results of the \n",
        "model-fit in this example script."
      ]
    },
    {
      "cell_type": "code",
      "metadata": {},
      "source": [
        "database_name = \"temporal\"\n",
        "\n",
        "try:\n",
        "    os.remove(path.join(\"output\", f\"{database_name}.sqlite\"))\n",
        "except FileNotFoundError:\n",
        "    pass\n",
        "\n",
        "agg = af.Aggregator.from_database(\n",
        "    filename=f\"{database_name}.sqlite\", completed_only=False\n",
        ")\n",
        "agg.add_directory(directory=path.join(\"output\", database_name))"
      ],
      "outputs": [],
      "execution_count": null
    },
    {
      "cell_type": "markdown",
      "metadata": {},
      "source": [
        "__Instances__\n",
        "\n",
        "Interpolation uses the maximum log likelihood model of each fit to build an interpolation model of the CTI as a\n",
        "function of time. \n",
        "\n",
        "We therefore first create a list of instances of these maximum log likelihood models via the database."
      ]
    },
    {
      "cell_type": "code",
      "metadata": {},
      "source": [
        "ml_instances_list = [samps.max_log_likelihood() for samps in agg.values(\"samples\")]"
      ],
      "outputs": [],
      "execution_count": null
    },
    {
      "cell_type": "markdown",
      "metadata": {},
      "source": [
        "__Interpolation__\n",
        "\n",
        "We use the `ml_instances_list` to build an interpolation model of the CTI as a function of time.\n",
        "\n",
        "This is performed using the `LinearInterpolator` object, which interpolates the CTI model parameters as a function of\n",
        "time linearly between the values computed by the model-fits above.\n",
        "\n",
        "More advanced interpolation schemes are available and described in the `interpolation.py` example."
      ]
    },
    {
      "cell_type": "code",
      "metadata": {},
      "source": [
        "interpolator = af.LinearInterpolator(instances=ml_instances_list)"
      ],
      "outputs": [],
      "execution_count": null
    },
    {
      "cell_type": "markdown",
      "metadata": {},
      "source": [
        "The model can be interpolated to any time, for example time=1.5.\n",
        "\n",
        "This returns a new `instance` of the CTI model, as an instance of the `CTI1D` object, where the parameters are computed \n",
        "by interpolating between the values computed above."
      ]
    },
    {
      "cell_type": "code",
      "metadata": {},
      "source": [
        "instance = interpolator[interpolator.time == 1.5]"
      ],
      "outputs": [],
      "execution_count": null
    },
    {
      "cell_type": "markdown",
      "metadata": {},
      "source": [
        "The `density` of the `TrapInstantCapture` at time 1.5 is between the value inferred for the first and second fits taken\n",
        "at times 1.0 and 2.0."
      ]
    },
    {
      "cell_type": "code",
      "metadata": {},
      "source": [
        "print(f\"Trap density of fit 1 (t = 1): {ml_instances_list[0].cti.trap_list[0].density}\")\n",
        "print(f\"Trap density of fit 2 (t = 2): {ml_instances_list[1].cti.trap_list[0].density}\")\n",
        "\n",
        "print(f\"Trap Density interpolated at t = 1.5 {instance.cti.trap_list[0].density}\")\n"
      ],
      "outputs": [],
      "execution_count": null
    }
  ],
  "metadata": {
    "anaconda-cloud": {},
    "kernelspec": {
      "display_name": "Python 3",
      "language": "python",
      "name": "python3"
    },
    "language_info": {
      "codemirror_mode": {
        "name": "ipython",
        "version": 3
      },
      "file_extension": ".py",
      "mimetype": "text/x-python",
      "name": "python",
      "nbconvert_exporter": "python",
      "pygments_lexer": "ipython3",
      "version": "3.6.1"
    }
  },
  "nbformat": 4,
  "nbformat_minor": 4
}