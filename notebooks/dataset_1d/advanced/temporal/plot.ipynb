{
  "cells": [
    {
      "cell_type": "markdown",
      "metadata": {},
      "source": [
        "Temporal: Plot\n",
        "==============\n",
        "\n",
        "The example script `fit.py` fits multiple 1D CTI calibration datasets, representative of data taken over the course\n",
        "of a space mission where radiation damage increases therefore also increasing the level of CTI.\n",
        "\n",
        "This script loads the model-fitting results into an .sqlite database file and performs visualization of the results\n",
        "as a function of time."
      ]
    },
    {
      "cell_type": "code",
      "metadata": {},
      "source": [
        "%matplotlib inline\n",
        "from pyprojroot import here\n",
        "workspace_path = str(here())\n",
        "%cd $workspace_path\n",
        "print(f\"Working Directory has been set to `{workspace_path}`\")\n",
        "\n",
        "import numpy as np\n",
        "from os import path\n",
        "import os\n",
        "import autofit as af\n",
        "import autocti as ac\n",
        "import autocti.plot as aplt"
      ],
      "outputs": [],
      "execution_count": null
    },
    {
      "cell_type": "markdown",
      "metadata": {},
      "source": [
        "__Building a Database File From an Output Folder__\n",
        "\n",
        "The fits performed in the `advanced/temporal/fits.py` script output results to hard-disk, in the `output` folder.\n",
        "\n",
        "The code belows creates a new .sqlite database file from these results, which is used to load the results of the \n",
        "model-fit in this example script."
      ]
    },
    {
      "cell_type": "code",
      "metadata": {},
      "source": [
        "database_name = \"temporal\"\n",
        "\n",
        "try:\n",
        "    os.remove(path.join(\"output\", f\"{database_name}.sqlite\"))\n",
        "except FileNotFoundError:\n",
        "    pass\n",
        "\n",
        "agg = af.Aggregator.from_database(\n",
        "    filename=f\"{database_name}.sqlite\", completed_only=False\n",
        ")\n",
        "\n",
        "agg.add_directory(directory=path.join(\"output\", database_name))"
      ],
      "outputs": [],
      "execution_count": null
    },
    {
      "cell_type": "markdown",
      "metadata": {},
      "source": [
        "__Density Versus Time__\n",
        "\n",
        "A plot of trap density versus time informs us of how much CTI increases due to radiation damage over the course of a\n",
        "space mission. \n",
        "\n",
        "We produce this plot by extracting the trap density from the median PDF model, with errors at the 3.0 sigma confidence\n",
        "level. We also extract the time at which each dataset was acquired."
      ]
    },
    {
      "cell_type": "code",
      "metadata": {},
      "source": [
        "mp_instances_list = [samps.median_pdf() for samps in agg.values(\"samples\")]\n",
        "density_mp_list = [instance.cti.trap_list[0].density for instance in mp_instances_list]\n",
        "\n",
        "ue3_instance_list = [\n",
        "    samps.errors_at_upper_sigma(sigma=3.0) for samps in agg.values(\"samples\")\n",
        "]\n",
        "density_ue3_list = [instance.cti.trap_list[0].density for instance in ue3_instance_list]\n",
        "\n",
        "le3_instance_list = [\n",
        "    samps.errors_at_lower_sigma(sigma=3.0) for samps in agg.values(\"samples\")\n",
        "]\n",
        "density_le3_list = [instance.cti.trap_list[0].density for instance in le3_instance_list]\n",
        "\n",
        "time_list = [instance.time for instance in mp_instances_list]\n",
        "\n",
        "interpolator = af.LinearInterpolator(instances=mp_instances_list)\n",
        "\n",
        "density_interpolate_list = []\n",
        "\n",
        "for time in sorted(time_list):\n",
        "    instance = interpolator[interpolator.time == time]\n",
        "\n",
        "    density_interpolate_list.append(instance.cti.trap_list[0].density)\n",
        "\n",
        "from scipy.stats import stats\n",
        "\n",
        "slope, intercept, r, p, std_err = stats.linregress(time_list, density_mp_list)\n",
        "\n",
        "print(time_list, density_mp_list)\n",
        "\n",
        "mat_plot = aplt.MatPlot1D(\n",
        "    output=aplt.Output(\n",
        "        path=path.join(\"scripts\", \"dataset_1d\", \"advanced\", \"temporal\", \"images\"),\n",
        "        format=\"png\",\n",
        "    )\n",
        ")\n",
        "\n",
        "from autoarray.plot.auto_labels import AutoLabels\n",
        "\n",
        "print(density_interpolate_list)\n",
        "\n",
        "mat_plot.plot_yx(\n",
        "    y=ac.ArrayIrregular(values=density_mp_list),\n",
        "    x=ac.ArrayIrregular(time_list),\n",
        "    plot_axis_type_override=\"errorbar\",\n",
        "    visuals_1d=aplt.Visuals1D(),\n",
        "    y_extra=ac.ArrayIrregular(values=density_interpolate_list),\n",
        "    y_errors=[density_le3_list, density_ue3_list],\n",
        "    auto_labels=AutoLabels(\n",
        "        title=f\"Density vs Time\",\n",
        "        yunit=\"\",\n",
        "        filename=f\"density_versus_time\",\n",
        "        xlabel=r\"Time (s)\",\n",
        "        ylabel=\"Density (e-/pixel)\",\n",
        "    ),\n",
        ")\n"
      ],
      "outputs": [],
      "execution_count": null
    }
  ],
  "metadata": {
    "anaconda-cloud": {},
    "kernelspec": {
      "display_name": "Python 3",
      "language": "python",
      "name": "python3"
    },
    "language_info": {
      "codemirror_mode": {
        "name": "ipython",
        "version": 3
      },
      "file_extension": ".py",
      "mimetype": "text/x-python",
      "name": "python",
      "nbconvert_exporter": "python",
      "pygments_lexer": "ipython3",
      "version": "3.6.1"
    }
  },
  "nbformat": 4,
  "nbformat_minor": 4
}