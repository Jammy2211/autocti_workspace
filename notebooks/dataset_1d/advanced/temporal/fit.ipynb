{
  "cells": [
    {
      "cell_type": "markdown",
      "metadata": {},
      "source": [
        "Temporal: Individual Fits\n",
        "=========================\n",
        "\n",
        "This script fits multiple 1D CTI calibration datasets, representative of data taken over the course of a space\n",
        "mission where radiation damage increases therefore also increasing the level of CTI.\n",
        "\n",
        "The model-fitting aims to determine the increase in the density of traps with time. It fits each dataset one-by-one\n",
        "and uses the results post-analysis to determine the density evolution parameters by interpolating the results as a\n",
        "function of time.\n",
        "\n",
        "__Database__\n",
        "\n",
        "The results and interpolated CTI models computed in this script are created be rerunning the model-fit from the\n",
        "results on the hard-disk. This can make recomputing results cumbersome and slow.\n",
        "\n",
        "The script `advanced/temporal/database.py` shows how to load the results of the fit performed here via an .sqlite\n",
        "database, which is a convenient and efficient way to quickly analyse the temporal evolution of CTI.\n",
        "\n",
        "__Model__\n",
        "\n",
        "In this script, we will fit multiple charge injection imaging to calibrate CTI, where:\n",
        "\n",
        " - The CTI model consists of one `TrapInstantCapture` species.\n",
        " - The `CCD` volume filling is a simple parameterization."
      ]
    },
    {
      "cell_type": "code",
      "metadata": {},
      "source": [
        "%matplotlib inline\n",
        "from pyprojroot import here\n",
        "workspace_path = str(here())\n",
        "%cd $workspace_path\n",
        "print(f\"Working Directory has been set to `{workspace_path}`\")\n",
        "\n",
        "import numpy as np\n",
        "from os import path\n",
        "\n",
        "import autofit as af\n",
        "import autocti as ac"
      ],
      "outputs": [],
      "execution_count": null
    },
    {
      "cell_type": "markdown",
      "metadata": {},
      "source": [
        "__Dataset__\n",
        "\n",
        "Load the CTI dataset 'dataset_1d/temporal' 'from .fits files, which is the dataset we will use to perform CTI \n",
        "modeling."
      ]
    },
    {
      "cell_type": "code",
      "metadata": {},
      "source": [
        "dataset_type = \"dataset_1d\"\n",
        "dataset_label = \"temporal\"\n",
        "dataset_path = path.join(\"dataset\", dataset_type, dataset_label)"
      ],
      "outputs": [],
      "execution_count": null
    },
    {
      "cell_type": "markdown",
      "metadata": {},
      "source": [
        "__Layout__\n",
        "\n",
        "The 1D shape of each data."
      ]
    },
    {
      "cell_type": "code",
      "metadata": {},
      "source": [
        "shape_native = (200,)"
      ],
      "outputs": [],
      "execution_count": null
    },
    {
      "cell_type": "markdown",
      "metadata": {},
      "source": [
        "The locations (using NumPy array indexes) of the prescan and overscan on the data.\n",
        "\n",
        "For the fiducial 1D dataset the prescan spans the first 10 pixels and overscan the last 10 pixels."
      ]
    },
    {
      "cell_type": "code",
      "metadata": {},
      "source": [
        "prescan = ac.Region1D((0, 10))\n",
        "overscan = ac.Region1D((190, 200))"
      ],
      "outputs": [],
      "execution_count": null
    },
    {
      "cell_type": "markdown",
      "metadata": {},
      "source": [
        "Specify the regions of the dataset where charge was present before CTI, called the First Pixel Response (FPR). \n",
        "\n",
        "For the fiducial 1D dataset this is 10 pixels after the prescan."
      ]
    },
    {
      "cell_type": "code",
      "metadata": {},
      "source": [
        "region_list = [(10, 20)]"
      ],
      "outputs": [],
      "execution_count": null
    },
    {
      "cell_type": "markdown",
      "metadata": {},
      "source": [
        "The normalization of the charge region (e.g. the FPR) of every dataset."
      ]
    },
    {
      "cell_type": "code",
      "metadata": {},
      "source": [
        "norm_list = [100, 5000, 25000, 200000]"
      ],
      "outputs": [],
      "execution_count": null
    },
    {
      "cell_type": "markdown",
      "metadata": {},
      "source": [
        "The total number of charge injection datas that are simulated."
      ]
    },
    {
      "cell_type": "code",
      "metadata": {},
      "source": [
        "total_datasets = len(norm_list)"
      ],
      "outputs": [],
      "execution_count": null
    },
    {
      "cell_type": "markdown",
      "metadata": {},
      "source": [
        "Create the layout of the charge injection pattern for every charge injection normalization."
      ]
    },
    {
      "cell_type": "code",
      "metadata": {},
      "source": [
        "layout_list = [\n",
        "    ac.Layout1D(\n",
        "        shape_1d=shape_native,\n",
        "        region_list=region_list,\n",
        "        prescan=prescan,\n",
        "        overscan=overscan,\n",
        "    )\n",
        "    for norm in norm_list\n",
        "]"
      ],
      "outputs": [],
      "execution_count": null
    },
    {
      "cell_type": "markdown",
      "metadata": {},
      "source": [
        "__Clocker__\n",
        "\n",
        "The `Clocker1D` object models the read-out process of every 1D dataset as if it were clocked out on a real CCD. This \n",
        "includes the addition of CTI. "
      ]
    },
    {
      "cell_type": "code",
      "metadata": {},
      "source": [
        "clocker = ac.Clocker1D(express=5)\n"
      ],
      "outputs": [],
      "execution_count": null
    },
    {
      "cell_type": "markdown",
      "metadata": {},
      "source": [
        "We now load every data, noise-map and pre-CTI data as instances of the `Dataset1D` object.\n",
        "\n",
        "We load and fit each dataset, accquried at different times, one-by-one. We do this in a for loop to avoid loading \n",
        "everything into memory."
      ]
    },
    {
      "cell_type": "code",
      "metadata": {},
      "source": [
        "ml_instances_list = []\n",
        "\n",
        "time_list = range(0, 5)\n",
        "\n",
        "for time in time_list:\n",
        "    dataset_time = f\"time_{time}\"\n",
        "    dataset_time_path = path.join(dataset_path, dataset_time)\n",
        "\n",
        "    dataset_list = [\n",
        "        ac.Dataset1D.from_fits(\n",
        "            data_path=path.join(dataset_time_path, f\"norm_{int(norm)}\", \"data.fits\"),\n",
        "            noise_map_path=path.join(\n",
        "                dataset_time_path, f\"norm_{int(norm)}\", \"noise_map.fits\"\n",
        "            ),\n",
        "            pre_cti_data_path=path.join(\n",
        "                dataset_time_path, f\"norm_{int(norm)}\", \"pre_cti_data.fits\"\n",
        "            ),\n",
        "            layout=layout,\n",
        "            pixel_scales=0.1,\n",
        "        )\n",
        "        for layout, norm in zip(layout_list, norm_list)\n",
        "    ]\n",
        "\n",
        "    \"\"\"\n",
        "    __Mask__\n",
        "    \n",
        "    We apply a 1D mask which removes the FPR (e.g. all 5 pixels where the charge injection is performed).\n",
        "    \"\"\"\n",
        "    mask = ac.Mask1D.all_false(\n",
        "        shape_slim=dataset_list[0].shape_slim,\n",
        "        pixel_scales=dataset_list[0].pixel_scales,\n",
        "    )\n",
        "\n",
        "    mask = ac.Mask1D.masked_fpr_and_eper_from(\n",
        "        mask=mask,\n",
        "        layout=dataset_list[0].layout,\n",
        "        settings=ac.SettingsMask1D(fpr_pixels=(0, 10)),\n",
        "        pixel_scales=dataset_list[0].pixel_scales,\n",
        "    )\n",
        "\n",
        "    dataset_list = [dataset.apply_mask(mask=mask) for dataset in dataset_list]\n",
        "\n",
        "    \"\"\"\n",
        "    __Clocking__\n",
        "    \n",
        "    The `Clocker` models the CCD read-out, including CTI. \n",
        "    \"\"\"\n",
        "    clocker = ac.Clocker1D(express=5, roe=ac.ROEChargeInjection())\n",
        "\n",
        "    \"\"\"\n",
        "    __Time__\n",
        "    \n",
        "    The CTI model composed below has an input not seen in other scripts, `time`.\n",
        "    \n",
        "    This is the time that the CTI calibration data was acquired, and is not a free parameter in the fit. \n",
        "    \n",
        "    For interpolation it plays a crucial role, as the CTI model is interpolated to the time of every dataset as input\n",
        "    into the model below. If the `time` input were missing, interpolation could not be performed.\n",
        "\n",
        "    __Model__\n",
        "    \n",
        "    We now compose our CTI model, which represents the trap species and CCD volume filling behaviour used to fit the \n",
        "    charge  injection data. In this example we fit a CTI model with:\n",
        "    \n",
        "     - One `TrapInstantCapture`'s [2 parameters].\n",
        "    \n",
        "     - A simple `CCD` volume filling parametrization with fixed notch depth and capacity [1 parameter].\n",
        "    \n",
        "    The number of free parameters and therefore the dimensionality of non-linear parameter space is N=3.\n",
        "    \"\"\"\n",
        "    trap_0 = af.Model(ac.TrapInstantCapture)\n",
        "    traps = [trap_0]\n",
        "    ccd = af.Model(ac.CCDPhase)\n",
        "    ccd.well_notch_depth = 0.0\n",
        "    ccd.full_well_depth = 200000.0\n",
        "\n",
        "    model = af.Collection(\n",
        "        cti=af.Model(\n",
        "            ac.CTI1D,\n",
        "            trap_list=[trap_0],\n",
        "            ccd=ccd,\n",
        "        ),\n",
        "        time=time,\n",
        "    )\n",
        "\n",
        "    \"\"\"\n",
        "    __Search__\n",
        "    \n",
        "    The model is fitted to the data using the nested sampling algorithm \n",
        "    Nautilus (https://nautilus.readthedocs.io/en/latest/).\n",
        "    \"\"\"\n",
        "    search = af.Nautilus(\n",
        "        path_prefix=path.join(dataset_label, dataset_time),\n",
        "        name=\"species[x1]\",\n",
        "        n_live=100,\n",
        "    )\n",
        "\n",
        "    \"\"\"\n",
        "    __Analysis__\n",
        "    \n",
        "    The `AnalysisDataset1D` object defines the `log_likelihood_function` used by the non-linear search to fit the \n",
        "    model to the `Dataset1D` dataset.\n",
        "    \"\"\"\n",
        "    analysis_list = [\n",
        "        ac.AnalysisDataset1D(dataset=dataset, clocker=clocker)\n",
        "        for dataset in dataset_list\n",
        "    ]\n",
        "    analysis = sum(analysis_list)\n",
        "    analysis.n_cores = 1\n",
        "\n",
        "    \"\"\"\n",
        "    __Model-Fit__\n",
        "    \n",
        "    We can now begin the model-fit by passing the model and analysis object to the search, which performs a non-linear\n",
        "    search to find which models fit the data with the highest likelihood.\n",
        "    \"\"\"\n",
        "    result_list = search.fit(model=model, analysis=analysis)\n",
        "\n",
        "    \"\"\"\n",
        "    __Instances__\n",
        "    \n",
        "    Interpolation uses the maximum log likelihood model of each fit to build an interpolation model of the CTI as a\n",
        "    function of time. \n",
        "    \n",
        "    We therefore store the maximum log likelihood model of every fit in a list, which is used below.\n",
        "    \"\"\"\n",
        "    ml_instances_list.append(result_list[0].instance)"
      ],
      "outputs": [],
      "execution_count": null
    },
    {
      "cell_type": "markdown",
      "metadata": {},
      "source": [
        "__Interpolation__\n",
        "\n",
        "Now all fits are complete, we use the `ml_instances_list` to build an interpolation model of the CTI as a function of time.\n",
        "\n",
        "This is performed using the `LinearInterpolator` object, which interpolates the CTI model parameters as a function of\n",
        "time linearly between the values computed by the model-fits above.\n",
        "\n",
        "More advanced interpolation schemes are available and described in the `interpolation.py` example."
      ]
    },
    {
      "cell_type": "code",
      "metadata": {},
      "source": [
        "interpolator = af.LinearInterpolator(instances=ml_instances_list)"
      ],
      "outputs": [],
      "execution_count": null
    },
    {
      "cell_type": "markdown",
      "metadata": {},
      "source": [
        "The model can be interpolated to any time, for example time=1.5.\n",
        "\n",
        "This returns a new `instance` of the CTI model, as an instance of the `CTI1D` object, where the parameters are computed \n",
        "by interpolating between the values computed above."
      ]
    },
    {
      "cell_type": "code",
      "metadata": {},
      "source": [
        "instance = interpolator[interpolator.time == 1.5]"
      ],
      "outputs": [],
      "execution_count": null
    },
    {
      "cell_type": "markdown",
      "metadata": {},
      "source": [
        "The `density` of the `TrapInstantCapture` at time 1.5 is between the value inferred for the first and second fits taken\n",
        "at times 1.0 and 2.0."
      ]
    },
    {
      "cell_type": "code",
      "metadata": {},
      "source": [
        "print(f\"Trap density of fit 1 (t = 1): {ml_instances_list[0].cti.trap_list[0].density}\")\n",
        "print(f\"Trap density of fit 2 (t = 2): {ml_instances_list[1].cti.trap_list[0].density}\")\n",
        "\n",
        "print(f\"Trap Density interpolated at t = 1.5 {instance.cti.trap_list[0].density}\")\n"
      ],
      "outputs": [],
      "execution_count": null
    },
    {
      "cell_type": "markdown",
      "metadata": {},
      "source": [
        "__Serialization__\n",
        "\n",
        "The interpolator and model can be serialized to a .json file using **PyAutoConf**'s dedicated serialization methods. \n",
        "\n",
        "This means an interpolator can easily be loaded into other scripts."
      ]
    },
    {
      "cell_type": "code",
      "metadata": {},
      "source": [
        "from autoconf.dictable import output_to_json, from_json\n",
        "\n",
        "json_file = path.join(dataset_path, \"interpolator.json\")\n",
        "\n",
        "output_to_json(obj=interpolator, file_path=json_file)\n",
        "\n",
        "interpolator = from_json(file_path=json_file)\n"
      ],
      "outputs": [],
      "execution_count": null
    }
  ],
  "metadata": {
    "anaconda-cloud": {},
    "kernelspec": {
      "display_name": "Python 3",
      "language": "python",
      "name": "python3"
    },
    "language_info": {
      "codemirror_mode": {
        "name": "ipython",
        "version": 3
      },
      "file_extension": ".py",
      "mimetype": "text/x-python",
      "name": "python",
      "nbconvert_exporter": "python",
      "pygments_lexer": "ipython3",
      "version": "3.6.1"
    }
  },
  "nbformat": 4,
  "nbformat_minor": 4
}