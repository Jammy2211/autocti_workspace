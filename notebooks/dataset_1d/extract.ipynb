{
  "cells": [
    {
      "cell_type": "markdown",
      "metadata": {},
      "source": [
        "Extract\n",
        "-------\n",
        "\n",
        "**PyAutoCTI** has numerous methods for extracting subsets of data from a 1D CTI dataset.\n",
        "\n",
        "This script illustrates all the available options.\n",
        "\n",
        "This script assumes familiaring with the **PyAutoCTI** API, if anything is unclear check out other scripts throughout\n",
        "the workspace."
      ]
    },
    {
      "cell_type": "code",
      "metadata": {},
      "source": [
        "%matplotlib inline\n",
        "from pyprojroot import here\n",
        "workspace_path = str(here())\n",
        "%cd $workspace_path\n",
        "print(f\"Working Directory has been set to `{workspace_path}`\")\n",
        "\n",
        "from os import path\n",
        "import autocti as ac\n",
        "import autocti.plot as aplt"
      ],
      "outputs": [],
      "execution_count": null
    },
    {
      "cell_type": "markdown",
      "metadata": {},
      "source": [
        "__Dataset + Layout__\n",
        "\n",
        "We begin by loading 1D CTI data which has CTI added, which we will use to illustrate the extraction methods.\n",
        "\n",
        "We also set up its corresponding `Layout1DCI` object, which is used to perform extractions.\n",
        "\n",
        "You should be familiar with the **PyAutoCTI** API below, if not check out other scripts throughout the workspace."
      ]
    },
    {
      "cell_type": "code",
      "metadata": {},
      "source": [
        "dataset_name = \"simple\"\n",
        "dataset_path = path.join(\"dataset\", \"dataset_1d\", dataset_name)\n",
        "\n",
        "shape_native = (200,)"
      ],
      "outputs": [],
      "execution_count": null
    },
    {
      "cell_type": "markdown",
      "metadata": {},
      "source": [
        "The overscans input here are used to perform extractions."
      ]
    },
    {
      "cell_type": "code",
      "metadata": {},
      "source": [
        "prescan = ac.Region1D((0, 10))\n",
        "overscan = ac.Region1D((190, 200))"
      ],
      "outputs": [],
      "execution_count": null
    },
    {
      "cell_type": "markdown",
      "metadata": {},
      "source": [
        "These charge regions are also used to perform extractions."
      ]
    },
    {
      "cell_type": "code",
      "metadata": {},
      "source": [
        "region_list = [(10, 20)]\n",
        "\n",
        "norm = 100"
      ],
      "outputs": [],
      "execution_count": null
    },
    {
      "cell_type": "markdown",
      "metadata": {},
      "source": [
        "The layout object contains all the extraction functionality used in this example."
      ]
    },
    {
      "cell_type": "code",
      "metadata": {},
      "source": [
        "layout_1d = ac.Layout1D(\n",
        "    shape_1d=shape_native,\n",
        "    region_list=region_list,\n",
        "    prescan=prescan,\n",
        "    overscan=overscan,\n",
        ")"
      ],
      "outputs": [],
      "execution_count": null
    },
    {
      "cell_type": "markdown",
      "metadata": {},
      "source": [
        "We will demonstrate extraction on a 1D CTI image, but the functionality demonstrated here can be used\n",
        "on any 1D array (e.g. the noise-map, a CTI corrected data, a residual-map of a fit)."
      ]
    },
    {
      "cell_type": "code",
      "metadata": {},
      "source": [
        "data_1d = ac.Array1D.from_fits(\n",
        "    file_path=path.join(dataset_path, f\"norm_{int(norm)}\", \"data.fits\"),\n",
        "    pixel_scales=0.1,\n",
        ")"
      ],
      "outputs": [],
      "execution_count": null
    },
    {
      "cell_type": "markdown",
      "metadata": {},
      "source": [
        "__EPERs__\n",
        "\n",
        "The 1D region of every set of EPERs on the 1D CTI data is contained in the layout's extract object.\n",
        "\n",
        "To compute the EPER regions, we specify the number of rows we want each EPERs to span, using the `pixels` input. \n",
        "\n",
        "For example, by inputting `pixels=(0, 10)` each EPER region contains 30 pixels."
      ]
    },
    {
      "cell_type": "code",
      "metadata": {},
      "source": [
        "region_1d_eper_list = layout_1d.extract.eper.region_list_from(\n",
        "    settings=ac.SettingsExtract(pixels=(0, 10))\n",
        ")\n",
        "print(region_1d_eper_list)"
      ],
      "outputs": [],
      "execution_count": null
    },
    {
      "cell_type": "markdown",
      "metadata": {},
      "source": [
        "The EPER regions above are used to extract the EPERs from the 1D CTI data. \n",
        "\n",
        "The function below returns a list of 1D arrays containing each EPER.\n",
        "\n",
        "We again specify the number of pixel each 1D EPER that is extracted spans. "
      ]
    },
    {
      "cell_type": "code",
      "metadata": {},
      "source": [
        "data_1d_eper_list = layout_1d.extract.eper.array_1d_list_from(\n",
        "    array=data_1d, settings=ac.SettingsExtract(pixels=(0, 10))\n",
        ")\n",
        "\n",
        "array_1d_plotter = aplt.Array1DPlotter(y=data_1d_eper_list[0])\n",
        "array_1d_plotter.figure_1d()"
      ],
      "outputs": [],
      "execution_count": null
    },
    {
      "cell_type": "markdown",
      "metadata": {},
      "source": [
        "A stacked 2D array of the list of 2D arrays returned above can be extracted.\n",
        "\n",
        "The stacking process reduces noise in the data, making the EPERs higher signal to noise."
      ]
    },
    {
      "cell_type": "code",
      "metadata": {},
      "source": [
        "data_1d_eper = layout_1d.extract.eper.stacked_array_1d_from(\n",
        "    array=data_1d, settings=ac.SettingsExtract(pixels=(0, 10))\n",
        ")\n",
        "\n",
        "array_1d_plotter = aplt.Array1DPlotter(y=data_1d_eper)\n",
        "array_1d_plotter.figure_1d()"
      ],
      "outputs": [],
      "execution_count": null
    },
    {
      "cell_type": "markdown",
      "metadata": {},
      "source": [
        "Negative inputs to the `pixels` tuple are supported in all of the above methods, which extract additional pixels in \n",
        "front of the EPERs."
      ]
    },
    {
      "cell_type": "code",
      "metadata": {},
      "source": [
        "data_1d_eper = layout_1d.extract.eper.stacked_array_1d_from(\n",
        "    array=data_1d, settings=ac.SettingsExtract(pixels=(-10, 10))\n",
        ")\n",
        "\n",
        "array_1d_plotter = aplt.Array1DPlotter(y=data_1d_eper)\n",
        "array_1d_plotter.figure_1d()"
      ],
      "outputs": [],
      "execution_count": null
    },
    {
      "cell_type": "markdown",
      "metadata": {},
      "source": [
        "__FPRs__\n",
        "\n",
        "All of the above methods can be used extract and stack the FPR in an analogous fashion."
      ]
    },
    {
      "cell_type": "code",
      "metadata": {},
      "source": [
        "region_1d_fpr_list = layout_1d.extract.fpr.region_list_from(\n",
        "    settings=ac.SettingsExtract(pixels=(0, 10))\n",
        ")\n",
        "print(region_1d_fpr_list)\n",
        "\n",
        "data_1d_fpr_list = layout_1d.extract.fpr.array_1d_list_from(\n",
        "    array=data_1d, settings=ac.SettingsExtract(pixels=(0, 10))\n",
        ")\n",
        "\n",
        "array_1d_plotter = aplt.Array1DPlotter(y=data_1d_fpr_list[0])\n",
        "array_1d_plotter.figure_1d()\n",
        "\n",
        "data_1d_fpr = layout_1d.extract.fpr.stacked_array_1d_from(\n",
        "    array=data_1d, settings=ac.SettingsExtract(pixels=(0, 10))\n",
        ")\n",
        "\n",
        "array_1d_plotter = aplt.Array1DPlotter(y=data_1d_fpr)\n",
        "array_1d_plotter.figure_1d()\n",
        "\n",
        "data_1d_fpr = layout_1d.extract.fpr.stacked_array_1d_from(\n",
        "    array=data_1d, settings=ac.SettingsExtract(pixels=(0, 10))\n",
        ")\n",
        "\n",
        "array_1d_plotter = aplt.Array1DPlotter(y=data_1d_fpr)\n",
        "array_1d_plotter.figure_1d()"
      ],
      "outputs": [],
      "execution_count": null
    },
    {
      "cell_type": "markdown",
      "metadata": {},
      "source": [
        "__Overscans__\n",
        "\n",
        "There are analogous extract methods for the overscan.\n",
        "\n",
        "In 1D, there is not an obvious reason for extracting the overscan. However, in 2D there are many (see the `extract.py`\n",
        "script in the `imaging_ci` package of the workspace). Nevertheless, the API for doing this is included for completeness."
      ]
    },
    {
      "cell_type": "code",
      "metadata": {},
      "source": [
        "region_1d_overscan_list = layout_1d.extract.overscan.region_list_from(\n",
        "    settings=ac.SettingsExtract(pixels=(0, 10))\n",
        ")\n",
        "print(region_1d_overscan_list)\n",
        "\n",
        "data_1d_overscan_list = layout_1d.extract.overscan.array_1d_list_from(\n",
        "    array=data_1d, settings=ac.SettingsExtract(pixels=(0, 10))\n",
        ")\n",
        "\n",
        "array_1d_plotter = aplt.Array1DPlotter(y=data_1d_overscan_list[0])\n",
        "array_1d_plotter.figure_1d()\n",
        "\n",
        "data_1d_overscan = layout_1d.extract.overscan.stacked_array_1d_from(\n",
        "    array=data_1d, settings=ac.SettingsExtract(pixels=(0, 10))\n",
        ")\n",
        "\n",
        "array_1d_plotter = aplt.Array1DPlotter(y=data_1d_overscan)\n",
        "array_1d_plotter.figure_1d()\n",
        "\n",
        "data_1d_overscan = layout_1d.extract.overscan.stacked_array_1d_from(\n",
        "    array=data_1d, settings=ac.SettingsExtract(pixels=(0, 10))\n",
        ")\n",
        "\n",
        "array_1d_plotter = aplt.Array1DPlotter(y=data_1d_overscan)\n",
        "array_1d_plotter.figure_1d()"
      ],
      "outputs": [],
      "execution_count": null
    },
    {
      "cell_type": "markdown",
      "metadata": {},
      "source": [
        "Finish."
      ]
    },
    {
      "cell_type": "code",
      "metadata": {},
      "source": [],
      "outputs": [],
      "execution_count": null
    }
  ],
  "metadata": {
    "anaconda-cloud": {},
    "kernelspec": {
      "display_name": "Python 3",
      "language": "python",
      "name": "python3"
    },
    "language_info": {
      "codemirror_mode": {
        "name": "ipython",
        "version": 3
      },
      "file_extension": ".py",
      "mimetype": "text/x-python",
      "name": "python",
      "nbconvert_exporter": "python",
      "pygments_lexer": "ipython3",
      "version": "3.6.1"
    }
  },
  "nbformat": 4,
  "nbformat_minor": 4
}