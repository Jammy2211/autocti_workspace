{
  "cells": [
    {
      "cell_type": "markdown",
      "metadata": {},
      "source": [
        "Simulator: Start Here\n",
        "=====================\n",
        "\n",
        "This script is the starting point for simulating a 1D CTI dataset and it provides an overview of\n",
        "the simulation API.\n",
        "\n",
        "This script simulates the simplest 1D CTI dataset in the workspace, where the CTI model has just two trap species,\n",
        "the volume filling behaviour is simple and the injected charge signal (e.g. the FPR) is uniform across the image.\n",
        "\n",
        "After reading this script, the `examples` folder provide examples for simulating more complex CTI datasets in different\n",
        "ways.\n",
        "\n",
        "__Model__\n",
        "\n",
        "This script simulates a 1D dataset with CTI, where:\n",
        "\n",
        " - CTI is added to the image using a 2 `Trap` species model.\n",
        " - The volume filling behaviour in the direction uses the `CCD` class.\n",
        "\n",
        " __Plotters__\n",
        "\n",
        "To output images of the simulated data, `Plotter` objects are used, which are high-level wrappers of matplotlib\n",
        "code which produce high quality visualization of strong lenses.\n",
        "\n",
        "The `Plotter` API is described in the `autocti_workspace/*/plot/start_here.py` script."
      ]
    },
    {
      "cell_type": "code",
      "metadata": {},
      "source": [
        "%matplotlib inline\n",
        "from pyprojroot import here\n",
        "workspace_path = str(here())\n",
        "%cd $workspace_path\n",
        "print(f\"Working Directory has been set to `{workspace_path}`\")\n",
        "\n",
        "import json\n",
        "from os import path\n",
        "import autocti as ac\n",
        "import autocti.plot as aplt"
      ],
      "outputs": [],
      "execution_count": null
    },
    {
      "cell_type": "markdown",
      "metadata": {},
      "source": [
        "__Dataset Paths__\n",
        "\n",
        "The 'dataset_name' describes the type of data being simulated (in this case, 1D CTI data) and 'dataset_name' \n",
        "gives it a descriptive name. They define the folder the dataset is output to on your hard-disk:\n",
        "\n",
        " - The data will be output to '/autocti_workspace/dataset/dataset_type/dataset_name/image.fits'.\n",
        " - The noise-map will be output to '/autocti_workspace/dataset/dataset_type/dataset_name/noise_map.fits'.\n",
        " - The pre-cti data will be output to '/autocti_workspace/dataset/dataset_type/dataset_name/pre_cti_data.fits'."
      ]
    },
    {
      "cell_type": "code",
      "metadata": {},
      "source": [
        "dataset_type = \"dataset_1d\"\n",
        "dataset_name = \"simple\""
      ],
      "outputs": [],
      "execution_count": null
    },
    {
      "cell_type": "markdown",
      "metadata": {},
      "source": [
        "The path where the dataset will be output, which in this case is:\n",
        "\n",
        "`/autocti_workspace/dataset/dataset_1d/simple`"
      ]
    },
    {
      "cell_type": "code",
      "metadata": {},
      "source": [
        "dataset_path = path.join(\"dataset\", dataset_type, dataset_name)"
      ],
      "outputs": [],
      "execution_count": null
    },
    {
      "cell_type": "markdown",
      "metadata": {},
      "source": [
        "__Shape__\n",
        "\n",
        "The 1D shape of each 1D dataset, where the dataset we simulate is 200 pixels long."
      ]
    },
    {
      "cell_type": "code",
      "metadata": {},
      "source": [
        "shape_native = (200,)"
      ],
      "outputs": [],
      "execution_count": null
    },
    {
      "cell_type": "markdown",
      "metadata": {},
      "source": [
        "__Regions__\n",
        "\n",
        "Use `Region1D` objects to define the locations of the prescan and overscan on the 1D data. \n",
        "\n",
        "1D regions are defined as a tuple of the form (x0, x1) = (left-pixel, right-pixel), where the integer values of the\n",
        "tuple are used to perform NumPy array indexing of the 1D data.\n",
        "\n",
        "For example, if the overscan of 1D data is between pixels 40 and 50, its region is `region=(40, 50)`.\n",
        "\n",
        "These define where the prescan and overscan are located when simulating the 1D data.\n",
        "\n",
        "For this 1D dataset the prescan spans the first 10 pixels and overscan the last 10 pixels."
      ]
    },
    {
      "cell_type": "code",
      "metadata": {},
      "source": [
        "prescan = ac.Region1D((0, 10))\n",
        "overscan = ac.Region1D((190, 200))"
      ],
      "outputs": [],
      "execution_count": null
    },
    {
      "cell_type": "markdown",
      "metadata": {},
      "source": [
        "__FPR / EPER__\n",
        "\n",
        "Specify the charge regions on the 1D CTI Dataset, corresponding to where an injected signal is present that has its \n",
        "electrons captured and trailed by CTI.\n",
        "\n",
        "This is referred to as a the \"First Pixel Response\" (FPR), with the trails of electrons which appear after it \n",
        "referred to as the \"Extended Pixel Edge Response\" (EPER).\n",
        "\n",
        "When simulating the 1D dataset, charge will be added to this region of the 1D data, which will then be trailed by CTI.\n",
        "\n",
        "For the fiducial 1D dataset this region is 10 pixels after the prescan, meaning the EPER trails span pixels 20 -> 200."
      ]
    },
    {
      "cell_type": "code",
      "metadata": {},
      "source": [
        "region_list = [(10, 20)]"
      ],
      "outputs": [],
      "execution_count": null
    },
    {
      "cell_type": "markdown",
      "metadata": {},
      "source": [
        "The dataset consists of multiple charge lines at different normalizations. \n",
        "\n",
        "Below, we specify the normalization of every 1D dataset, where the size of this list determines how many datasets \n",
        "are simulated in total."
      ]
    },
    {
      "cell_type": "code",
      "metadata": {},
      "source": [
        "norm_list = [100, 5000, 25000, 200000]"
      ],
      "outputs": [],
      "execution_count": null
    },
    {
      "cell_type": "markdown",
      "metadata": {},
      "source": [
        "__Layout__\n",
        "\n",
        "We now create a `Layout1D` object for every 1D dataset fitted in this script.\n",
        "\n",
        "This object contains all functionality associated with the layout of the data (e.g. where the FPR is, where the\n",
        "EPERs are, where the overscans are, etc.). \n",
        "\n",
        "The simulation procedure uses this object to create the initial electrons in the 1D dataset (e.g. the FPR), which are \n",
        "then trailed by CTI to form the EPERs."
      ]
    },
    {
      "cell_type": "code",
      "metadata": {},
      "source": [
        "layout_list = [\n",
        "    ac.Layout1D(\n",
        "        shape_1d=shape_native,\n",
        "        region_list=region_list,\n",
        "        prescan=prescan,\n",
        "        overscan=overscan,\n",
        "    )\n",
        "    for norm in norm_list\n",
        "]"
      ],
      "outputs": [],
      "execution_count": null
    },
    {
      "cell_type": "markdown",
      "metadata": {},
      "source": [
        "__Clocker / arCTIc__\n",
        "\n",
        "To model the CCD clocking process, including CTI, we use  arCTIc, or the \"algorithm for Charge Transfer Inefficiency \n",
        "clocking\".\n",
        "\n",
        "arCTIc is written in c++ can be used standalone outside of **PyAutoCTI** as described on its GitHub \n",
        "page (https://github.com/jkeger/arctic). **PyAutoCTI** uses arCTIc's built-in Python wrapper.\n",
        "\n",
        "In **PyAutoCTI** we call arCTIc via a `Clocker` object, which is a Python class that wraps arCTIc. This class has \n",
        "many optional inputs that customize how clocking is performed, but we'll omit these for now to keep things simple.\n",
        "\n",
        "For this example, we only input the `express` parameter, which determines how many electrons are clocked per cycle\n",
        "and trades off speed for accuracy. For this example we use `express=5`, which is a good balance."
      ]
    },
    {
      "cell_type": "code",
      "metadata": {},
      "source": [
        "clocker = ac.Clocker1D(express=5)"
      ],
      "outputs": [],
      "execution_count": null
    },
    {
      "cell_type": "markdown",
      "metadata": {},
      "source": [
        "__CTI Model__\n",
        "\n",
        "The CTI model used by arCTIc to add CTI to the simulated data, which in this example contains: \n",
        "\n",
        " - 2 `TrapInstantCapture` species, which captures electrons during clocking instantly and release them according to \n",
        "   an exponential probability distribution defined by a single release times.\n",
        " \n",
        " - A simple CCDPhase volume filling parametrization."
      ]
    },
    {
      "cell_type": "code",
      "metadata": {},
      "source": [
        "trap_0 = ac.TrapInstantCapture(density=0.13, release_timescale=1.25)\n",
        "trap_1 = ac.TrapInstantCapture(density=0.25, release_timescale=4.4)\n",
        "trap_list = [trap_0, trap_1]\n",
        "\n",
        "ccd = ac.CCDPhase(well_fill_power=0.58, well_notch_depth=0.0, full_well_depth=200000.0)\n",
        "\n",
        "cti = ac.CTI1D(trap_list=trap_list, ccd=ccd)"
      ],
      "outputs": [],
      "execution_count": null
    },
    {
      "cell_type": "markdown",
      "metadata": {},
      "source": [
        "__Simulate__\n",
        "\n",
        "To simulate the 1D CTI dataset we first create a simulator, which includes:\n",
        "\n",
        " - The read noise of the data, which increasing means the data is lower signal-to-noise.\n",
        " \n",
        " - The `pixel_scales` define the arc-second to pixel conversion factor of the image, which for the dataset we are using \n",
        "   is 0.1\" / pixel. This is used for visualization only, specifically to convert axis labels from pixels to arc-seconds.\n",
        "   \n",
        " - The normalizaiton, `norm` of the dataset, which is the total number of electrons in the dataset before CTI (e.g.\n",
        "   the FPR)."
      ]
    },
    {
      "cell_type": "code",
      "metadata": {},
      "source": [
        "simulator_list = [\n",
        "    ac.SimulatorDataset1D(read_noise=0.01, pixel_scales=0.1, norm=norm)\n",
        "    for norm in norm_list\n",
        "]"
      ],
      "outputs": [],
      "execution_count": null
    },
    {
      "cell_type": "markdown",
      "metadata": {},
      "source": [
        "We now pass each layout to each simulator, which: \n",
        "\n",
        " - Creates each 1D dataset using its `norm` value.\n",
        " \n",
        " - Adds CTI to the data using the `cti` model.\n",
        " \n",
        " - Adds read noise to the data.\n",
        " \n",
        "This creates a list of `Dataset1D` instances, which include the data (with CTI), noise-maps and the pre-cti data."
      ]
    },
    {
      "cell_type": "code",
      "metadata": {},
      "source": [
        "dataset_list = [\n",
        "    simulator.via_layout_from(clocker=clocker, layout=layout, cti=cti)\n",
        "    for layout, simulator in zip(layout_list, simulator_list)\n",
        "]"
      ],
      "outputs": [],
      "execution_count": null
    },
    {
      "cell_type": "markdown",
      "metadata": {},
      "source": [
        "We plot the first dataset in the list, which is the dataset with the lowest normalization."
      ]
    },
    {
      "cell_type": "code",
      "metadata": {},
      "source": [
        "dataset_plotter = aplt.Dataset1DPlotter(dataset=dataset_list[0])\n",
        "dataset_plotter.subplot_dataset()"
      ],
      "outputs": [],
      "execution_count": null
    },
    {
      "cell_type": "markdown",
      "metadata": {},
      "source": [
        "__Output__\n",
        "\n",
        "Output the simulated dataset to the dataset path as .fits files.\n",
        "\n",
        "If you are unfamiliar with .fits files, this is the standard file format of astronomical data and you can open \n",
        "them using the software ds9 (https://sites.google.com/cfa.harvard.edu/saoimageds9/home)."
      ]
    },
    {
      "cell_type": "code",
      "metadata": {},
      "source": [
        "[\n",
        "    dataset.output_to_fits(\n",
        "        data_path=path.join(dataset_path, f\"norm_{int(norm)}\", \"data.fits\"),\n",
        "        noise_map_path=path.join(dataset_path, f\"norm_{int(norm)}\", \"noise_map.fits\"),\n",
        "        pre_cti_data_path=path.join(\n",
        "            dataset_path, f\"norm_{int(norm)}\", \"pre_cti_data.fits\"\n",
        "        ),\n",
        "        overwrite=True,\n",
        "    )\n",
        "    for dataset, norm in zip(dataset_list, norm_list)\n",
        "]"
      ],
      "outputs": [],
      "execution_count": null
    },
    {
      "cell_type": "markdown",
      "metadata": {},
      "source": [
        "__Visualize__\n",
        "\n",
        "In the same folder as the .fits files, we also output plots of the simulated dataset in .png format.\n",
        "\n",
        "Having .png files like this is useful, as they can be opened quickly and easily by the user to check the dataset."
      ]
    },
    {
      "cell_type": "code",
      "metadata": {},
      "source": [
        "for dataset, norm in zip(dataset_list, norm_list):\n",
        "    output = aplt.Output(\n",
        "        path=path.join(dataset_path, f\"norm_{int(norm)}\"),\n",
        "        filename=\"dataset_1d\",\n",
        "        format=\"png\",\n",
        "    )\n",
        "\n",
        "    mat_plot = aplt.MatPlot1D(output=output)\n",
        "\n",
        "    dataset_plotter = aplt.Dataset1DPlotter(dataset=dataset, mat_plot_1d=mat_plot)\n",
        "    dataset_plotter.subplot_dataset()"
      ],
      "outputs": [],
      "execution_count": null
    },
    {
      "cell_type": "markdown",
      "metadata": {},
      "source": [
        "We also output subplots of the simulated dataset in .png format, as well as other images which summarize the dataset.\n",
        "\n",
        "These plots include 1D binned up images of the FPR and EPER, so that electron capture and trailing can be seen clearly."
      ]
    },
    {
      "cell_type": "code",
      "metadata": {},
      "source": [
        "for dataset, norm in zip(dataset_list, norm_list):\n",
        "    output = aplt.Output(\n",
        "        path=path.join(dataset_path, f\"norm_{int(norm)}\", \"binned_1d\"), format=\"png\"\n",
        "    )\n",
        "\n",
        "    mat_plot = aplt.MatPlot1D(output=output)\n",
        "\n",
        "    dataset_plotter = aplt.Dataset1DPlotter(dataset=dataset, mat_plot_1d=mat_plot)\n",
        "    dataset_plotter.figures_1d(region=\"fpr\", data=True, data_logy=True)\n",
        "    dataset_plotter.figures_1d(region=\"eper\", data=True, data_logy=True)\n"
      ],
      "outputs": [],
      "execution_count": null
    },
    {
      "cell_type": "markdown",
      "metadata": {},
      "source": [
        "__CTI json__\n",
        "\n",
        "Save the `Clocker1D` and `CTI1D` in the dataset folder as a .json file, ensuring the true traps and CCD settings \n",
        "are safely stored and available to check how the dataset was simulated in the future. \n",
        "\n",
        "This can be loaded via the methods `cti = ac.from_json()` and `clocker = ac.from_json()`."
      ]
    },
    {
      "cell_type": "code",
      "metadata": {},
      "source": [
        "ac.output_to_json(\n",
        "    obj=cti,\n",
        "    file_path=path.join(dataset_path, \"cti.json\"),\n",
        ")\n",
        "ac.output_to_json(\n",
        "    obj=clocker,\n",
        "    file_path=path.join(dataset_path, \"clocker.json\"),\n",
        ")"
      ],
      "outputs": [],
      "execution_count": null
    },
    {
      "cell_type": "markdown",
      "metadata": {},
      "source": [
        "__True Likelihood__\n",
        "\n",
        "Fit the true model to the data and output the true `log_likelihood`, which can act as a verification of the quality of\n",
        "model fits."
      ]
    },
    {
      "cell_type": "code",
      "metadata": {},
      "source": [
        "fit_list = []\n",
        "\n",
        "for dataset in dataset_list:\n",
        "    post_cti_data = clocker.add_cti(data=dataset.pre_cti_data, cti=cti)\n",
        "\n",
        "    fit_list.append(ac.FitDataset1D(dataset=dataset, post_cti_data=post_cti_data))\n",
        "\n",
        "true_log_likelihood_list = [fit.log_likelihood for fit in fit_list]\n",
        "true_log_likelihood = sum(true_log_likelihood_list)\n",
        "\n",
        "true_log_likelihood_file = path.join(dataset_path, \"true_log_likelihood.json\")\n",
        "\n",
        "with open(true_log_likelihood_file, \"w+\") as f:\n",
        "    json.dump(true_log_likelihood_list, f, indent=4)\n",
        "    json.dump(true_log_likelihood, f, indent=4)"
      ],
      "outputs": [],
      "execution_count": null
    },
    {
      "cell_type": "markdown",
      "metadata": {},
      "source": [
        "Finish."
      ]
    },
    {
      "cell_type": "code",
      "metadata": {},
      "source": [],
      "outputs": [],
      "execution_count": null
    }
  ],
  "metadata": {
    "anaconda-cloud": {},
    "kernelspec": {
      "display_name": "Python 3",
      "language": "python",
      "name": "python3"
    },
    "language_info": {
      "codemirror_mode": {
        "name": "ipython",
        "version": 3
      },
      "file_extension": ".py",
      "mimetype": "text/x-python",
      "name": "python",
      "nbconvert_exporter": "python",
      "pygments_lexer": "ipython3",
      "version": "3.6.1"
    }
  },
  "nbformat": 4,
  "nbformat_minor": 4
}