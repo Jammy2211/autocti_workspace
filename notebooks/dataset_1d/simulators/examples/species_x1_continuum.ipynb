{
  "cells": [
    {
      "cell_type": "markdown",
      "metadata": {},
      "source": [
        "Simulator: 1D Data With x2 traps\n",
        "================================\n",
        "\n",
        "This script simulates a 1D dataset with CTI, where:\n",
        "\n",
        " - CTI is added to the image using a 2 `Trap` species model.\n",
        " - The volume filling behaviour in the direction uses the `CCD` class.\n",
        "\n",
        "__Start Here Notebook__\n",
        "\n",
        "If any code in this script is unclear, refer to the simulators `start_here.ipynb` notebook for more detailed comments."
      ]
    },
    {
      "cell_type": "code",
      "metadata": {},
      "source": [
        "%matplotlib inline\n",
        "from pyprojroot import here\n",
        "workspace_path = str(here())\n",
        "%cd $workspace_path\n",
        "print(f\"Working Directory has been set to `{workspace_path}`\")\n",
        "\n",
        "import json\n",
        "from os import path\n",
        "import autocti as ac\n",
        "import autocti.plot as aplt"
      ],
      "outputs": [],
      "execution_count": null
    },
    {
      "cell_type": "markdown",
      "metadata": {},
      "source": [
        "__Dataset Paths__\n",
        "\n",
        "The path where the dataset will be output."
      ]
    },
    {
      "cell_type": "code",
      "metadata": {},
      "source": [
        "dataset_type = \"dataset_1d\"\n",
        "dataset_name = \"species_x1_continuum_0\""
      ],
      "outputs": [],
      "execution_count": null
    },
    {
      "cell_type": "markdown",
      "metadata": {},
      "source": [
        "__Layout__\n",
        "\n",
        "The 1D shape of each data."
      ]
    },
    {
      "cell_type": "code",
      "metadata": {},
      "source": [
        "shape_native = (200,)"
      ],
      "outputs": [],
      "execution_count": null
    },
    {
      "cell_type": "markdown",
      "metadata": {},
      "source": [
        "The locations (using NumPy array indexes) of the prescan and overscan on the data.\n",
        "\n",
        "For the fiducial 1D dataset the prescan spans the first 10 pixels and overscan the last 10 pixels."
      ]
    },
    {
      "cell_type": "code",
      "metadata": {},
      "source": [
        "prescan = ac.Region1D((0, 10))\n",
        "overscan = ac.Region1D((190, 200))"
      ],
      "outputs": [],
      "execution_count": null
    },
    {
      "cell_type": "markdown",
      "metadata": {},
      "source": [
        "Specify the regions of the dataset where charge was present before CTI, called the First Pixel Response (FPR). \n",
        "\n",
        "For the fiducial 1D dataset this is 10 pixels after the prescan."
      ]
    },
    {
      "cell_type": "code",
      "metadata": {},
      "source": [
        "region_list = [(10, 20)]"
      ],
      "outputs": [],
      "execution_count": null
    },
    {
      "cell_type": "markdown",
      "metadata": {},
      "source": [
        "The normalization of the charge region (e.g. the FPR) of every dataset."
      ]
    },
    {
      "cell_type": "code",
      "metadata": {},
      "source": [
        "norm_list = [100, 5000, 25000, 200000]"
      ],
      "outputs": [],
      "execution_count": null
    },
    {
      "cell_type": "markdown",
      "metadata": {},
      "source": [
        "The `Layout1D` object for every 1D dataset, which is used for generating the simulation data."
      ]
    },
    {
      "cell_type": "code",
      "metadata": {},
      "source": [
        "layout_list = [\n",
        "    ac.Layout1D(\n",
        "        shape_1d=shape_native,\n",
        "        region_list=region_list,\n",
        "        prescan=prescan,\n",
        "        overscan=overscan,\n",
        "    )\n",
        "    for norm in norm_list\n",
        "]\n"
      ],
      "outputs": [],
      "execution_count": null
    },
    {
      "cell_type": "markdown",
      "metadata": {},
      "source": [
        "__Clocker__\n",
        "\n",
        "The `Clocker1D` object models the read-out process of every 1D dataset as if it were clocked out on a real CCD. This \n",
        "includes the addition of CTI. "
      ]
    },
    {
      "cell_type": "code",
      "metadata": {},
      "source": [
        "clocker = ac.Clocker1D(express=5)"
      ],
      "outputs": [],
      "execution_count": null
    },
    {
      "cell_type": "markdown",
      "metadata": {},
      "source": [
        "__CTI Model__\n",
        "\n",
        "The CTI model used by arCTIc to add CTI to the simulated data, which contains: \n",
        "\n",
        " - 1 `TrapInstantCaptureContinuum` species, which captures electrons during clocking instantly and releases them \n",
        " according to an exponential probability distribution defined by a log normal distribution of release times.\n",
        " - A simple CCDPhase volume filling parametrization."
      ]
    },
    {
      "cell_type": "code",
      "metadata": {},
      "source": [
        "ccd = ac.CCDPhase(well_fill_power=0.58, well_notch_depth=0.0, full_well_depth=200000.0)\n",
        "trap_0 = ac.TrapInstantCaptureContinuum(\n",
        "    density=0.5, release_timescale=1.5, release_timescale_sigma=0.1\n",
        ")\n",
        "trap_list = [trap_0]\n",
        "\n",
        "cti = ac.CTI1D(trap_list=trap_list, ccd=ccd)\n",
        "\n",
        "dataset_path = path.join(\"dataset\", dataset_type, dataset_name)"
      ],
      "outputs": [],
      "execution_count": null
    },
    {
      "cell_type": "markdown",
      "metadata": {},
      "source": [
        "__Simulate__\n",
        "\n",
        "To simulate data including CTI, we pass the 1D dataset layout to a `SimulatorDataset1D`, which adds CTI via arCTIc and \n",
        "read-noise to the data."
      ]
    },
    {
      "cell_type": "code",
      "metadata": {},
      "source": [
        "simulator_list = [\n",
        "    ac.SimulatorDataset1D(read_noise=4.0, pixel_scales=0.1, norm=norm)\n",
        "    for norm in norm_list\n",
        "]"
      ],
      "outputs": [],
      "execution_count": null
    },
    {
      "cell_type": "markdown",
      "metadata": {},
      "source": [
        "We now pass each layout to the simulator. This creates a list of instances of the `Dataset1D` class, which \n",
        "include the data (with CTI), noise-maps and the pre-cti data."
      ]
    },
    {
      "cell_type": "code",
      "metadata": {},
      "source": [
        "dataset_list = [\n",
        "    simulator.via_layout_from(clocker=clocker, layout=layout, cti=cti)\n",
        "    for layout, simulator in zip(layout_list, simulator_list)\n",
        "]\n",
        "\n",
        "dataset_plotter = aplt.Dataset1DPlotter(dataset=dataset_list[0])\n",
        "dataset_plotter.subplot_dataset()"
      ],
      "outputs": [],
      "execution_count": null
    },
    {
      "cell_type": "markdown",
      "metadata": {},
      "source": [
        "__Output__\n",
        "\n",
        "Output a subplot of the data, noise-map and pre CTI image to .png files."
      ]
    },
    {
      "cell_type": "code",
      "metadata": {},
      "source": [
        "for dataset, norm in zip(dataset_list, norm_list):\n",
        "    output = aplt.Output(\n",
        "        path=path.join(dataset_path, f\"norm_{int(norm)}\"),\n",
        "        filename=\"dataset_1d\",\n",
        "        format=\"png\",\n",
        "    )\n",
        "\n",
        "    mat_plot = aplt.MatPlot1D(output=output)\n",
        "\n",
        "    dataset_plotter = aplt.Dataset1DPlotter(dataset=dataset, mat_plot_1d=mat_plot)\n",
        "    dataset_plotter.subplot_dataset()"
      ],
      "outputs": [],
      "execution_count": null
    },
    {
      "cell_type": "markdown",
      "metadata": {},
      "source": [
        "Output plots of the EPER and FPR's binned up in 1D, so that electron capture and trailing can be\n",
        "seen clearly."
      ]
    },
    {
      "cell_type": "code",
      "metadata": {},
      "source": [
        "for dataset, norm in zip(dataset_list, norm_list):\n",
        "    output = aplt.Output(\n",
        "        path=path.join(dataset_path, f\"norm_{int(norm)}\", \"binned_1d\"), format=\"png\"\n",
        "    )\n",
        "\n",
        "    mat_plot = aplt.MatPlot1D(output=output)\n",
        "\n",
        "    dataset_plotter = aplt.Dataset1DPlotter(dataset=dataset, mat_plot_1d=mat_plot)\n",
        "    dataset_plotter.figures_1d(region=\"fpr\", data=True, data_logy=True)\n",
        "    dataset_plotter.figures_1d(region=\"eper\", data=True, data_logy=True)"
      ],
      "outputs": [],
      "execution_count": null
    },
    {
      "cell_type": "markdown",
      "metadata": {},
      "source": [
        "Output the data, noise-map and pre CTI image of the charge injection dataset to .fits files."
      ]
    },
    {
      "cell_type": "code",
      "metadata": {},
      "source": [
        "[\n",
        "    dataset.output_to_fits(\n",
        "        data_path=path.join(dataset_path, f\"norm_{int(norm)}\", \"data.fits\"),\n",
        "        noise_map_path=path.join(dataset_path, f\"norm_{int(norm)}\", \"noise_map.fits\"),\n",
        "        pre_cti_data_path=path.join(\n",
        "            dataset_path, f\"norm_{int(norm)}\", \"pre_cti_data.fits\"\n",
        "        ),\n",
        "        overwrite=True,\n",
        "    )\n",
        "    for dataset, norm in zip(dataset_list, norm_list)\n",
        "]"
      ],
      "outputs": [],
      "execution_count": null
    },
    {
      "cell_type": "markdown",
      "metadata": {},
      "source": [
        "__CTI json__\n",
        "\n",
        "Save the `Clocker1D` and `CTI1D` in the dataset folder as a .json file, ensuring the true traps and CCD settings \n",
        "are safely stored  and available to check how the dataset was simulated in the future. \n",
        "\n",
        "This can be loaded via the methods `cti = ac.from_json()` and `clocker = ac.from_json()`."
      ]
    },
    {
      "cell_type": "code",
      "metadata": {},
      "source": [
        "40\n",
        "ac.output_to_json(\n",
        "    obj=clocker,\n",
        "    file_path=path.join(dataset_path, \"clocker.json\"),\n",
        ")"
      ],
      "outputs": [],
      "execution_count": null
    },
    {
      "cell_type": "markdown",
      "metadata": {},
      "source": [
        "__True Likelihood__\n",
        "\n",
        "Fit the true model to the data and output the true `log_likelihood`, which can act as a verification of the quality of\n",
        "model fits."
      ]
    },
    {
      "cell_type": "code",
      "metadata": {},
      "source": [
        "fit_list = []\n",
        "\n",
        "for dataset in dataset_list:\n",
        "    post_cti_data = clocker.add_cti(data=dataset.pre_cti_data, cti=cti)\n",
        "\n",
        "    fit_list.append(ac.FitDataset1D(dataset=dataset, post_cti_data=post_cti_data))\n",
        "\n",
        "true_log_likelihood_list = [fit.log_likelihood for fit in fit_list]\n",
        "true_log_likelihood = sum(true_log_likelihood_list)\n",
        "\n",
        "true_log_likelihood_file = path.join(dataset_path, \"true_log_likelihood.json\")\n",
        "\n",
        "with open(true_log_likelihood_file, \"w+\") as f:\n",
        "    json.dump(true_log_likelihood_list, f, indent=4)\n",
        "    json.dump(true_log_likelihood, f, indent=4)\n"
      ],
      "outputs": [],
      "execution_count": null
    }
  ],
  "metadata": {
    "anaconda-cloud": {},
    "kernelspec": {
      "display_name": "Python 3",
      "language": "python",
      "name": "python3"
    },
    "language_info": {
      "codemirror_mode": {
        "name": "ipython",
        "version": 3
      },
      "file_extension": ".py",
      "mimetype": "text/x-python",
      "name": "python",
      "nbconvert_exporter": "python",
      "pygments_lexer": "ipython3",
      "version": "3.6.1"
    }
  },
  "nbformat": 4,
  "nbformat_minor": 4
}