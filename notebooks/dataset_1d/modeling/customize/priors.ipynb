{
  "cells": [
    {
      "cell_type": "markdown",
      "metadata": {},
      "source": [
        "Customize: Priors\n",
        "=================\n",
        "\n",
        "This example demonstrates how to customize the priors of a model-fit, for example if you are modeling a dataset where\n",
        "certain parameters are known beforehand.\n",
        "\n",
        "**Benefits:**: This will result in a faster more robust model-fit.\n",
        "\n",
        "__Disadvantages__\n",
        "\n",
        "The priors on your model determine the errors you infer. Overly tight priors may lead to over\n",
        "confidence in the inferred parameters.\n",
        "\n",
        "The `autocti_workspace/*/imaging/modeling/customize/start_point.ipynb` shows an alternative API, which\n",
        "customizes where the non-linear search starts its search of parameter space.\n",
        "\n",
        "This cannot be used for a nested sampling method like `nautilus` (whose parameter space search is dictated by priors)\n",
        "but can be used for the maximum likelihood estimator / MCMC methods PyAutoGalaxy supports.\n",
        "\n",
        "The benefit of the starting point API is that one can tell the non-linear search where to look in parameter space\n",
        "(ensuring a fast and robust fit) but retain uninformative priors which will not lead to over-confident errors.\n",
        "\n",
        "__Start Here Notebook__\n",
        "\n",
        "If any code in this script is unclear, refer to the modeling `start_here.ipynb` notebook for more detailed comments."
      ]
    },
    {
      "cell_type": "code",
      "metadata": {},
      "source": [
        "%matplotlib inline\n",
        "from pyprojroot import here\n",
        "workspace_path = str(here())\n",
        "%cd $workspace_path\n",
        "print(f\"Working Directory has been set to `{workspace_path}`\")\n",
        "\n",
        "from os import path\n",
        "import autofit as af\n",
        "import autocti as ac\n",
        "import autocti.plot as aplt"
      ],
      "outputs": [],
      "execution_count": null
    },
    {
      "cell_type": "markdown",
      "metadata": {},
      "source": [
        "__Dataset__\n",
        "\n",
        "Load the CTI dataset 'dataset_1d/simple' 'from .fits files, which is the dataset we will use to perform CTI modeling."
      ]
    },
    {
      "cell_type": "code",
      "metadata": {},
      "source": [
        "dataset_name = \"simple\"\n",
        "dataset_path = path.join(\"dataset\", \"dataset_1d\", dataset_name)"
      ],
      "outputs": [],
      "execution_count": null
    },
    {
      "cell_type": "markdown",
      "metadata": {},
      "source": [
        "__Shape__\n",
        "\n",
        "The 1D shape of each 1D dataset."
      ]
    },
    {
      "cell_type": "code",
      "metadata": {},
      "source": [
        "shape_native = (200,)"
      ],
      "outputs": [],
      "execution_count": null
    },
    {
      "cell_type": "markdown",
      "metadata": {},
      "source": [
        "__Regions__\n",
        "\n",
        "The locations of the prescan and overscan on the 1D data, which is used to visualize the 1D CTI dataset during the \n",
        "model-fit and customize aspects of the model-fit."
      ]
    },
    {
      "cell_type": "code",
      "metadata": {},
      "source": [
        "prescan = ac.Region1D((0, 10))\n",
        "overscan = ac.Region1D((190, 200))"
      ],
      "outputs": [],
      "execution_count": null
    },
    {
      "cell_type": "markdown",
      "metadata": {},
      "source": [
        "Specify the charge regions on the 1D CTI Dataset, corresponding to where a signal is contained that has its electrons \n",
        "captured and trailed by CTI."
      ]
    },
    {
      "cell_type": "code",
      "metadata": {},
      "source": [
        "region_list = [(10, 20)]"
      ],
      "outputs": [],
      "execution_count": null
    },
    {
      "cell_type": "markdown",
      "metadata": {},
      "source": [
        "__Normalizations__\n",
        "\n",
        "We require the normalization of the charge in every CTI dataset, as the names of the files are tagged with this."
      ]
    },
    {
      "cell_type": "code",
      "metadata": {},
      "source": [
        "norm_list = [100, 5000, 25000, 200000]"
      ],
      "outputs": [],
      "execution_count": null
    },
    {
      "cell_type": "markdown",
      "metadata": {},
      "source": [
        "__Layout__\n",
        "\n",
        "We use the regions and norm_list above to create the `Layout1D` of every 1D CTI dataset we fit. This is used \n",
        "for visualizing the model-fit."
      ]
    },
    {
      "cell_type": "code",
      "metadata": {},
      "source": [
        "layout_list = [\n",
        "    ac.Layout1D(\n",
        "        shape_1d=shape_native,\n",
        "        region_list=region_list,\n",
        "        prescan=prescan,\n",
        "        overscan=overscan,\n",
        "    )\n",
        "    for norm in norm_list\n",
        "]\n"
      ],
      "outputs": [],
      "execution_count": null
    },
    {
      "cell_type": "markdown",
      "metadata": {},
      "source": [
        "__Dataset__\n",
        "\n",
        "We now load every cti-dataset, including a noise-map and pre-cti data containing the data before read-out and\n",
        "therefore without CTI."
      ]
    },
    {
      "cell_type": "code",
      "metadata": {},
      "source": [
        "dataset_list = [\n",
        "    ac.Dataset1D.from_fits(\n",
        "        data_path=path.join(dataset_path, f\"norm_{int(norm)}\", \"data.fits\"),\n",
        "        noise_map_path=path.join(dataset_path, f\"norm_{int(norm)}\", \"noise_map.fits\"),\n",
        "        pre_cti_data_path=path.join(\n",
        "            dataset_path, f\"norm_{int(norm)}\", \"pre_cti_data.fits\"\n",
        "        ),\n",
        "        layout=layout,\n",
        "        pixel_scales=0.1,\n",
        "    )\n",
        "    for layout, norm in zip(layout_list, norm_list)\n",
        "]"
      ],
      "outputs": [],
      "execution_count": null
    },
    {
      "cell_type": "markdown",
      "metadata": {},
      "source": [
        "__Mask__\n",
        "\n",
        "We now mask every 1D dataset, removing the FPR of each dataset so we use only the EPER to calibrate the CTI model."
      ]
    },
    {
      "cell_type": "code",
      "metadata": {},
      "source": [
        "mask = ac.Mask1D.all_false(\n",
        "    shape_slim=dataset_list[0].shape_slim,\n",
        "    pixel_scales=dataset_list[0].pixel_scales,\n",
        ")\n",
        "\n",
        "mask = ac.Mask1D.masked_fpr_and_eper_from(\n",
        "    mask=mask,\n",
        "    layout=dataset_list[0].layout,\n",
        "    settings=ac.SettingsMask1D(fpr_pixels=(0, 10)),\n",
        "    pixel_scales=dataset_list[0].pixel_scales,\n",
        ")\n",
        "\n",
        "dataset_list = [dataset.apply_mask(mask=mask) for dataset in dataset_list]"
      ],
      "outputs": [],
      "execution_count": null
    },
    {
      "cell_type": "markdown",
      "metadata": {},
      "source": [
        "Lets plot the first dataset."
      ]
    },
    {
      "cell_type": "code",
      "metadata": {},
      "source": [
        "dataset_plotter = aplt.Dataset1DPlotter(dataset=dataset_list[0])\n",
        "dataset_plotter.subplot_dataset()"
      ],
      "outputs": [],
      "execution_count": null
    },
    {
      "cell_type": "markdown",
      "metadata": {},
      "source": [
        "__Clocking__\n",
        "\n",
        "The `Clocker` models the CCD read-out, including CTI. "
      ]
    },
    {
      "cell_type": "code",
      "metadata": {},
      "source": [
        "clocker = ac.Clocker1D(express=5)"
      ],
      "outputs": [],
      "execution_count": null
    },
    {
      "cell_type": "markdown",
      "metadata": {},
      "source": [
        "__Model__\n",
        "\n",
        "We now compose our CTI model, which represents the trap species and CCD volume filling behaviour used to fit the CTI \n",
        "1D data. In this example we fit a CTI model with:\n",
        "\n",
        " - Two `TrapInstantCapture`'s which capture electrons during clocking instantly in the parallel direction\n",
        " [4 parameters].\n",
        " \n",
        " - A simple `CCD` volume filling parametrization with fixed notch depth and capacity [1 parameter].\n",
        "\n",
        "The number of free parameters and therefore the dimensionality of non-linear parameter space is N=5.\n",
        "\n",
        "__Prior Customization__\n",
        " \n",
        "We customize the parameter of every prior to values near the true values, using the following priors:\n",
        "\n",
        "- UniformPrior: The values of a parameter are randomly drawn between a `lower_limit` and `upper_limit`. For example,\n",
        "the `well_fill_power` of the `CCD` object assumes a uniform prior between 0.0 and 1.0.\n",
        "\n",
        "- LogUniformPrior: Like a `UniformPrior` this randomly draws values between a `limit_limit` and `upper_limit`, but the\n",
        "values are drawn from a distribution with base 10. This is not currently used for any model parameters in **PyAutoCTI**.\n",
        "\n",
        "- GaussianPrior: The values of a parameter are randomly drawn from a Gaussian distribution with a `mean` and width\n",
        " `sigma`. In this example we use `GaussianPrior`'s on the trap densities, as if we have some previous knowledge of\n",
        " their expected value."
      ]
    },
    {
      "cell_type": "code",
      "metadata": {},
      "source": [
        "trap_0 = af.Model(ac.TrapInstantCapture)\n",
        "trap_1 = af.Model(ac.TrapInstantCapture)\n",
        "\n",
        "trap_0.density = af.GaussianPrior(mean=0.13, sigma=0.1)\n",
        "trap_0.release_timescale = af.GaussianPrior(mean=1.25, sigma=0.5)\n",
        "\n",
        "trap_1.density = af.GaussianPrior(mean=0.25, sigma=0.1)\n",
        "trap_1.release_timescale = af.GaussianPrior(mean=4.4, sigma=0.5)\n",
        "\n",
        "trap_list = [trap_0, trap_1]\n",
        "\n",
        "ccd = af.Model(ac.CCDPhase)\n",
        "\n",
        "ccd.well_fill_power = af.UniformPrior(lower_limit=0.0, upper_limit=1.0)\n",
        "\n",
        "ccd.well_notch_depth = 0.0\n",
        "ccd.full_well_depth = 200000.0"
      ],
      "outputs": [],
      "execution_count": null
    },
    {
      "cell_type": "markdown",
      "metadata": {},
      "source": [
        "Assertions must be added after all priors are customized, you cannot change the priors after adding an assertion."
      ]
    },
    {
      "cell_type": "code",
      "metadata": {},
      "source": [
        "trap_0.add_assertion(trap_0.release_timescale < trap_1.release_timescale)\n",
        "\n",
        "model = af.Collection(cti=af.Model(ac.CTI1D, trap_list=trap_list, ccd=ccd))"
      ],
      "outputs": [],
      "execution_count": null
    },
    {
      "cell_type": "markdown",
      "metadata": {},
      "source": [
        "The `info` attribute shows the model in a readable format, including the customized priors above."
      ]
    },
    {
      "cell_type": "code",
      "metadata": {},
      "source": [
        "print(model.info)"
      ],
      "outputs": [],
      "execution_count": null
    },
    {
      "cell_type": "markdown",
      "metadata": {},
      "source": [
        "__Alternative API__\n",
        "\n",
        "The priors can also be customized after the `CTI1D` model object is created instead."
      ]
    },
    {
      "cell_type": "code",
      "metadata": {},
      "source": [
        "trap_0 = af.Model(ac.TrapInstantCapture)\n",
        "trap_1 = af.Model(ac.TrapInstantCapture)\n",
        "\n",
        "trap_list = [trap_0, trap_1]\n",
        "\n",
        "ccd = af.Model(ac.CCDPhase)\n",
        "\n",
        "model = af.Collection(cti=af.Model(ac.CTI1D, trap_list=trap_list, ccd=ccd))\n",
        "\n",
        "model.cti.trap_list[0].density = af.GaussianPrior(mean=0.13, sigma=0.1)\n",
        "model.cti.trap_list[0].release_timescale = af.GaussianPrior(mean=1.25, sigma=0.5)\n",
        "\n",
        "model.cti.trap_list[1].density = af.GaussianPrior(mean=0.25, sigma=0.1)\n",
        "model.cti.trap_list[1].release_timescale = af.GaussianPrior(mean=4.4, sigma=0.5)\n",
        "\n",
        "model.cti.ccd.well_fill_power = af.UniformPrior(lower_limit=0.0, upper_limit=1.0)\n",
        "\n",
        "model.cti.ccd.well_notch_depth = 0.0\n",
        "model.cti.ccd.full_well_depth = 200000.0\n",
        "\n",
        "model.cti.trap_list[0].add_assertion(\n",
        "    model.cti.trap_list[0].release_timescale < model.cti.trap_list[1].release_timescale\n",
        ")"
      ],
      "outputs": [],
      "execution_count": null
    },
    {
      "cell_type": "markdown",
      "metadata": {},
      "source": [
        "The `info` attribute shows the model in a readable format, including the customized priors above."
      ]
    },
    {
      "cell_type": "code",
      "metadata": {},
      "source": [
        "print(model.info)"
      ],
      "outputs": [],
      "execution_count": null
    },
    {
      "cell_type": "markdown",
      "metadata": {},
      "source": [
        "__Search__\n",
        "\n",
        "The model is fitted to the data using the nested sampling algorithm Nautilus (https://nautilus.readthedocs.io/en/latest/).\n",
        "\n",
        "The `name` and `path_prefix` below specify the path where results ae stored in the output folder:  \n",
        "\n",
        " `/autocti_workspace/output/dataset_1d/species[x2]`."
      ]
    },
    {
      "cell_type": "code",
      "metadata": {},
      "source": [
        "search = af.Nautilus(\n",
        "    path_prefix=path.join(\"dataset_1d\", dataset_name), name=\"species[x2]\", n_live=100\n",
        ")"
      ],
      "outputs": [],
      "execution_count": null
    },
    {
      "cell_type": "markdown",
      "metadata": {},
      "source": [
        "__Analysis__\n",
        "\n",
        "The `AnalysisDataset1D` object defines the `log_likelihood_function` used by the non-linear search to fit the model \n",
        "to the `Dataset1D`dataset."
      ]
    },
    {
      "cell_type": "code",
      "metadata": {},
      "source": [
        "analysis_list = [\n",
        "    ac.AnalysisDataset1D(dataset=dataset, clocker=clocker) for dataset in dataset_list\n",
        "]"
      ],
      "outputs": [],
      "execution_count": null
    },
    {
      "cell_type": "markdown",
      "metadata": {},
      "source": [
        "By summing this list of analysis objects, we create an overall `Analysis` which we can use to fit the CTI model, where:\n",
        "\n",
        " - The log likelihood function of this summed analysis class is the sum of the log likelihood functions of each \n",
        " individual analysis object.\n",
        "\n",
        " - The summing process ensures that tasks such as outputting results to hard-disk, visualization, etc use a \n",
        " structure that separates each analysis."
      ]
    },
    {
      "cell_type": "code",
      "metadata": {},
      "source": [
        "analysis = sum(analysis_list)"
      ],
      "outputs": [],
      "execution_count": null
    },
    {
      "cell_type": "markdown",
      "metadata": {},
      "source": [
        "We can parallelize the likelihood function of these analysis classes, whereby each evaluation will be performed on a \n",
        "different CPU."
      ]
    },
    {
      "cell_type": "code",
      "metadata": {},
      "source": [
        "analysis.n_cores = 1"
      ],
      "outputs": [],
      "execution_count": null
    },
    {
      "cell_type": "markdown",
      "metadata": {},
      "source": [
        "__Model-Fit__\n",
        "\n",
        "We can now begin the model-fit by passing the model and analysis object to the search, which performs a non-linear\n",
        "search to find which models fit the data with the highest likelihood.\n",
        "\n",
        "Checkout the folder `autocti_workspace/output/dataset_1d/species[x2]` for live outputs of the results of the fit, \n",
        "including on-the-fly visualization of the best fit model!"
      ]
    },
    {
      "cell_type": "code",
      "metadata": {},
      "source": [
        "result_list = search.fit(model=model, analysis=analysis)"
      ],
      "outputs": [],
      "execution_count": null
    },
    {
      "cell_type": "markdown",
      "metadata": {},
      "source": [
        "__Result__\n",
        "\n",
        "The result object returned by the fit provides information on the results of the non-linear search. \n",
        "\n",
        "The `info` attribute shows the result in a readable format."
      ]
    },
    {
      "cell_type": "code",
      "metadata": {},
      "source": [
        "print(result_list.info)"
      ],
      "outputs": [],
      "execution_count": null
    },
    {
      "cell_type": "markdown",
      "metadata": {},
      "source": [
        "The result object also contains the fit corresponding to the maximum log likelihood solution in parameter space,\n",
        "which can be used to visualizing the results."
      ]
    },
    {
      "cell_type": "code",
      "metadata": {},
      "source": [
        "print(result_list[0].max_log_likelihood_instance.cti.trap_list[0].density)\n",
        "print(result_list[0].max_log_likelihood_instance.cti.ccd.well_fill_power)\n",
        "\n",
        "for result in result_list:\n",
        "    fit_plotter = aplt.FitDataset1DPlotter(fit=result.max_log_likelihood_fit)\n",
        "    fit_plotter.subplot_fit()"
      ],
      "outputs": [],
      "execution_count": null
    },
    {
      "cell_type": "markdown",
      "metadata": {},
      "source": [
        "Checkout `autocti_workspace/*/dataset_1d/modeling/results.py` for a full description of the result object."
      ]
    },
    {
      "cell_type": "code",
      "metadata": {},
      "source": [],
      "outputs": [],
      "execution_count": null
    }
  ],
  "metadata": {
    "anaconda-cloud": {},
    "kernelspec": {
      "display_name": "Python 3",
      "language": "python",
      "name": "python3"
    },
    "language_info": {
      "codemirror_mode": {
        "name": "ipython",
        "version": 3
      },
      "file_extension": ".py",
      "mimetype": "text/x-python",
      "name": "python",
      "nbconvert_exporter": "python",
      "pygments_lexer": "ipython3",
      "version": "3.6.1"
    }
  },
  "nbformat": 4,
  "nbformat_minor": 4
}